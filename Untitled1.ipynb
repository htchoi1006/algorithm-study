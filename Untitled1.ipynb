{
 "cells": [
  {
   "cell_type": "code",
   "execution_count": 6,
   "id": "d8006de9",
   "metadata": {},
   "outputs": [
    {
     "name": "stdout",
     "output_type": "stream",
     "text": [
      "2 1\n"
     ]
    }
   ],
   "source": [
    "from collections import deque\n",
    "\n",
    "# n = int(input())\n",
    "n = 3\n",
    "# space = [list(map(int, input().split())) for _ in range(n)]\n",
    "space = [[0, 0, 1], [0, 0, 0], [0, 9, 0]]\n",
    "pos = []\n",
    "\n",
    "for i in range(n):\n",
    "    for j in range(n):\n",
    "        if graph[i][j] == 9:\n",
    "            pos.append(i)\n",
    "            pos.append(j)\n",
    "            \n",
    "            \n",
    "dx = [0, 0, -1, 1]\n",
    "dy = [-1, 1, 0, 0]\n",
    "cnt = 0\n",
    "\n",
    "\n",
    "def bfs(x, y):\n",
    "    visited = [[0]*n for _ in range(n)]\n",
    "    queue = deque([[x, y]])\n",
    "    cand = []\n",
    "    \n",
    "    visited[x][y] = 1\n",
    "    \n",
    "    while queue:\n",
    "        a, b = queue.popleft()\n",
    "        \n",
    "        for i in range(4):\n",
    "            nx = a + dx[i]\n",
    "            ny = b + dy[i]\n",
    "            \n",
    "            if 0 <= nx < n and 0 <= ny < n and visited[nx][ny] == 0:\n",
    "                if space[x][y] > space[nx][ny] and space[nx][ny] != 0:\n",
    "                    visited[nx][ny] = visited[a][b] + 1\n",
    "                    cand.append((visited[nx][ny]-1, nx, ny))\n",
    "                elif space[x][y] == space[nx][ny]:\n",
    "                    visited[nx][ny] = visited[a][b] + 1\n",
    "                    queue.append([nx, ny])\n",
    "                elif space[nx][ny] == 0:\n",
    "                    \n",
    "                \n",
    "                \n",
    "                \n",
    "\n",
    "i, j = pos\n",
    "size = [2, 0]\n",
    "\n",
    "while True:\n",
    "    space[i][j] = size[0]\n",
    "    cand = deque(bfs(i, j))"
   ]
  },
  {
   "cell_type": "code",
   "execution_count": 11,
   "id": "059da73e",
   "metadata": {},
   "outputs": [
    {
     "name": "stdout",
     "output_type": "stream",
     "text": [
      "3\n"
     ]
    }
   ],
   "source": [
    "# n, m = map(int, input().split())\n",
    "# field = [list(map(int, input().split())) for _ in range(n)]\n",
    "n, m = 4, 5\n",
    "field = [[50, 45, 37, 32, 30], [35, 50, 40, 20, 25], [30, 30, 25, 17, 28], [27, 24, 22, 15, 10]]\n",
    "\n",
    "\n",
    "dx = [0, 0, -1, 1]\n",
    "dy = [-1, 1, 0, 0]\n",
    "\n",
    "dp = [[-1]*m for _ in range(n)]\n",
    "cnt = 0\n",
    "\n",
    "\n",
    "def dfs(x, y):\n",
    "    if x == n-1 and y == m-1:\n",
    "        return 1\n",
    "    \n",
    "    if dp[x][y] != -1:\n",
    "        return dp[x][y]\n",
    "    \n",
    "    ways = 0\n",
    "    for i in range(4):\n",
    "        nx = x + dx[i]\n",
    "        ny = y + dy[i]\n",
    "        \n",
    "        if 0 <= nx < n and 0 <= ny < m and field[x][y] > field[nx][ny]:\n",
    "            ways += dfs(nx, ny)\n",
    "            \n",
    "    dp[x][y] = ways\n",
    "    return dp[x][y]\n",
    "                \n",
    "                \n",
    "print(dfs(0, 0))\n",
    "\n"
   ]
  },
  {
   "cell_type": "code",
   "execution_count": 16,
   "id": "157ca73a",
   "metadata": {},
   "outputs": [
    {
     "name": "stdout",
     "output_type": "stream",
     "text": [
      "5 17\n",
      "2\n"
     ]
    }
   ],
   "source": [
    "from collections import deque\n",
    "\n",
    "n, k = map(int, input().split())\n",
    "time = [0] * 100001\n",
    "\n",
    "\n",
    "def bfs(x, y):\n",
    "    queue = deque()\n",
    "    if x == 0:\n",
    "        queue.append(1)\n",
    "    else:\n",
    "        queue.append(x)\n",
    "        \n",
    "    while queue:\n",
    "        x = queue.popleft()\n",
    "        if y == x:\n",
    "            return time[x]\n",
    "        \n",
    "        for nx in (x-1, x+1, x*2):\n",
    "            if 0 <= nx < 100001 and time[nx] == 0:\n",
    "                if nx == x*2:\n",
    "                    time[nx] = time[x]\n",
    "                    queue.appendleft(nx)\n",
    "                else:\n",
    "                    time[nx] = time[x] + 1\n",
    "                    queue.append(nx)\n",
    "        \n",
    "        \n",
    "\n",
    "if n == 0:\n",
    "    print(bfs(n, k) + 1)\n",
    "else:\n",
    "    print(bfs(n, k))\n"
   ]
  },
  {
   "cell_type": "code",
   "execution_count": 15,
   "id": "6a0790da",
   "metadata": {},
   "outputs": [
    {
     "name": "stdout",
     "output_type": "stream",
     "text": [
      "5 17\n",
      "2\n"
     ]
    }
   ],
   "source": [
    "\n",
    "a,b = map(int,input().split())\n",
    "limit = 100001\n",
    "time = [0]*limit\n",
    " \n",
    "def bfs(x,y):\n",
    "    q = deque()\n",
    "    if x == 0 :\n",
    "        q.append(1)\n",
    "    else :\n",
    "        q.append(x)\n",
    "    \n",
    "    while q:\n",
    "        x = q.popleft()\n",
    "        if y == x :\n",
    "            return time[x]\n",
    "        \n",
    "        for nx in (x-1,x+1,x*2):\n",
    "            if 0 <= nx < limit and time[nx]==0:\n",
    "                if nx == 2*x :\n",
    "                    time[nx] = time[x]\n",
    "                    q.appendleft(nx)\n",
    "                else : \n",
    "                    time[nx] = time[x] + 1\n",
    "                    q.append(nx)\n",
    "\n",
    "if a==0 :\n",
    "    print(bfs(a,b)+1)\n",
    "else :\n",
    "    print(bfs(a,b))"
   ]
  },
  {
   "cell_type": "code",
   "execution_count": 25,
   "id": "01112698",
   "metadata": {},
   "outputs": [
    {
     "name": "stdout",
     "output_type": "stream",
     "text": [
      "6 5\n",
      "1 2\n",
      "2 5\n",
      "5 1\n",
      "3 4\n",
      "4 6\n",
      "2\n"
     ]
    }
   ],
   "source": [
    "n, m = map(int, input().split())\n",
    "# n, m = 6, 5\n",
    "graph = [[] for _ in range(n+1)]\n",
    "visited = [0] * (n+1)\n",
    "\n",
    "for _ in range(m):\n",
    "    a, b = map(int, input().split())\n",
    "    graph[a].append(b)\n",
    "    graph[b].append(a)\n",
    "\n",
    "\n",
    "def dfs(v):\n",
    "    visited[v] = 1\n",
    "    for i in graph[v]:\n",
    "        if visited[i] == 0:\n",
    "            visited[i] = 1\n",
    "            dfs(i)\n",
    "            \n",
    "cnt = 0\n",
    "            \n",
    "for i in range(1, n+1):\n",
    "    if visited[i] == 0:\n",
    "        cnt += 1\n",
    "        dfs(i)\n",
    "        \n",
    "print(cnt)\n",
    "\n",
    "\n",
    "    \n",
    "\n",
    "\n",
    "    "
   ]
  },
  {
   "cell_type": "code",
   "execution_count": 42,
   "id": "6c14b0b8",
   "metadata": {},
   "outputs": [
    {
     "name": "stdout",
     "output_type": "stream",
     "text": [
      "2\n",
      "6\n",
      "5 8\n",
      "22\n",
      "10946 17711\n"
     ]
    }
   ],
   "source": [
    "n = int(input())\n",
    "\n",
    "zero = [1, 0, 1]\n",
    "one = [0, 1, 1]\n",
    "\n",
    "def fibo(x):\n",
    "    length = len(zero)\n",
    "    if x >= length:\n",
    "        for i in range(length, x+1):\n",
    "            zero.append(zero[i-1] + zero[i-2])\n",
    "            one.append(one[i-1] + one[i-2])\n",
    "            \n",
    "    print(zero[x], one[x])\n",
    "    \n",
    "\n",
    "for _ in range(n):\n",
    "    fibo(int(input()))"
   ]
  },
  {
   "cell_type": "code",
   "execution_count": 45,
   "id": "a848e9e1",
   "metadata": {},
   "outputs": [
    {
     "name": "stdout",
     "output_type": "stream",
     "text": [
      "3\n",
      "96\n"
     ]
    }
   ],
   "source": [
    "n = int(input())\n",
    "a = [list(map(int, input().split())) for _ in range(n)]\n",
    "# a = [[26, 40, 83], [49, 60, 57], [13, 89, 99]]\n",
    "\n",
    "for i in range(1, n):\n",
    "    a[i][0] += min(a[i-1][1], a[i-1][2]) \n",
    "    a[i][1] += min(a[i-1][0], a[i-1][2])\n",
    "    a[i][2] += min(a[i-1][0], a[i-1][1])\n",
    "    \n",
    "print(min(a[n-1][0], a[n-1][1], a[n-1][2]))\n",
    "    "
   ]
  },
  {
   "cell_type": "code",
   "execution_count": 52,
   "id": "91c49c50",
   "metadata": {},
   "outputs": [
    {
     "name": "stdout",
     "output_type": "stream",
     "text": [
      "6\n",
      "75\n"
     ]
    }
   ],
   "source": [
    "n = int(input())\n",
    "stair = [0] * 301\n",
    "for i in range(1, n+1):\n",
    "    stair[i] = int(input())\n",
    "dp = [0] * 301\n",
    "\n",
    "dp[1] = stair[1]\n",
    "dp[2] = stair[1] + stair[2]\n",
    "dp[3] = max(stair[1] + stair[3], stair[2] + stair[3])\n",
    "\n",
    "for i in range(4, n+1):\n",
    "    dp[i] = max(stair[i] + stair[i-1] + dp[i-3], stair[i] + dp[i-2])\n",
    "    \n",
    "print(dp[n])\n"
   ]
  },
  {
   "cell_type": "code",
   "execution_count": 74,
   "id": "c0321470",
   "metadata": {},
   "outputs": [
    {
     "name": "stdout",
     "output_type": "stream",
     "text": [
      "c=c=\n",
      "deque(['c'])\n",
      "deque(['c', '='])\n",
      "1 1\n",
      "deque(['c'])\n",
      "deque(['c', '='])\n",
      "1 2\n",
      "2\n",
      "deque([])\n",
      "2\n"
     ]
    }
   ],
   "source": [
    "from collections import deque\n",
    "\n",
    "word = list(input())\n",
    "croatia = ['c=', 'c-', 'dz=', 'd-', 'lj', 'nj', 's=', 'z=']\n",
    "ans = 0\n",
    "queue = deque()\n",
    "\n",
    "for i in word:\n",
    "    queue.append(i)\n",
    "    \n",
    "    if (''.join(queue)) in croatia:\n",
    "        for i in range(len(queue)):\n",
    "            queue.popleft()\n",
    "            \n",
    "        ans += 1\n",
    "\n",
    "        \n",
    "    if len(queue) >= 3:\n",
    "        queue.popleft()\n",
    "        ans += 1\n",
    "        if (''.join(queue)) in croatia:\n",
    "            for i in range(len(queue)):\n",
    "                queue.popleft()\n",
    "\n",
    "            ans += 1\n",
    "\n",
    "if queue:\n",
    "    ans += len(queue)\n",
    "        \n",
    "print(ans)\n",
    "\n",
    "\n"
   ]
  },
  {
   "cell_type": "code",
   "execution_count": 77,
   "id": "664441bf",
   "metadata": {},
   "outputs": [
    {
     "name": "stdout",
     "output_type": "stream",
     "text": [
      "ljes=njak\n",
      "ljes=njak\n",
      "ljes=njak\n",
      "ljes=njak\n",
      "ljes=njak\n",
      "aes=njak\n",
      "aes=aak\n",
      "aeaaak\n",
      "aeaaak\n"
     ]
    }
   ],
   "source": [
    "word = input()\n",
    "croatia = ['c=', 'c-', 'dz=', 'd-', 'lj', 'nj', 's=', 'z=']\n",
    "\n",
    "for i in croatia:\n",
    "    word = word.replace(i, 'a')\n",
    "print(len(word))"
   ]
  },
  {
   "cell_type": "code",
   "execution_count": 91,
   "id": "386e66d7",
   "metadata": {},
   "outputs": [
    {
     "name": "stdout",
     "output_type": "stream",
     "text": [
      "1\n",
      "4 2\n",
      "1 2 3 4\n",
      "2\n"
     ]
    }
   ],
   "source": [
    "from collections import deque\n",
    "\n",
    "t = int(input())\n",
    "\n",
    "for _ in range(t):\n",
    "    n, idx = map(int, input().split())\n",
    "    queue = deque(map(int, input().split()))\n",
    "    queue = deque([(i, idx) for idx, i in enumerate(queue)])\n",
    "\n",
    "    \n",
    "    cnt = 0\n",
    "    \n",
    "    while True:\n",
    "        if queue[0][0] == max(queue, key=lambda x: x[0])[0]:\n",
    "            cnt += 1\n",
    "            if queue[0][1] == idx:\n",
    "                print(cnt)\n",
    "                break\n",
    "            else:\n",
    "                queue.popleft()\n",
    "        else:\n",
    "            queue.append(queue.popleft())\n",
    "        \n",
    "    \n",
    "    \n",
    "    "
   ]
  },
  {
   "cell_type": "code",
   "execution_count": 107,
   "id": "bcfc1e6f",
   "metadata": {},
   "outputs": [
    {
     "name": "stdout",
     "output_type": "stream",
     "text": [
      "3\n",
      "3 7\n",
      "15 7\n",
      "5 2\n",
      "260\n"
     ]
    }
   ],
   "source": [
    "import math\n",
    "\n",
    "n = int(input())\n",
    "paper = [[0] * 100 for _ in range(100)]\n",
    "ans = 0\n",
    "\n",
    "for _ in range(n):\n",
    "    y, x = map(int, input().split())\n",
    "    \n",
    "    for i in range(x, x+10):\n",
    "        for j in range(y, y+10):\n",
    "            paper[i][j] = 1\n",
    "            \n",
    "    \n",
    "for i in range(100):\n",
    "    ans += paper[i].count(1)\n",
    "    \n",
    "print(ans)"
   ]
  },
  {
   "cell_type": "code",
   "execution_count": 125,
   "id": "8f7f1ff5",
   "metadata": {},
   "outputs": [
    {
     "name": "stdout",
     "output_type": "stream",
     "text": [
      "5\n",
      "2\n",
      "2\n",
      "1\n",
      "10\n"
     ]
    }
   ],
   "source": [
    "from collections import Counter\n",
    "import sys\n",
    "\n",
    "input = sys.stdin.readline\n",
    "n = int(input())\n",
    "num = [int(input()) for _ in range(n)]\n",
    "# num = [1, 3, 8, -2, 2]\n",
    "num.sort()\n",
    "# print(num)\n",
    "\n",
    "print(round(sum(num)/len(num)))\n",
    "print(num[n//2])\n",
    "\n",
    "cnt = Counter(num).most_common()\n",
    "\n",
    "if len(cnt) > 1 and cnt[0][1] == cnt[1][1]:\n",
    "    print(cnt[1][0])\n",
    "else:\n",
    "    print(cnt[0][0])\n",
    "    \n",
    "    \n",
    "    \n",
    "\n",
    "print(num[-1] - num[0])"
   ]
  },
  {
   "cell_type": "code",
   "execution_count": 123,
   "id": "a9a39b84",
   "metadata": {},
   "outputs": [
    {
     "name": "stdout",
     "output_type": "stream",
     "text": [
      "[(-2, 2), (-1, 2), (-3, 1)]\n"
     ]
    }
   ],
   "source": [
    "li = [-3, -2, -2, -1, -1]\n",
    "cnt_li = Counter(li).most_common()\n",
    "print(cnt_li)"
   ]
  },
  {
   "cell_type": "code",
   "execution_count": 160,
   "id": "135ff6fb",
   "metadata": {},
   "outputs": [
    {
     "name": "stdout",
     "output_type": "stream",
     "text": [
      "35596\n",
      "[3, 5, 5, 9, 6]\n",
      "[0, 0, 0, 0, 0, 0, 0, 0, 0, 0]\n",
      "2\n"
     ]
    }
   ],
   "source": [
    "n = input()\n",
    "arr = []\n",
    "\n",
    "for i in n:\n",
    "    arr.append(int(i))\n",
    "# print(arr)\n",
    "\n",
    "visited = [0] * 10\n",
    "# print(visited)\n",
    "\n",
    "for i in arr:\n",
    "    if i == 6 or i == 9:\n",
    "        if visited[6] < visited[9]:\n",
    "            visited[6] += 1\n",
    "        else:\n",
    "            visited[9] += 1\n",
    "    else:\n",
    "        visited[i] += 1\n",
    "\n",
    "print(max(visited))\n",
    "\n",
    "    "
   ]
  },
  {
   "cell_type": "code",
   "execution_count": 137,
   "id": "ee88147d",
   "metadata": {},
   "outputs": [
    {
     "name": "stdout",
     "output_type": "stream",
     "text": [
      "[(2, 3), (6, 3), (4, 2), (9, 2), (1, 1)]\n"
     ]
    }
   ],
   "source": [
    "arr = [1, 2, 2, 2, 4, 4, 6, 6, 6, 9, 9]\n",
    "\n",
    "cnt = Counter(arr).most_common()\n",
    "print(cnt)"
   ]
  },
  {
   "cell_type": "code",
   "execution_count": 138,
   "id": "9ebf0714",
   "metadata": {},
   "outputs": [
    {
     "name": "stdout",
     "output_type": "stream",
     "text": [
      "(9, 2)\n"
     ]
    }
   ],
   "source": [
    "from collections import Counter\n",
    "\n",
    "arr = [1, 2, 2, 2, 4, 4, 6, 6, 6, 9, 9]\n",
    "cnt = Counter(arr).most_common()\n",
    "\n",
    "# Iterate through the cnt list to find the tuple with 9 as the first element\n",
    "for element in cnt:\n",
    "    if element[0] == 9:\n",
    "        # Found the tuple where the first element is 9\n",
    "        desired_set = element\n",
    "        break\n",
    "\n",
    "print(desired_set)\n"
   ]
  },
  {
   "cell_type": "code",
   "execution_count": 4,
   "id": "92ac3940",
   "metadata": {},
   "outputs": [
    {
     "name": "stdout",
     "output_type": "stream",
     "text": [
      "2\n",
      "어느 한 컴퓨터공학과 학생이 유명한 교수님을 찾아가 물었다.\n",
      "\"재귀함수가 뭔가요?\"\n",
      "\"잘 들어보게. 옛날옛날 한 산 꼭대기에 이세상 모든 지식을 통달한 선인이 있었어.\n",
      "마을 사람들은 모두 그 선인에게 수많은 질문을 했고, 모두 지혜롭게 대답해 주었지.\n",
      "그의 답은 대부분 옳았다고 하네. 그런데 어느 날, 그 선인에게 한 선비가 찾아와서 물었어.\"\n",
      "____\"재귀함수가 뭔가요?\"\n",
      "____\"잘 들어보게. 옛날옛날 한 산 꼭대기에 이세상 모든 지식을 통달한 선인이 있었어.\n",
      "____마을 사람들은 모두 그 선인에게 수많은 질문을 했고, 모두 지혜롭게 대답해 주었지.\n",
      "____그의 답은 대부분 옳았다고 하네. 그런데 어느 날, 그 선인에게 한 선비가 찾아와서 물었어.\"\n",
      "________\"재귀함수가 뭔가요?\"\n",
      "________\"재귀함수는 자기 자신을 호출하는 함수라네\"\n",
      "________라고 답변하였지.\n",
      "____라고 답변하였지.\n",
      "라고 답변하였지.\n"
     ]
    }
   ],
   "source": [
    "n = int(input())\n",
    "\n",
    "def f(m):\n",
    "    print('_' * (4 * (n-m)) + '\"재귀함수가 뭔가요?\"')\n",
    "    \n",
    "    if m <= 0:\n",
    "        print('_' * (4 * (n-m)) + '\"재귀함수는 자기 자신을 호출하는 함수라네\"')\n",
    "        print('_' * (4 * (n-m)) + '라고 답변하였지.')\n",
    "        return\n",
    "\n",
    "    print('_' * (4 * (n-m)) + '\"잘 들어보게. 옛날옛날 한 산 꼭대기에 이세상 모든 지식을 통달한 선인이 있었어.')\n",
    "    print('_' * (4 * (n-m)) + '마을 사람들은 모두 그 선인에게 수많은 질문을 했고, 모두 지혜롭게 대답해 주었지.')\n",
    "    print('_' * (4 * (n-m)) + '그의 답은 대부분 옳았다고 하네. 그런데 어느 날, 그 선인에게 한 선비가 찾아와서 물었어.\"')\n",
    "    f(m-1)\n",
    "    print('_' * (4 * (n-m)) + '라고 답변하였지.')\n",
    "        \n",
    "    \n",
    "    \n",
    "    \n",
    "print('어느 한 컴퓨터공학과 학생이 유명한 교수님을 찾아가 물었다.')\n",
    "f(n)"
   ]
  },
  {
   "cell_type": "code",
   "execution_count": 28,
   "id": "d7b8a155",
   "metadata": {},
   "outputs": [
    {
     "name": "stdout",
     "output_type": "stream",
     "text": [
      "[[-1, -2, 6], [-3, -6, 12], [-5, -10, 18]]\n",
      "-1 -2 6 \n",
      "-3 -6 12 \n",
      "-5 -10 18 \n"
     ]
    }
   ],
   "source": [
    "N, M = map(int, input().split())\n",
    "arr1 = [list(map(int, input().split())) for _ in range(N)]\n",
    "M, K = map(int, input().split())\n",
    "arr2 = [list(map(int, input().split())) for _ in range(M)]\n",
    "\n",
    "# N, M = 3, 2\n",
    "# M, K = 2, 3\n",
    "# arr1 = [[1, 2], [3, 4], [5, 6]]\n",
    "# arr2 = [[-1, -2, 0], [0, 0, 3]]\n",
    "\n",
    "ans = [[0] * K for _ in range(N)]\n",
    "\n",
    "for n in range(N):\n",
    "    for k in range(K):\n",
    "        for m in range(M):\n",
    "            ans[n][k] += arr1[n][m] * arr2[m][k]\n",
    "            \n",
    "\n",
    "            \n",
    "for i in range(N):\n",
    "    for j in range(K):\n",
    "        print(ans[i][j], end=' ')\n",
    "    print()\n",
    "    \n",
    "            \n",
    "        \n",
    "\n"
   ]
  },
  {
   "cell_type": "code",
   "execution_count": 32,
   "id": "ed61e206",
   "metadata": {},
   "outputs": [
    {
     "name": "stdout",
     "output_type": "stream",
     "text": [
      "3\n",
      "2 2 2\n",
      "4 4 4\n",
      "8 8 8\n",
      "16\n"
     ]
    }
   ],
   "source": [
    "from copy import deepcopy\n",
    "\n",
    "\n",
    "n = int(input())\n",
    "block = [list(map(int, input().split())) for _ in range(n)]\n",
    "# block = [[2, 2, 2], [4, 4, 4], [8, 8, 8]]\n",
    "\n",
    "\n",
    "def move(board, dir):\n",
    "    if dir == 0: #동\n",
    "        for i in range(n):\n",
    "            top = n - 1\n",
    "            for j in range(n-2, -1, -1):\n",
    "                if board[i][j]:\n",
    "                    tmp = board[i][j]\n",
    "                    board[i][j] = 0\n",
    "                    if board[i][top] == 0:\n",
    "                        board[i][top] = tmp\n",
    "                    elif board[i][top] == tmp:\n",
    "                        board[i][top] == tmp * 2\n",
    "                        top -= 1\n",
    "                    else:\n",
    "                        top -= 1\n",
    "                        board[i][top] = tmp\n",
    "                        \n",
    "    \n",
    "    elif dir == 1: #서쪽\n",
    "        for i in range(n):\n",
    "            top = 0\n",
    "            for j in range(1, n):\n",
    "                if board[i][j]:\n",
    "                    tmp = board[i][j]\n",
    "                    board[i][j] = 0\n",
    "                    if board[i][top] == 0:\n",
    "                        board[i][top] = tmp\n",
    "                    elif board[i][top] == tmp:\n",
    "                        board[i][top] = tmp * 2\n",
    "                        top += 1\n",
    "                    else:\n",
    "                        top += 1\n",
    "                        board[i][top] = tmp\n",
    "                        \n",
    "                        \n",
    "                        \n",
    "    elif dir == 2: #남쪽\n",
    "        for j in range(n):\n",
    "            top = n - 1\n",
    "            for i in range(n-2, -1, -1):\n",
    "                if board[i][j]:\n",
    "                    tmp = board[i][j]\n",
    "                    board[i][j] = 0\n",
    "                    if board[top][j] == 0:\n",
    "                        board[top][j] = tmp\n",
    "                    elif board[top][j] == tmp:\n",
    "                        board[top][j] = tmp * 2\n",
    "                        top -= 1\n",
    "                    else:\n",
    "                        top -= 1\n",
    "                        board[top][j] = tmp\n",
    "                        \n",
    "                    \n",
    "    else: #북쪽\n",
    "        for j in range(n):\n",
    "            top = 0\n",
    "            for i in range(1, n):\n",
    "                if board[i][j]:\n",
    "                    tmp = board[i][j]\n",
    "                    board[i][j] = 0\n",
    "                    if board[top][j] == 0:\n",
    "                        board[top][j] = tmp\n",
    "                    elif board[top][j] == tmp:\n",
    "                        board[top][j] = tmp * 2\n",
    "                        top += 1\n",
    "                    else:\n",
    "                        top += 1\n",
    "                        board[top][j] = tmp\n",
    "                        \n",
    "                        \n",
    "    return board\n",
    "\n",
    "\n",
    "\n",
    "\n",
    "def dfs(board, cnt):\n",
    "    global ans\n",
    "    if cnt == 5:\n",
    "        for i in range(n):\n",
    "            for j in range(n):\n",
    "                ans = max(ans, board[i][j])\n",
    "        return\n",
    "    \n",
    "    for i in range(4):\n",
    "        tmp_board = move(deepcopy(board), i)\n",
    "        dfs(tmp_board, cnt + 1)\n",
    "    \n",
    "    \n",
    "\n",
    "ans = 0\n",
    "dfs(block, 0)\n",
    "print(ans)\n",
    "\n",
    "\n",
    "\n",
    "\n"
   ]
  },
  {
   "cell_type": "code",
   "execution_count": 33,
   "id": "79747b28",
   "metadata": {},
   "outputs": [
    {
     "name": "stdout",
     "output_type": "stream",
     "text": [
      "3\n",
      "2 2 2\n",
      "4 4 4\n",
      "8 8 8 \n",
      "16\n"
     ]
    }
   ],
   "source": [
    "from copy import deepcopy\n",
    "\n",
    "n = int(input())\n",
    "\n",
    "graph = [list(map(int, input().split())) for _ in range(n)]\n",
    "\n",
    "def move(board, dir):\n",
    "    if dir == 0:  # 동쪽\n",
    "        for i in range(n):\n",
    "            top = n - 1\n",
    "            for j in range(n - 2, -1, -1):\n",
    "                if board[i][j]:\n",
    "                    tmp = board[i][j]\n",
    "                    board[i][j] = 0\n",
    "                    if board[i][top] == 0:\n",
    "                        board[i][top] = tmp\n",
    "                    elif board[i][top] == tmp:\n",
    "                        board[i][top] = tmp * 2\n",
    "                        top -= 1\n",
    "                    else:\n",
    "                        top -= 1\n",
    "                        board[i][top] = tmp\n",
    "\n",
    "    elif dir == 1:  # 서쪽\n",
    "        for i in range(n):\n",
    "            top = 0\n",
    "            for j in range(1, n):\n",
    "                if board[i][j]:\n",
    "                    tmp = board[i][j]\n",
    "                    board[i][j] = 0\n",
    "                    if board[i][top] == 0:\n",
    "                        board[i][top] = tmp\n",
    "                    elif board[i][top] == tmp:\n",
    "                        board[i][top] = tmp * 2\n",
    "                        top += 1\n",
    "                    else:\n",
    "                        top += 1\n",
    "                        board[i][top] = tmp\n",
    "\n",
    "    elif dir == 2:  # 남쪽\n",
    "        for j in range(n):\n",
    "            top = n - 1\n",
    "            for i in range(n - 2, -1, -1):\n",
    "                if board[i][j]:\n",
    "                    tmp = board[i][j]\n",
    "                    board[i][j] = 0\n",
    "                    if board[top][j] == 0:\n",
    "                        board[top][j] = tmp\n",
    "                    elif board[top][j] == tmp:\n",
    "                        board[top][j] = tmp * 2\n",
    "                        top -= 1\n",
    "                    else:\n",
    "                        top -= 1\n",
    "                        board[top][j] = tmp\n",
    "\n",
    "    else:\n",
    "        for j in range(n):\n",
    "            top = 0\n",
    "            for i in range(1, n):\n",
    "                if board[i][j]:\n",
    "                    tmp = board[i][j]\n",
    "                    board[i][j] = 0\n",
    "                    if board[top][j] == 0:\n",
    "                        board[top][j] = tmp\n",
    "                    elif board[top][j] == tmp:\n",
    "                        board[top][j] = tmp * 2\n",
    "                        top += 1\n",
    "                    else:\n",
    "                        top += 1\n",
    "                        board[top][j] = tmp\n",
    "\n",
    "    return board\n",
    "\n",
    "\n",
    "def dfs(board, cnt):\n",
    "    global ans\n",
    "    if cnt == 5:\n",
    "        for i in range(n):\n",
    "            for j in range(n):\n",
    "                ans = max(ans, board[i][j])\n",
    "        return\n",
    "\n",
    "    for i in range(4):\n",
    "        tmp_board = move(deepcopy(board), i)\n",
    "        dfs(tmp_board, cnt + 1)\n",
    "\n",
    "ans = 0\n",
    "dfs(graph, 0)\n",
    "print(ans)"
   ]
  },
  {
   "cell_type": "code",
   "execution_count": 47,
   "id": "d3280c09",
   "metadata": {
    "scrolled": true
   },
   "outputs": [
    {
     "name": "stdout",
     "output_type": "stream",
     "text": [
      "ObjectOrientedProgramming1 3.0 A+\n",
      "IntroductiontoComputerEngineering 3.0 A+\n",
      "ObjectOrientedProgramming2 3.0 A0\n",
      "CreativeComputerEngineeringDesign 3.0 A+\n",
      "AssemblyLanguage 3.0 A+\n",
      "InternetProgramming 3.0 B0\n",
      "ApplicationProgramminginJava 3.0 A0\n",
      "SystemProgramming 3.0 B0\n",
      "OperatingSystem 3.0 B0\n",
      "WirelessCommunicationsandNetworking 3.0 C+\n",
      "LogicCircuits 3.0 B0\n",
      "DataStructure 4.0 A+\n",
      "MicroprocessorApplication 3.0 B+\n",
      "EmbeddedSoftware 3.0 C0\n",
      "ComputerSecurity 3.0 D+\n",
      "Database 3.0 C+\n",
      "Algorithm 3.0 B0\n",
      "CapstoneDesigninCSE 3.0 B+\n",
      "CompilerDesign 3.0 D0\n",
      "ProblemSolving 4.0 P\n",
      "3.28448\n"
     ]
    }
   ],
   "source": [
    "dic = {'A+': 4.5, 'A0': 4, 'B+': 3.5, 'B0': 3, 'C+':2.5, 'C0':2, 'D+':1.5, 'D0':1, 'F':0}\n",
    "ans = 0\n",
    "cnt = 0\n",
    "\n",
    "for _ in range(20):\n",
    "    name, size, grade = input().split()\n",
    "#     print(name, size, grade)\n",
    "    \n",
    "    if grade == 'P':\n",
    "        continue\n",
    "        \n",
    "    cnt += float(size)\n",
    "    ans += float(size) * float(dic[grade])\n",
    "    \n",
    "num = ans/cnt\n",
    "print(f\"{num:.6f}\")\n",
    "    \n",
    "    "
   ]
  },
  {
   "cell_type": "code",
   "execution_count": 79,
   "id": "e03d2be9",
   "metadata": {},
   "outputs": [
    {
     "name": "stdout",
     "output_type": "stream",
     "text": [
      "2 1\n",
      "2\n"
     ]
    }
   ],
   "source": [
    "n, k = map(int, input().split())\n",
    "# n, k = 15, 12\n",
    "\n",
    "arr = [i for i in range(2, n+1)]\n",
    "\n",
    "cnt = 0\n",
    "tmp = 0\n",
    "\n",
    "while True:\n",
    "    if cnt == k:\n",
    "        print(tmp)\n",
    "        break\n",
    "        \n",
    "    minnum = min(arr)\n",
    "    arr.remove(minnum)\n",
    "    tmp = minnum\n",
    "    cnt += 1\n",
    "    \n",
    "    for i in arr:\n",
    "        if i%minnum == 0:\n",
    "            cnt += 1\n",
    "            tmp = i\n",
    "            arr.remove(i)\n",
    "    "
   ]
  },
  {
   "cell_type": "code",
   "execution_count": 80,
   "id": "00ccf3d5",
   "metadata": {},
   "outputs": [
    {
     "name": "stdout",
     "output_type": "stream",
     "text": [
      "15 12\n",
      "7\n"
     ]
    }
   ],
   "source": [
    "n, k = map(int, input().split())\n",
    "tmp = 0\n",
    "visited = [True] * (n+1)\n",
    "\n",
    "for i in range(2, n+1):\n",
    "    for j in range(i, n+1, i):\n",
    "        if visited[j] != False:\n",
    "            visited[j] = False\n",
    "            tmp += 1\n",
    "            \n",
    "            if tmp == k:\n",
    "                print(j)\n"
   ]
  },
  {
   "cell_type": "code",
   "execution_count": 118,
   "id": "5c1024d9",
   "metadata": {},
   "outputs": [
    {
     "name": "stdout",
     "output_type": "stream",
     "text": [
      "25\n",
      "0 1 0 1 0 0 0 1 0 1 0 1 0 0 0 1 0 1 0 1 0 0 0 1 0\n",
      "2\n",
      "1 3\n",
      "2 3\n",
      "[1, 0, 0, 0, 1, 1, 0, 1, 1, 1, 0, 0, 0, 0, 1, 1, 0, 0, 0, 1, 1, 0, 0, 0, 0]\n",
      "1 0 0 0 1 1 0 1 1 1 0 0 0 0 1 1 0 0 0 1\n",
      "1 0 0 0 0\n"
     ]
    }
   ],
   "source": [
    "s = int(input())\n",
    "switch = list(map(int, input().split()))\n",
    "n = int(input())\n",
    "# s = 8\n",
    "# switch = [0, 1, 0, 1, 0, 0, 0, 1]\n",
    "# n = 2\n",
    "\n",
    "\n",
    "switch.insert(0, 0)\n",
    "\n",
    "\n",
    "def change(index):\n",
    "    if switch[index] == 0:\n",
    "        switch[index] = 1\n",
    "    elif switch[index] == 1:\n",
    "        switch[index] = 0\n",
    "        \n",
    "\n",
    "for _ in range(n):\n",
    "    gender, index = map(int, input().split())\n",
    "    cnt = 0\n",
    "    \n",
    "    if gender == 1: #남학생\n",
    "        for i in range(index, s+1, index):\n",
    "            change(i)\n",
    "                \n",
    "                \n",
    "    elif gender == 2: #여학생\n",
    "        for i in range(1, min(index-1, s-index)+1):\n",
    "            if switch[index-i] != switch[index+i]:\n",
    "                break\n",
    "            else:    \n",
    "                cnt += 1\n",
    "                \n",
    "        for i in range(index-cnt, index+cnt+1):\n",
    "            change(i)\n",
    "                \n",
    "\n",
    "                    \n",
    "switch.pop(0)\n",
    "\n",
    "# print(switch)\n",
    "if len(switch) < 21:\n",
    "    print(*switch)\n",
    "else:\n",
    "    print('\\n'.join(' '.join(map(str, switch[i:i+20])) for i in range(0, len(switch), 20)))\n",
    "        "
   ]
  },
  {
   "cell_type": "code",
   "execution_count": 120,
   "id": "e31b687f",
   "metadata": {},
   "outputs": [
    {
     "name": "stdout",
     "output_type": "stream",
     "text": [
      "2 0\n"
     ]
    }
   ],
   "source": [
    "import sys\n",
    "\n",
    "n, m, b = map(int, input().split())\n",
    "graph = [list(map(int, input().split())) for _ in range(n)]\n",
    "# n, m, b = 3, 4, 99\n",
    "# graph = [[0, 0, 0, 0], [0, 0, 0, 0], [0, 0, 0, 1]]\n",
    "\n",
    "answer = sys.maxsize\n",
    "idx = 0\n",
    "\n",
    "for target in range(257):\n",
    "    max_target, min_target = 0, 0\n",
    "    \n",
    "    for i in range(n):\n",
    "        for j in range(m):\n",
    "            \n",
    "            if graph[i][j] >= target:\n",
    "                max_target += graph[i][j] - target\n",
    "                \n",
    "            else:\n",
    "                min_target += target - graph[i][j]\n",
    "                \n",
    "                \n",
    "        \n",
    "    if max_target + b >= min_target:\n",
    "        if min_target + (max_target * 2) <= answer:\n",
    "            answer = min_target + (max_target * 2)\n",
    "            idx = target\n",
    "            \n",
    "print(answer, idx)\n",
    "\n",
    "\n",
    "\n"
   ]
  },
  {
   "cell_type": "code",
   "execution_count": 137,
   "id": "120ea7eb",
   "metadata": {},
   "outputs": [
    {
     "name": "stdout",
     "output_type": "stream",
     "text": [
      "15\n",
      "21\n"
     ]
    }
   ],
   "source": [
    "n = input()\n",
    "ans = 0\n",
    "\n",
    "for i in range(1, len(n)):\n",
    "    ans += 9 * 10**(i-1) * i\n",
    "#     print(ans)\n",
    "    \n",
    "ans += (int(n) - 10**(len(n)-1) + 1) * len(n)\n",
    "    \n",
    "\n",
    "print(ans)"
   ]
  },
  {
   "cell_type": "code",
   "execution_count": 149,
   "id": "d5f06104",
   "metadata": {},
   "outputs": [
    {
     "name": "stdout",
     "output_type": "stream",
     "text": [
      "1 3 5 7 4 2 6\n"
     ]
    }
   ],
   "source": [
    "from collections import deque\n",
    "\n",
    "n = int(input())\n",
    "# n = 7\n",
    "cards = deque([i for i in range(1, n+1)])\n",
    "out = []\n",
    "\n",
    "# print(cards)\n",
    "\n",
    "while cards:\n",
    "    out.append(cards.popleft())\n",
    "    if len(cards) != 0:\n",
    "        cards.append(cards.popleft())\n",
    "    \n",
    "print(*out)"
   ]
  },
  {
   "cell_type": "code",
   "execution_count": 2,
   "id": "65df9a11",
   "metadata": {},
   "outputs": [
    {
     "name": "stdout",
     "output_type": "stream",
     "text": [
      "ABCD\n",
      "I'm Sorry Hansoo\n"
     ]
    }
   ],
   "source": [
    "import collections \n",
    "\n",
    "items = list(input())\n",
    "# items = ['A', 'A', 'B', 'B']\n",
    "dic = collections.Counter(items)\n",
    "\n",
    "cnt = 0\n",
    "mid = ''\n",
    "ans = ''\n",
    "\n",
    "\n",
    "for i, j in list(dic.items()):\n",
    "    if j % 2 == 1: #홀수\n",
    "        cnt += 1\n",
    "        mid = i\n",
    "        \n",
    "        if cnt >= 2:\n",
    "            break\n",
    "\n",
    "\n",
    "\n",
    "if cnt < 2:\n",
    "    for i, j in sorted(dic.items()):\n",
    "        ans += i * (j//2)\n",
    "    print(ans + mid + ans[::-1])\n",
    "\n",
    "else:\n",
    "    print(\"I'm Sorry Hansoo\")"
   ]
  },
  {
   "cell_type": "code",
   "execution_count": 6,
   "id": "1fe0c695",
   "metadata": {},
   "outputs": [
    {
     "name": "stdout",
     "output_type": "stream",
     "text": [
      "9\n"
     ]
    }
   ],
   "source": [
    "n, m = map(int, input().split())\n",
    "square = [list(map(int, input())) for _ in range(n)]\n",
    "# n, m = 3, 5\n",
    "# square = [[4, 2, 1, 0, 1], [2, 2, 1, 0, 0], [2, 2, 1, 0, 1]]\n",
    "\n",
    "size = min(n, m)\n",
    "\n",
    "def find_square(s):\n",
    "    for i in range(n-s+1):\n",
    "        for j in range(m-s+1):\n",
    "            if square[i][j] == square[i][j+s-1] == square[i+s-1][j] == square[i+s-1][j+s-1]:\n",
    "                return True\n",
    "            \n",
    "    return False\n",
    "    \n",
    "\n",
    "for k in range(size, 0, -1):\n",
    "    if find_square(k):\n",
    "        print(k ** 2)\n",
    "        break"
   ]
  },
  {
   "cell_type": "code",
   "execution_count": 16,
   "id": "3f187a75",
   "metadata": {},
   "outputs": [
    {
     "name": "stdout",
     "output_type": "stream",
     "text": [
      "1 2 4 4\n",
      "2 3 5 7\n",
      "3 1 6 5\n",
      "7 3 8 6\n",
      "26\n"
     ]
    }
   ],
   "source": [
    "# square = [list(map(int, input().split())) for _ in range(4)]\n",
    "# square = [[1, 2, 4, 4], [2, 3, 5, 7], [3, 1, 6, 5], [7, 3, 8, 6]]\n",
    "index = [[0]*101 for _ in range(101)]\n",
    "\n",
    "for _ in range(4):\n",
    "    w, x, y, z = map(int, input().split())\n",
    "    \n",
    "    for i in range(x, z):\n",
    "        for j in range(w, y):\n",
    "            if index[i][j] == 0:\n",
    "                index[i][j] = 1\n",
    "            \n",
    "            \n",
    "ans = 0\n",
    "\n",
    "for i in range(101):\n",
    "    ans += index[i].count(1)\n",
    "    \n",
    "print(ans)"
   ]
  },
  {
   "cell_type": "code",
   "execution_count": 36,
   "id": "6eca6e00",
   "metadata": {},
   "outputs": [
    {
     "name": "stdout",
     "output_type": "stream",
     "text": [
      "2\n"
     ]
    }
   ],
   "source": [
    "n, target = map(int, input().split())\n",
    "country = [list(map(int, input().split())) for _ in range(n)]\n",
    "\n",
    "\n",
    "# n, target = 4, 3\n",
    "# country = [[2, 0, 1, 0], [1, 1, 2, 0], [3, 0, 1, 0], [4, 0, 0, 1]]\n",
    "\n",
    "\n",
    "country.sort(key=lambda x: (x[1], x[2], x[3]), reverse=True)\n",
    "\n",
    "idx = [country[i][0] for i in range(n)].index(target)\n",
    "\n",
    "for i in range(n):\n",
    "    if country[idx][1:] == country[i][1:]:\n",
    "        print(i+1)\n",
    "        break"
   ]
  },
  {
   "cell_type": "code",
   "execution_count": 40,
   "id": "c3c46129",
   "metadata": {},
   "outputs": [
    {
     "name": "stdout",
     "output_type": "stream",
     "text": [
      "123 1 1\n",
      "356 1 0\n",
      "327 2 0\n",
      "489 0 1\n",
      "2\n"
     ]
    }
   ],
   "source": [
    "from itertools import permutations\n",
    "num = list(permutations((1, 2, 3, 4, 5, 6, 7, 8, 9), 3))\n",
    "# print(num)\n",
    "\n",
    "n = int(input())\n",
    "# n = 4\n",
    "\n",
    "for _ in range(n):\n",
    "    guess, s, b = map(int, input().split())\n",
    "    guess = list(str(guess))\n",
    "    removed = 0\n",
    "    \n",
    "    for i in range(len(num)):\n",
    "        strike, ball = 0, 0\n",
    "        \n",
    "        i -= removed\n",
    "        for j in range(3):\n",
    "            guess[j] = int(guess[j])\n",
    "            if guess[j] in num[i]:\n",
    "                if j == num[i].index(guess[j]):\n",
    "                    strike += 1\n",
    "                else:\n",
    "                    ball += 1\n",
    "        \n",
    "        if strike != s or ball != b:\n",
    "            num.remove(num[i])\n",
    "            removed += 1\n",
    "            \n",
    "print(len(num))"
   ]
  },
  {
   "cell_type": "code",
   "execution_count": 15,
   "id": "13e111c4",
   "metadata": {},
   "outputs": [
    {
     "name": "stdout",
     "output_type": "stream",
     "text": [
      "15\n"
     ]
    }
   ],
   "source": [
    "bingo = [list(map(int, input().split())) for _ in range(5)]\n",
    "num = []\n",
    "for _ in range(5):\n",
    "    num += list(map(int, input().split()))\n",
    "\n",
    "# bingo = [[11, 12, 2, 24, 10], [16, 1, 13, 3, 25], [6, 20, 5, 21, 17], [19, 4, 8, 14, 9], [22, 15, 7, 23, 18]]\n",
    "# num = [5, 10, 7, 16, 2, 4, 22, 8, 17, 13, 3, 18, 1, 6, 25, 12, 19, 23, 14, 21, 11, 24, 9, 20, 15]\n",
    "\n",
    "                \n",
    "            \n",
    "def check():\n",
    "    bingo_count = 0\n",
    "    \n",
    "    for i in bingo:\n",
    "        if i.count(0) == 5:\n",
    "            bingo_count += 1\n",
    "\n",
    "            \n",
    "    for i in range(5):\n",
    "        tmp = 0\n",
    "        for j in range(5):\n",
    "            if bingo[j][i] == 0:\n",
    "                tmp += 1\n",
    "        if tmp == 5:\n",
    "            bingo_count += 1\n",
    "\n",
    "    \n",
    "    d1 = 0        \n",
    "    for i in range(5):\n",
    "        if bingo[i][i] == 0:\n",
    "            d1 += 1\n",
    "    if d1 == 5:\n",
    "        bingo_count += 1\n",
    "\n",
    "    d2 = 0     \n",
    "    for i in range(5):\n",
    "        if bingo[i][4-i] == 0:\n",
    "            d2 += 1\n",
    "    if d2 == 5:\n",
    "        bingo_count += 1\n",
    "\n",
    "                \n",
    "    return bingo_count\n",
    "            \n",
    "    \n",
    "    \n",
    "cnt = 0\n",
    "for i in range(25):\n",
    "    for x in range(5):\n",
    "        for y in range(5):\n",
    "            if num[i] == bingo[x][y]:\n",
    "                bingo[x][y] = 0\n",
    "                cnt += 1\n",
    "                \n",
    "            \n",
    "    if cnt >= 12:\n",
    "        result = check()\n",
    "        \n",
    "        if result >= 3:\n",
    "            print(i+1)\n",
    "            break\n",
    "            \n",
    "\n",
    "        \n",
    "\n",
    "        "
   ]
  },
  {
   "cell_type": "code",
   "execution_count": 41,
   "id": "0a587da5",
   "metadata": {},
   "outputs": [
    {
     "name": "stdout",
     "output_type": "stream",
     "text": [
      "5\n",
      "5 4 3 2 1\n",
      "5 4 3 1 2\n",
      "5 4 2 3 1\n",
      "5 1 4 3 2\n",
      "2 5 4 3 1\n",
      "-1\n"
     ]
    }
   ],
   "source": [
    "n = int(input())\n",
    "a = list(map(int, input().split()))\n",
    "\n",
    "for i in range(n-1, 0, -1):\n",
    "    if a[i] < a[i-1]:\n",
    "        x, y = i-1, i\n",
    "        \n",
    "        for j in range(n-1, 0, -1):\n",
    "            if a[j] < a[x]:\n",
    "                a[j], a[x] = a[x], a[j]\n",
    "                a = a[:i] + sorted(a[i:], reverse=True)\n",
    "                print(*a)\n",
    "                exit(0)\n",
    "                \n",
    "print(-1)"
   ]
  },
  {
   "cell_type": "code",
   "execution_count": 12,
   "id": "42be8437",
   "metadata": {},
   "outputs": [
    {
     "name": "stdout",
     "output_type": "stream",
     "text": [
      "XX.XXXXXXXXXX..XXXXXXXX...XXXXXX\n",
      "BB.AAAAAAAABB..AAAAAAAA...AAAABB\n"
     ]
    }
   ],
   "source": [
    "board = list(input())\n",
    "# board = ['X', 'X', 'X', 'X', 'X', 'X', '.', 'X', 'X']\n",
    "\n",
    "xcnt = 0\n",
    "ans = ''\n",
    "for i in board:\n",
    "    if i == 'X':\n",
    "        xcnt += 1\n",
    "    if i == '.':\n",
    "        if xcnt%2 == 1:\n",
    "            print(-1)\n",
    "            exit(0)\n",
    "        else:\n",
    "            ans += 'AAAA'*(xcnt//4) \n",
    "            ans += 'BB'*(xcnt%4//2) \n",
    "            xcnt = 0\n",
    "\n",
    "        ans += '.'\n",
    "        \n",
    "        \n",
    "\n",
    "if xcnt%2 == 1:\n",
    "    print(-1)\n",
    "    exit(0)\n",
    "else:\n",
    "    ans += 'AAAA'*(xcnt//4) \n",
    "    ans += 'BB'*(xcnt%4//2) \n",
    "    print(ans)\n",
    "            "
   ]
  },
  {
   "cell_type": "code",
   "execution_count": 32,
   "id": "f46e12af",
   "metadata": {},
   "outputs": [
    {
     "name": "stdout",
     "output_type": "stream",
     "text": [
      "5\n",
      "[['Jerry', 18, 9, 1990], ['Garfield', 20, 9, 1990], ['Alice', 30, 12, 1990], ['Mickey', 1, 10, 1991], ['Tom', 15, 8, 1993]]\n"
     ]
    },
    {
     "ename": "IndexError",
     "evalue": "list index out of range",
     "output_type": "error",
     "traceback": [
      "\u001b[0;31m---------------------------------------------------------------------------\u001b[0m",
      "\u001b[0;31mIndexError\u001b[0m                                Traceback (most recent call last)",
      "Input \u001b[0;32mIn [32]\u001b[0m, in \u001b[0;36m<cell line: 13>\u001b[0;34m()\u001b[0m\n\u001b[1;32m     10\u001b[0m student\u001b[38;5;241m.\u001b[39msort(key\u001b[38;5;241m=\u001b[39m\u001b[38;5;28;01mlambda\u001b[39;00m x: (x[\u001b[38;5;241m3\u001b[39m], x[\u001b[38;5;241m2\u001b[39m], x[\u001b[38;5;241m1\u001b[39m], x[\u001b[38;5;241m0\u001b[39m]))\n\u001b[1;32m     11\u001b[0m \u001b[38;5;28mprint\u001b[39m(student)\n\u001b[0;32m---> 13\u001b[0m \u001b[38;5;28mprint\u001b[39m(\u001b[43mstudent\u001b[49m\u001b[43m[\u001b[49m\u001b[43mn\u001b[49m\u001b[43m]\u001b[49m[\u001b[38;5;241m0\u001b[39m])\n\u001b[1;32m     14\u001b[0m \u001b[38;5;28mprint\u001b[39m(student[\u001b[38;5;241m0\u001b[39m][\u001b[38;5;241m0\u001b[39m])\n",
      "\u001b[0;31mIndexError\u001b[0m: list index out of range"
     ]
    }
   ],
   "source": [
    "n = int(input())\n",
    "# student = []\n",
    "# for _ in range(n):\n",
    "#     n, d, m, y = input().split()\n",
    "#     student.append([n, int(d), int(m), int(y)])\n",
    "    \n",
    "# print(student)\n",
    "\n",
    "student = [['Mickey', 1, 10, 1991], ['Alice', 30, 12, 1990], ['Tom', 15, 8, 1993], ['Jerry', 18, 9, 1990], ['Garfield', 20, 9, 1990]]\n",
    "student.sort(key=lambda x: (x[3], x[2], x[1], x[0]))\n",
    "print(student)\n",
    "\n",
    "print(student[n][0])\n",
    "print(student[0][0])\n",
    "\n",
    "\n",
    "    "
   ]
  },
  {
   "cell_type": "code",
   "execution_count": null,
   "id": "ddd652a8",
   "metadata": {},
   "outputs": [],
   "source": [
    "5\n",
    "Mickey 1 10 1991\n",
    "Alice 30 12 1990\n",
    "Tom 15 8 1993\n",
    "Jerry 18 9 1990\n",
    "Garfield 20 9 1990"
   ]
  },
  {
   "cell_type": "code",
   "execution_count": null,
   "id": "e126fe97",
   "metadata": {},
   "outputs": [],
   "source": []
  },
  {
   "cell_type": "code",
   "execution_count": null,
   "id": "35ecfe99",
   "metadata": {},
   "outputs": [],
   "source": []
  },
  {
   "cell_type": "code",
   "execution_count": null,
   "id": "9681477f",
   "metadata": {},
   "outputs": [],
   "source": []
  },
  {
   "cell_type": "code",
   "execution_count": null,
   "id": "f5f935a4",
   "metadata": {},
   "outputs": [],
   "source": []
  },
  {
   "cell_type": "code",
   "execution_count": null,
   "id": "140276b8",
   "metadata": {},
   "outputs": [],
   "source": []
  },
  {
   "cell_type": "code",
   "execution_count": null,
   "id": "2b78378d",
   "metadata": {},
   "outputs": [],
   "source": []
  },
  {
   "cell_type": "code",
   "execution_count": null,
   "id": "48721d01",
   "metadata": {},
   "outputs": [],
   "source": []
  },
  {
   "cell_type": "code",
   "execution_count": null,
   "id": "29d14da9",
   "metadata": {},
   "outputs": [],
   "source": []
  },
  {
   "cell_type": "code",
   "execution_count": null,
   "id": "a10b3137",
   "metadata": {},
   "outputs": [],
   "source": []
  },
  {
   "cell_type": "code",
   "execution_count": null,
   "id": "f6728e14",
   "metadata": {},
   "outputs": [],
   "source": []
  },
  {
   "cell_type": "code",
   "execution_count": null,
   "id": "08d8e6c7",
   "metadata": {},
   "outputs": [],
   "source": []
  },
  {
   "cell_type": "code",
   "execution_count": null,
   "id": "202de48f",
   "metadata": {},
   "outputs": [],
   "source": []
  },
  {
   "cell_type": "code",
   "execution_count": null,
   "id": "6cc3ca0d",
   "metadata": {},
   "outputs": [],
   "source": []
  },
  {
   "cell_type": "code",
   "execution_count": null,
   "id": "c91c073b",
   "metadata": {},
   "outputs": [],
   "source": []
  },
  {
   "cell_type": "code",
   "execution_count": null,
   "id": "ed5f5a60",
   "metadata": {},
   "outputs": [],
   "source": []
  },
  {
   "cell_type": "code",
   "execution_count": null,
   "id": "f649f9fd",
   "metadata": {},
   "outputs": [],
   "source": []
  },
  {
   "cell_type": "code",
   "execution_count": null,
   "id": "5bd69ffd",
   "metadata": {},
   "outputs": [],
   "source": []
  },
  {
   "cell_type": "code",
   "execution_count": null,
   "id": "d0f81e3f",
   "metadata": {},
   "outputs": [],
   "source": []
  },
  {
   "cell_type": "code",
   "execution_count": null,
   "id": "0ead4551",
   "metadata": {},
   "outputs": [],
   "source": []
  },
  {
   "cell_type": "code",
   "execution_count": null,
   "id": "c840bcf3",
   "metadata": {},
   "outputs": [],
   "source": []
  }
 ],
 "metadata": {
  "kernelspec": {
   "display_name": "Python 3 (ipykernel)",
   "language": "python",
   "name": "python3"
  },
  "language_info": {
   "codemirror_mode": {
    "name": "ipython",
    "version": 3
   },
   "file_extension": ".py",
   "mimetype": "text/x-python",
   "name": "python",
   "nbconvert_exporter": "python",
   "pygments_lexer": "ipython3",
   "version": "3.9.13"
  }
 },
 "nbformat": 4,
 "nbformat_minor": 5
}
