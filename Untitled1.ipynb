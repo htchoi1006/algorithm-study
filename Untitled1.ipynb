{
 "cells": [
  {
   "cell_type": "code",
   "execution_count": 6,
   "id": "d8006de9",
   "metadata": {},
   "outputs": [
    {
     "name": "stdout",
     "output_type": "stream",
     "text": [
      "2 1\n"
     ]
    }
   ],
   "source": [
    "from collections import deque\n",
    "\n",
    "# n = int(input())\n",
    "n = 3\n",
    "# space = [list(map(int, input().split())) for _ in range(n)]\n",
    "space = [[0, 0, 1], [0, 0, 0], [0, 9, 0]]\n",
    "pos = []\n",
    "\n",
    "for i in range(n):\n",
    "    for j in range(n):\n",
    "        if graph[i][j] == 9:\n",
    "            pos.append(i)\n",
    "            pos.append(j)\n",
    "            \n",
    "            \n",
    "dx = [0, 0, -1, 1]\n",
    "dy = [-1, 1, 0, 0]\n",
    "cnt = 0\n",
    "\n",
    "\n",
    "def bfs(x, y):\n",
    "    visited = [[0]*n for _ in range(n)]\n",
    "    queue = deque([[x, y]])\n",
    "    cand = []\n",
    "    \n",
    "    visited[x][y] = 1\n",
    "    \n",
    "    while queue:\n",
    "        a, b = queue.popleft()\n",
    "        \n",
    "        for i in range(4):\n",
    "            nx = a + dx[i]\n",
    "            ny = b + dy[i]\n",
    "            \n",
    "            if 0 <= nx < n and 0 <= ny < n and visited[nx][ny] == 0:\n",
    "                if space[x][y] > space[nx][ny] and space[nx][ny] != 0:\n",
    "                    visited[nx][ny] = visited[a][b] + 1\n",
    "                    cand.append((visited[nx][ny]-1, nx, ny))\n",
    "                elif space[x][y] == space[nx][ny]:\n",
    "                    visited[nx][ny] = visited[a][b] + 1\n",
    "                    queue.append([nx, ny])\n",
    "                elif space[nx][ny] == 0:\n",
    "                    \n",
    "                \n",
    "                \n",
    "                \n",
    "\n",
    "i, j = pos\n",
    "size = [2, 0]\n",
    "\n",
    "while True:\n",
    "    space[i][j] = size[0]\n",
    "    cand = deque(bfs(i, j))"
   ]
  },
  {
   "cell_type": "code",
   "execution_count": 11,
   "id": "059da73e",
   "metadata": {},
   "outputs": [
    {
     "name": "stdout",
     "output_type": "stream",
     "text": [
      "3\n"
     ]
    }
   ],
   "source": [
    "# n, m = map(int, input().split())\n",
    "# field = [list(map(int, input().split())) for _ in range(n)]\n",
    "n, m = 4, 5\n",
    "field = [[50, 45, 37, 32, 30], [35, 50, 40, 20, 25], [30, 30, 25, 17, 28], [27, 24, 22, 15, 10]]\n",
    "\n",
    "\n",
    "dx = [0, 0, -1, 1]\n",
    "dy = [-1, 1, 0, 0]\n",
    "\n",
    "dp = [[-1]*m for _ in range(n)]\n",
    "cnt = 0\n",
    "\n",
    "\n",
    "def dfs(x, y):\n",
    "    if x == n-1 and y == m-1:\n",
    "        return 1\n",
    "    \n",
    "    if dp[x][y] != -1:\n",
    "        return dp[x][y]\n",
    "    \n",
    "    ways = 0\n",
    "    for i in range(4):\n",
    "        nx = x + dx[i]\n",
    "        ny = y + dy[i]\n",
    "        \n",
    "        if 0 <= nx < n and 0 <= ny < m and field[x][y] > field[nx][ny]:\n",
    "            ways += dfs(nx, ny)\n",
    "            \n",
    "    dp[x][y] = ways\n",
    "    return dp[x][y]\n",
    "                \n",
    "                \n",
    "print(dfs(0, 0))\n",
    "\n"
   ]
  },
  {
   "cell_type": "code",
   "execution_count": 16,
   "id": "157ca73a",
   "metadata": {},
   "outputs": [
    {
     "name": "stdout",
     "output_type": "stream",
     "text": [
      "5 17\n",
      "2\n"
     ]
    }
   ],
   "source": [
    "from collections import deque\n",
    "\n",
    "n, k = map(int, input().split())\n",
    "time = [0] * 100001\n",
    "\n",
    "\n",
    "def bfs(x, y):\n",
    "    queue = deque()\n",
    "    if x == 0:\n",
    "        queue.append(1)\n",
    "    else:\n",
    "        queue.append(x)\n",
    "        \n",
    "    while queue:\n",
    "        x = queue.popleft()\n",
    "        if y == x:\n",
    "            return time[x]\n",
    "        \n",
    "        for nx in (x-1, x+1, x*2):\n",
    "            if 0 <= nx < 100001 and time[nx] == 0:\n",
    "                if nx == x*2:\n",
    "                    time[nx] = time[x]\n",
    "                    queue.appendleft(nx)\n",
    "                else:\n",
    "                    time[nx] = time[x] + 1\n",
    "                    queue.append(nx)\n",
    "        \n",
    "        \n",
    "\n",
    "if n == 0:\n",
    "    print(bfs(n, k) + 1)\n",
    "else:\n",
    "    print(bfs(n, k))\n"
   ]
  },
  {
   "cell_type": "code",
   "execution_count": 15,
   "id": "6a0790da",
   "metadata": {},
   "outputs": [
    {
     "name": "stdout",
     "output_type": "stream",
     "text": [
      "5 17\n",
      "2\n"
     ]
    }
   ],
   "source": [
    "\n",
    "a,b = map(int,input().split())\n",
    "limit = 100001\n",
    "time = [0]*limit\n",
    " \n",
    "def bfs(x,y):\n",
    "    q = deque()\n",
    "    if x == 0 :\n",
    "        q.append(1)\n",
    "    else :\n",
    "        q.append(x)\n",
    "    \n",
    "    while q:\n",
    "        x = q.popleft()\n",
    "        if y == x :\n",
    "            return time[x]\n",
    "        \n",
    "        for nx in (x-1,x+1,x*2):\n",
    "            if 0 <= nx < limit and time[nx]==0:\n",
    "                if nx == 2*x :\n",
    "                    time[nx] = time[x]\n",
    "                    q.appendleft(nx)\n",
    "                else : \n",
    "                    time[nx] = time[x] + 1\n",
    "                    q.append(nx)\n",
    "\n",
    "if a==0 :\n",
    "    print(bfs(a,b)+1)\n",
    "else :\n",
    "    print(bfs(a,b))"
   ]
  },
  {
   "cell_type": "code",
   "execution_count": 25,
   "id": "01112698",
   "metadata": {},
   "outputs": [
    {
     "name": "stdout",
     "output_type": "stream",
     "text": [
      "6 5\n",
      "1 2\n",
      "2 5\n",
      "5 1\n",
      "3 4\n",
      "4 6\n",
      "2\n"
     ]
    }
   ],
   "source": [
    "n, m = map(int, input().split())\n",
    "# n, m = 6, 5\n",
    "graph = [[] for _ in range(n+1)]\n",
    "visited = [0] * (n+1)\n",
    "\n",
    "for _ in range(m):\n",
    "    a, b = map(int, input().split())\n",
    "    graph[a].append(b)\n",
    "    graph[b].append(a)\n",
    "\n",
    "\n",
    "def dfs(v):\n",
    "    visited[v] = 1\n",
    "    for i in graph[v]:\n",
    "        if visited[i] == 0:\n",
    "            visited[i] = 1\n",
    "            dfs(i)\n",
    "            \n",
    "cnt = 0\n",
    "            \n",
    "for i in range(1, n+1):\n",
    "    if visited[i] == 0:\n",
    "        cnt += 1\n",
    "        dfs(i)\n",
    "        \n",
    "print(cnt)\n",
    "\n",
    "\n",
    "    \n",
    "\n",
    "\n",
    "    "
   ]
  },
  {
   "cell_type": "code",
   "execution_count": 42,
   "id": "6c14b0b8",
   "metadata": {},
   "outputs": [
    {
     "name": "stdout",
     "output_type": "stream",
     "text": [
      "2\n",
      "6\n",
      "5 8\n",
      "22\n",
      "10946 17711\n"
     ]
    }
   ],
   "source": [
    "n = int(input())\n",
    "\n",
    "zero = [1, 0, 1]\n",
    "one = [0, 1, 1]\n",
    "\n",
    "def fibo(x):\n",
    "    length = len(zero)\n",
    "    if x >= length:\n",
    "        for i in range(length, x+1):\n",
    "            zero.append(zero[i-1] + zero[i-2])\n",
    "            one.append(one[i-1] + one[i-2])\n",
    "            \n",
    "    print(zero[x], one[x])\n",
    "    \n",
    "\n",
    "for _ in range(n):\n",
    "    fibo(int(input()))"
   ]
  },
  {
   "cell_type": "code",
   "execution_count": 45,
   "id": "a848e9e1",
   "metadata": {},
   "outputs": [
    {
     "name": "stdout",
     "output_type": "stream",
     "text": [
      "3\n",
      "96\n"
     ]
    }
   ],
   "source": [
    "n = int(input())\n",
    "a = [list(map(int, input().split())) for _ in range(n)]\n",
    "# a = [[26, 40, 83], [49, 60, 57], [13, 89, 99]]\n",
    "\n",
    "for i in range(1, n):\n",
    "    a[i][0] += min(a[i-1][1], a[i-1][2]) \n",
    "    a[i][1] += min(a[i-1][0], a[i-1][2])\n",
    "    a[i][2] += min(a[i-1][0], a[i-1][1])\n",
    "    \n",
    "print(min(a[n-1][0], a[n-1][1], a[n-1][2]))\n",
    "    "
   ]
  },
  {
   "cell_type": "code",
   "execution_count": 52,
   "id": "91c49c50",
   "metadata": {},
   "outputs": [
    {
     "name": "stdout",
     "output_type": "stream",
     "text": [
      "6\n",
      "75\n"
     ]
    }
   ],
   "source": [
    "n = int(input())\n",
    "stair = [0] * 301\n",
    "for i in range(1, n+1):\n",
    "    stair[i] = int(input())\n",
    "dp = [0] * 301\n",
    "\n",
    "dp[1] = stair[1]\n",
    "dp[2] = stair[1] + stair[2]\n",
    "dp[3] = max(stair[1] + stair[3], stair[2] + stair[3])\n",
    "\n",
    "for i in range(4, n+1):\n",
    "    dp[i] = max(stair[i] + stair[i-1] + dp[i-3], stair[i] + dp[i-2])\n",
    "    \n",
    "print(dp[n])\n"
   ]
  },
  {
   "cell_type": "code",
   "execution_count": 74,
   "id": "c0321470",
   "metadata": {},
   "outputs": [
    {
     "name": "stdout",
     "output_type": "stream",
     "text": [
      "c=c=\n",
      "deque(['c'])\n",
      "deque(['c', '='])\n",
      "1 1\n",
      "deque(['c'])\n",
      "deque(['c', '='])\n",
      "1 2\n",
      "2\n",
      "deque([])\n",
      "2\n"
     ]
    }
   ],
   "source": [
    "from collections import deque\n",
    "\n",
    "word = list(input())\n",
    "croatia = ['c=', 'c-', 'dz=', 'd-', 'lj', 'nj', 's=', 'z=']\n",
    "ans = 0\n",
    "queue = deque()\n",
    "\n",
    "for i in word:\n",
    "    queue.append(i)\n",
    "    \n",
    "    if (''.join(queue)) in croatia:\n",
    "        for i in range(len(queue)):\n",
    "            queue.popleft()\n",
    "            \n",
    "        ans += 1\n",
    "\n",
    "        \n",
    "    if len(queue) >= 3:\n",
    "        queue.popleft()\n",
    "        ans += 1\n",
    "        if (''.join(queue)) in croatia:\n",
    "            for i in range(len(queue)):\n",
    "                queue.popleft()\n",
    "\n",
    "            ans += 1\n",
    "\n",
    "if queue:\n",
    "    ans += len(queue)\n",
    "        \n",
    "print(ans)\n",
    "\n",
    "\n"
   ]
  },
  {
   "cell_type": "code",
   "execution_count": 77,
   "id": "664441bf",
   "metadata": {},
   "outputs": [
    {
     "name": "stdout",
     "output_type": "stream",
     "text": [
      "ljes=njak\n",
      "ljes=njak\n",
      "ljes=njak\n",
      "ljes=njak\n",
      "ljes=njak\n",
      "aes=njak\n",
      "aes=aak\n",
      "aeaaak\n",
      "aeaaak\n"
     ]
    }
   ],
   "source": [
    "word = input()\n",
    "croatia = ['c=', 'c-', 'dz=', 'd-', 'lj', 'nj', 's=', 'z=']\n",
    "\n",
    "for i in croatia:\n",
    "    word = word.replace(i, 'a')\n",
    "print(len(word))"
   ]
  },
  {
   "cell_type": "code",
   "execution_count": 91,
   "id": "386e66d7",
   "metadata": {},
   "outputs": [
    {
     "name": "stdout",
     "output_type": "stream",
     "text": [
      "1\n",
      "4 2\n",
      "1 2 3 4\n",
      "2\n"
     ]
    }
   ],
   "source": [
    "from collections import deque\n",
    "\n",
    "t = int(input())\n",
    "\n",
    "for _ in range(t):\n",
    "    n, idx = map(int, input().split())\n",
    "    queue = deque(map(int, input().split()))\n",
    "    queue = deque([(i, idx) for idx, i in enumerate(queue)])\n",
    "\n",
    "    \n",
    "    cnt = 0\n",
    "    \n",
    "    while True:\n",
    "        if queue[0][0] == max(queue, key=lambda x: x[0])[0]:\n",
    "            cnt += 1\n",
    "            if queue[0][1] == idx:\n",
    "                print(cnt)\n",
    "                break\n",
    "            else:\n",
    "                queue.popleft()\n",
    "        else:\n",
    "            queue.append(queue.popleft())\n",
    "        \n",
    "    \n",
    "    \n",
    "    "
   ]
  },
  {
   "cell_type": "code",
   "execution_count": 107,
   "id": "bcfc1e6f",
   "metadata": {},
   "outputs": [
    {
     "name": "stdout",
     "output_type": "stream",
     "text": [
      "3\n",
      "3 7\n",
      "15 7\n",
      "5 2\n",
      "260\n"
     ]
    }
   ],
   "source": [
    "import math\n",
    "\n",
    "n = int(input())\n",
    "paper = [[0] * 100 for _ in range(100)]\n",
    "ans = 0\n",
    "\n",
    "for _ in range(n):\n",
    "    y, x = map(int, input().split())\n",
    "    \n",
    "    for i in range(x, x+10):\n",
    "        for j in range(y, y+10):\n",
    "            paper[i][j] = 1\n",
    "            \n",
    "    \n",
    "for i in range(100):\n",
    "    ans += paper[i].count(1)\n",
    "    \n",
    "print(ans)"
   ]
  },
  {
   "cell_type": "code",
   "execution_count": 125,
   "id": "8f7f1ff5",
   "metadata": {},
   "outputs": [
    {
     "name": "stdout",
     "output_type": "stream",
     "text": [
      "5\n",
      "2\n",
      "2\n",
      "1\n",
      "10\n"
     ]
    }
   ],
   "source": [
    "from collections import Counter\n",
    "import sys\n",
    "\n",
    "input = sys.stdin.readline\n",
    "n = int(input())\n",
    "num = [int(input()) for _ in range(n)]\n",
    "# num = [1, 3, 8, -2, 2]\n",
    "num.sort()\n",
    "# print(num)\n",
    "\n",
    "print(round(sum(num)/len(num)))\n",
    "print(num[n//2])\n",
    "\n",
    "cnt = Counter(num).most_common()\n",
    "\n",
    "if len(cnt) > 1 and cnt[0][1] == cnt[1][1]:\n",
    "    print(cnt[1][0])\n",
    "else:\n",
    "    print(cnt[0][0])\n",
    "    \n",
    "    \n",
    "    \n",
    "\n",
    "print(num[-1] - num[0])"
   ]
  },
  {
   "cell_type": "code",
   "execution_count": 123,
   "id": "a9a39b84",
   "metadata": {},
   "outputs": [
    {
     "name": "stdout",
     "output_type": "stream",
     "text": [
      "[(-2, 2), (-1, 2), (-3, 1)]\n"
     ]
    }
   ],
   "source": [
    "li = [-3, -2, -2, -1, -1]\n",
    "cnt_li = Counter(li).most_common()\n",
    "print(cnt_li)"
   ]
  },
  {
   "cell_type": "code",
   "execution_count": 160,
   "id": "135ff6fb",
   "metadata": {},
   "outputs": [
    {
     "name": "stdout",
     "output_type": "stream",
     "text": [
      "35596\n",
      "[3, 5, 5, 9, 6]\n",
      "[0, 0, 0, 0, 0, 0, 0, 0, 0, 0]\n",
      "2\n"
     ]
    }
   ],
   "source": [
    "n = input()\n",
    "arr = []\n",
    "\n",
    "for i in n:\n",
    "    arr.append(int(i))\n",
    "# print(arr)\n",
    "\n",
    "visited = [0] * 10\n",
    "# print(visited)\n",
    "\n",
    "for i in arr:\n",
    "    if i == 6 or i == 9:\n",
    "        if visited[6] < visited[9]:\n",
    "            visited[6] += 1\n",
    "        else:\n",
    "            visited[9] += 1\n",
    "    else:\n",
    "        visited[i] += 1\n",
    "\n",
    "print(max(visited))\n",
    "\n",
    "    "
   ]
  },
  {
   "cell_type": "code",
   "execution_count": 137,
   "id": "ee88147d",
   "metadata": {},
   "outputs": [
    {
     "name": "stdout",
     "output_type": "stream",
     "text": [
      "[(2, 3), (6, 3), (4, 2), (9, 2), (1, 1)]\n"
     ]
    }
   ],
   "source": [
    "arr = [1, 2, 2, 2, 4, 4, 6, 6, 6, 9, 9]\n",
    "\n",
    "cnt = Counter(arr).most_common()\n",
    "print(cnt)"
   ]
  },
  {
   "cell_type": "code",
   "execution_count": 138,
   "id": "9ebf0714",
   "metadata": {},
   "outputs": [
    {
     "name": "stdout",
     "output_type": "stream",
     "text": [
      "(9, 2)\n"
     ]
    }
   ],
   "source": [
    "from collections import Counter\n",
    "\n",
    "arr = [1, 2, 2, 2, 4, 4, 6, 6, 6, 9, 9]\n",
    "cnt = Counter(arr).most_common()\n",
    "\n",
    "# Iterate through the cnt list to find the tuple with 9 as the first element\n",
    "for element in cnt:\n",
    "    if element[0] == 9:\n",
    "        # Found the tuple where the first element is 9\n",
    "        desired_set = element\n",
    "        break\n",
    "\n",
    "print(desired_set)\n"
   ]
  },
  {
   "cell_type": "code",
   "execution_count": 4,
   "id": "92ac3940",
   "metadata": {},
   "outputs": [
    {
     "name": "stdout",
     "output_type": "stream",
     "text": [
      "2\n",
      "어느 한 컴퓨터공학과 학생이 유명한 교수님을 찾아가 물었다.\n",
      "\"재귀함수가 뭔가요?\"\n",
      "\"잘 들어보게. 옛날옛날 한 산 꼭대기에 이세상 모든 지식을 통달한 선인이 있었어.\n",
      "마을 사람들은 모두 그 선인에게 수많은 질문을 했고, 모두 지혜롭게 대답해 주었지.\n",
      "그의 답은 대부분 옳았다고 하네. 그런데 어느 날, 그 선인에게 한 선비가 찾아와서 물었어.\"\n",
      "____\"재귀함수가 뭔가요?\"\n",
      "____\"잘 들어보게. 옛날옛날 한 산 꼭대기에 이세상 모든 지식을 통달한 선인이 있었어.\n",
      "____마을 사람들은 모두 그 선인에게 수많은 질문을 했고, 모두 지혜롭게 대답해 주었지.\n",
      "____그의 답은 대부분 옳았다고 하네. 그런데 어느 날, 그 선인에게 한 선비가 찾아와서 물었어.\"\n",
      "________\"재귀함수가 뭔가요?\"\n",
      "________\"재귀함수는 자기 자신을 호출하는 함수라네\"\n",
      "________라고 답변하였지.\n",
      "____라고 답변하였지.\n",
      "라고 답변하였지.\n"
     ]
    }
   ],
   "source": [
    "n = int(input())\n",
    "\n",
    "def f(m):\n",
    "    print('_' * (4 * (n-m)) + '\"재귀함수가 뭔가요?\"')\n",
    "    \n",
    "    if m <= 0:\n",
    "        print('_' * (4 * (n-m)) + '\"재귀함수는 자기 자신을 호출하는 함수라네\"')\n",
    "        print('_' * (4 * (n-m)) + '라고 답변하였지.')\n",
    "        return\n",
    "\n",
    "    print('_' * (4 * (n-m)) + '\"잘 들어보게. 옛날옛날 한 산 꼭대기에 이세상 모든 지식을 통달한 선인이 있었어.')\n",
    "    print('_' * (4 * (n-m)) + '마을 사람들은 모두 그 선인에게 수많은 질문을 했고, 모두 지혜롭게 대답해 주었지.')\n",
    "    print('_' * (4 * (n-m)) + '그의 답은 대부분 옳았다고 하네. 그런데 어느 날, 그 선인에게 한 선비가 찾아와서 물었어.\"')\n",
    "    f(m-1)\n",
    "    print('_' * (4 * (n-m)) + '라고 답변하였지.')\n",
    "        \n",
    "    \n",
    "    \n",
    "    \n",
    "print('어느 한 컴퓨터공학과 학생이 유명한 교수님을 찾아가 물었다.')\n",
    "f(n)"
   ]
  },
  {
   "cell_type": "code",
   "execution_count": 28,
   "id": "d7b8a155",
   "metadata": {},
   "outputs": [
    {
     "name": "stdout",
     "output_type": "stream",
     "text": [
      "[[-1, -2, 6], [-3, -6, 12], [-5, -10, 18]]\n",
      "-1 -2 6 \n",
      "-3 -6 12 \n",
      "-5 -10 18 \n"
     ]
    }
   ],
   "source": [
    "N, M = map(int, input().split())\n",
    "arr1 = [list(map(int, input().split())) for _ in range(N)]\n",
    "M, K = map(int, input().split())\n",
    "arr2 = [list(map(int, input().split())) for _ in range(M)]\n",
    "\n",
    "# N, M = 3, 2\n",
    "# M, K = 2, 3\n",
    "# arr1 = [[1, 2], [3, 4], [5, 6]]\n",
    "# arr2 = [[-1, -2, 0], [0, 0, 3]]\n",
    "\n",
    "ans = [[0] * K for _ in range(N)]\n",
    "\n",
    "for n in range(N):\n",
    "    for k in range(K):\n",
    "        for m in range(M):\n",
    "            ans[n][k] += arr1[n][m] * arr2[m][k]\n",
    "            \n",
    "\n",
    "            \n",
    "for i in range(N):\n",
    "    for j in range(K):\n",
    "        print(ans[i][j], end=' ')\n",
    "    print()\n",
    "    \n",
    "            \n",
    "        \n",
    "\n"
   ]
  },
  {
   "cell_type": "code",
   "execution_count": 32,
   "id": "ed61e206",
   "metadata": {},
   "outputs": [
    {
     "name": "stdout",
     "output_type": "stream",
     "text": [
      "3\n",
      "2 2 2\n",
      "4 4 4\n",
      "8 8 8\n",
      "16\n"
     ]
    }
   ],
   "source": [
    "from copy import deepcopy\n",
    "\n",
    "\n",
    "n = int(input())\n",
    "block = [list(map(int, input().split())) for _ in range(n)]\n",
    "# block = [[2, 2, 2], [4, 4, 4], [8, 8, 8]]\n",
    "\n",
    "\n",
    "def move(board, dir):\n",
    "    if dir == 0: #동\n",
    "        for i in range(n):\n",
    "            top = n - 1\n",
    "            for j in range(n-2, -1, -1):\n",
    "                if board[i][j]:\n",
    "                    tmp = board[i][j]\n",
    "                    board[i][j] = 0\n",
    "                    if board[i][top] == 0:\n",
    "                        board[i][top] = tmp\n",
    "                    elif board[i][top] == tmp:\n",
    "                        board[i][top] == tmp * 2\n",
    "                        top -= 1\n",
    "                    else:\n",
    "                        top -= 1\n",
    "                        board[i][top] = tmp\n",
    "                        \n",
    "    \n",
    "    elif dir == 1: #서쪽\n",
    "        for i in range(n):\n",
    "            top = 0\n",
    "            for j in range(1, n):\n",
    "                if board[i][j]:\n",
    "                    tmp = board[i][j]\n",
    "                    board[i][j] = 0\n",
    "                    if board[i][top] == 0:\n",
    "                        board[i][top] = tmp\n",
    "                    elif board[i][top] == tmp:\n",
    "                        board[i][top] = tmp * 2\n",
    "                        top += 1\n",
    "                    else:\n",
    "                        top += 1\n",
    "                        board[i][top] = tmp\n",
    "                        \n",
    "                        \n",
    "                        \n",
    "    elif dir == 2: #남쪽\n",
    "        for j in range(n):\n",
    "            top = n - 1\n",
    "            for i in range(n-2, -1, -1):\n",
    "                if board[i][j]:\n",
    "                    tmp = board[i][j]\n",
    "                    board[i][j] = 0\n",
    "                    if board[top][j] == 0:\n",
    "                        board[top][j] = tmp\n",
    "                    elif board[top][j] == tmp:\n",
    "                        board[top][j] = tmp * 2\n",
    "                        top -= 1\n",
    "                    else:\n",
    "                        top -= 1\n",
    "                        board[top][j] = tmp\n",
    "                        \n",
    "                    \n",
    "    else: #북쪽\n",
    "        for j in range(n):\n",
    "            top = 0\n",
    "            for i in range(1, n):\n",
    "                if board[i][j]:\n",
    "                    tmp = board[i][j]\n",
    "                    board[i][j] = 0\n",
    "                    if board[top][j] == 0:\n",
    "                        board[top][j] = tmp\n",
    "                    elif board[top][j] == tmp:\n",
    "                        board[top][j] = tmp * 2\n",
    "                        top += 1\n",
    "                    else:\n",
    "                        top += 1\n",
    "                        board[top][j] = tmp\n",
    "                        \n",
    "                        \n",
    "    return board\n",
    "\n",
    "\n",
    "\n",
    "\n",
    "def dfs(board, cnt):\n",
    "    global ans\n",
    "    if cnt == 5:\n",
    "        for i in range(n):\n",
    "            for j in range(n):\n",
    "                ans = max(ans, board[i][j])\n",
    "        return\n",
    "    \n",
    "    for i in range(4):\n",
    "        tmp_board = move(deepcopy(board), i)\n",
    "        dfs(tmp_board, cnt + 1)\n",
    "    \n",
    "    \n",
    "\n",
    "ans = 0\n",
    "dfs(block, 0)\n",
    "print(ans)\n",
    "\n",
    "\n",
    "\n",
    "\n"
   ]
  },
  {
   "cell_type": "code",
   "execution_count": 33,
   "id": "79747b28",
   "metadata": {},
   "outputs": [
    {
     "name": "stdout",
     "output_type": "stream",
     "text": [
      "3\n",
      "2 2 2\n",
      "4 4 4\n",
      "8 8 8 \n",
      "16\n"
     ]
    }
   ],
   "source": [
    "from copy import deepcopy\n",
    "\n",
    "n = int(input())\n",
    "\n",
    "graph = [list(map(int, input().split())) for _ in range(n)]\n",
    "\n",
    "def move(board, dir):\n",
    "    if dir == 0:  # 동쪽\n",
    "        for i in range(n):\n",
    "            top = n - 1\n",
    "            for j in range(n - 2, -1, -1):\n",
    "                if board[i][j]:\n",
    "                    tmp = board[i][j]\n",
    "                    board[i][j] = 0\n",
    "                    if board[i][top] == 0:\n",
    "                        board[i][top] = tmp\n",
    "                    elif board[i][top] == tmp:\n",
    "                        board[i][top] = tmp * 2\n",
    "                        top -= 1\n",
    "                    else:\n",
    "                        top -= 1\n",
    "                        board[i][top] = tmp\n",
    "\n",
    "    elif dir == 1:  # 서쪽\n",
    "        for i in range(n):\n",
    "            top = 0\n",
    "            for j in range(1, n):\n",
    "                if board[i][j]:\n",
    "                    tmp = board[i][j]\n",
    "                    board[i][j] = 0\n",
    "                    if board[i][top] == 0:\n",
    "                        board[i][top] = tmp\n",
    "                    elif board[i][top] == tmp:\n",
    "                        board[i][top] = tmp * 2\n",
    "                        top += 1\n",
    "                    else:\n",
    "                        top += 1\n",
    "                        board[i][top] = tmp\n",
    "\n",
    "    elif dir == 2:  # 남쪽\n",
    "        for j in range(n):\n",
    "            top = n - 1\n",
    "            for i in range(n - 2, -1, -1):\n",
    "                if board[i][j]:\n",
    "                    tmp = board[i][j]\n",
    "                    board[i][j] = 0\n",
    "                    if board[top][j] == 0:\n",
    "                        board[top][j] = tmp\n",
    "                    elif board[top][j] == tmp:\n",
    "                        board[top][j] = tmp * 2\n",
    "                        top -= 1\n",
    "                    else:\n",
    "                        top -= 1\n",
    "                        board[top][j] = tmp\n",
    "\n",
    "    else:\n",
    "        for j in range(n):\n",
    "            top = 0\n",
    "            for i in range(1, n):\n",
    "                if board[i][j]:\n",
    "                    tmp = board[i][j]\n",
    "                    board[i][j] = 0\n",
    "                    if board[top][j] == 0:\n",
    "                        board[top][j] = tmp\n",
    "                    elif board[top][j] == tmp:\n",
    "                        board[top][j] = tmp * 2\n",
    "                        top += 1\n",
    "                    else:\n",
    "                        top += 1\n",
    "                        board[top][j] = tmp\n",
    "\n",
    "    return board\n",
    "\n",
    "\n",
    "def dfs(board, cnt):\n",
    "    global ans\n",
    "    if cnt == 5:\n",
    "        for i in range(n):\n",
    "            for j in range(n):\n",
    "                ans = max(ans, board[i][j])\n",
    "        return\n",
    "\n",
    "    for i in range(4):\n",
    "        tmp_board = move(deepcopy(board), i)\n",
    "        dfs(tmp_board, cnt + 1)\n",
    "\n",
    "ans = 0\n",
    "dfs(graph, 0)\n",
    "print(ans)"
   ]
  },
  {
   "cell_type": "code",
   "execution_count": 47,
   "id": "d3280c09",
   "metadata": {
    "scrolled": true
   },
   "outputs": [
    {
     "name": "stdout",
     "output_type": "stream",
     "text": [
      "ObjectOrientedProgramming1 3.0 A+\n",
      "IntroductiontoComputerEngineering 3.0 A+\n",
      "ObjectOrientedProgramming2 3.0 A0\n",
      "CreativeComputerEngineeringDesign 3.0 A+\n",
      "AssemblyLanguage 3.0 A+\n",
      "InternetProgramming 3.0 B0\n",
      "ApplicationProgramminginJava 3.0 A0\n",
      "SystemProgramming 3.0 B0\n",
      "OperatingSystem 3.0 B0\n",
      "WirelessCommunicationsandNetworking 3.0 C+\n",
      "LogicCircuits 3.0 B0\n",
      "DataStructure 4.0 A+\n",
      "MicroprocessorApplication 3.0 B+\n",
      "EmbeddedSoftware 3.0 C0\n",
      "ComputerSecurity 3.0 D+\n",
      "Database 3.0 C+\n",
      "Algorithm 3.0 B0\n",
      "CapstoneDesigninCSE 3.0 B+\n",
      "CompilerDesign 3.0 D0\n",
      "ProblemSolving 4.0 P\n",
      "3.28448\n"
     ]
    }
   ],
   "source": [
    "dic = {'A+': 4.5, 'A0': 4, 'B+': 3.5, 'B0': 3, 'C+':2.5, 'C0':2, 'D+':1.5, 'D0':1, 'F':0}\n",
    "ans = 0\n",
    "cnt = 0\n",
    "\n",
    "for _ in range(20):\n",
    "    name, size, grade = input().split()\n",
    "#     print(name, size, grade)\n",
    "    \n",
    "    if grade == 'P':\n",
    "        continue\n",
    "        \n",
    "    cnt += float(size)\n",
    "    ans += float(size) * float(dic[grade])\n",
    "    \n",
    "num = ans/cnt\n",
    "print(f\"{num:.6f}\")\n",
    "    \n",
    "    "
   ]
  },
  {
   "cell_type": "code",
   "execution_count": 79,
   "id": "e03d2be9",
   "metadata": {},
   "outputs": [
    {
     "name": "stdout",
     "output_type": "stream",
     "text": [
      "2 1\n",
      "2\n"
     ]
    }
   ],
   "source": [
    "n, k = map(int, input().split())\n",
    "# n, k = 15, 12\n",
    "\n",
    "arr = [i for i in range(2, n+1)]\n",
    "\n",
    "cnt = 0\n",
    "tmp = 0\n",
    "\n",
    "while True:\n",
    "    if cnt == k:\n",
    "        print(tmp)\n",
    "        break\n",
    "        \n",
    "    minnum = min(arr)\n",
    "    arr.remove(minnum)\n",
    "    tmp = minnum\n",
    "    cnt += 1\n",
    "    \n",
    "    for i in arr:\n",
    "        if i%minnum == 0:\n",
    "            cnt += 1\n",
    "            tmp = i\n",
    "            arr.remove(i)\n",
    "    "
   ]
  },
  {
   "cell_type": "code",
   "execution_count": 80,
   "id": "2caeb54c",
   "metadata": {},
   "outputs": [
    {
     "name": "stdout",
     "output_type": "stream",
     "text": [
      "15 12\n",
      "7\n"
     ]
    }
   ],
   "source": [
    "n, k = map(int, input().split())\n",
    "tmp = 0\n",
    "visited = [True] * (n+1)\n",
    "\n",
    "for i in range(2, n+1):\n",
    "    for j in range(i, n+1, i):\n",
    "        if visited[j] != False:\n",
    "            visited[j] = False\n",
    "            tmp += 1\n",
    "            \n",
    "            if tmp == k:\n",
    "                print(j)\n"
   ]
  },
  {
   "cell_type": "code",
   "execution_count": 118,
   "id": "59d4167f",
   "metadata": {},
   "outputs": [
    {
     "name": "stdout",
     "output_type": "stream",
     "text": [
      "25\n",
      "0 1 0 1 0 0 0 1 0 1 0 1 0 0 0 1 0 1 0 1 0 0 0 1 0\n",
      "2\n",
      "1 3\n",
      "2 3\n",
      "[1, 0, 0, 0, 1, 1, 0, 1, 1, 1, 0, 0, 0, 0, 1, 1, 0, 0, 0, 1, 1, 0, 0, 0, 0]\n",
      "1 0 0 0 1 1 0 1 1 1 0 0 0 0 1 1 0 0 0 1\n",
      "1 0 0 0 0\n"
     ]
    }
   ],
   "source": [
    "s = int(input())\n",
    "switch = list(map(int, input().split()))\n",
    "n = int(input())\n",
    "# s = 8\n",
    "# switch = [0, 1, 0, 1, 0, 0, 0, 1]\n",
    "# n = 2\n",
    "\n",
    "\n",
    "switch.insert(0, 0)\n",
    "\n",
    "\n",
    "def change(index):\n",
    "    if switch[index] == 0:\n",
    "        switch[index] = 1\n",
    "    elif switch[index] == 1:\n",
    "        switch[index] = 0\n",
    "        \n",
    "\n",
    "for _ in range(n):\n",
    "    gender, index = map(int, input().split())\n",
    "    cnt = 0\n",
    "    \n",
    "    if gender == 1: #남학생\n",
    "        for i in range(index, s+1, index):\n",
    "            change(i)\n",
    "                \n",
    "                \n",
    "    elif gender == 2: #여학생\n",
    "        for i in range(1, min(index-1, s-index)+1):\n",
    "            if switch[index-i] != switch[index+i]:\n",
    "                break\n",
    "            else:    \n",
    "                cnt += 1\n",
    "                \n",
    "        for i in range(index-cnt, index+cnt+1):\n",
    "            change(i)\n",
    "                \n",
    "\n",
    "                    \n",
    "switch.pop(0)\n",
    "\n",
    "# print(switch)\n",
    "if len(switch) < 21:\n",
    "    print(*switch)\n",
    "else:\n",
    "    print('\\n'.join(' '.join(map(str, switch[i:i+20])) for i in range(0, len(switch), 20)))\n",
    "        "
   ]
  },
  {
   "cell_type": "code",
   "execution_count": 120,
   "id": "6d814510",
   "metadata": {},
   "outputs": [
    {
     "name": "stdout",
     "output_type": "stream",
     "text": [
      "2 0\n"
     ]
    }
   ],
   "source": [
    "import sys\n",
    "\n",
    "n, m, b = map(int, input().split())\n",
    "graph = [list(map(int, input().split())) for _ in range(n)]\n",
    "# n, m, b = 3, 4, 99\n",
    "# graph = [[0, 0, 0, 0], [0, 0, 0, 0], [0, 0, 0, 1]]\n",
    "\n",
    "answer = sys.maxsize\n",
    "idx = 0\n",
    "\n",
    "for target in range(257):\n",
    "    max_target, min_target = 0, 0\n",
    "    \n",
    "    for i in range(n):\n",
    "        for j in range(m):\n",
    "            \n",
    "            if graph[i][j] >= target:\n",
    "                max_target += graph[i][j] - target\n",
    "                \n",
    "            else:\n",
    "                min_target += target - graph[i][j]\n",
    "                \n",
    "                \n",
    "        \n",
    "    if max_target + b >= min_target:\n",
    "        if min_target + (max_target * 2) <= answer:\n",
    "            answer = min_target + (max_target * 2)\n",
    "            idx = target\n",
    "            \n",
    "print(answer, idx)\n",
    "\n",
    "\n",
    "\n"
   ]
  },
  {
   "cell_type": "code",
   "execution_count": 137,
   "id": "5256545e",
   "metadata": {},
   "outputs": [
    {
     "name": "stdout",
     "output_type": "stream",
     "text": [
      "15\n",
      "21\n"
     ]
    }
   ],
   "source": [
    "n = input()\n",
    "ans = 0\n",
    "\n",
    "for i in range(1, len(n)):\n",
    "    ans += 9 * 10**(i-1) * i\n",
    "#     print(ans)\n",
    "    \n",
    "ans += (int(n) - 10**(len(n)-1) + 1) * len(n)\n",
    "    \n",
    "\n",
    "print(ans)"
   ]
  },
  {
   "cell_type": "code",
   "execution_count": 149,
   "id": "509c0693",
   "metadata": {},
   "outputs": [
    {
     "name": "stdout",
     "output_type": "stream",
     "text": [
      "1 3 5 7 4 2 6\n"
     ]
    }
   ],
   "source": [
    "from collections import deque\n",
    "\n",
    "n = int(input())\n",
    "# n = 7\n",
    "cards = deque([i for i in range(1, n+1)])\n",
    "out = []\n",
    "\n",
    "# print(cards)\n",
    "\n",
    "while cards:\n",
    "    out.append(cards.popleft())\n",
    "    if len(cards) != 0:\n",
    "        cards.append(cards.popleft())\n",
    "    \n",
    "print(*out)"
   ]
  },
  {
   "cell_type": "code",
   "execution_count": 2,
   "id": "1b34c377",
   "metadata": {},
   "outputs": [
    {
     "name": "stdout",
     "output_type": "stream",
     "text": [
      "ABCD\n",
      "I'm Sorry Hansoo\n"
     ]
    }
   ],
   "source": [
    "import collections \n",
    "\n",
    "items = list(input())\n",
    "# items = ['A', 'A', 'B', 'B']\n",
    "dic = collections.Counter(items)\n",
    "\n",
    "cnt = 0\n",
    "mid = ''\n",
    "ans = ''\n",
    "\n",
    "\n",
    "for i, j in list(dic.items()):\n",
    "    if j % 2 == 1: #홀수\n",
    "        cnt += 1\n",
    "        mid = i\n",
    "        \n",
    "        if cnt >= 2:\n",
    "            break\n",
    "\n",
    "\n",
    "\n",
    "if cnt < 2:\n",
    "    for i, j in sorted(dic.items()):\n",
    "        ans += i * (j//2)\n",
    "    print(ans + mid + ans[::-1])\n",
    "\n",
    "else:\n",
    "    print(\"I'm Sorry Hansoo\")"
   ]
  },
  {
   "cell_type": "code",
   "execution_count": 6,
   "id": "7ffc1824",
   "metadata": {},
   "outputs": [
    {
     "name": "stdout",
     "output_type": "stream",
     "text": [
      "9\n"
     ]
    }
   ],
   "source": [
    "n, m = map(int, input().split())\n",
    "square = [list(map(int, input())) for _ in range(n)]\n",
    "# n, m = 3, 5\n",
    "# square = [[4, 2, 1, 0, 1], [2, 2, 1, 0, 0], [2, 2, 1, 0, 1]]\n",
    "\n",
    "size = min(n, m)\n",
    "\n",
    "def find_square(s):\n",
    "    for i in range(n-s+1):\n",
    "        for j in range(m-s+1):\n",
    "            if square[i][j] == square[i][j+s-1] == square[i+s-1][j] == square[i+s-1][j+s-1]:\n",
    "                return True\n",
    "            \n",
    "    return False\n",
    "    \n",
    "\n",
    "for k in range(size, 0, -1):\n",
    "    if find_square(k):\n",
    "        print(k ** 2)\n",
    "        break"
   ]
  },
  {
   "cell_type": "code",
   "execution_count": 16,
   "id": "ec17cf09",
   "metadata": {},
   "outputs": [
    {
     "name": "stdout",
     "output_type": "stream",
     "text": [
      "1 2 4 4\n",
      "2 3 5 7\n",
      "3 1 6 5\n",
      "7 3 8 6\n",
      "26\n"
     ]
    }
   ],
   "source": [
    "# square = [list(map(int, input().split())) for _ in range(4)]\n",
    "# square = [[1, 2, 4, 4], [2, 3, 5, 7], [3, 1, 6, 5], [7, 3, 8, 6]]\n",
    "index = [[0]*101 for _ in range(101)]\n",
    "\n",
    "for _ in range(4):\n",
    "    w, x, y, z = map(int, input().split())\n",
    "    \n",
    "    for i in range(x, z):\n",
    "        for j in range(w, y):\n",
    "            if index[i][j] == 0:\n",
    "                index[i][j] = 1\n",
    "            \n",
    "            \n",
    "ans = 0\n",
    "\n",
    "for i in range(101):\n",
    "    ans += index[i].count(1)\n",
    "    \n",
    "print(ans)"
   ]
  },
  {
   "cell_type": "code",
   "execution_count": 36,
   "id": "be932029",
   "metadata": {},
   "outputs": [
    {
     "name": "stdout",
     "output_type": "stream",
     "text": [
      "2\n"
     ]
    }
   ],
   "source": [
    "n, target = map(int, input().split())\n",
    "country = [list(map(int, input().split())) for _ in range(n)]\n",
    "\n",
    "\n",
    "# n, target = 4, 3\n",
    "# country = [[2, 0, 1, 0], [1, 1, 2, 0], [3, 0, 1, 0], [4, 0, 0, 1]]\n",
    "\n",
    "\n",
    "country.sort(key=lambda x: (x[1], x[2], x[3]), reverse=True)\n",
    "\n",
    "idx = [country[i][0] for i in range(n)].index(target)\n",
    "\n",
    "for i in range(n):\n",
    "    if country[idx][1:] == country[i][1:]:\n",
    "        print(i+1)\n",
    "        break"
   ]
  },
  {
   "cell_type": "code",
   "execution_count": 40,
   "id": "721d7ff4",
   "metadata": {},
   "outputs": [
    {
     "name": "stdout",
     "output_type": "stream",
     "text": [
      "123 1 1\n",
      "356 1 0\n",
      "327 2 0\n",
      "489 0 1\n",
      "2\n"
     ]
    }
   ],
   "source": [
    "from itertools import permutations\n",
    "num = list(permutations((1, 2, 3, 4, 5, 6, 7, 8, 9), 3))\n",
    "# print(num)\n",
    "\n",
    "n = int(input())\n",
    "# n = 4\n",
    "\n",
    "for _ in range(n):\n",
    "    guess, s, b = map(int, input().split())\n",
    "    guess = list(str(guess))\n",
    "    removed = 0\n",
    "    \n",
    "    for i in range(len(num)):\n",
    "        strike, ball = 0, 0\n",
    "        \n",
    "        i -= removed\n",
    "        for j in range(3):\n",
    "            guess[j] = int(guess[j])\n",
    "            if guess[j] in num[i]:\n",
    "                if j == num[i].index(guess[j]):\n",
    "                    strike += 1\n",
    "                else:\n",
    "                    ball += 1\n",
    "        \n",
    "        if strike != s or ball != b:\n",
    "            num.remove(num[i])\n",
    "            removed += 1\n",
    "            \n",
    "print(len(num))"
   ]
  },
  {
   "cell_type": "code",
   "execution_count": 15,
   "id": "b126864c",
   "metadata": {},
   "outputs": [
    {
     "name": "stdout",
     "output_type": "stream",
     "text": [
      "15\n"
     ]
    }
   ],
   "source": [
    "bingo = [list(map(int, input().split())) for _ in range(5)]\n",
    "num = []\n",
    "for _ in range(5):\n",
    "    num += list(map(int, input().split()))\n",
    "\n",
    "# bingo = [[11, 12, 2, 24, 10], [16, 1, 13, 3, 25], [6, 20, 5, 21, 17], [19, 4, 8, 14, 9], [22, 15, 7, 23, 18]]\n",
    "# num = [5, 10, 7, 16, 2, 4, 22, 8, 17, 13, 3, 18, 1, 6, 25, 12, 19, 23, 14, 21, 11, 24, 9, 20, 15]\n",
    "\n",
    "                \n",
    "            \n",
    "def check():\n",
    "    bingo_count = 0\n",
    "    \n",
    "    for i in bingo:\n",
    "        if i.count(0) == 5:\n",
    "            bingo_count += 1\n",
    "\n",
    "            \n",
    "    for i in range(5):\n",
    "        tmp = 0\n",
    "        for j in range(5):\n",
    "            if bingo[j][i] == 0:\n",
    "                tmp += 1\n",
    "        if tmp == 5:\n",
    "            bingo_count += 1\n",
    "\n",
    "    \n",
    "    d1 = 0        \n",
    "    for i in range(5):\n",
    "        if bingo[i][i] == 0:\n",
    "            d1 += 1\n",
    "    if d1 == 5:\n",
    "        bingo_count += 1\n",
    "\n",
    "    d2 = 0     \n",
    "    for i in range(5):\n",
    "        if bingo[i][4-i] == 0:\n",
    "            d2 += 1\n",
    "    if d2 == 5:\n",
    "        bingo_count += 1\n",
    "\n",
    "                \n",
    "    return bingo_count\n",
    "            \n",
    "    \n",
    "    \n",
    "cnt = 0\n",
    "for i in range(25):\n",
    "    for x in range(5):\n",
    "        for y in range(5):\n",
    "            if num[i] == bingo[x][y]:\n",
    "                bingo[x][y] = 0\n",
    "                cnt += 1\n",
    "                \n",
    "            \n",
    "    if cnt >= 12:\n",
    "        result = check()\n",
    "        \n",
    "        if result >= 3:\n",
    "            print(i+1)\n",
    "            break\n",
    "            \n",
    "\n",
    "        \n",
    "\n",
    "        "
   ]
  },
  {
   "cell_type": "code",
   "execution_count": 41,
   "id": "5fc51903",
   "metadata": {},
   "outputs": [
    {
     "name": "stdout",
     "output_type": "stream",
     "text": [
      "5\n",
      "5 4 3 2 1\n",
      "5 4 3 1 2\n",
      "5 4 2 3 1\n",
      "5 1 4 3 2\n",
      "2 5 4 3 1\n",
      "-1\n"
     ]
    }
   ],
   "source": [
    "n = int(input())\n",
    "a = list(map(int, input().split()))\n",
    "\n",
    "for i in range(n-1, 0, -1):\n",
    "    if a[i] < a[i-1]:\n",
    "        x, y = i-1, i\n",
    "        \n",
    "        for j in range(n-1, 0, -1):\n",
    "            if a[j] < a[x]:\n",
    "                a[j], a[x] = a[x], a[j]\n",
    "                a = a[:i] + sorted(a[i:], reverse=True)\n",
    "                print(*a)\n",
    "                exit(0)\n",
    "                \n",
    "print(-1)"
   ]
  },
  {
   "cell_type": "code",
   "execution_count": 12,
   "id": "42be8437",
   "metadata": {},
   "outputs": [
    {
     "name": "stdout",
     "output_type": "stream",
     "text": [
      "XX.XXXXXXXXXX..XXXXXXXX...XXXXXX\n",
      "BB.AAAAAAAABB..AAAAAAAA...AAAABB\n"
     ]
    }
   ],
   "source": [
    "board = list(input())\n",
    "# board = ['X', 'X', 'X', 'X', 'X', 'X', '.', 'X', 'X']\n",
    "\n",
    "xcnt = 0\n",
    "ans = ''\n",
    "for i in board:\n",
    "    if i == 'X':\n",
    "        xcnt += 1\n",
    "    if i == '.':\n",
    "        if xcnt%2 == 1:\n",
    "            print(-1)\n",
    "            exit(0)\n",
    "        else:\n",
    "            ans += 'AAAA'*(xcnt//4) \n",
    "            ans += 'BB'*(xcnt%4//2) \n",
    "            xcnt = 0\n",
    "\n",
    "        ans += '.'\n",
    "        \n",
    "        \n",
    "\n",
    "if xcnt%2 == 1:\n",
    "    print(-1)\n",
    "    exit(0)\n",
    "else:\n",
    "    ans += 'AAAA'*(xcnt//4) \n",
    "    ans += 'BB'*(xcnt%4//2) \n",
    "    print(ans)\n",
    "            "
   ]
  },
  {
   "cell_type": "code",
   "execution_count": 35,
   "id": "cbc7598f",
   "metadata": {},
   "outputs": [
    {
     "name": "stdout",
     "output_type": "stream",
     "text": [
      "5\n"
     ]
    },
    {
     "ename": "KeyboardInterrupt",
     "evalue": "Interrupted by user",
     "output_type": "error",
     "traceback": [
      "\u001b[0;31m---------------------------------------------------------------------------\u001b[0m",
      "\u001b[0;31mKeyboardInterrupt\u001b[0m                         Traceback (most recent call last)",
      "Input \u001b[0;32mIn [35]\u001b[0m, in \u001b[0;36m<cell line: 3>\u001b[0;34m()\u001b[0m\n\u001b[1;32m      2\u001b[0m student \u001b[38;5;241m=\u001b[39m []\n\u001b[1;32m      3\u001b[0m \u001b[38;5;28;01mfor\u001b[39;00m _ \u001b[38;5;129;01min\u001b[39;00m \u001b[38;5;28mrange\u001b[39m(n):\n\u001b[0;32m----> 4\u001b[0m     n, d, m, y \u001b[38;5;241m=\u001b[39m \u001b[38;5;28;43minput\u001b[39;49m\u001b[43m(\u001b[49m\u001b[43m)\u001b[49m\u001b[38;5;241m.\u001b[39msplit()\n\u001b[1;32m      5\u001b[0m     student\u001b[38;5;241m.\u001b[39mappend([n, \u001b[38;5;28mint\u001b[39m(d), \u001b[38;5;28mint\u001b[39m(m), \u001b[38;5;28mint\u001b[39m(y)])\n\u001b[1;32m      8\u001b[0m student\u001b[38;5;241m.\u001b[39msort(key\u001b[38;5;241m=\u001b[39m\u001b[38;5;28;01mlambda\u001b[39;00m x: (x[\u001b[38;5;241m3\u001b[39m], x[\u001b[38;5;241m2\u001b[39m], x[\u001b[38;5;241m1\u001b[39m], x[\u001b[38;5;241m0\u001b[39m]))\n",
      "File \u001b[0;32m~/anaconda3/lib/python3.9/site-packages/ipykernel/kernelbase.py:1177\u001b[0m, in \u001b[0;36mKernel.raw_input\u001b[0;34m(self, prompt)\u001b[0m\n\u001b[1;32m   1173\u001b[0m \u001b[38;5;28;01mif\u001b[39;00m \u001b[38;5;129;01mnot\u001b[39;00m \u001b[38;5;28mself\u001b[39m\u001b[38;5;241m.\u001b[39m_allow_stdin:\n\u001b[1;32m   1174\u001b[0m     \u001b[38;5;28;01mraise\u001b[39;00m StdinNotImplementedError(\n\u001b[1;32m   1175\u001b[0m         \u001b[38;5;124m\"\u001b[39m\u001b[38;5;124mraw_input was called, but this frontend does not support input requests.\u001b[39m\u001b[38;5;124m\"\u001b[39m\n\u001b[1;32m   1176\u001b[0m     )\n\u001b[0;32m-> 1177\u001b[0m \u001b[38;5;28;01mreturn\u001b[39;00m \u001b[38;5;28;43mself\u001b[39;49m\u001b[38;5;241;43m.\u001b[39;49m\u001b[43m_input_request\u001b[49m\u001b[43m(\u001b[49m\n\u001b[1;32m   1178\u001b[0m \u001b[43m    \u001b[49m\u001b[38;5;28;43mstr\u001b[39;49m\u001b[43m(\u001b[49m\u001b[43mprompt\u001b[49m\u001b[43m)\u001b[49m\u001b[43m,\u001b[49m\n\u001b[1;32m   1179\u001b[0m \u001b[43m    \u001b[49m\u001b[38;5;28;43mself\u001b[39;49m\u001b[38;5;241;43m.\u001b[39;49m\u001b[43m_parent_ident\u001b[49m\u001b[43m[\u001b[49m\u001b[38;5;124;43m\"\u001b[39;49m\u001b[38;5;124;43mshell\u001b[39;49m\u001b[38;5;124;43m\"\u001b[39;49m\u001b[43m]\u001b[49m\u001b[43m,\u001b[49m\n\u001b[1;32m   1180\u001b[0m \u001b[43m    \u001b[49m\u001b[38;5;28;43mself\u001b[39;49m\u001b[38;5;241;43m.\u001b[39;49m\u001b[43mget_parent\u001b[49m\u001b[43m(\u001b[49m\u001b[38;5;124;43m\"\u001b[39;49m\u001b[38;5;124;43mshell\u001b[39;49m\u001b[38;5;124;43m\"\u001b[39;49m\u001b[43m)\u001b[49m\u001b[43m,\u001b[49m\n\u001b[1;32m   1181\u001b[0m \u001b[43m    \u001b[49m\u001b[43mpassword\u001b[49m\u001b[38;5;241;43m=\u001b[39;49m\u001b[38;5;28;43;01mFalse\u001b[39;49;00m\u001b[43m,\u001b[49m\n\u001b[1;32m   1182\u001b[0m \u001b[43m\u001b[49m\u001b[43m)\u001b[49m\n",
      "File \u001b[0;32m~/anaconda3/lib/python3.9/site-packages/ipykernel/kernelbase.py:1219\u001b[0m, in \u001b[0;36mKernel._input_request\u001b[0;34m(self, prompt, ident, parent, password)\u001b[0m\n\u001b[1;32m   1216\u001b[0m             \u001b[38;5;28;01mbreak\u001b[39;00m\n\u001b[1;32m   1217\u001b[0m \u001b[38;5;28;01mexcept\u001b[39;00m \u001b[38;5;167;01mKeyboardInterrupt\u001b[39;00m:\n\u001b[1;32m   1218\u001b[0m     \u001b[38;5;66;03m# re-raise KeyboardInterrupt, to truncate traceback\u001b[39;00m\n\u001b[0;32m-> 1219\u001b[0m     \u001b[38;5;28;01mraise\u001b[39;00m \u001b[38;5;167;01mKeyboardInterrupt\u001b[39;00m(\u001b[38;5;124m\"\u001b[39m\u001b[38;5;124mInterrupted by user\u001b[39m\u001b[38;5;124m\"\u001b[39m) \u001b[38;5;28;01mfrom\u001b[39;00m \u001b[38;5;28mNone\u001b[39m\n\u001b[1;32m   1220\u001b[0m \u001b[38;5;28;01mexcept\u001b[39;00m \u001b[38;5;167;01mException\u001b[39;00m:\n\u001b[1;32m   1221\u001b[0m     \u001b[38;5;28mself\u001b[39m\u001b[38;5;241m.\u001b[39mlog\u001b[38;5;241m.\u001b[39mwarning(\u001b[38;5;124m\"\u001b[39m\u001b[38;5;124mInvalid Message:\u001b[39m\u001b[38;5;124m\"\u001b[39m, exc_info\u001b[38;5;241m=\u001b[39m\u001b[38;5;28;01mTrue\u001b[39;00m)\n",
      "\u001b[0;31mKeyboardInterrupt\u001b[0m: Interrupted by user"
     ]
    }
   ],
   "source": [
    "n = int(input())\n",
    "student = []\n",
    "for _ in range(n):\n",
    "    n, d, m, y = input().split()\n",
    "    student.append([n, int(d), int(m), int(y)])\n",
    "    \n",
    "\n",
    "student.sort(key=lambda x: (x[3], x[2], x[1], x[0]))\n",
    "print(student[-1][0])\n",
    "print(student[0][0])\n",
    "\n",
    "\n",
    "    "
   ]
  },
  {
   "cell_type": "code",
   "execution_count": 52,
   "id": "e126fe97",
   "metadata": {},
   "outputs": [
    {
     "name": "stdout",
     "output_type": "stream",
     "text": [
      "5 4\n"
     ]
    }
   ],
   "source": [
    "n = int(input())\n",
    "room = [list(input()) for _ in range(n)]\n",
    "\n",
    "# n = 5\n",
    "# room = [['.', '.', '.', '.', 'X'], ['.', '.', 'X', 'X', '.'], ['.', '.', '.', '.', '.'], ['.', 'X', 'X', '.', '.'], ['X', '.', '.', '.', '.']]\n",
    "\n",
    "def row(room):\n",
    "    row_cnt = 0\n",
    "    for i in range(n):\n",
    "        tmp = 0\n",
    "        for j in range(n):\n",
    "            if room[i][j] == '.':\n",
    "                tmp += 1\n",
    "            elif room[i][j] == 'X':\n",
    "                tmp = 0\n",
    "            if tmp == 2:\n",
    "                row_cnt += 1\n",
    "                \n",
    "                \n",
    "    return row_cnt\n",
    "    \n",
    "\n",
    "def col(room):\n",
    "    col_cnt = 0\n",
    "    for i in range(n):\n",
    "        tmp = 0\n",
    "        for j in range(n):\n",
    "            if room[j][i] == '.':\n",
    "                tmp += 1\n",
    "            elif room[j][i] == 'X':\n",
    "                tmp = 0\n",
    "            if tmp == 2:\n",
    "                col_cnt += 1\n",
    "                \n",
    "                \n",
    "    return col_cnt\n",
    "                \n",
    "\n",
    "r = row(room)\n",
    "c = col(room)\n",
    "print(r, c)"
   ]
  },
  {
   "cell_type": "code",
   "execution_count": 78,
   "id": "403c1f67",
   "metadata": {},
   "outputs": [
    {
     "name": "stdout",
     "output_type": "stream",
     "text": [
      "4\n",
      "[57, 74, 65, 61, 37, 58, 89, 145, 42, 20, 4, 16]\n"
     ]
    }
   ],
   "source": [
    "# a, p = map(int, input().split())\n",
    "a = 57; p = 2\n",
    "\n",
    "arr = [a]\n",
    "\n",
    "tmp = 0\n",
    "for i in arr:\n",
    "    tmp = 0\n",
    "    for j in str(arr[-1]):\n",
    "        tmp += (int(j) ** p)\n",
    "    \n",
    "    if tmp in arr:\n",
    "        break\n",
    "    \n",
    "    arr.append(tmp)\n",
    "        \n",
    "        \n",
    "print(arr.index(tmp))\n",
    "print(arr)\n",
    "        "
   ]
  },
  {
   "cell_type": "code",
   "execution_count": 96,
   "id": "79705966",
   "metadata": {},
   "outputs": [
    {
     "name": "stdout",
     "output_type": "stream",
     "text": [
      "20 4\n",
      "4\n"
     ]
    }
   ],
   "source": [
    "n, m = map(int, input().split())\n",
    "\n",
    "if n == 1:\n",
    "    print(1)\n",
    "elif n == 2:\n",
    "    print(min(4, (m+1)//2))\n",
    "elif m <= 6:\n",
    "    print(min(4, m))\n",
    "else:\n",
    "    print(m-2)\n",
    "\n"
   ]
  },
  {
   "cell_type": "code",
   "execution_count": 118,
   "id": "d999a5ab",
   "metadata": {},
   "outputs": [
    {
     "name": "stdout",
     "output_type": "stream",
     "text": [
      "5\n",
      "10\n",
      "25 10 11 12 13\n",
      "24 9 2 3 14\n",
      "23 8 1 4 15\n",
      "22 7 6 5 16\n",
      "21 20 19 18 17\n",
      "1 2\n"
     ]
    }
   ],
   "source": [
    "n = int(input())\n",
    "num = int(input())\n",
    "arr = [[0]*n for _ in range(n)]\n",
    "\n",
    "dx = [-1, 0, 1, 0]\n",
    "dy = [0, 1, 0, -1]\n",
    "\n",
    "x = n//2\n",
    "y = n//2\n",
    "\n",
    "arr[x][y] = 1\n",
    "repeat = 1\n",
    "\n",
    "i = 0\n",
    "number = 2\n",
    "answer = [x+1, y+1]\n",
    "\n",
    "while x!=0 or y!=0:\n",
    "    flag = 0\n",
    "    \n",
    "    for _ in range(2):\n",
    "        for _ in range(repeat):\n",
    "            \n",
    "            x += dx[i]\n",
    "            y += dy[i]\n",
    "            arr[x][y] = number\n",
    "            \n",
    "            if num == number: #찾으려고 하는 수이면\n",
    "                answer = [x+1, y+1]\n",
    "                \n",
    "            if x == 0 and y == 0:\n",
    "                flag = 1\n",
    "                break\n",
    "                \n",
    "            number += 1\n",
    "            \n",
    "        if flag == 1:\n",
    "            break\n",
    "        i = (i+1)%4\n",
    "    repeat += 1\n",
    "    \n",
    "    \n",
    "for i in arr:\n",
    "    print(*i)\n",
    "    \n",
    "print(*answer)"
   ]
  },
  {
   "cell_type": "code",
   "execution_count": 42,
   "id": "774ac101",
   "metadata": {},
   "outputs": [
    {
     "name": "stdout",
     "output_type": "stream",
     "text": [
      "10\n",
      "1\n",
      "3\n",
      "12\n",
      "12\n",
      "13\n",
      "13\n",
      "14\n",
      "15\n",
      "15\n",
      "16\n",
      "13\n"
     ]
    }
   ],
   "source": [
    "import sys\n",
    "\n",
    "\n",
    "# n = 10\n",
    "# rate = [1, 3, 12, 12, 13, 13, 14, 15, 15, 16]\n",
    "input = sys.stdin.readline\n",
    "\n",
    "def newRound(val):\n",
    "    if val - int(val) >= 0.5:\n",
    "        return int(val) + 1\n",
    "    else:\n",
    "        return int(val)\n",
    "\n",
    "n = int(input())\n",
    "\n",
    "\n",
    "if n:\n",
    "    rate = [int(input()) for _ in range(n)]\n",
    "    rate.sort()\n",
    "    x = newRound(n * 0.15)\n",
    "    print(newRound(sum(rate[x:-x] if x else rate) / (n - 2*x)))\n",
    "    \n",
    "else:\n",
    "    print(0)"
   ]
  },
  {
   "cell_type": "code",
   "execution_count": null,
   "id": "c34b00ec",
   "metadata": {},
   "outputs": [],
   "source": [
    "def roundTraditional(val, digits):\n",
    "    return int(round(val+10**(-len(str(val))-1), digits))"
   ]
  },
  {
   "cell_type": "code",
   "execution_count": 65,
   "id": "adfd97d7",
   "metadata": {},
   "outputs": [
    {
     "name": "stdout",
     "output_type": "stream",
     "text": [
      "5\n",
      "1 1 1 1 1\n",
      "i 1\n",
      "i 2\n",
      "i 3\n",
      "i 4\n",
      "5\n"
     ]
    }
   ],
   "source": [
    "n = int(input())\n",
    "arr = list(map(int, input().split()))\n",
    "\n",
    "# n = 9\n",
    "# arr = [1, 2, 2, 4, 4, 5, 7, 7, 2]\n",
    "mincnt = 0\n",
    "maxcnt = 0\n",
    "\n",
    "mintmp = 0\n",
    "maxtmp = 0\n",
    "\n",
    "\n",
    "for i in range(1, n):\n",
    "    if arr[i] >= arr[i-1]:\n",
    "        maxtmp += 1\n",
    "        maxcnt = max(maxcnt, maxtmp)\n",
    "    else:\n",
    "        maxcnt = max(maxcnt, maxtmp)\n",
    "        maxtmp = 0\n",
    "        \n",
    "    if arr[i] <= arr[i-1]:\n",
    "        mintmp += 1\n",
    "        mincnt = max(mincnt, mintmp)\n",
    "#         print(\"i\", i)\n",
    "    else:\n",
    "        mincnt = max(mincnt, mintmp)\n",
    "        mintmp = 0\n",
    "        \n",
    "        \n",
    "# print(maxcnt+1, mincnt+1)\n",
    "print(max(maxcnt+1, mincnt+1))\n",
    "    \n",
    "    "
   ]
  },
  {
   "cell_type": "code",
   "execution_count": 92,
   "id": "bfd7e275",
   "metadata": {},
   "outputs": [
    {
     "name": "stdout",
     "output_type": "stream",
     "text": [
      "3\n"
     ]
    }
   ],
   "source": [
    "from collections import deque\n",
    "\n",
    "n, k = map(int, input().split())\n",
    "arr = [list(map(int, input().split())) for _ in range(n)]\n",
    "s, a, b = map(int, input().split())\n",
    "virus = []\n",
    "\n",
    "# n, k = 3, 3\n",
    "# arr = [[1, 0, 2], [0, 0, 0], [3, 0, 0]]\n",
    "# s, a, b = 2, 3, 2\n",
    "\n",
    "\n",
    "for i in range(n):\n",
    "    for j in range(n):\n",
    "        if arr[i][j] != 0:\n",
    "            virus.append((arr[i][j], i, j))\n",
    "            \n",
    "virus.sort(key = lambda x: x[0])\n",
    "\n",
    "queue = deque(virus)\n",
    "dx = [-1, 1, 0, 0]\n",
    "dy = [0, 0, -1, 1]\n",
    "count = 0\n",
    "\n",
    "while queue:\n",
    "    if count == s:\n",
    "        break\n",
    "    for _ in range(len(queue)):\n",
    "        state, x, y = queue.popleft()\n",
    "        for i in range(4):\n",
    "            nx = x + dx[i]\n",
    "            ny = y + dy[i]\n",
    "\n",
    "            if 0 <= nx < n and 0 <= ny < n and arr[nx][ny] == 0:\n",
    "                arr[nx][ny] = state\n",
    "                queue.append((arr[nx][ny], nx, ny))\n",
    "            \n",
    "    count += 1\n",
    "    \n",
    "print(arr[a-1][b-1])\n",
    "    \n",
    "    \n",
    "    \n",
    "    \n",
    "    \n",
    "    \n",
    "    \n",
    "    \n",
    "    \n",
    "    "
   ]
  },
  {
   "cell_type": "code",
   "execution_count": 129,
   "id": "878fb784",
   "metadata": {},
   "outputs": [
    {
     "name": "stdout",
     "output_type": "stream",
     "text": [
      "TAAGATAC\n",
      "7\n"
     ]
    }
   ],
   "source": [
    "n, m = map(int, input().split())\n",
    "dna = [list(input()) for _ in range(n)]\n",
    "\n",
    "# n, m = 5, 8\n",
    "# dna = [['T', 'A', 'T', 'G', 'A', 'T', 'A', 'C'], ['T', 'A', 'A', 'G', 'C', 'T', 'A', 'C'], ['A', 'A', 'A', 'G', 'A', 'T', 'C', 'C'], ['T', 'G', 'A', 'G', 'A', 'T', 'A', 'C'], ['T', 'A', 'A', 'G', 'A', 'T', 'G', 'T']]\n",
    "\n",
    "example = ['A', 'C', 'G', 'T']\n",
    "sample = ''\n",
    "ans = 0\n",
    "\n",
    "for i in range(m):\n",
    "    a_cnt = 0\n",
    "    c_cnt = 0\n",
    "    g_cnt = 0\n",
    "    t_cnt = 0\n",
    "    \n",
    "    for j in range(n):\n",
    "        if dna[j][i] == example[0]:\n",
    "            a_cnt += 1\n",
    "        elif dna[j][i] == example[1]:\n",
    "            c_cnt += 1\n",
    "        elif dna[j][i] == example[2]:\n",
    "            g_cnt += 1\n",
    "        elif dna[j][i] == example[3]:\n",
    "            t_cnt += 1\n",
    "            \n",
    "    cnt_list = [a_cnt, c_cnt, g_cnt, t_cnt]\n",
    "    idx = cnt_list.index(max(cnt_list))\n",
    "    sample += example[idx]\n",
    "\n",
    "\n",
    "    for k in range(n):\n",
    "        if dna[k][i] != example[idx]:\n",
    "            ans += 1\n",
    "            \n",
    "            \n",
    "print(sample)\n",
    "print(ans)\n",
    "    \n",
    "        \n"
   ]
  },
  {
   "cell_type": "code",
   "execution_count": 148,
   "id": "f39639e5",
   "metadata": {
    "scrolled": true
   },
   "outputs": [
    {
     "name": "stdout",
     "output_type": "stream",
     "text": [
      "3\n",
      "5\n",
      "7\n",
      "7\n",
      "2\n"
     ]
    }
   ],
   "source": [
    "n = int(input())\n",
    "dasom = int(input())\n",
    "candidate = [int(input()) for i in range(n-1)]\n",
    "\n",
    "# n = 5\n",
    "# dasom = 5\n",
    "# candidate = [10, 7, 3, 8]\n",
    "candidate.sort(reverse=True)\n",
    "cnt = 0\n",
    "\n",
    "if n == 1:\n",
    "    print(0)\n",
    "else:\n",
    "    while candidate[0] >= dasom:\n",
    "        candidate[0] -= 1\n",
    "        dasom += 1\n",
    "        candidate.sort(reverse=True)\n",
    "        cnt += 1\n",
    "        \n",
    "    print(cnt)\n",
    "        \n"
   ]
  },
  {
   "cell_type": "code",
   "execution_count": 159,
   "id": "013aeed7",
   "metadata": {},
   "outputs": [
    {
     "name": "stdout",
     "output_type": "stream",
     "text": [
      "5 30 25 76 23 78\n",
      "Class 1\n",
      "Max 78, Min 23, Largest gap 46\n",
      "6 25 50 70 99 70 90\n",
      "Class 2\n",
      "Max 99, Min 25, Largest gap 25\n"
     ]
    }
   ],
   "source": [
    "n = int(input())\n",
    "# n = 2\n",
    "\n",
    "for i in range(n):\n",
    "    student = list(map(int, input().split()))\n",
    "    cnt = student[0]\n",
    "    student = student[1:]\n",
    "    student.sort(reverse=True)\n",
    "    \n",
    "    gap = 0\n",
    "    for j in range(cnt-1):\n",
    "        tmp = student[j] - student[j+1]\n",
    "        if tmp > gap:\n",
    "            gap = tmp\n",
    "    \n",
    "    print('Class', i+1)\n",
    "#     print(student)\n",
    "    print('Max ' + str(student[0]) + ', Min ' + str(student[-1]) + ', Largest gap ' + str(gap))"
   ]
  },
  {
   "cell_type": "code",
   "execution_count": 169,
   "id": "bd16f690",
   "metadata": {
    "scrolled": true
   },
   "outputs": [
    {
     "name": "stdout",
     "output_type": "stream",
     "text": [
      "0 3\n",
      "1 4\n",
      "0 2\n",
      "30\n"
     ]
    }
   ],
   "source": [
    "w, h = map(int, input().split())\n",
    "t = int(input())\n",
    "# w, h = 10, 8\n",
    "# t = 3\n",
    "\n",
    "paper = [[0]*h for _ in range(w)]\n",
    "width = [0, w]\n",
    "height = [0, h]\n",
    "\n",
    "for _ in range(t):\n",
    "    a, b = map(int, input().split())\n",
    "    if a == 0:\n",
    "        height.append(b)\n",
    "    elif a == 1:\n",
    "        width.append(b)\n",
    "        \n",
    "        \n",
    "width.sort(reverse=True)\n",
    "height.sort(reverse=True)\n",
    "ans = 0\n",
    "\n",
    "for i in range(len(width)-1):\n",
    "    for j in range(len(height)-1):\n",
    "        x = width[i] - width[i+1]\n",
    "        y = height[j] - height[j+1]\n",
    "        \n",
    "        ans = max(ans, x*y)\n",
    "        \n",
    "print(ans)\n",
    "    \n"
   ]
  },
  {
   "cell_type": "code",
   "execution_count": 4,
   "id": "4d275184",
   "metadata": {},
   "outputs": [
    {
     "name": "stdout",
     "output_type": "stream",
     "text": [
      "1234567\n",
      "1\n",
      "3\n",
      "NO\n"
     ]
    }
   ],
   "source": [
    "n = input()\n",
    "cnt = 0\n",
    "\n",
    "while len(n) >= 2:\n",
    "    tmp = 0\n",
    "    for i in range(len(n)):\n",
    "        tmp += int(n[i])\n",
    "    n = str(tmp)\n",
    "    cnt += 1\n",
    "        \n",
    "\n",
    "print(cnt)\n",
    "\n",
    "if int(n) % 3 == 0:\n",
    "    print('YES')\n",
    "else:\n",
    "    print('NO')"
   ]
  },
  {
   "cell_type": "code",
   "execution_count": 22,
   "id": "31b9de31",
   "metadata": {},
   "outputs": [
    {
     "name": "stdout",
     "output_type": "stream",
     "text": [
      "qq\n",
      "<qq> is not acceptable.\n",
      "ee\n",
      "<ee> is acceptable.\n",
      "oo\n",
      "<oo> is acceptable.\n",
      "pp\n",
      "<pp> is not acceptable.\n",
      "p\n",
      "<p> is not acceptable.\n",
      "n\n",
      "<n> is not acceptable.\n",
      "m\n",
      "<m> is not acceptable.\n",
      "k\n",
      "<k> is not acceptable.\n",
      "eraa\n",
      "<eraa> is not acceptable.\n",
      "end\n"
     ]
    }
   ],
   "source": [
    "vowel = ['a', 'e', 'i', 'o', 'u']\n",
    "\n",
    "while True:\n",
    "    pw = input()\n",
    "    if pw == 'end':\n",
    "        break\n",
    "        \n",
    "    if len(pw) == 1 and pw in vowel:\n",
    "        print('<{}> is acceptable.'.format(pw))\n",
    "        continue\n",
    "\n",
    "        \n",
    "    v_cnt = 0\n",
    "    c_cnt = 0\n",
    "    tmp = 0\n",
    "    flag = True\n",
    "    \n",
    "    for i in range(len(pw)):\n",
    "        if pw[i] in vowel:\n",
    "            v_cnt += 1\n",
    "            tmp += 1\n",
    "            c_cnt = 0\n",
    "        else:\n",
    "            c_cnt += 1\n",
    "            v_cnt = 0\n",
    "            \n",
    "        if v_cnt == 3 or c_cnt == 3:\n",
    "            print('<{}> is not acceptable.'.format(pw))\n",
    "            flag = False\n",
    "            break\n",
    "            \n",
    "        if i > 0 and pw[i] == pw[i-1]:\n",
    "            if pw[i] == 'e' or pw[i] == 'o':\n",
    "                continue\n",
    "            else:\n",
    "                print('<{}> is not acceptable.'.format(pw))\n",
    "                flag = False\n",
    "                break\n",
    "            \n",
    "            \n",
    "    if flag:\n",
    "        if tmp == 0:\n",
    "            print('<{}> is not acceptable.'.format(pw))\n",
    "        else:\n",
    "            print('<{}> is acceptable.'.format(pw))\n",
    "        \n",
    "        "
   ]
  },
  {
   "cell_type": "code",
   "execution_count": 38,
   "id": "c9c8238f",
   "metadata": {},
   "outputs": [
    {
     "name": "stdout",
     "output_type": "stream",
     "text": [
      "6\n"
     ]
    }
   ],
   "source": [
    "# n, m = map(int, input().split())\n",
    "# j = int(input())\n",
    "# apple = [int(input()) for _ in range(j)]\n",
    "\n",
    "n, m = 5, 1\n",
    "j = 3\n",
    "apple = [1, 5, 3]\n",
    "\n",
    "now = 1\n",
    "ans = 0\n",
    "for i in range(j):\n",
    "    if apple[i] < now:\n",
    "        ans += now - apple[i]\n",
    "        now -= (now - apple[i])\n",
    "    elif apple[i] > now + m - 1:\n",
    "        ans += apple[i] - (now + m - 1)\n",
    "        now += (apple[i] - (now + m - 1))\n",
    "    else:\n",
    "        continue\n",
    "        \n",
    "print(ans)\n",
    "    "
   ]
  },
  {
   "cell_type": "code",
   "execution_count": null,
   "id": "f02bc4ba",
   "metadata": {},
   "outputs": [],
   "source": [
    "word = list(input())\n",
    "tmp = []\n",
    "ans = []\n",
    "\n",
    "for i in range(1, len(word)-1):\n",
    "    for j in range(i+1, len(word)):\n",
    "        a = word[:i]\n",
    "        b = word[i:j]\n",
    "        c = word[j:]\n",
    "        a.reverse()\n",
    "        b.reverse()\n",
    "        c.reverse()\n",
    "        tmp.append(a+b+c)\n",
    "#         print(tmp)\n",
    "\n",
    "for i in tmp:\n",
    "    ans.append(''.join(i))\n",
    "    \n",
    "print(sorted(ans)[0])"
   ]
  },
  {
   "cell_type": "code",
   "execution_count": 2,
   "id": "23204408",
   "metadata": {},
   "outputs": [
    {
     "name": "stdout",
     "output_type": "stream",
     "text": [
      "6 6\n"
     ]
    }
   ],
   "source": [
    "c, r = map(int, input().split())\n",
    "seat = int(input())\n",
    "\n",
    "# c, r = 7, 6\n",
    "# seat = 11\n",
    "\n",
    "if seat > c*r:\n",
    "    print(0)\n",
    "    exit()\n",
    "\n",
    "dx = [0, 1, 0, -1] \n",
    "dy = [-1, 0, 1, 0]\n",
    "\n",
    "grid = [[0]*c for _ in range(r)]\n",
    "direction = x = y = 0\n",
    "\n",
    "for i in range(1, c*r+1):\n",
    "    if i == seat:\n",
    "        print(y+1, x+1)\n",
    "        break\n",
    "        \n",
    "    else:\n",
    "        grid[x][y] = i\n",
    "        x += dx[direction]\n",
    "        y += dy[direction]\n",
    "        \n",
    "        if x < 0 or x >= r or y < 0 or y >= c or grid[x][y]:\n",
    "            x -= dx[direction]\n",
    "            y -= dy[direction]\n",
    "            \n",
    "            direction = (direction + 1)%4\n",
    "            \n",
    "            x += dx[direction]\n",
    "            y += dy[direction]\n",
    "        "
   ]
  },
  {
   "cell_type": "code",
   "execution_count": 21,
   "id": "3d5700d0",
   "metadata": {},
   "outputs": [
    {
     "name": "stdout",
     "output_type": "stream",
     "text": [
      "1 0 10\n",
      "1\n",
      "2\n"
     ]
    }
   ],
   "source": [
    "import sys\n",
    "input = sys.stdin.readline\n",
    "\n",
    "n, taesu, p = map(int, input().split())\n",
    "score = list(map(int, input().split()))\n",
    "\n",
    "# n, score, p = 3, 90, 10\n",
    "# rank = [100, 90, 80]\n",
    "\n",
    "if n == 0:\n",
    "    print(1)\n",
    "    exit()\n",
    "\n",
    "cnt = 0\n",
    "rank = 1\n",
    "\n",
    "for i in score:\n",
    "    if i > taesu:\n",
    "        cnt += 1\n",
    "        rank += 1\n",
    "    elif i == taesu:\n",
    "        cnt += 1\n",
    "    else:\n",
    "        break\n",
    "        \n",
    "# print(cnt, rank)\n",
    "        \n",
    "if cnt < p:\n",
    "    print(rank)\n",
    "else:\n",
    "    print(-1)"
   ]
  },
  {
   "cell_type": "code",
   "execution_count": 54,
   "id": "c85f6502",
   "metadata": {},
   "outputs": [
    {
     "name": "stdout",
     "output_type": "stream",
     "text": [
      "6 6\n",
      "-||--|\n",
      "||||||\n",
      "|||-|-\n",
      "-||||-\n",
      "||||-|\n",
      "||-||-\n",
      "19\n"
     ]
    }
   ],
   "source": [
    "n, m = map(int, input().split())\n",
    "floor = [list(input()) for _ in range(n)]\n",
    "# n, m = 6, 9\n",
    "# floor = [['-', '|', '|', '-', '-', '|', '|', '-', '-'], ['-', '-', '|', '|', '-', '-', '|', '|', '-'], ['|', '-', '-', '|', '|', '-', '-', '|', '|'], ['|', '|', '-', '-', '|', '|', '-', '-', '|'], ['-', '|', '|', '-', '-', '|', '|', '-', '-'], ['-', '-', '|', '|', '-', '-', '|', '|', '-']]\n",
    "\n",
    "\n",
    "row = 0\n",
    "col = 0\n",
    "for i in range(n):\n",
    "    cnt = 0\n",
    "    for j in range(m):\n",
    "        if floor[i][j] == '-':\n",
    "            if j == m-1:\n",
    "                row += 1\n",
    "            else:\n",
    "                cnt += 1\n",
    "        elif floor[i][j] != '-' and cnt > 0:\n",
    "            cnt = 0\n",
    "            row += 1\n",
    "        else:\n",
    "            continue\n",
    "            \n",
    "# print(row)\n",
    "    \n",
    "    \n",
    "for i in range(m):\n",
    "    cnt = 0\n",
    "    for j in range(n):\n",
    "        if floor[j][i] == '|':\n",
    "            if j == n-1:\n",
    "                col += 1\n",
    "#                 print('yes', i, j, col)\n",
    "            else:\n",
    "                cnt += 1\n",
    "        elif floor[j][i] != '|' and cnt > 0:\n",
    "            cnt = 0\n",
    "            col += 1\n",
    "#             print(i, j, col)\n",
    "        else:\n",
    "            continue\n",
    "            \n",
    "print(row + col)\n",
    "        \n",
    "            \n",
    "    \n"
   ]
  },
  {
   "cell_type": "code",
   "execution_count": 88,
   "id": "a0457fce",
   "metadata": {},
   "outputs": [
    {
     "name": "stdout",
     "output_type": "stream",
     "text": [
      "3000\n",
      "4\n"
     ]
    }
   ],
   "source": [
    "import sys\n",
    "sys.setrecursionlimit(10**6)\n",
    "\n",
    "n, m = map(int, input().split())\n",
    "graph = [list(map(int, input().split())) for _ in range(n)]\n",
    "\n",
    "# n, m = 8, 9\n",
    "# graph = [[0, 0, 0, 0, 0, 0, 0, 0, 0], [0, 0, 0, 1, 1, 0, 0, 0, 0], [0, 0, 0, 1, 1, 0, 1, 1, 0], [0, 0, 1, 1, 1, 1, 1, 1, 0], [0, 0, 1, 1, 1, 1, 1, 0, 0], [0, 0, 1, 1, 0, 1, 1, 0, 0], [0, 0, 0, 0, 0, 0, 0, 0, 0], [0, 0, 0, 0, 0, 0, 0, 0, 0]]\n",
    "time = 0\n",
    "\n",
    "#외부 공기를 2로 변환\n",
    "def background(a, b, visited):\n",
    "    dx = [-1, 1, 0, 0]\n",
    "    dy = [0, 0, -1, 1]\n",
    "    \n",
    "    graph[a][b] = 2\n",
    "    visited[a][b] = 1\n",
    "    \n",
    "    for i in range(4):\n",
    "        nx = a + dx[i]\n",
    "        ny = b + dy[i]\n",
    "        \n",
    "        if 0 <= nx < n and 0 <= ny < m:\n",
    "            if not visited[nx][ny] and (graph[nx][ny] == 0 or graph[nx][ny] == 2):\n",
    "                visited[nx][ny] = 1\n",
    "                graph[nx][ny] = 2\n",
    "                \n",
    "                background(nx, ny, visited)\n",
    "            \n",
    "\n",
    "#외부 공기와 맣다은 개수 체크\n",
    "def arround(a, b):\n",
    "    cnt = 0\n",
    "    \n",
    "    dx = [-1, 1, 0, 0]\n",
    "    dy = [0, 0, -1, 1]\n",
    "    \n",
    "    for i in range(4):\n",
    "        nx = a + dx[i]\n",
    "        ny = b + dy[i]\n",
    "        \n",
    "        if graph[nx][ny] == 2:\n",
    "            cnt += 1\n",
    "            \n",
    "    return cnt\n",
    "\n",
    "\n",
    "\n",
    "while True:\n",
    "    time += 1\n",
    "    visited = [[0]*m for _ in range(n)]\n",
    "    background(0, 0, visited)\n",
    "    melt = []\n",
    "\n",
    "\n",
    "    for i in range(n):\n",
    "        for j in range(m):\n",
    "            if graph[i][j] == 1 and arround(i, j) > 1:\n",
    "                melt.append((i, j))\n",
    "\n",
    "\n",
    "    for x, y in melt:\n",
    "        graph[x][y] = 2\n",
    "\n",
    "        \n",
    "    flag = True\n",
    "    for i in graph:\n",
    "        if i.count(1) != 0:\n",
    "            flag = False\n",
    "    \n",
    "    if flag:\n",
    "        break\n",
    "    \n",
    "    \n",
    "    \n",
    "print(time)\n",
    "    \n",
    "    "
   ]
  },
  {
   "cell_type": "code",
   "execution_count": 102,
   "id": "0ff281dd",
   "metadata": {},
   "outputs": [
    {
     "name": "stdout",
     "output_type": "stream",
     "text": [
      "AB\n",
      "ABB\n",
      "0\n"
     ]
    }
   ],
   "source": [
    "s = list(input())\n",
    "t = list(input())\n",
    "\n",
    "while 1:\n",
    "    if t[-1] == 'A':\n",
    "        t.pop()\n",
    "    elif t[-1] == 'B':\n",
    "        t.pop()\n",
    "        t = t[::-1]\n",
    "    \n",
    "    if s == t:\n",
    "        print(1)\n",
    "        break\n",
    "        \n",
    "    if len(t) == 0:\n",
    "        print(0)\n",
    "        break\n",
    "\n",
    "\n",
    "    \n"
   ]
  },
  {
   "cell_type": "code",
   "execution_count": 114,
   "id": "a70c52f8",
   "metadata": {},
   "outputs": [
    {
     "name": "stdout",
     "output_type": "stream",
     "text": [
      "[[1, 9, 2, 5, 7], [2, 9, 3, 1, 4], [3, 1, 9, 4, 5], [4, 2, 5, 1, 7], [5, 1, 9, 2, 8], [6, 5, 2, 3, 4], [7, 2, 3, 4, 8], [8, 1, 9, 3, 4], [9, 8, 1, 2, 3]]\n",
      "\n",
      "[9, 3, 2]\n",
      "[8, 4, 7]\n",
      "[5, 6, 1]\n",
      "54\n"
     ]
    }
   ],
   "source": [
    "n = int(input())\n",
    "students = [list(map(int, input().split())) for _ in range(n**2)]\n",
    "\n",
    "# n = 3\n",
    "# students = [[4, 2, 5, 1, 7], [3, 1, 9, 4, 5], [9, 8, 1, 2, 3], [8, 1, 9, 3, 4], [7, 2, 3, 4, 8], [1, 9, 2, 5, 7], [6, 5, 2, 3, 4], [5, 1, 9, 2, 8], [2, 9, 3, 1, 4]]\n",
    "arr = [[0]*n for _ in range(n)]\n",
    "\n",
    "dx = [-1, 1, 0, 0]\n",
    "dy = [0, 0, -1, 1]\n",
    "\n",
    "for order in range(n**2):\n",
    "    student = students[order]\n",
    "    \n",
    "    tmp = []\n",
    "    for i in range(n):\n",
    "        for j in range(n):\n",
    "            if arr[i][j] == 0:\n",
    "                like = 0\n",
    "                blank = 0\n",
    "                \n",
    "                for k in range(4):\n",
    "                    nx = i + dx[k]\n",
    "                    ny = j + dy[k]\n",
    "                    \n",
    "                    if 0 <= nx < n and 0 <= ny < n:\n",
    "                        if arr[nx][ny] in student[1:]:\n",
    "                            like += 1\n",
    "                        if arr[nx][ny] == 0:\n",
    "                            blank += 1\n",
    "                            \n",
    "                tmp.append([like, blank, i, j])\n",
    "                \n",
    "    tmp.sort(key = lambda x:(-x[0], -x[1], x[2], x[3]))\n",
    "    arr[tmp[0][2]][tmp[0][3]] = student[0]\n",
    "    \n",
    "        \n",
    "\n",
    "result = 0\n",
    "students.sort()\n",
    "\n",
    "\n",
    "for i in range(n):\n",
    "    for j in range(n):\n",
    "        ans = 0\n",
    "        \n",
    "        for k in range(4):\n",
    "            nx = i + dx[k]\n",
    "            ny = j + dy[k]\n",
    "            \n",
    "            if 0 <= nx < n and 0 <= ny < n:\n",
    "                if arr[nx][ny] in students[arr[i][j]-1]:\n",
    "                    ans += 1\n",
    "                    \n",
    "        if ans != 0:\n",
    "            result += 10 ** (ans - 1)\n",
    "            \n",
    "            \n",
    "print(result)\n",
    "                \n",
    "\n",
    "\n",
    "\n"
   ]
  },
  {
   "cell_type": "code",
   "execution_count": 126,
   "id": "8c7be965",
   "metadata": {},
   "outputs": [
    {
     "name": "stdout",
     "output_type": "stream",
     "text": [
      "3\n"
     ]
    }
   ],
   "source": [
    "n, l = map(int, input().split())\n",
    "floor = [list(map(int, input().split())) for _ in range(n)]\n",
    "\n",
    "# n, l = 6, 2\n",
    "# floor = [[3, 3, 3, 3, 3, 3], [2, 3, 3, 3, 3, 3], [2, 2, 2, 3, 2, 3], [1, 1, 1, 2, 2, 2], [1, 1, 1, 3, 3, 1], [1, 1, 2, 3, 3, 2]]\n",
    "\n",
    "\n",
    "def check(board):\n",
    "    bridge = [False for i in range(n)]\n",
    "    \n",
    "    for i in range(n-1):\n",
    "        if board[i] == board[i+1]:\n",
    "            continue\n",
    "        \n",
    "        if abs(board[i] - board[i+1]) >= 2: #높이가 2이상 차이나는 경우\n",
    "            return False\n",
    "        \n",
    "        if board[i] > board[i+1]: #왼쪽이 더 높은 경우\n",
    "            for j in range(i+1, i+1+l):\n",
    "                if 0 <= j < n:\n",
    "                    if board[j] != board[i+1]:\n",
    "                        return False\n",
    "                    if bridge[j] == True:\n",
    "                        return False\n",
    "                    bridge[j] = True\n",
    "                else:\n",
    "                    return False\n",
    "                \n",
    "        else: #오른쪽이 더 높은 경우\n",
    "            for j in range(i, i-l, -1):\n",
    "                if 0 <= j < n:\n",
    "                    if board[j] != board[i]:\n",
    "                        return False\n",
    "                    if bridge[j] == True:\n",
    "                        return False\n",
    "                    bridge[j] = True\n",
    "                else:\n",
    "                    return False\n",
    "                \n",
    "    return True\n",
    "   \n",
    "    \n",
    "    \n",
    "def rotate(n, arr):\n",
    "    ret = [[0]*n for _ in range(n)]\n",
    "    \n",
    "    for i in range(n):\n",
    "        for j in range(n):\n",
    "            ret[j][n-1-i] = arr[i][j]\n",
    "            \n",
    "    return ret\n",
    "    \n",
    "    \n",
    "    \n",
    "ans = 0\n",
    "    \n",
    "for i in floor:\n",
    "    if check(i):\n",
    "        ans += 1\n",
    "        \n",
    "\n",
    "floor = rotate(n, floor)\n",
    "\n",
    "for i in floor:\n",
    "    if check(i):\n",
    "        ans += 1\n",
    "\n",
    "\n",
    "print(ans)\n",
    "\n",
    "            \n",
    "            \n"
   ]
  },
  {
   "cell_type": "code",
   "execution_count": 128,
   "id": "a700dbcc",
   "metadata": {},
   "outputs": [],
   "source": [
    "def check():\n",
    "    for start in range(n):\n",
    "        now = start\n",
    "        \n",
    "        for j in range(h):\n",
    "            if board[j][now]:\n",
    "                now += 1\n",
    "            elif now > 0 and board[j][now-1]:\n",
    "                now -= 1\n",
    "            \n",
    "        if now != start:\n",
    "            return False\n",
    "    return True\n",
    "\n",
    "\n",
    "def dfs(cnt, x, y):\n",
    "    global ans\n",
    "    \n",
    "    if check():\n",
    "        ans = min(ans, cnt)\n",
    "        return\n",
    "    elif cnt == 3 or ans <= cnt:\n",
    "        return\n",
    "    \n",
    "    for i in range(x, h):\n",
    "        if i == x:\n",
    "            now = y\n",
    "        else:\n",
    "            now = 0\n",
    "            \n",
    "        for j in range(now, n-1):\n",
    "            if not board[i][j] and not board[i][j+1]:\n",
    "                if j > 0 and board[i][j-1]:\n",
    "                    continue\n",
    "                board[i][j] = True\n",
    "                dfs(cnt+1, i, j+2)\n",
    "                board[i][j] = False\n",
    "                \n",
    "\n",
    "\n",
    "\n",
    "n, m, h = map(int, input().split())\n",
    "board = [[False]*n for _ in range(h)]\n",
    "\n",
    "for _ in range(m):\n",
    "    a, b = map(int, input().split())\n",
    "    board[a-1][b-1] = True\n",
    "    \n",
    "ans = 4\n",
    "dfs(0, 0, 0)\n",
    "\n",
    "if ans < 4:\n",
    "    print(ans)\n",
    "else:\n",
    "    print(-1)\n",
    "\n",
    "\n",
    "    \n",
    "    "
   ]
  },
  {
   "cell_type": "code",
   "execution_count": null,
   "id": "8b98773a",
   "metadata": {},
   "outputs": [],
   "source": [
    "5 5 6\n",
    "1 1\n",
    "3 2\n",
    "2 3\n",
    "5 1\n",
    "5 4"
   ]
  },
  {
   "cell_type": "code",
   "execution_count": 4,
   "id": "85ed4b0a",
   "metadata": {},
   "outputs": [
    {
     "name": "stdout",
     "output_type": "stream",
     "text": [
      "3 8\n",
      "20103324\n",
      "20133221\n",
      "20140101\n"
     ]
    }
   ],
   "source": [
    "import sys\n",
    "input = sys.stdin.readline\n",
    "n, m = map(int, input().split())\n",
    "dt = dict()\n",
    "\n",
    "for i in range(m):\n",
    "    stu = input().rstrip()\n",
    "    dt[stu] = i\n",
    "    \n",
    "dt = sorted(dt.items(), key = lambda x: x[1])\n",
    "\n",
    "cnt = 0\n",
    "for i in dt:\n",
    "    if cnt == n:\n",
    "        break\n",
    "    print(i[0])\n",
    "    cnt += 1\n"
   ]
  },
  {
   "cell_type": "code",
   "execution_count": 2,
   "id": "decdef64",
   "metadata": {},
   "outputs": [
    {
     "name": "stdout",
     "output_type": "stream",
     "text": [
      "{'20103324': 0, '20133221': 2, '20093778': 6, '20140101': 4, '01234567': 5, '20103325': 7}\n"
     ]
    }
   ],
   "source": [
    "print(dt)"
   ]
  },
  {
   "cell_type": "code",
   "execution_count": 24,
   "id": "af08e32b",
   "metadata": {},
   "outputs": [
    {
     "name": "stdout",
     "output_type": "stream",
     "text": [
      "1\n"
     ]
    }
   ],
   "source": [
    "# n = int(input())\n",
    "# cards = [list(map(int, input().split())) for _ in range(n)]\n",
    "\n",
    "n = 3\n",
    "cards = [[7, 5, 5, 4, 9], [1, 1, 1, 1, 1], [2, 3, 3, 2, 10]]\n",
    "ans = -1\n",
    "num = 0\n",
    "cnt = 0\n",
    "\n",
    "for card in cards:\n",
    "    cnt += 1\n",
    "    tmp = 0\n",
    "    for i in range(5):\n",
    "        for j in range(i+1, 5):\n",
    "            for k in range(j+1, 5):\n",
    "                tmp = max(tmp, ((card[i] + card[j] + card[k])%10))\n",
    "\n",
    "    if tmp >= ans:\n",
    "        num = cnt\n",
    "        ans = tmp\n",
    "    \n",
    "        \n",
    "    \n",
    "# print(ans)\n",
    "print(num)\n"
   ]
  },
  {
   "cell_type": "code",
   "execution_count": 3,
   "id": "e8e4e55e",
   "metadata": {},
   "outputs": [
    {
     "name": "stdout",
     "output_type": "stream",
     "text": [
      "10\n",
      "244\n"
     ]
    }
   ],
   "source": [
    "def recur(cur, start):\n",
    "    global num\n",
    "    if cur == n:\n",
    "        arr[num] = 1\n",
    "        return\n",
    "    \n",
    "    for i in range(start, 4):\n",
    "        num += li[i]\n",
    "        recur(cur+1, i)\n",
    "        num -= li[i]\n",
    "\n",
    "\n",
    "n = int(input())\n",
    "li = [1, 5, 10, 50]\n",
    "arr = [0] * 1001\n",
    "num = 0\n",
    "recur(0, 0)\n",
    "\n",
    "print(sum(arr))\n"
   ]
  },
  {
   "cell_type": "code",
   "execution_count": 14,
   "id": "e38981cf",
   "metadata": {},
   "outputs": [
    {
     "name": "stdout",
     "output_type": "stream",
     "text": [
      "1 1\n",
      "1 2\n",
      "3 4\n"
     ]
    }
   ],
   "source": [
    "n = int(input())\n",
    "score = [list(map(int, input().split())) for _ in range(n)]\n",
    "\n",
    "# n = 9\n",
    "# score =[[1, 1, 230], [1, 2, 210], [1, 3, 205], [2, 1, 100], [2, 2, 150], [3, 1, 175], [3, 2, 190], [3, 3, 180], [3, 4, 195]]\n",
    "\n",
    "score.sort(key = lambda x: x[2], reverse=True)\n",
    "arr = []\n",
    "tmp = [0] * 101\n",
    "cnt = 0\n",
    "\n",
    "for country, player, num in score:\n",
    "#     print(country, player, num)\n",
    "    \n",
    "    if cnt >= 3:\n",
    "        break\n",
    "    \n",
    "    if tmp[country] < 2:\n",
    "        arr.append([country, player])\n",
    "        tmp[country] += 1\n",
    "        cnt += 1\n",
    "    else:\n",
    "        continue\n",
    "        \n",
    "for i in arr:\n",
    "    print(*i)\n",
    "# print(tmp)\n",
    "    \n",
    "\n"
   ]
  },
  {
   "cell_type": "code",
   "execution_count": 18,
   "id": "2779d2f6",
   "metadata": {},
   "outputs": [
    {
     "name": "stdout",
     "output_type": "stream",
     "text": [
      "6\n",
      "12\n",
      "18\n",
      "23\n",
      "28\n",
      "6\n",
      "12\n",
      "17\n",
      "22\n",
      "28\n",
      "5\n",
      "10\n",
      "16\n",
      "22\n",
      "28\n",
      "6\n",
      "11\n",
      "16\n",
      "22\n",
      "28\n",
      "6\n",
      "12\n",
      "18\n",
      "24\n",
      "29\n",
      "5\n",
      "11\n",
      "17\n",
      "23\n",
      "29\n",
      "29\n"
     ]
    }
   ],
   "source": [
    "n = int(input())\n",
    "dice_list = [list(map(int, input().split())) for _ in range(n)]\n",
    "\n",
    "# n = 5\n",
    "# dice_list = [[2, 3, 1, 6, 5, 4], [3, 1, 2, 4, 6, 5], [5, 6, 4, 1, 3, 2], [1, 3, 6, 2, 4, 5], [4, 1, 6, 5, 2, 3]]\n",
    "max_sum = 0\n",
    "\n",
    "def find_max(dice, bottom):\n",
    "    for i in range(6):\n",
    "        if dice[i] == bottom:\n",
    "            break\n",
    "    \n",
    "    if i == 0:\n",
    "        return (dice[5], max(dice[1], dice[2], dice[3], dice[4]))\n",
    "    elif i == 1:\n",
    "        return (dice[3], max(dice[0], dice[2], dice[4], dice[5]))\n",
    "    elif i == 2:\n",
    "        return (dice[4], max(dice[0], dice[1], dice[3], dice[5]))\n",
    "    elif i == 3:\n",
    "        return (dice[1], max(dice[0], dice[2], dice[4], dice[5]))\n",
    "    elif i == 4:\n",
    "        return (dice[2], max(dice[0], dice[1], dice[3], dice[5]))\n",
    "    elif i == 5:\n",
    "        return (dice[0], max(dice[1], dice[2], dice[3], dice[4]))\n",
    "\n",
    "\n",
    "\n",
    "for i in range(1, 7):\n",
    "    bottom = i\n",
    "    total = 0\n",
    "    \n",
    "    for j in range(n):\n",
    "        bottom, maxnum = find_max(dice_list[j], bottom)\n",
    "        total += maxnum\n",
    "        \n",
    "    if max_sum < total:\n",
    "        max_sum = total\n",
    "        \n",
    "print(max_sum)\n",
    "    \n",
    "    \n",
    "    "
   ]
  },
  {
   "cell_type": "code",
   "execution_count": 29,
   "id": "eb6fb39d",
   "metadata": {},
   "outputs": [
    {
     "name": "stdout",
     "output_type": "stream",
     "text": [
      "1 10 3\n",
      "0\n",
      "[[10, 2]]\n",
      "[[10, 1]]\n",
      "1 100 2\n",
      "1 20 1\n",
      "0\n",
      "[[10, 1], [100, 1]]\n",
      "[[10, 1]]\n",
      "120\n"
     ]
    }
   ],
   "source": [
    "import sys\n",
    "input = sys.stdin.readline\n",
    "\n",
    "t = int(input())\n",
    "score = 0\n",
    "tmp = []\n",
    "\n",
    "for i in range(t):\n",
    "    cmd = list(map(int, input().split()))\n",
    "    if cmd[0] == 1:\n",
    "        if cmd[2] == 1:\n",
    "            score += cmd[1]\n",
    "        else:\n",
    "            tmp.append([cmd[1], cmd[2]-1])\n",
    "        continue\n",
    "            \n",
    "    \n",
    "    if tmp:\n",
    "        tmp[-1][1] -= 1\n",
    "        if tmp[-1][1] == 0:\n",
    "            score += tmp[-1][0]\n",
    "            tmp.pop()\n",
    "            \n",
    "            \n",
    "print(score)            \n",
    "    "
   ]
  },
  {
   "cell_type": "code",
   "execution_count": 39,
   "id": "ffffc4d4",
   "metadata": {},
   "outputs": [
    {
     "name": "stdout",
     "output_type": "stream",
     "text": [
      "HaruHaru\n"
     ]
    }
   ],
   "source": [
    "n = int(input())\n",
    "board = [list(map(int, input().split())) for _ in range(n)]\n",
    "\n",
    "# n = 3\n",
    "# board = [[1, 1, 10], [1, 5, 1], [2, 2, -1]]\n",
    "visited = [[0]*n for _ in range(n)]\n",
    "\n",
    "def dfs(x, y):\n",
    "    if x < 0 or x >= n or y < 0 or y >= n or visited[x][y] == 1:\n",
    "        return\n",
    "    \n",
    "    if board[x][y] == -1:\n",
    "        visited[x][y] = 1\n",
    "        return\n",
    "    \n",
    "    visited[x][y] = 1\n",
    "    \n",
    "    dfs(x + board[x][y], y)\n",
    "    dfs(x, y + board[x][y])\n",
    "    \n",
    "    \n",
    "dfs(0, 0)\n",
    "if visited[-1][-1] == 1:\n",
    "    print('HaruHaru')\n",
    "else:\n",
    "    print('Hing')\n",
    "    \n",
    "    \n",
    "            \n",
    "    "
   ]
  },
  {
   "cell_type": "code",
   "execution_count": 48,
   "id": "3f028170",
   "metadata": {},
   "outputs": [
    {
     "name": "stdout",
     "output_type": "stream",
     "text": [
      "3\n"
     ]
    }
   ],
   "source": [
    "n = int(input())\n",
    "num = [input() for _ in range(n)]\n",
    "\n",
    "# n = 3\n",
    "# num = ['1212345', '1212356', '0033445']\n",
    "cnt = 0\n",
    "\n",
    "while True:\n",
    "    arr = []\n",
    "    cnt -= 1\n",
    "    \n",
    "    for i in num:\n",
    "        tmp = i[cnt:]\n",
    "        if tmp in arr:\n",
    "            continue\n",
    "        else:\n",
    "            arr.append(tmp)\n",
    "#             print(arr)\n",
    "        \n",
    "    if len(arr) == n:\n",
    "        break\n",
    "        \n",
    "print(len(arr[0]))\n",
    "    \n"
   ]
  },
  {
   "cell_type": "code",
   "execution_count": 65,
   "id": "ca681105",
   "metadata": {},
   "outputs": [
    {
     "name": "stdout",
     "output_type": "stream",
     "text": [
      "3\n",
      "1 01:10\n",
      "2 21:10\n",
      "2 31:30\n",
      "1200 990\n"
     ]
    }
   ],
   "source": [
    "n = int(input())\n",
    "info = []\n",
    "\n",
    "one = 0\n",
    "two = 0\n",
    "flag = 0\n",
    "\n",
    "for i in range(n):\n",
    "    team, time = input().split()\n",
    "    m, s = map(int, time.split(':'))\n",
    "    \n",
    "    if team == '1':\n",
    "        if flag == 0:\n",
    "            one += 48*60 - (60*m+s)\n",
    "\n",
    "        flag += 1\n",
    "        if flag == 0:\n",
    "            if two > 0:\n",
    "                two = two - (48*60 - (60*m+s))\n",
    "            \n",
    "            \n",
    "    else:\n",
    "        if flag == 0:\n",
    "            two += 48*60 - (60*m+s)\n",
    "        \n",
    "        flag -= 1\n",
    "        if flag == 0:\n",
    "            if one > 0:\n",
    "                one = one - (48*60 - (60*m+s))\n",
    "                \n",
    "                \n",
    "print('{:0>2}:{:0>2}'.format(one//60,one%60))\n",
    "print('{:0>2}:{:0>2}'.format(two//60,two%60))\n",
    "    \n",
    "\n"
   ]
  },
  {
   "cell_type": "code",
   "execution_count": 79,
   "id": "dd933692",
   "metadata": {},
   "outputs": [
    {
     "name": "stdout",
     "output_type": "stream",
     "text": [
      "1\n"
     ]
    }
   ],
   "source": [
    "q = deque([1, 1, 1, 1, 1])\n",
    "print(max(q))"
   ]
  },
  {
   "cell_type": "code",
   "execution_count": 80,
   "id": "63816ff7",
   "metadata": {},
   "outputs": [
    {
     "name": "stdout",
     "output_type": "stream",
     "text": [
      "deque([2, 3]) 49\n"
     ]
    }
   ],
   "source": [
    "a = deque([1, 2, 3])\n",
    "b = 50\n",
    "\n",
    "b -= a.popleft()\n",
    "print(a, b)"
   ]
  },
  {
   "cell_type": "code",
   "execution_count": 88,
   "id": "1a3dc0b7",
   "metadata": {},
   "outputs": [
    {
     "name": "stdout",
     "output_type": "stream",
     "text": [
      "deque([0, 0, 0, 0, 0, 0, 0, 0, 0, 0, 0, 0, 0, 0, 0, 0, 0, 0, 0, 0, 0, 0, 0, 0, 0, 0, 0, 0, 0, 0, 0, 0, 0, 0, 0, 0, 0, 0, 0, 0, 0, 0, 0, 0, 0, 0, 0, 0, 0, 0, 0, 0, 0, 0, 0, 0, 0, 0, 0, 0, 0, 0, 0, 0, 0, 0, 0, 0, 0, 0, 0, 0, 0, 0, 0, 0, 0, 0, 0, 0, 0, 0, 0, 0, 0, 0, 0, 0, 0, 0, 0, 0, 0, 0, 0, 0, 0, 0, 0, 10]) 10\n",
      "deque([0, 0, 0, 0, 0, 0, 0, 0, 0, 0, 0, 0, 0, 0, 0, 0, 0, 0, 0, 0, 0, 0, 0, 0, 0, 0, 0, 0, 0, 0, 0, 0, 0, 0, 0, 0, 0, 0, 0, 0, 0, 0, 0, 0, 0, 0, 0, 0, 0, 0, 0, 0, 0, 0, 0, 0, 0, 0, 0, 0, 0, 0, 0, 0, 0, 0, 0, 0, 0, 0, 0, 0, 0, 0, 0, 0, 0, 0, 0, 0, 0, 0, 0, 0, 0, 0, 0, 0, 0, 0, 0, 0, 0, 0, 0, 0, 0, 0, 10, 0]) 10\n",
      "deque([0, 0, 0, 0, 0, 0, 0, 0, 0, 0, 0, 0, 0, 0, 0, 0, 0, 0, 0, 0, 0, 0, 0, 0, 0, 0, 0, 0, 0, 0, 0, 0, 0, 0, 0, 0, 0, 0, 0, 0, 0, 0, 0, 0, 0, 0, 0, 0, 0, 0, 0, 0, 0, 0, 0, 0, 0, 0, 0, 0, 0, 0, 0, 0, 0, 0, 0, 0, 0, 0, 0, 0, 0, 0, 0, 0, 0, 0, 0, 0, 0, 0, 0, 0, 0, 0, 0, 0, 0, 0, 0, 0, 0, 0, 0, 0, 0, 10, 0, 0]) 10\n",
      "deque([0, 0, 0, 0, 0, 0, 0, 0, 0, 0, 0, 0, 0, 0, 0, 0, 0, 0, 0, 0, 0, 0, 0, 0, 0, 0, 0, 0, 0, 0, 0, 0, 0, 0, 0, 0, 0, 0, 0, 0, 0, 0, 0, 0, 0, 0, 0, 0, 0, 0, 0, 0, 0, 0, 0, 0, 0, 0, 0, 0, 0, 0, 0, 0, 0, 0, 0, 0, 0, 0, 0, 0, 0, 0, 0, 0, 0, 0, 0, 0, 0, 0, 0, 0, 0, 0, 0, 0, 0, 0, 0, 0, 0, 0, 0, 0, 10, 0, 0, 0]) 10\n",
      "deque([0, 0, 0, 0, 0, 0, 0, 0, 0, 0, 0, 0, 0, 0, 0, 0, 0, 0, 0, 0, 0, 0, 0, 0, 0, 0, 0, 0, 0, 0, 0, 0, 0, 0, 0, 0, 0, 0, 0, 0, 0, 0, 0, 0, 0, 0, 0, 0, 0, 0, 0, 0, 0, 0, 0, 0, 0, 0, 0, 0, 0, 0, 0, 0, 0, 0, 0, 0, 0, 0, 0, 0, 0, 0, 0, 0, 0, 0, 0, 0, 0, 0, 0, 0, 0, 0, 0, 0, 0, 0, 0, 0, 0, 0, 0, 10, 0, 0, 0, 0]) 10\n",
      "deque([0, 0, 0, 0, 0, 0, 0, 0, 0, 0, 0, 0, 0, 0, 0, 0, 0, 0, 0, 0, 0, 0, 0, 0, 0, 0, 0, 0, 0, 0, 0, 0, 0, 0, 0, 0, 0, 0, 0, 0, 0, 0, 0, 0, 0, 0, 0, 0, 0, 0, 0, 0, 0, 0, 0, 0, 0, 0, 0, 0, 0, 0, 0, 0, 0, 0, 0, 0, 0, 0, 0, 0, 0, 0, 0, 0, 0, 0, 0, 0, 0, 0, 0, 0, 0, 0, 0, 0, 0, 0, 0, 0, 0, 0, 10, 0, 0, 0, 0, 0]) 10\n",
      "deque([0, 0, 0, 0, 0, 0, 0, 0, 0, 0, 0, 0, 0, 0, 0, 0, 0, 0, 0, 0, 0, 0, 0, 0, 0, 0, 0, 0, 0, 0, 0, 0, 0, 0, 0, 0, 0, 0, 0, 0, 0, 0, 0, 0, 0, 0, 0, 0, 0, 0, 0, 0, 0, 0, 0, 0, 0, 0, 0, 0, 0, 0, 0, 0, 0, 0, 0, 0, 0, 0, 0, 0, 0, 0, 0, 0, 0, 0, 0, 0, 0, 0, 0, 0, 0, 0, 0, 0, 0, 0, 0, 0, 0, 10, 0, 0, 0, 0, 0, 0]) 10\n",
      "deque([0, 0, 0, 0, 0, 0, 0, 0, 0, 0, 0, 0, 0, 0, 0, 0, 0, 0, 0, 0, 0, 0, 0, 0, 0, 0, 0, 0, 0, 0, 0, 0, 0, 0, 0, 0, 0, 0, 0, 0, 0, 0, 0, 0, 0, 0, 0, 0, 0, 0, 0, 0, 0, 0, 0, 0, 0, 0, 0, 0, 0, 0, 0, 0, 0, 0, 0, 0, 0, 0, 0, 0, 0, 0, 0, 0, 0, 0, 0, 0, 0, 0, 0, 0, 0, 0, 0, 0, 0, 0, 0, 0, 10, 0, 0, 0, 0, 0, 0, 0]) 10\n",
      "deque([0, 0, 0, 0, 0, 0, 0, 0, 0, 0, 0, 0, 0, 0, 0, 0, 0, 0, 0, 0, 0, 0, 0, 0, 0, 0, 0, 0, 0, 0, 0, 0, 0, 0, 0, 0, 0, 0, 0, 0, 0, 0, 0, 0, 0, 0, 0, 0, 0, 0, 0, 0, 0, 0, 0, 0, 0, 0, 0, 0, 0, 0, 0, 0, 0, 0, 0, 0, 0, 0, 0, 0, 0, 0, 0, 0, 0, 0, 0, 0, 0, 0, 0, 0, 0, 0, 0, 0, 0, 0, 0, 10, 0, 0, 0, 0, 0, 0, 0, 0]) 10\n",
      "deque([0, 0, 0, 0, 0, 0, 0, 0, 0, 0, 0, 0, 0, 0, 0, 0, 0, 0, 0, 0, 0, 0, 0, 0, 0, 0, 0, 0, 0, 0, 0, 0, 0, 0, 0, 0, 0, 0, 0, 0, 0, 0, 0, 0, 0, 0, 0, 0, 0, 0, 0, 0, 0, 0, 0, 0, 0, 0, 0, 0, 0, 0, 0, 0, 0, 0, 0, 0, 0, 0, 0, 0, 0, 0, 0, 0, 0, 0, 0, 0, 0, 0, 0, 0, 0, 0, 0, 0, 0, 0, 10, 0, 0, 0, 0, 0, 0, 0, 0, 0]) 10\n",
      "deque([0, 0, 0, 0, 0, 0, 0, 0, 0, 0, 0, 0, 0, 0, 0, 0, 0, 0, 0, 0, 0, 0, 0, 0, 0, 0, 0, 0, 0, 0, 0, 0, 0, 0, 0, 0, 0, 0, 0, 0, 0, 0, 0, 0, 0, 0, 0, 0, 0, 0, 0, 0, 0, 0, 0, 0, 0, 0, 0, 0, 0, 0, 0, 0, 0, 0, 0, 0, 0, 0, 0, 0, 0, 0, 0, 0, 0, 0, 0, 0, 0, 0, 0, 0, 0, 0, 0, 0, 0, 10, 0, 0, 0, 0, 0, 0, 0, 0, 0, 0]) 10\n",
      "deque([0, 0, 0, 0, 0, 0, 0, 0, 0, 0, 0, 0, 0, 0, 0, 0, 0, 0, 0, 0, 0, 0, 0, 0, 0, 0, 0, 0, 0, 0, 0, 0, 0, 0, 0, 0, 0, 0, 0, 0, 0, 0, 0, 0, 0, 0, 0, 0, 0, 0, 0, 0, 0, 0, 0, 0, 0, 0, 0, 0, 0, 0, 0, 0, 0, 0, 0, 0, 0, 0, 0, 0, 0, 0, 0, 0, 0, 0, 0, 0, 0, 0, 0, 0, 0, 0, 0, 0, 10, 0, 0, 0, 0, 0, 0, 0, 0, 0, 0, 0]) 10\n",
      "deque([0, 0, 0, 0, 0, 0, 0, 0, 0, 0, 0, 0, 0, 0, 0, 0, 0, 0, 0, 0, 0, 0, 0, 0, 0, 0, 0, 0, 0, 0, 0, 0, 0, 0, 0, 0, 0, 0, 0, 0, 0, 0, 0, 0, 0, 0, 0, 0, 0, 0, 0, 0, 0, 0, 0, 0, 0, 0, 0, 0, 0, 0, 0, 0, 0, 0, 0, 0, 0, 0, 0, 0, 0, 0, 0, 0, 0, 0, 0, 0, 0, 0, 0, 0, 0, 0, 0, 10, 0, 0, 0, 0, 0, 0, 0, 0, 0, 0, 0, 0]) 10\n",
      "deque([0, 0, 0, 0, 0, 0, 0, 0, 0, 0, 0, 0, 0, 0, 0, 0, 0, 0, 0, 0, 0, 0, 0, 0, 0, 0, 0, 0, 0, 0, 0, 0, 0, 0, 0, 0, 0, 0, 0, 0, 0, 0, 0, 0, 0, 0, 0, 0, 0, 0, 0, 0, 0, 0, 0, 0, 0, 0, 0, 0, 0, 0, 0, 0, 0, 0, 0, 0, 0, 0, 0, 0, 0, 0, 0, 0, 0, 0, 0, 0, 0, 0, 0, 0, 0, 0, 10, 0, 0, 0, 0, 0, 0, 0, 0, 0, 0, 0, 0, 0]) 10\n",
      "deque([0, 0, 0, 0, 0, 0, 0, 0, 0, 0, 0, 0, 0, 0, 0, 0, 0, 0, 0, 0, 0, 0, 0, 0, 0, 0, 0, 0, 0, 0, 0, 0, 0, 0, 0, 0, 0, 0, 0, 0, 0, 0, 0, 0, 0, 0, 0, 0, 0, 0, 0, 0, 0, 0, 0, 0, 0, 0, 0, 0, 0, 0, 0, 0, 0, 0, 0, 0, 0, 0, 0, 0, 0, 0, 0, 0, 0, 0, 0, 0, 0, 0, 0, 0, 0, 10, 0, 0, 0, 0, 0, 0, 0, 0, 0, 0, 0, 0, 0, 0]) 10\n",
      "deque([0, 0, 0, 0, 0, 0, 0, 0, 0, 0, 0, 0, 0, 0, 0, 0, 0, 0, 0, 0, 0, 0, 0, 0, 0, 0, 0, 0, 0, 0, 0, 0, 0, 0, 0, 0, 0, 0, 0, 0, 0, 0, 0, 0, 0, 0, 0, 0, 0, 0, 0, 0, 0, 0, 0, 0, 0, 0, 0, 0, 0, 0, 0, 0, 0, 0, 0, 0, 0, 0, 0, 0, 0, 0, 0, 0, 0, 0, 0, 0, 0, 0, 0, 0, 10, 0, 0, 0, 0, 0, 0, 0, 0, 0, 0, 0, 0, 0, 0, 0]) 10\n",
      "deque([0, 0, 0, 0, 0, 0, 0, 0, 0, 0, 0, 0, 0, 0, 0, 0, 0, 0, 0, 0, 0, 0, 0, 0, 0, 0, 0, 0, 0, 0, 0, 0, 0, 0, 0, 0, 0, 0, 0, 0, 0, 0, 0, 0, 0, 0, 0, 0, 0, 0, 0, 0, 0, 0, 0, 0, 0, 0, 0, 0, 0, 0, 0, 0, 0, 0, 0, 0, 0, 0, 0, 0, 0, 0, 0, 0, 0, 0, 0, 0, 0, 0, 0, 10, 0, 0, 0, 0, 0, 0, 0, 0, 0, 0, 0, 0, 0, 0, 0, 0]) 10\n",
      "deque([0, 0, 0, 0, 0, 0, 0, 0, 0, 0, 0, 0, 0, 0, 0, 0, 0, 0, 0, 0, 0, 0, 0, 0, 0, 0, 0, 0, 0, 0, 0, 0, 0, 0, 0, 0, 0, 0, 0, 0, 0, 0, 0, 0, 0, 0, 0, 0, 0, 0, 0, 0, 0, 0, 0, 0, 0, 0, 0, 0, 0, 0, 0, 0, 0, 0, 0, 0, 0, 0, 0, 0, 0, 0, 0, 0, 0, 0, 0, 0, 0, 0, 10, 0, 0, 0, 0, 0, 0, 0, 0, 0, 0, 0, 0, 0, 0, 0, 0, 0]) 10\n",
      "deque([0, 0, 0, 0, 0, 0, 0, 0, 0, 0, 0, 0, 0, 0, 0, 0, 0, 0, 0, 0, 0, 0, 0, 0, 0, 0, 0, 0, 0, 0, 0, 0, 0, 0, 0, 0, 0, 0, 0, 0, 0, 0, 0, 0, 0, 0, 0, 0, 0, 0, 0, 0, 0, 0, 0, 0, 0, 0, 0, 0, 0, 0, 0, 0, 0, 0, 0, 0, 0, 0, 0, 0, 0, 0, 0, 0, 0, 0, 0, 0, 0, 10, 0, 0, 0, 0, 0, 0, 0, 0, 0, 0, 0, 0, 0, 0, 0, 0, 0, 0]) 10\n",
      "deque([0, 0, 0, 0, 0, 0, 0, 0, 0, 0, 0, 0, 0, 0, 0, 0, 0, 0, 0, 0, 0, 0, 0, 0, 0, 0, 0, 0, 0, 0, 0, 0, 0, 0, 0, 0, 0, 0, 0, 0, 0, 0, 0, 0, 0, 0, 0, 0, 0, 0, 0, 0, 0, 0, 0, 0, 0, 0, 0, 0, 0, 0, 0, 0, 0, 0, 0, 0, 0, 0, 0, 0, 0, 0, 0, 0, 0, 0, 0, 0, 10, 0, 0, 0, 0, 0, 0, 0, 0, 0, 0, 0, 0, 0, 0, 0, 0, 0, 0, 0]) 10\n",
      "deque([0, 0, 0, 0, 0, 0, 0, 0, 0, 0, 0, 0, 0, 0, 0, 0, 0, 0, 0, 0, 0, 0, 0, 0, 0, 0, 0, 0, 0, 0, 0, 0, 0, 0, 0, 0, 0, 0, 0, 0, 0, 0, 0, 0, 0, 0, 0, 0, 0, 0, 0, 0, 0, 0, 0, 0, 0, 0, 0, 0, 0, 0, 0, 0, 0, 0, 0, 0, 0, 0, 0, 0, 0, 0, 0, 0, 0, 0, 0, 10, 0, 0, 0, 0, 0, 0, 0, 0, 0, 0, 0, 0, 0, 0, 0, 0, 0, 0, 0, 0]) 10\n",
      "deque([0, 0, 0, 0, 0, 0, 0, 0, 0, 0, 0, 0, 0, 0, 0, 0, 0, 0, 0, 0, 0, 0, 0, 0, 0, 0, 0, 0, 0, 0, 0, 0, 0, 0, 0, 0, 0, 0, 0, 0, 0, 0, 0, 0, 0, 0, 0, 0, 0, 0, 0, 0, 0, 0, 0, 0, 0, 0, 0, 0, 0, 0, 0, 0, 0, 0, 0, 0, 0, 0, 0, 0, 0, 0, 0, 0, 0, 0, 10, 0, 0, 0, 0, 0, 0, 0, 0, 0, 0, 0, 0, 0, 0, 0, 0, 0, 0, 0, 0, 0]) 10\n",
      "deque([0, 0, 0, 0, 0, 0, 0, 0, 0, 0, 0, 0, 0, 0, 0, 0, 0, 0, 0, 0, 0, 0, 0, 0, 0, 0, 0, 0, 0, 0, 0, 0, 0, 0, 0, 0, 0, 0, 0, 0, 0, 0, 0, 0, 0, 0, 0, 0, 0, 0, 0, 0, 0, 0, 0, 0, 0, 0, 0, 0, 0, 0, 0, 0, 0, 0, 0, 0, 0, 0, 0, 0, 0, 0, 0, 0, 0, 10, 0, 0, 0, 0, 0, 0, 0, 0, 0, 0, 0, 0, 0, 0, 0, 0, 0, 0, 0, 0, 0, 0]) 10\n",
      "deque([0, 0, 0, 0, 0, 0, 0, 0, 0, 0, 0, 0, 0, 0, 0, 0, 0, 0, 0, 0, 0, 0, 0, 0, 0, 0, 0, 0, 0, 0, 0, 0, 0, 0, 0, 0, 0, 0, 0, 0, 0, 0, 0, 0, 0, 0, 0, 0, 0, 0, 0, 0, 0, 0, 0, 0, 0, 0, 0, 0, 0, 0, 0, 0, 0, 0, 0, 0, 0, 0, 0, 0, 0, 0, 0, 0, 10, 0, 0, 0, 0, 0, 0, 0, 0, 0, 0, 0, 0, 0, 0, 0, 0, 0, 0, 0, 0, 0, 0, 0]) 10\n",
      "deque([0, 0, 0, 0, 0, 0, 0, 0, 0, 0, 0, 0, 0, 0, 0, 0, 0, 0, 0, 0, 0, 0, 0, 0, 0, 0, 0, 0, 0, 0, 0, 0, 0, 0, 0, 0, 0, 0, 0, 0, 0, 0, 0, 0, 0, 0, 0, 0, 0, 0, 0, 0, 0, 0, 0, 0, 0, 0, 0, 0, 0, 0, 0, 0, 0, 0, 0, 0, 0, 0, 0, 0, 0, 0, 0, 10, 0, 0, 0, 0, 0, 0, 0, 0, 0, 0, 0, 0, 0, 0, 0, 0, 0, 0, 0, 0, 0, 0, 0, 0]) 10\n",
      "deque([0, 0, 0, 0, 0, 0, 0, 0, 0, 0, 0, 0, 0, 0, 0, 0, 0, 0, 0, 0, 0, 0, 0, 0, 0, 0, 0, 0, 0, 0, 0, 0, 0, 0, 0, 0, 0, 0, 0, 0, 0, 0, 0, 0, 0, 0, 0, 0, 0, 0, 0, 0, 0, 0, 0, 0, 0, 0, 0, 0, 0, 0, 0, 0, 0, 0, 0, 0, 0, 0, 0, 0, 0, 0, 10, 0, 0, 0, 0, 0, 0, 0, 0, 0, 0, 0, 0, 0, 0, 0, 0, 0, 0, 0, 0, 0, 0, 0, 0, 0]) 10\n",
      "deque([0, 0, 0, 0, 0, 0, 0, 0, 0, 0, 0, 0, 0, 0, 0, 0, 0, 0, 0, 0, 0, 0, 0, 0, 0, 0, 0, 0, 0, 0, 0, 0, 0, 0, 0, 0, 0, 0, 0, 0, 0, 0, 0, 0, 0, 0, 0, 0, 0, 0, 0, 0, 0, 0, 0, 0, 0, 0, 0, 0, 0, 0, 0, 0, 0, 0, 0, 0, 0, 0, 0, 0, 0, 10, 0, 0, 0, 0, 0, 0, 0, 0, 0, 0, 0, 0, 0, 0, 0, 0, 0, 0, 0, 0, 0, 0, 0, 0, 0, 0]) 10\n",
      "deque([0, 0, 0, 0, 0, 0, 0, 0, 0, 0, 0, 0, 0, 0, 0, 0, 0, 0, 0, 0, 0, 0, 0, 0, 0, 0, 0, 0, 0, 0, 0, 0, 0, 0, 0, 0, 0, 0, 0, 0, 0, 0, 0, 0, 0, 0, 0, 0, 0, 0, 0, 0, 0, 0, 0, 0, 0, 0, 0, 0, 0, 0, 0, 0, 0, 0, 0, 0, 0, 0, 0, 0, 10, 0, 0, 0, 0, 0, 0, 0, 0, 0, 0, 0, 0, 0, 0, 0, 0, 0, 0, 0, 0, 0, 0, 0, 0, 0, 0, 0]) 10\n",
      "deque([0, 0, 0, 0, 0, 0, 0, 0, 0, 0, 0, 0, 0, 0, 0, 0, 0, 0, 0, 0, 0, 0, 0, 0, 0, 0, 0, 0, 0, 0, 0, 0, 0, 0, 0, 0, 0, 0, 0, 0, 0, 0, 0, 0, 0, 0, 0, 0, 0, 0, 0, 0, 0, 0, 0, 0, 0, 0, 0, 0, 0, 0, 0, 0, 0, 0, 0, 0, 0, 0, 0, 10, 0, 0, 0, 0, 0, 0, 0, 0, 0, 0, 0, 0, 0, 0, 0, 0, 0, 0, 0, 0, 0, 0, 0, 0, 0, 0, 0, 0]) 10\n",
      "deque([0, 0, 0, 0, 0, 0, 0, 0, 0, 0, 0, 0, 0, 0, 0, 0, 0, 0, 0, 0, 0, 0, 0, 0, 0, 0, 0, 0, 0, 0, 0, 0, 0, 0, 0, 0, 0, 0, 0, 0, 0, 0, 0, 0, 0, 0, 0, 0, 0, 0, 0, 0, 0, 0, 0, 0, 0, 0, 0, 0, 0, 0, 0, 0, 0, 0, 0, 0, 0, 0, 10, 0, 0, 0, 0, 0, 0, 0, 0, 0, 0, 0, 0, 0, 0, 0, 0, 0, 0, 0, 0, 0, 0, 0, 0, 0, 0, 0, 0, 0]) 10\n",
      "deque([0, 0, 0, 0, 0, 0, 0, 0, 0, 0, 0, 0, 0, 0, 0, 0, 0, 0, 0, 0, 0, 0, 0, 0, 0, 0, 0, 0, 0, 0, 0, 0, 0, 0, 0, 0, 0, 0, 0, 0, 0, 0, 0, 0, 0, 0, 0, 0, 0, 0, 0, 0, 0, 0, 0, 0, 0, 0, 0, 0, 0, 0, 0, 0, 0, 0, 0, 0, 0, 10, 0, 0, 0, 0, 0, 0, 0, 0, 0, 0, 0, 0, 0, 0, 0, 0, 0, 0, 0, 0, 0, 0, 0, 0, 0, 0, 0, 0, 0, 0]) 10\n",
      "deque([0, 0, 0, 0, 0, 0, 0, 0, 0, 0, 0, 0, 0, 0, 0, 0, 0, 0, 0, 0, 0, 0, 0, 0, 0, 0, 0, 0, 0, 0, 0, 0, 0, 0, 0, 0, 0, 0, 0, 0, 0, 0, 0, 0, 0, 0, 0, 0, 0, 0, 0, 0, 0, 0, 0, 0, 0, 0, 0, 0, 0, 0, 0, 0, 0, 0, 0, 0, 10, 0, 0, 0, 0, 0, 0, 0, 0, 0, 0, 0, 0, 0, 0, 0, 0, 0, 0, 0, 0, 0, 0, 0, 0, 0, 0, 0, 0, 0, 0, 0]) 10\n",
      "deque([0, 0, 0, 0, 0, 0, 0, 0, 0, 0, 0, 0, 0, 0, 0, 0, 0, 0, 0, 0, 0, 0, 0, 0, 0, 0, 0, 0, 0, 0, 0, 0, 0, 0, 0, 0, 0, 0, 0, 0, 0, 0, 0, 0, 0, 0, 0, 0, 0, 0, 0, 0, 0, 0, 0, 0, 0, 0, 0, 0, 0, 0, 0, 0, 0, 0, 0, 10, 0, 0, 0, 0, 0, 0, 0, 0, 0, 0, 0, 0, 0, 0, 0, 0, 0, 0, 0, 0, 0, 0, 0, 0, 0, 0, 0, 0, 0, 0, 0, 0]) 10\n",
      "deque([0, 0, 0, 0, 0, 0, 0, 0, 0, 0, 0, 0, 0, 0, 0, 0, 0, 0, 0, 0, 0, 0, 0, 0, 0, 0, 0, 0, 0, 0, 0, 0, 0, 0, 0, 0, 0, 0, 0, 0, 0, 0, 0, 0, 0, 0, 0, 0, 0, 0, 0, 0, 0, 0, 0, 0, 0, 0, 0, 0, 0, 0, 0, 0, 0, 0, 10, 0, 0, 0, 0, 0, 0, 0, 0, 0, 0, 0, 0, 0, 0, 0, 0, 0, 0, 0, 0, 0, 0, 0, 0, 0, 0, 0, 0, 0, 0, 0, 0, 0]) 10\n",
      "deque([0, 0, 0, 0, 0, 0, 0, 0, 0, 0, 0, 0, 0, 0, 0, 0, 0, 0, 0, 0, 0, 0, 0, 0, 0, 0, 0, 0, 0, 0, 0, 0, 0, 0, 0, 0, 0, 0, 0, 0, 0, 0, 0, 0, 0, 0, 0, 0, 0, 0, 0, 0, 0, 0, 0, 0, 0, 0, 0, 0, 0, 0, 0, 0, 0, 10, 0, 0, 0, 0, 0, 0, 0, 0, 0, 0, 0, 0, 0, 0, 0, 0, 0, 0, 0, 0, 0, 0, 0, 0, 0, 0, 0, 0, 0, 0, 0, 0, 0, 0]) 10\n",
      "deque([0, 0, 0, 0, 0, 0, 0, 0, 0, 0, 0, 0, 0, 0, 0, 0, 0, 0, 0, 0, 0, 0, 0, 0, 0, 0, 0, 0, 0, 0, 0, 0, 0, 0, 0, 0, 0, 0, 0, 0, 0, 0, 0, 0, 0, 0, 0, 0, 0, 0, 0, 0, 0, 0, 0, 0, 0, 0, 0, 0, 0, 0, 0, 0, 10, 0, 0, 0, 0, 0, 0, 0, 0, 0, 0, 0, 0, 0, 0, 0, 0, 0, 0, 0, 0, 0, 0, 0, 0, 0, 0, 0, 0, 0, 0, 0, 0, 0, 0, 0]) 10\n",
      "deque([0, 0, 0, 0, 0, 0, 0, 0, 0, 0, 0, 0, 0, 0, 0, 0, 0, 0, 0, 0, 0, 0, 0, 0, 0, 0, 0, 0, 0, 0, 0, 0, 0, 0, 0, 0, 0, 0, 0, 0, 0, 0, 0, 0, 0, 0, 0, 0, 0, 0, 0, 0, 0, 0, 0, 0, 0, 0, 0, 0, 0, 0, 0, 10, 0, 0, 0, 0, 0, 0, 0, 0, 0, 0, 0, 0, 0, 0, 0, 0, 0, 0, 0, 0, 0, 0, 0, 0, 0, 0, 0, 0, 0, 0, 0, 0, 0, 0, 0, 0]) 10\n",
      "deque([0, 0, 0, 0, 0, 0, 0, 0, 0, 0, 0, 0, 0, 0, 0, 0, 0, 0, 0, 0, 0, 0, 0, 0, 0, 0, 0, 0, 0, 0, 0, 0, 0, 0, 0, 0, 0, 0, 0, 0, 0, 0, 0, 0, 0, 0, 0, 0, 0, 0, 0, 0, 0, 0, 0, 0, 0, 0, 0, 0, 0, 0, 10, 0, 0, 0, 0, 0, 0, 0, 0, 0, 0, 0, 0, 0, 0, 0, 0, 0, 0, 0, 0, 0, 0, 0, 0, 0, 0, 0, 0, 0, 0, 0, 0, 0, 0, 0, 0, 0]) 10\n",
      "deque([0, 0, 0, 0, 0, 0, 0, 0, 0, 0, 0, 0, 0, 0, 0, 0, 0, 0, 0, 0, 0, 0, 0, 0, 0, 0, 0, 0, 0, 0, 0, 0, 0, 0, 0, 0, 0, 0, 0, 0, 0, 0, 0, 0, 0, 0, 0, 0, 0, 0, 0, 0, 0, 0, 0, 0, 0, 0, 0, 0, 0, 10, 0, 0, 0, 0, 0, 0, 0, 0, 0, 0, 0, 0, 0, 0, 0, 0, 0, 0, 0, 0, 0, 0, 0, 0, 0, 0, 0, 0, 0, 0, 0, 0, 0, 0, 0, 0, 0, 0]) 10\n",
      "deque([0, 0, 0, 0, 0, 0, 0, 0, 0, 0, 0, 0, 0, 0, 0, 0, 0, 0, 0, 0, 0, 0, 0, 0, 0, 0, 0, 0, 0, 0, 0, 0, 0, 0, 0, 0, 0, 0, 0, 0, 0, 0, 0, 0, 0, 0, 0, 0, 0, 0, 0, 0, 0, 0, 0, 0, 0, 0, 0, 0, 10, 0, 0, 0, 0, 0, 0, 0, 0, 0, 0, 0, 0, 0, 0, 0, 0, 0, 0, 0, 0, 0, 0, 0, 0, 0, 0, 0, 0, 0, 0, 0, 0, 0, 0, 0, 0, 0, 0, 0]) 10\n",
      "deque([0, 0, 0, 0, 0, 0, 0, 0, 0, 0, 0, 0, 0, 0, 0, 0, 0, 0, 0, 0, 0, 0, 0, 0, 0, 0, 0, 0, 0, 0, 0, 0, 0, 0, 0, 0, 0, 0, 0, 0, 0, 0, 0, 0, 0, 0, 0, 0, 0, 0, 0, 0, 0, 0, 0, 0, 0, 0, 0, 10, 0, 0, 0, 0, 0, 0, 0, 0, 0, 0, 0, 0, 0, 0, 0, 0, 0, 0, 0, 0, 0, 0, 0, 0, 0, 0, 0, 0, 0, 0, 0, 0, 0, 0, 0, 0, 0, 0, 0, 0]) 10\n",
      "deque([0, 0, 0, 0, 0, 0, 0, 0, 0, 0, 0, 0, 0, 0, 0, 0, 0, 0, 0, 0, 0, 0, 0, 0, 0, 0, 0, 0, 0, 0, 0, 0, 0, 0, 0, 0, 0, 0, 0, 0, 0, 0, 0, 0, 0, 0, 0, 0, 0, 0, 0, 0, 0, 0, 0, 0, 0, 0, 10, 0, 0, 0, 0, 0, 0, 0, 0, 0, 0, 0, 0, 0, 0, 0, 0, 0, 0, 0, 0, 0, 0, 0, 0, 0, 0, 0, 0, 0, 0, 0, 0, 0, 0, 0, 0, 0, 0, 0, 0, 0]) 10\n",
      "deque([0, 0, 0, 0, 0, 0, 0, 0, 0, 0, 0, 0, 0, 0, 0, 0, 0, 0, 0, 0, 0, 0, 0, 0, 0, 0, 0, 0, 0, 0, 0, 0, 0, 0, 0, 0, 0, 0, 0, 0, 0, 0, 0, 0, 0, 0, 0, 0, 0, 0, 0, 0, 0, 0, 0, 0, 0, 10, 0, 0, 0, 0, 0, 0, 0, 0, 0, 0, 0, 0, 0, 0, 0, 0, 0, 0, 0, 0, 0, 0, 0, 0, 0, 0, 0, 0, 0, 0, 0, 0, 0, 0, 0, 0, 0, 0, 0, 0, 0, 0]) 10\n",
      "deque([0, 0, 0, 0, 0, 0, 0, 0, 0, 0, 0, 0, 0, 0, 0, 0, 0, 0, 0, 0, 0, 0, 0, 0, 0, 0, 0, 0, 0, 0, 0, 0, 0, 0, 0, 0, 0, 0, 0, 0, 0, 0, 0, 0, 0, 0, 0, 0, 0, 0, 0, 0, 0, 0, 0, 0, 10, 0, 0, 0, 0, 0, 0, 0, 0, 0, 0, 0, 0, 0, 0, 0, 0, 0, 0, 0, 0, 0, 0, 0, 0, 0, 0, 0, 0, 0, 0, 0, 0, 0, 0, 0, 0, 0, 0, 0, 0, 0, 0, 0]) 10\n",
      "deque([0, 0, 0, 0, 0, 0, 0, 0, 0, 0, 0, 0, 0, 0, 0, 0, 0, 0, 0, 0, 0, 0, 0, 0, 0, 0, 0, 0, 0, 0, 0, 0, 0, 0, 0, 0, 0, 0, 0, 0, 0, 0, 0, 0, 0, 0, 0, 0, 0, 0, 0, 0, 0, 0, 0, 10, 0, 0, 0, 0, 0, 0, 0, 0, 0, 0, 0, 0, 0, 0, 0, 0, 0, 0, 0, 0, 0, 0, 0, 0, 0, 0, 0, 0, 0, 0, 0, 0, 0, 0, 0, 0, 0, 0, 0, 0, 0, 0, 0, 0]) 10\n",
      "deque([0, 0, 0, 0, 0, 0, 0, 0, 0, 0, 0, 0, 0, 0, 0, 0, 0, 0, 0, 0, 0, 0, 0, 0, 0, 0, 0, 0, 0, 0, 0, 0, 0, 0, 0, 0, 0, 0, 0, 0, 0, 0, 0, 0, 0, 0, 0, 0, 0, 0, 0, 0, 0, 0, 10, 0, 0, 0, 0, 0, 0, 0, 0, 0, 0, 0, 0, 0, 0, 0, 0, 0, 0, 0, 0, 0, 0, 0, 0, 0, 0, 0, 0, 0, 0, 0, 0, 0, 0, 0, 0, 0, 0, 0, 0, 0, 0, 0, 0, 0]) 10\n",
      "deque([0, 0, 0, 0, 0, 0, 0, 0, 0, 0, 0, 0, 0, 0, 0, 0, 0, 0, 0, 0, 0, 0, 0, 0, 0, 0, 0, 0, 0, 0, 0, 0, 0, 0, 0, 0, 0, 0, 0, 0, 0, 0, 0, 0, 0, 0, 0, 0, 0, 0, 0, 0, 0, 10, 0, 0, 0, 0, 0, 0, 0, 0, 0, 0, 0, 0, 0, 0, 0, 0, 0, 0, 0, 0, 0, 0, 0, 0, 0, 0, 0, 0, 0, 0, 0, 0, 0, 0, 0, 0, 0, 0, 0, 0, 0, 0, 0, 0, 0, 0]) 10\n",
      "deque([0, 0, 0, 0, 0, 0, 0, 0, 0, 0, 0, 0, 0, 0, 0, 0, 0, 0, 0, 0, 0, 0, 0, 0, 0, 0, 0, 0, 0, 0, 0, 0, 0, 0, 0, 0, 0, 0, 0, 0, 0, 0, 0, 0, 0, 0, 0, 0, 0, 0, 0, 0, 10, 0, 0, 0, 0, 0, 0, 0, 0, 0, 0, 0, 0, 0, 0, 0, 0, 0, 0, 0, 0, 0, 0, 0, 0, 0, 0, 0, 0, 0, 0, 0, 0, 0, 0, 0, 0, 0, 0, 0, 0, 0, 0, 0, 0, 0, 0, 0]) 10\n",
      "deque([0, 0, 0, 0, 0, 0, 0, 0, 0, 0, 0, 0, 0, 0, 0, 0, 0, 0, 0, 0, 0, 0, 0, 0, 0, 0, 0, 0, 0, 0, 0, 0, 0, 0, 0, 0, 0, 0, 0, 0, 0, 0, 0, 0, 0, 0, 0, 0, 0, 0, 0, 10, 0, 0, 0, 0, 0, 0, 0, 0, 0, 0, 0, 0, 0, 0, 0, 0, 0, 0, 0, 0, 0, 0, 0, 0, 0, 0, 0, 0, 0, 0, 0, 0, 0, 0, 0, 0, 0, 0, 0, 0, 0, 0, 0, 0, 0, 0, 0, 0]) 10\n",
      "deque([0, 0, 0, 0, 0, 0, 0, 0, 0, 0, 0, 0, 0, 0, 0, 0, 0, 0, 0, 0, 0, 0, 0, 0, 0, 0, 0, 0, 0, 0, 0, 0, 0, 0, 0, 0, 0, 0, 0, 0, 0, 0, 0, 0, 0, 0, 0, 0, 0, 0, 10, 0, 0, 0, 0, 0, 0, 0, 0, 0, 0, 0, 0, 0, 0, 0, 0, 0, 0, 0, 0, 0, 0, 0, 0, 0, 0, 0, 0, 0, 0, 0, 0, 0, 0, 0, 0, 0, 0, 0, 0, 0, 0, 0, 0, 0, 0, 0, 0, 0]) 10\n",
      "deque([0, 0, 0, 0, 0, 0, 0, 0, 0, 0, 0, 0, 0, 0, 0, 0, 0, 0, 0, 0, 0, 0, 0, 0, 0, 0, 0, 0, 0, 0, 0, 0, 0, 0, 0, 0, 0, 0, 0, 0, 0, 0, 0, 0, 0, 0, 0, 0, 0, 10, 0, 0, 0, 0, 0, 0, 0, 0, 0, 0, 0, 0, 0, 0, 0, 0, 0, 0, 0, 0, 0, 0, 0, 0, 0, 0, 0, 0, 0, 0, 0, 0, 0, 0, 0, 0, 0, 0, 0, 0, 0, 0, 0, 0, 0, 0, 0, 0, 0, 0]) 10\n",
      "deque([0, 0, 0, 0, 0, 0, 0, 0, 0, 0, 0, 0, 0, 0, 0, 0, 0, 0, 0, 0, 0, 0, 0, 0, 0, 0, 0, 0, 0, 0, 0, 0, 0, 0, 0, 0, 0, 0, 0, 0, 0, 0, 0, 0, 0, 0, 0, 0, 10, 0, 0, 0, 0, 0, 0, 0, 0, 0, 0, 0, 0, 0, 0, 0, 0, 0, 0, 0, 0, 0, 0, 0, 0, 0, 0, 0, 0, 0, 0, 0, 0, 0, 0, 0, 0, 0, 0, 0, 0, 0, 0, 0, 0, 0, 0, 0, 0, 0, 0, 0]) 10\n",
      "deque([0, 0, 0, 0, 0, 0, 0, 0, 0, 0, 0, 0, 0, 0, 0, 0, 0, 0, 0, 0, 0, 0, 0, 0, 0, 0, 0, 0, 0, 0, 0, 0, 0, 0, 0, 0, 0, 0, 0, 0, 0, 0, 0, 0, 0, 0, 0, 10, 0, 0, 0, 0, 0, 0, 0, 0, 0, 0, 0, 0, 0, 0, 0, 0, 0, 0, 0, 0, 0, 0, 0, 0, 0, 0, 0, 0, 0, 0, 0, 0, 0, 0, 0, 0, 0, 0, 0, 0, 0, 0, 0, 0, 0, 0, 0, 0, 0, 0, 0, 0]) 10\n",
      "deque([0, 0, 0, 0, 0, 0, 0, 0, 0, 0, 0, 0, 0, 0, 0, 0, 0, 0, 0, 0, 0, 0, 0, 0, 0, 0, 0, 0, 0, 0, 0, 0, 0, 0, 0, 0, 0, 0, 0, 0, 0, 0, 0, 0, 0, 0, 10, 0, 0, 0, 0, 0, 0, 0, 0, 0, 0, 0, 0, 0, 0, 0, 0, 0, 0, 0, 0, 0, 0, 0, 0, 0, 0, 0, 0, 0, 0, 0, 0, 0, 0, 0, 0, 0, 0, 0, 0, 0, 0, 0, 0, 0, 0, 0, 0, 0, 0, 0, 0, 0]) 10\n",
      "deque([0, 0, 0, 0, 0, 0, 0, 0, 0, 0, 0, 0, 0, 0, 0, 0, 0, 0, 0, 0, 0, 0, 0, 0, 0, 0, 0, 0, 0, 0, 0, 0, 0, 0, 0, 0, 0, 0, 0, 0, 0, 0, 0, 0, 0, 10, 0, 0, 0, 0, 0, 0, 0, 0, 0, 0, 0, 0, 0, 0, 0, 0, 0, 0, 0, 0, 0, 0, 0, 0, 0, 0, 0, 0, 0, 0, 0, 0, 0, 0, 0, 0, 0, 0, 0, 0, 0, 0, 0, 0, 0, 0, 0, 0, 0, 0, 0, 0, 0, 0]) 10\n",
      "deque([0, 0, 0, 0, 0, 0, 0, 0, 0, 0, 0, 0, 0, 0, 0, 0, 0, 0, 0, 0, 0, 0, 0, 0, 0, 0, 0, 0, 0, 0, 0, 0, 0, 0, 0, 0, 0, 0, 0, 0, 0, 0, 0, 0, 10, 0, 0, 0, 0, 0, 0, 0, 0, 0, 0, 0, 0, 0, 0, 0, 0, 0, 0, 0, 0, 0, 0, 0, 0, 0, 0, 0, 0, 0, 0, 0, 0, 0, 0, 0, 0, 0, 0, 0, 0, 0, 0, 0, 0, 0, 0, 0, 0, 0, 0, 0, 0, 0, 0, 0]) 10\n",
      "deque([0, 0, 0, 0, 0, 0, 0, 0, 0, 0, 0, 0, 0, 0, 0, 0, 0, 0, 0, 0, 0, 0, 0, 0, 0, 0, 0, 0, 0, 0, 0, 0, 0, 0, 0, 0, 0, 0, 0, 0, 0, 0, 0, 10, 0, 0, 0, 0, 0, 0, 0, 0, 0, 0, 0, 0, 0, 0, 0, 0, 0, 0, 0, 0, 0, 0, 0, 0, 0, 0, 0, 0, 0, 0, 0, 0, 0, 0, 0, 0, 0, 0, 0, 0, 0, 0, 0, 0, 0, 0, 0, 0, 0, 0, 0, 0, 0, 0, 0, 0]) 10\n",
      "deque([0, 0, 0, 0, 0, 0, 0, 0, 0, 0, 0, 0, 0, 0, 0, 0, 0, 0, 0, 0, 0, 0, 0, 0, 0, 0, 0, 0, 0, 0, 0, 0, 0, 0, 0, 0, 0, 0, 0, 0, 0, 0, 10, 0, 0, 0, 0, 0, 0, 0, 0, 0, 0, 0, 0, 0, 0, 0, 0, 0, 0, 0, 0, 0, 0, 0, 0, 0, 0, 0, 0, 0, 0, 0, 0, 0, 0, 0, 0, 0, 0, 0, 0, 0, 0, 0, 0, 0, 0, 0, 0, 0, 0, 0, 0, 0, 0, 0, 0, 0]) 10\n",
      "deque([0, 0, 0, 0, 0, 0, 0, 0, 0, 0, 0, 0, 0, 0, 0, 0, 0, 0, 0, 0, 0, 0, 0, 0, 0, 0, 0, 0, 0, 0, 0, 0, 0, 0, 0, 0, 0, 0, 0, 0, 0, 10, 0, 0, 0, 0, 0, 0, 0, 0, 0, 0, 0, 0, 0, 0, 0, 0, 0, 0, 0, 0, 0, 0, 0, 0, 0, 0, 0, 0, 0, 0, 0, 0, 0, 0, 0, 0, 0, 0, 0, 0, 0, 0, 0, 0, 0, 0, 0, 0, 0, 0, 0, 0, 0, 0, 0, 0, 0, 0]) 10\n",
      "deque([0, 0, 0, 0, 0, 0, 0, 0, 0, 0, 0, 0, 0, 0, 0, 0, 0, 0, 0, 0, 0, 0, 0, 0, 0, 0, 0, 0, 0, 0, 0, 0, 0, 0, 0, 0, 0, 0, 0, 0, 10, 0, 0, 0, 0, 0, 0, 0, 0, 0, 0, 0, 0, 0, 0, 0, 0, 0, 0, 0, 0, 0, 0, 0, 0, 0, 0, 0, 0, 0, 0, 0, 0, 0, 0, 0, 0, 0, 0, 0, 0, 0, 0, 0, 0, 0, 0, 0, 0, 0, 0, 0, 0, 0, 0, 0, 0, 0, 0, 0]) 10\n",
      "deque([0, 0, 0, 0, 0, 0, 0, 0, 0, 0, 0, 0, 0, 0, 0, 0, 0, 0, 0, 0, 0, 0, 0, 0, 0, 0, 0, 0, 0, 0, 0, 0, 0, 0, 0, 0, 0, 0, 0, 10, 0, 0, 0, 0, 0, 0, 0, 0, 0, 0, 0, 0, 0, 0, 0, 0, 0, 0, 0, 0, 0, 0, 0, 0, 0, 0, 0, 0, 0, 0, 0, 0, 0, 0, 0, 0, 0, 0, 0, 0, 0, 0, 0, 0, 0, 0, 0, 0, 0, 0, 0, 0, 0, 0, 0, 0, 0, 0, 0, 0]) 10\n",
      "deque([0, 0, 0, 0, 0, 0, 0, 0, 0, 0, 0, 0, 0, 0, 0, 0, 0, 0, 0, 0, 0, 0, 0, 0, 0, 0, 0, 0, 0, 0, 0, 0, 0, 0, 0, 0, 0, 0, 10, 0, 0, 0, 0, 0, 0, 0, 0, 0, 0, 0, 0, 0, 0, 0, 0, 0, 0, 0, 0, 0, 0, 0, 0, 0, 0, 0, 0, 0, 0, 0, 0, 0, 0, 0, 0, 0, 0, 0, 0, 0, 0, 0, 0, 0, 0, 0, 0, 0, 0, 0, 0, 0, 0, 0, 0, 0, 0, 0, 0, 0]) 10\n",
      "deque([0, 0, 0, 0, 0, 0, 0, 0, 0, 0, 0, 0, 0, 0, 0, 0, 0, 0, 0, 0, 0, 0, 0, 0, 0, 0, 0, 0, 0, 0, 0, 0, 0, 0, 0, 0, 0, 10, 0, 0, 0, 0, 0, 0, 0, 0, 0, 0, 0, 0, 0, 0, 0, 0, 0, 0, 0, 0, 0, 0, 0, 0, 0, 0, 0, 0, 0, 0, 0, 0, 0, 0, 0, 0, 0, 0, 0, 0, 0, 0, 0, 0, 0, 0, 0, 0, 0, 0, 0, 0, 0, 0, 0, 0, 0, 0, 0, 0, 0, 0]) 10\n",
      "deque([0, 0, 0, 0, 0, 0, 0, 0, 0, 0, 0, 0, 0, 0, 0, 0, 0, 0, 0, 0, 0, 0, 0, 0, 0, 0, 0, 0, 0, 0, 0, 0, 0, 0, 0, 0, 10, 0, 0, 0, 0, 0, 0, 0, 0, 0, 0, 0, 0, 0, 0, 0, 0, 0, 0, 0, 0, 0, 0, 0, 0, 0, 0, 0, 0, 0, 0, 0, 0, 0, 0, 0, 0, 0, 0, 0, 0, 0, 0, 0, 0, 0, 0, 0, 0, 0, 0, 0, 0, 0, 0, 0, 0, 0, 0, 0, 0, 0, 0, 0]) 10\n",
      "deque([0, 0, 0, 0, 0, 0, 0, 0, 0, 0, 0, 0, 0, 0, 0, 0, 0, 0, 0, 0, 0, 0, 0, 0, 0, 0, 0, 0, 0, 0, 0, 0, 0, 0, 0, 10, 0, 0, 0, 0, 0, 0, 0, 0, 0, 0, 0, 0, 0, 0, 0, 0, 0, 0, 0, 0, 0, 0, 0, 0, 0, 0, 0, 0, 0, 0, 0, 0, 0, 0, 0, 0, 0, 0, 0, 0, 0, 0, 0, 0, 0, 0, 0, 0, 0, 0, 0, 0, 0, 0, 0, 0, 0, 0, 0, 0, 0, 0, 0, 0]) 10\n",
      "deque([0, 0, 0, 0, 0, 0, 0, 0, 0, 0, 0, 0, 0, 0, 0, 0, 0, 0, 0, 0, 0, 0, 0, 0, 0, 0, 0, 0, 0, 0, 0, 0, 0, 0, 10, 0, 0, 0, 0, 0, 0, 0, 0, 0, 0, 0, 0, 0, 0, 0, 0, 0, 0, 0, 0, 0, 0, 0, 0, 0, 0, 0, 0, 0, 0, 0, 0, 0, 0, 0, 0, 0, 0, 0, 0, 0, 0, 0, 0, 0, 0, 0, 0, 0, 0, 0, 0, 0, 0, 0, 0, 0, 0, 0, 0, 0, 0, 0, 0, 0]) 10\n",
      "deque([0, 0, 0, 0, 0, 0, 0, 0, 0, 0, 0, 0, 0, 0, 0, 0, 0, 0, 0, 0, 0, 0, 0, 0, 0, 0, 0, 0, 0, 0, 0, 0, 0, 10, 0, 0, 0, 0, 0, 0, 0, 0, 0, 0, 0, 0, 0, 0, 0, 0, 0, 0, 0, 0, 0, 0, 0, 0, 0, 0, 0, 0, 0, 0, 0, 0, 0, 0, 0, 0, 0, 0, 0, 0, 0, 0, 0, 0, 0, 0, 0, 0, 0, 0, 0, 0, 0, 0, 0, 0, 0, 0, 0, 0, 0, 0, 0, 0, 0, 0]) 10\n",
      "deque([0, 0, 0, 0, 0, 0, 0, 0, 0, 0, 0, 0, 0, 0, 0, 0, 0, 0, 0, 0, 0, 0, 0, 0, 0, 0, 0, 0, 0, 0, 0, 0, 10, 0, 0, 0, 0, 0, 0, 0, 0, 0, 0, 0, 0, 0, 0, 0, 0, 0, 0, 0, 0, 0, 0, 0, 0, 0, 0, 0, 0, 0, 0, 0, 0, 0, 0, 0, 0, 0, 0, 0, 0, 0, 0, 0, 0, 0, 0, 0, 0, 0, 0, 0, 0, 0, 0, 0, 0, 0, 0, 0, 0, 0, 0, 0, 0, 0, 0, 0]) 10\n",
      "deque([0, 0, 0, 0, 0, 0, 0, 0, 0, 0, 0, 0, 0, 0, 0, 0, 0, 0, 0, 0, 0, 0, 0, 0, 0, 0, 0, 0, 0, 0, 0, 10, 0, 0, 0, 0, 0, 0, 0, 0, 0, 0, 0, 0, 0, 0, 0, 0, 0, 0, 0, 0, 0, 0, 0, 0, 0, 0, 0, 0, 0, 0, 0, 0, 0, 0, 0, 0, 0, 0, 0, 0, 0, 0, 0, 0, 0, 0, 0, 0, 0, 0, 0, 0, 0, 0, 0, 0, 0, 0, 0, 0, 0, 0, 0, 0, 0, 0, 0, 0]) 10\n",
      "deque([0, 0, 0, 0, 0, 0, 0, 0, 0, 0, 0, 0, 0, 0, 0, 0, 0, 0, 0, 0, 0, 0, 0, 0, 0, 0, 0, 0, 0, 0, 10, 0, 0, 0, 0, 0, 0, 0, 0, 0, 0, 0, 0, 0, 0, 0, 0, 0, 0, 0, 0, 0, 0, 0, 0, 0, 0, 0, 0, 0, 0, 0, 0, 0, 0, 0, 0, 0, 0, 0, 0, 0, 0, 0, 0, 0, 0, 0, 0, 0, 0, 0, 0, 0, 0, 0, 0, 0, 0, 0, 0, 0, 0, 0, 0, 0, 0, 0, 0, 0]) 10\n",
      "deque([0, 0, 0, 0, 0, 0, 0, 0, 0, 0, 0, 0, 0, 0, 0, 0, 0, 0, 0, 0, 0, 0, 0, 0, 0, 0, 0, 0, 0, 10, 0, 0, 0, 0, 0, 0, 0, 0, 0, 0, 0, 0, 0, 0, 0, 0, 0, 0, 0, 0, 0, 0, 0, 0, 0, 0, 0, 0, 0, 0, 0, 0, 0, 0, 0, 0, 0, 0, 0, 0, 0, 0, 0, 0, 0, 0, 0, 0, 0, 0, 0, 0, 0, 0, 0, 0, 0, 0, 0, 0, 0, 0, 0, 0, 0, 0, 0, 0, 0, 0]) 10\n",
      "deque([0, 0, 0, 0, 0, 0, 0, 0, 0, 0, 0, 0, 0, 0, 0, 0, 0, 0, 0, 0, 0, 0, 0, 0, 0, 0, 0, 0, 10, 0, 0, 0, 0, 0, 0, 0, 0, 0, 0, 0, 0, 0, 0, 0, 0, 0, 0, 0, 0, 0, 0, 0, 0, 0, 0, 0, 0, 0, 0, 0, 0, 0, 0, 0, 0, 0, 0, 0, 0, 0, 0, 0, 0, 0, 0, 0, 0, 0, 0, 0, 0, 0, 0, 0, 0, 0, 0, 0, 0, 0, 0, 0, 0, 0, 0, 0, 0, 0, 0, 0]) 10\n",
      "deque([0, 0, 0, 0, 0, 0, 0, 0, 0, 0, 0, 0, 0, 0, 0, 0, 0, 0, 0, 0, 0, 0, 0, 0, 0, 0, 0, 10, 0, 0, 0, 0, 0, 0, 0, 0, 0, 0, 0, 0, 0, 0, 0, 0, 0, 0, 0, 0, 0, 0, 0, 0, 0, 0, 0, 0, 0, 0, 0, 0, 0, 0, 0, 0, 0, 0, 0, 0, 0, 0, 0, 0, 0, 0, 0, 0, 0, 0, 0, 0, 0, 0, 0, 0, 0, 0, 0, 0, 0, 0, 0, 0, 0, 0, 0, 0, 0, 0, 0, 0]) 10\n",
      "deque([0, 0, 0, 0, 0, 0, 0, 0, 0, 0, 0, 0, 0, 0, 0, 0, 0, 0, 0, 0, 0, 0, 0, 0, 0, 0, 10, 0, 0, 0, 0, 0, 0, 0, 0, 0, 0, 0, 0, 0, 0, 0, 0, 0, 0, 0, 0, 0, 0, 0, 0, 0, 0, 0, 0, 0, 0, 0, 0, 0, 0, 0, 0, 0, 0, 0, 0, 0, 0, 0, 0, 0, 0, 0, 0, 0, 0, 0, 0, 0, 0, 0, 0, 0, 0, 0, 0, 0, 0, 0, 0, 0, 0, 0, 0, 0, 0, 0, 0, 0]) 10\n",
      "deque([0, 0, 0, 0, 0, 0, 0, 0, 0, 0, 0, 0, 0, 0, 0, 0, 0, 0, 0, 0, 0, 0, 0, 0, 0, 10, 0, 0, 0, 0, 0, 0, 0, 0, 0, 0, 0, 0, 0, 0, 0, 0, 0, 0, 0, 0, 0, 0, 0, 0, 0, 0, 0, 0, 0, 0, 0, 0, 0, 0, 0, 0, 0, 0, 0, 0, 0, 0, 0, 0, 0, 0, 0, 0, 0, 0, 0, 0, 0, 0, 0, 0, 0, 0, 0, 0, 0, 0, 0, 0, 0, 0, 0, 0, 0, 0, 0, 0, 0, 0]) 10\n",
      "deque([0, 0, 0, 0, 0, 0, 0, 0, 0, 0, 0, 0, 0, 0, 0, 0, 0, 0, 0, 0, 0, 0, 0, 0, 10, 0, 0, 0, 0, 0, 0, 0, 0, 0, 0, 0, 0, 0, 0, 0, 0, 0, 0, 0, 0, 0, 0, 0, 0, 0, 0, 0, 0, 0, 0, 0, 0, 0, 0, 0, 0, 0, 0, 0, 0, 0, 0, 0, 0, 0, 0, 0, 0, 0, 0, 0, 0, 0, 0, 0, 0, 0, 0, 0, 0, 0, 0, 0, 0, 0, 0, 0, 0, 0, 0, 0, 0, 0, 0, 0]) 10\n",
      "deque([0, 0, 0, 0, 0, 0, 0, 0, 0, 0, 0, 0, 0, 0, 0, 0, 0, 0, 0, 0, 0, 0, 0, 10, 0, 0, 0, 0, 0, 0, 0, 0, 0, 0, 0, 0, 0, 0, 0, 0, 0, 0, 0, 0, 0, 0, 0, 0, 0, 0, 0, 0, 0, 0, 0, 0, 0, 0, 0, 0, 0, 0, 0, 0, 0, 0, 0, 0, 0, 0, 0, 0, 0, 0, 0, 0, 0, 0, 0, 0, 0, 0, 0, 0, 0, 0, 0, 0, 0, 0, 0, 0, 0, 0, 0, 0, 0, 0, 0, 0]) 10\n",
      "deque([0, 0, 0, 0, 0, 0, 0, 0, 0, 0, 0, 0, 0, 0, 0, 0, 0, 0, 0, 0, 0, 0, 10, 0, 0, 0, 0, 0, 0, 0, 0, 0, 0, 0, 0, 0, 0, 0, 0, 0, 0, 0, 0, 0, 0, 0, 0, 0, 0, 0, 0, 0, 0, 0, 0, 0, 0, 0, 0, 0, 0, 0, 0, 0, 0, 0, 0, 0, 0, 0, 0, 0, 0, 0, 0, 0, 0, 0, 0, 0, 0, 0, 0, 0, 0, 0, 0, 0, 0, 0, 0, 0, 0, 0, 0, 0, 0, 0, 0, 0]) 10\n",
      "deque([0, 0, 0, 0, 0, 0, 0, 0, 0, 0, 0, 0, 0, 0, 0, 0, 0, 0, 0, 0, 0, 10, 0, 0, 0, 0, 0, 0, 0, 0, 0, 0, 0, 0, 0, 0, 0, 0, 0, 0, 0, 0, 0, 0, 0, 0, 0, 0, 0, 0, 0, 0, 0, 0, 0, 0, 0, 0, 0, 0, 0, 0, 0, 0, 0, 0, 0, 0, 0, 0, 0, 0, 0, 0, 0, 0, 0, 0, 0, 0, 0, 0, 0, 0, 0, 0, 0, 0, 0, 0, 0, 0, 0, 0, 0, 0, 0, 0, 0, 0]) 10\n",
      "deque([0, 0, 0, 0, 0, 0, 0, 0, 0, 0, 0, 0, 0, 0, 0, 0, 0, 0, 0, 0, 10, 0, 0, 0, 0, 0, 0, 0, 0, 0, 0, 0, 0, 0, 0, 0, 0, 0, 0, 0, 0, 0, 0, 0, 0, 0, 0, 0, 0, 0, 0, 0, 0, 0, 0, 0, 0, 0, 0, 0, 0, 0, 0, 0, 0, 0, 0, 0, 0, 0, 0, 0, 0, 0, 0, 0, 0, 0, 0, 0, 0, 0, 0, 0, 0, 0, 0, 0, 0, 0, 0, 0, 0, 0, 0, 0, 0, 0, 0, 0]) 10\n",
      "deque([0, 0, 0, 0, 0, 0, 0, 0, 0, 0, 0, 0, 0, 0, 0, 0, 0, 0, 0, 10, 0, 0, 0, 0, 0, 0, 0, 0, 0, 0, 0, 0, 0, 0, 0, 0, 0, 0, 0, 0, 0, 0, 0, 0, 0, 0, 0, 0, 0, 0, 0, 0, 0, 0, 0, 0, 0, 0, 0, 0, 0, 0, 0, 0, 0, 0, 0, 0, 0, 0, 0, 0, 0, 0, 0, 0, 0, 0, 0, 0, 0, 0, 0, 0, 0, 0, 0, 0, 0, 0, 0, 0, 0, 0, 0, 0, 0, 0, 0, 0]) 10\n",
      "deque([0, 0, 0, 0, 0, 0, 0, 0, 0, 0, 0, 0, 0, 0, 0, 0, 0, 0, 10, 0, 0, 0, 0, 0, 0, 0, 0, 0, 0, 0, 0, 0, 0, 0, 0, 0, 0, 0, 0, 0, 0, 0, 0, 0, 0, 0, 0, 0, 0, 0, 0, 0, 0, 0, 0, 0, 0, 0, 0, 0, 0, 0, 0, 0, 0, 0, 0, 0, 0, 0, 0, 0, 0, 0, 0, 0, 0, 0, 0, 0, 0, 0, 0, 0, 0, 0, 0, 0, 0, 0, 0, 0, 0, 0, 0, 0, 0, 0, 0, 0]) 10\n",
      "deque([0, 0, 0, 0, 0, 0, 0, 0, 0, 0, 0, 0, 0, 0, 0, 0, 0, 10, 0, 0, 0, 0, 0, 0, 0, 0, 0, 0, 0, 0, 0, 0, 0, 0, 0, 0, 0, 0, 0, 0, 0, 0, 0, 0, 0, 0, 0, 0, 0, 0, 0, 0, 0, 0, 0, 0, 0, 0, 0, 0, 0, 0, 0, 0, 0, 0, 0, 0, 0, 0, 0, 0, 0, 0, 0, 0, 0, 0, 0, 0, 0, 0, 0, 0, 0, 0, 0, 0, 0, 0, 0, 0, 0, 0, 0, 0, 0, 0, 0, 0]) 10\n",
      "deque([0, 0, 0, 0, 0, 0, 0, 0, 0, 0, 0, 0, 0, 0, 0, 0, 10, 0, 0, 0, 0, 0, 0, 0, 0, 0, 0, 0, 0, 0, 0, 0, 0, 0, 0, 0, 0, 0, 0, 0, 0, 0, 0, 0, 0, 0, 0, 0, 0, 0, 0, 0, 0, 0, 0, 0, 0, 0, 0, 0, 0, 0, 0, 0, 0, 0, 0, 0, 0, 0, 0, 0, 0, 0, 0, 0, 0, 0, 0, 0, 0, 0, 0, 0, 0, 0, 0, 0, 0, 0, 0, 0, 0, 0, 0, 0, 0, 0, 0, 0]) 10\n",
      "deque([0, 0, 0, 0, 0, 0, 0, 0, 0, 0, 0, 0, 0, 0, 0, 10, 0, 0, 0, 0, 0, 0, 0, 0, 0, 0, 0, 0, 0, 0, 0, 0, 0, 0, 0, 0, 0, 0, 0, 0, 0, 0, 0, 0, 0, 0, 0, 0, 0, 0, 0, 0, 0, 0, 0, 0, 0, 0, 0, 0, 0, 0, 0, 0, 0, 0, 0, 0, 0, 0, 0, 0, 0, 0, 0, 0, 0, 0, 0, 0, 0, 0, 0, 0, 0, 0, 0, 0, 0, 0, 0, 0, 0, 0, 0, 0, 0, 0, 0, 0]) 10\n",
      "deque([0, 0, 0, 0, 0, 0, 0, 0, 0, 0, 0, 0, 0, 0, 10, 0, 0, 0, 0, 0, 0, 0, 0, 0, 0, 0, 0, 0, 0, 0, 0, 0, 0, 0, 0, 0, 0, 0, 0, 0, 0, 0, 0, 0, 0, 0, 0, 0, 0, 0, 0, 0, 0, 0, 0, 0, 0, 0, 0, 0, 0, 0, 0, 0, 0, 0, 0, 0, 0, 0, 0, 0, 0, 0, 0, 0, 0, 0, 0, 0, 0, 0, 0, 0, 0, 0, 0, 0, 0, 0, 0, 0, 0, 0, 0, 0, 0, 0, 0, 0]) 10\n",
      "deque([0, 0, 0, 0, 0, 0, 0, 0, 0, 0, 0, 0, 0, 10, 0, 0, 0, 0, 0, 0, 0, 0, 0, 0, 0, 0, 0, 0, 0, 0, 0, 0, 0, 0, 0, 0, 0, 0, 0, 0, 0, 0, 0, 0, 0, 0, 0, 0, 0, 0, 0, 0, 0, 0, 0, 0, 0, 0, 0, 0, 0, 0, 0, 0, 0, 0, 0, 0, 0, 0, 0, 0, 0, 0, 0, 0, 0, 0, 0, 0, 0, 0, 0, 0, 0, 0, 0, 0, 0, 0, 0, 0, 0, 0, 0, 0, 0, 0, 0, 0]) 10\n",
      "deque([0, 0, 0, 0, 0, 0, 0, 0, 0, 0, 0, 0, 10, 0, 0, 0, 0, 0, 0, 0, 0, 0, 0, 0, 0, 0, 0, 0, 0, 0, 0, 0, 0, 0, 0, 0, 0, 0, 0, 0, 0, 0, 0, 0, 0, 0, 0, 0, 0, 0, 0, 0, 0, 0, 0, 0, 0, 0, 0, 0, 0, 0, 0, 0, 0, 0, 0, 0, 0, 0, 0, 0, 0, 0, 0, 0, 0, 0, 0, 0, 0, 0, 0, 0, 0, 0, 0, 0, 0, 0, 0, 0, 0, 0, 0, 0, 0, 0, 0, 0]) 10\n",
      "deque([0, 0, 0, 0, 0, 0, 0, 0, 0, 0, 0, 10, 0, 0, 0, 0, 0, 0, 0, 0, 0, 0, 0, 0, 0, 0, 0, 0, 0, 0, 0, 0, 0, 0, 0, 0, 0, 0, 0, 0, 0, 0, 0, 0, 0, 0, 0, 0, 0, 0, 0, 0, 0, 0, 0, 0, 0, 0, 0, 0, 0, 0, 0, 0, 0, 0, 0, 0, 0, 0, 0, 0, 0, 0, 0, 0, 0, 0, 0, 0, 0, 0, 0, 0, 0, 0, 0, 0, 0, 0, 0, 0, 0, 0, 0, 0, 0, 0, 0, 0]) 10\n",
      "deque([0, 0, 0, 0, 0, 0, 0, 0, 0, 0, 10, 0, 0, 0, 0, 0, 0, 0, 0, 0, 0, 0, 0, 0, 0, 0, 0, 0, 0, 0, 0, 0, 0, 0, 0, 0, 0, 0, 0, 0, 0, 0, 0, 0, 0, 0, 0, 0, 0, 0, 0, 0, 0, 0, 0, 0, 0, 0, 0, 0, 0, 0, 0, 0, 0, 0, 0, 0, 0, 0, 0, 0, 0, 0, 0, 0, 0, 0, 0, 0, 0, 0, 0, 0, 0, 0, 0, 0, 0, 0, 0, 0, 0, 0, 0, 0, 0, 0, 0, 0]) 10\n",
      "deque([0, 0, 0, 0, 0, 0, 0, 0, 0, 10, 0, 0, 0, 0, 0, 0, 0, 0, 0, 0, 0, 0, 0, 0, 0, 0, 0, 0, 0, 0, 0, 0, 0, 0, 0, 0, 0, 0, 0, 0, 0, 0, 0, 0, 0, 0, 0, 0, 0, 0, 0, 0, 0, 0, 0, 0, 0, 0, 0, 0, 0, 0, 0, 0, 0, 0, 0, 0, 0, 0, 0, 0, 0, 0, 0, 0, 0, 0, 0, 0, 0, 0, 0, 0, 0, 0, 0, 0, 0, 0, 0, 0, 0, 0, 0, 0, 0, 0, 0, 0]) 10\n",
      "deque([0, 0, 0, 0, 0, 0, 0, 0, 10, 0, 0, 0, 0, 0, 0, 0, 0, 0, 0, 0, 0, 0, 0, 0, 0, 0, 0, 0, 0, 0, 0, 0, 0, 0, 0, 0, 0, 0, 0, 0, 0, 0, 0, 0, 0, 0, 0, 0, 0, 0, 0, 0, 0, 0, 0, 0, 0, 0, 0, 0, 0, 0, 0, 0, 0, 0, 0, 0, 0, 0, 0, 0, 0, 0, 0, 0, 0, 0, 0, 0, 0, 0, 0, 0, 0, 0, 0, 0, 0, 0, 0, 0, 0, 0, 0, 0, 0, 0, 0, 0]) 10\n",
      "deque([0, 0, 0, 0, 0, 0, 0, 10, 0, 0, 0, 0, 0, 0, 0, 0, 0, 0, 0, 0, 0, 0, 0, 0, 0, 0, 0, 0, 0, 0, 0, 0, 0, 0, 0, 0, 0, 0, 0, 0, 0, 0, 0, 0, 0, 0, 0, 0, 0, 0, 0, 0, 0, 0, 0, 0, 0, 0, 0, 0, 0, 0, 0, 0, 0, 0, 0, 0, 0, 0, 0, 0, 0, 0, 0, 0, 0, 0, 0, 0, 0, 0, 0, 0, 0, 0, 0, 0, 0, 0, 0, 0, 0, 0, 0, 0, 0, 0, 0, 0]) 10\n",
      "deque([0, 0, 0, 0, 0, 0, 10, 0, 0, 0, 0, 0, 0, 0, 0, 0, 0, 0, 0, 0, 0, 0, 0, 0, 0, 0, 0, 0, 0, 0, 0, 0, 0, 0, 0, 0, 0, 0, 0, 0, 0, 0, 0, 0, 0, 0, 0, 0, 0, 0, 0, 0, 0, 0, 0, 0, 0, 0, 0, 0, 0, 0, 0, 0, 0, 0, 0, 0, 0, 0, 0, 0, 0, 0, 0, 0, 0, 0, 0, 0, 0, 0, 0, 0, 0, 0, 0, 0, 0, 0, 0, 0, 0, 0, 0, 0, 0, 0, 0, 0]) 10\n",
      "deque([0, 0, 0, 0, 0, 10, 0, 0, 0, 0, 0, 0, 0, 0, 0, 0, 0, 0, 0, 0, 0, 0, 0, 0, 0, 0, 0, 0, 0, 0, 0, 0, 0, 0, 0, 0, 0, 0, 0, 0, 0, 0, 0, 0, 0, 0, 0, 0, 0, 0, 0, 0, 0, 0, 0, 0, 0, 0, 0, 0, 0, 0, 0, 0, 0, 0, 0, 0, 0, 0, 0, 0, 0, 0, 0, 0, 0, 0, 0, 0, 0, 0, 0, 0, 0, 0, 0, 0, 0, 0, 0, 0, 0, 0, 0, 0, 0, 0, 0, 0]) 10\n",
      "deque([0, 0, 0, 0, 10, 0, 0, 0, 0, 0, 0, 0, 0, 0, 0, 0, 0, 0, 0, 0, 0, 0, 0, 0, 0, 0, 0, 0, 0, 0, 0, 0, 0, 0, 0, 0, 0, 0, 0, 0, 0, 0, 0, 0, 0, 0, 0, 0, 0, 0, 0, 0, 0, 0, 0, 0, 0, 0, 0, 0, 0, 0, 0, 0, 0, 0, 0, 0, 0, 0, 0, 0, 0, 0, 0, 0, 0, 0, 0, 0, 0, 0, 0, 0, 0, 0, 0, 0, 0, 0, 0, 0, 0, 0, 0, 0, 0, 0, 0, 0]) 10\n",
      "deque([0, 0, 0, 10, 0, 0, 0, 0, 0, 0, 0, 0, 0, 0, 0, 0, 0, 0, 0, 0, 0, 0, 0, 0, 0, 0, 0, 0, 0, 0, 0, 0, 0, 0, 0, 0, 0, 0, 0, 0, 0, 0, 0, 0, 0, 0, 0, 0, 0, 0, 0, 0, 0, 0, 0, 0, 0, 0, 0, 0, 0, 0, 0, 0, 0, 0, 0, 0, 0, 0, 0, 0, 0, 0, 0, 0, 0, 0, 0, 0, 0, 0, 0, 0, 0, 0, 0, 0, 0, 0, 0, 0, 0, 0, 0, 0, 0, 0, 0, 0]) 10\n",
      "deque([0, 0, 10, 0, 0, 0, 0, 0, 0, 0, 0, 0, 0, 0, 0, 0, 0, 0, 0, 0, 0, 0, 0, 0, 0, 0, 0, 0, 0, 0, 0, 0, 0, 0, 0, 0, 0, 0, 0, 0, 0, 0, 0, 0, 0, 0, 0, 0, 0, 0, 0, 0, 0, 0, 0, 0, 0, 0, 0, 0, 0, 0, 0, 0, 0, 0, 0, 0, 0, 0, 0, 0, 0, 0, 0, 0, 0, 0, 0, 0, 0, 0, 0, 0, 0, 0, 0, 0, 0, 0, 0, 0, 0, 0, 0, 0, 0, 0, 0, 0]) 10\n",
      "deque([0, 10, 0, 0, 0, 0, 0, 0, 0, 0, 0, 0, 0, 0, 0, 0, 0, 0, 0, 0, 0, 0, 0, 0, 0, 0, 0, 0, 0, 0, 0, 0, 0, 0, 0, 0, 0, 0, 0, 0, 0, 0, 0, 0, 0, 0, 0, 0, 0, 0, 0, 0, 0, 0, 0, 0, 0, 0, 0, 0, 0, 0, 0, 0, 0, 0, 0, 0, 0, 0, 0, 0, 0, 0, 0, 0, 0, 0, 0, 0, 0, 0, 0, 0, 0, 0, 0, 0, 0, 0, 0, 0, 0, 0, 0, 0, 0, 0, 0, 0]) 10\n",
      "deque([10, 0, 0, 0, 0, 0, 0, 0, 0, 0, 0, 0, 0, 0, 0, 0, 0, 0, 0, 0, 0, 0, 0, 0, 0, 0, 0, 0, 0, 0, 0, 0, 0, 0, 0, 0, 0, 0, 0, 0, 0, 0, 0, 0, 0, 0, 0, 0, 0, 0, 0, 0, 0, 0, 0, 0, 0, 0, 0, 0, 0, 0, 0, 0, 0, 0, 0, 0, 0, 0, 0, 0, 0, 0, 0, 0, 0, 0, 0, 0, 0, 0, 0, 0, 0, 0, 0, 0, 0, 0, 0, 0, 0, 0, 0, 0, 0, 0, 0, 0]) 10\n",
      "deque([0, 0, 0, 0, 0, 0, 0, 0, 0, 0, 0, 0, 0, 0, 0, 0, 0, 0, 0, 0, 0, 0, 0, 0, 0, 0, 0, 0, 0, 0, 0, 0, 0, 0, 0, 0, 0, 0, 0, 0, 0, 0, 0, 0, 0, 0, 0, 0, 0, 0, 0, 0, 0, 0, 0, 0, 0, 0, 0, 0, 0, 0, 0, 0, 0, 0, 0, 0, 0, 0, 0, 0, 0, 0, 0, 0, 0, 0, 0, 0, 0, 0, 0, 0, 0, 0, 0, 0, 0, 0, 0, 0, 0, 0, 0, 0, 0, 0, 0, 0]) 0\n"
     ]
    },
    {
     "data": {
      "text/plain": [
       "101"
      ]
     },
     "execution_count": 88,
     "metadata": {},
     "output_type": "execute_result"
    }
   ],
   "source": [
    "from collections import deque\n",
    "\n",
    "\n",
    "def solution(bridge_length, weight, truck):\n",
    "    cnt = 0\n",
    "    bridge = [0] * bridge_length\n",
    "    bridge = deque(bridge)\n",
    "    truck = deque(truck)\n",
    "    w = 0\n",
    "    \n",
    "    while True:\n",
    "        if not truck and sum(bridge) == 0:\n",
    "            break\n",
    "        cnt += 1\n",
    "        w -= bridge.popleft()\n",
    "        \n",
    "        \n",
    "        if truck and truck[0] + w <= weight:\n",
    "            t = truck.popleft()\n",
    "            bridge.append(t)\n",
    "            w += t\n",
    "            print(bridge, w)\n",
    "            \n",
    "        else:\n",
    "            bridge.append(0)\n",
    "            print(bridge, w)\n",
    "            \n",
    "            \n",
    "    \n",
    "    return cnt\n",
    "\n",
    "\n",
    "# solution(2, 10, [7,4,5,6])\n",
    "solution(100, 100, [10])\n"
   ]
  },
  {
   "cell_type": "code",
   "execution_count": 101,
   "id": "97da6dcb",
   "metadata": {},
   "outputs": [
    {
     "data": {
      "text/plain": [
       "['ICN', 'CCC', 'DDD', 'ICN', 'AAA', 'BBB', 'AAA', 'BBB']"
      ]
     },
     "execution_count": 101,
     "metadata": {},
     "output_type": "execute_result"
    }
   ],
   "source": [
    "from collections import deque\n",
    "\n",
    "def solution(tickets):\n",
    "    return bfs(tickets)\n",
    "\n",
    "def bfs(tickets):\n",
    "    answer = []\n",
    "    queue = deque()\n",
    "    queue.append(('ICN', ['ICN'], []))\n",
    "    \n",
    "    while queue:\n",
    "        end, path, visited = queue.popleft()\n",
    "        if len(visited) == len(tickets):\n",
    "            answer.append(path)\n",
    "        \n",
    "        \n",
    "        for idx, ticket in enumerate(tickets):\n",
    "            if ticket[0] == end and not idx in visited: \n",
    "                queue.append((ticket[1], path+[ticket[1]], visited+[idx]))\n",
    "                \n",
    "    answer.sort()\n",
    "    \n",
    "    return answer[0]\n",
    "\n",
    "\n",
    "solution([[\"ICN\", \"AAA\"], [\"ICN\", \"CCC\"], [\"CCC\", \"DDD\"], [\"AAA\", \"BBB\"], [\"AAA\", \"BBB\"], [\"DDD\", \"ICN\"], [\"BBB\", \"AAA\"]])"
   ]
  },
  {
   "cell_type": "code",
   "execution_count": 109,
   "id": "0a2764bc",
   "metadata": {},
   "outputs": [
    {
     "name": "stdout",
     "output_type": "stream",
     "text": [
      "[[50, 60], [30, 70], [60, 30], [80, 40]]\n",
      "80 70\n",
      "[[60, 50], [70, 30], [60, 30], [80, 40]]\n",
      "80 50\n",
      "[[60, 50], [30, 70], [30, 60], [80, 40]]\n",
      "80 70\n",
      "[[60, 50], [30, 70], [60, 30], [40, 80]]\n",
      "60 80\n",
      "4000\n"
     ]
    }
   ],
   "source": [
    "sizes = [[60, 50], [30, 70], [60, 30], [80, 40]]\n",
    "wallet = 10000\n",
    "for i in range(len(sizes)):\t\n",
    "    sizes[i] = sizes[i][::-1]\n",
    "    print(sizes)\n",
    "    \n",
    "    tmpw = 0\n",
    "    tmph = 0\n",
    "    for a, b in sizes:\n",
    "        tmpw = max(tmpw, a)\n",
    "        tmph = max(tmph, b) \n",
    "    wallet = min(wallet, tmpw*tmph)\n",
    "        \n",
    "    sizes[i] = sizes[i][::-1]\n",
    "    \n",
    "print(wallet)"
   ]
  },
  {
   "cell_type": "code",
   "execution_count": 112,
   "id": "748fb855",
   "metadata": {},
   "outputs": [
    {
     "name": "stdout",
     "output_type": "stream",
     "text": [
      "0\n"
     ]
    }
   ],
   "source": [
    "a = [2, 2, 2]\n",
    "print(a.index(max(a)))"
   ]
  },
  {
   "cell_type": "code",
   "execution_count": 114,
   "id": "9537782d",
   "metadata": {},
   "outputs": [
    {
     "data": {
      "text/plain": [
       "3"
      ]
     },
     "execution_count": 114,
     "metadata": {},
     "output_type": "execute_result"
    }
   ],
   "source": [
    "from itertools import permutations\n",
    "from collections import deque\n",
    "import math\n",
    "\n",
    "def check(n):\n",
    "    for i in range(2, int(math.sqrt(n))+1):\n",
    "        if n % i == 0:\n",
    "            return False\n",
    "    return True\n",
    "    \n",
    "    \n",
    "\n",
    "def solution(numbers):\n",
    "    num = list(numbers)\n",
    "    queue = []\n",
    "    answer = 0\n",
    "    \n",
    "    \n",
    "    for i in range(1, len(num)+1):\n",
    "        for j in permutations(num, i):\n",
    "            tmp = int(''.join(j))\n",
    "            if tmp not in queue and tmp > 1:\n",
    "                queue.append(tmp)\n",
    "                \n",
    "    queue.sort()\n",
    "    queue = deque(queue)\n",
    "    \n",
    "    while queue:\n",
    "        if check(queue.popleft()):\n",
    "            answer += 1\n",
    "            \n",
    "        \n",
    "    \n",
    "    return answer\n",
    "\n",
    "solution(\"17\")"
   ]
  },
  {
   "cell_type": "code",
   "execution_count": null,
   "id": "b432b19d",
   "metadata": {},
   "outputs": [],
   "source": []
  },
  {
   "cell_type": "code",
   "execution_count": null,
   "id": "9749c42b",
   "metadata": {},
   "outputs": [],
   "source": []
  },
  {
   "cell_type": "code",
   "execution_count": null,
   "id": "94dea880",
   "metadata": {},
   "outputs": [],
   "source": []
  },
  {
   "cell_type": "code",
   "execution_count": null,
   "id": "f9e19aae",
   "metadata": {},
   "outputs": [],
   "source": []
  },
  {
   "cell_type": "code",
   "execution_count": null,
   "id": "2a3e8cbe",
   "metadata": {},
   "outputs": [],
   "source": []
  },
  {
   "cell_type": "code",
   "execution_count": null,
   "id": "a2b74d5b",
   "metadata": {},
   "outputs": [],
   "source": []
  },
  {
   "cell_type": "code",
   "execution_count": null,
   "id": "da86ef09",
   "metadata": {},
   "outputs": [],
   "source": []
  },
  {
   "cell_type": "code",
   "execution_count": null,
   "id": "58559a7e",
   "metadata": {},
   "outputs": [],
   "source": []
  },
  {
   "cell_type": "code",
   "execution_count": null,
   "id": "d0f81e3f",
   "metadata": {},
   "outputs": [],
   "source": []
  },
  {
   "cell_type": "code",
   "execution_count": null,
   "id": "0ead4551",
   "metadata": {},
   "outputs": [],
   "source": []
  },
  {
   "cell_type": "code",
   "execution_count": null,
   "id": "c840bcf3",
   "metadata": {},
   "outputs": [],
   "source": []
  }
 ],
 "metadata": {
  "kernelspec": {
   "display_name": "Python 3 (ipykernel)",
   "language": "python",
   "name": "python3"
  },
  "language_info": {
   "codemirror_mode": {
    "name": "ipython",
    "version": 3
   },
   "file_extension": ".py",
   "mimetype": "text/x-python",
   "name": "python",
   "nbconvert_exporter": "python",
   "pygments_lexer": "ipython3",
   "version": "3.9.13"
  }
 },
 "nbformat": 4,
 "nbformat_minor": 5
}
