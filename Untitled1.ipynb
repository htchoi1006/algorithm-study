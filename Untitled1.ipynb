{
 "cells": [
  {
   "cell_type": "code",
   "execution_count": 6,
   "id": "d8006de9",
   "metadata": {},
   "outputs": [
    {
     "name": "stdout",
     "output_type": "stream",
     "text": [
      "2 1\n"
     ]
    }
   ],
   "source": [
    "from collections import deque\n",
    "\n",
    "# n = int(input())\n",
    "n = 3\n",
    "# space = [list(map(int, input().split())) for _ in range(n)]\n",
    "space = [[0, 0, 1], [0, 0, 0], [0, 9, 0]]\n",
    "pos = []\n",
    "\n",
    "for i in range(n):\n",
    "    for j in range(n):\n",
    "        if graph[i][j] == 9:\n",
    "            pos.append(i)\n",
    "            pos.append(j)\n",
    "            \n",
    "            \n",
    "dx = [0, 0, -1, 1]\n",
    "dy = [-1, 1, 0, 0]\n",
    "cnt = 0\n",
    "\n",
    "\n",
    "def bfs(x, y):\n",
    "    visited = [[0]*n for _ in range(n)]\n",
    "    queue = deque([[x, y]])\n",
    "    cand = []\n",
    "    \n",
    "    visited[x][y] = 1\n",
    "    \n",
    "    while queue:\n",
    "        a, b = queue.popleft()\n",
    "        \n",
    "        for i in range(4):\n",
    "            nx = a + dx[i]\n",
    "            ny = b + dy[i]\n",
    "            \n",
    "            if 0 <= nx < n and 0 <= ny < n and visited[nx][ny] == 0:\n",
    "                if space[x][y] > space[nx][ny] and space[nx][ny] != 0:\n",
    "                    visited[nx][ny] = visited[a][b] + 1\n",
    "                    cand.append((visited[nx][ny]-1, nx, ny))\n",
    "                elif space[x][y] == space[nx][ny]:\n",
    "                    visited[nx][ny] = visited[a][b] + 1\n",
    "                    queue.append([nx, ny])\n",
    "                elif space[nx][ny] == 0:\n",
    "                    \n",
    "                \n",
    "                \n",
    "                \n",
    "\n",
    "i, j = pos\n",
    "size = [2, 0]\n",
    "\n",
    "while True:\n",
    "    space[i][j] = size[0]\n",
    "    cand = deque(bfs(i, j))"
   ]
  },
  {
   "cell_type": "code",
   "execution_count": 11,
   "id": "059da73e",
   "metadata": {},
   "outputs": [
    {
     "name": "stdout",
     "output_type": "stream",
     "text": [
      "3\n"
     ]
    }
   ],
   "source": [
    "# n, m = map(int, input().split())\n",
    "# field = [list(map(int, input().split())) for _ in range(n)]\n",
    "n, m = 4, 5\n",
    "field = [[50, 45, 37, 32, 30], [35, 50, 40, 20, 25], [30, 30, 25, 17, 28], [27, 24, 22, 15, 10]]\n",
    "\n",
    "\n",
    "dx = [0, 0, -1, 1]\n",
    "dy = [-1, 1, 0, 0]\n",
    "\n",
    "dp = [[-1]*m for _ in range(n)]\n",
    "cnt = 0\n",
    "\n",
    "\n",
    "def dfs(x, y):\n",
    "    if x == n-1 and y == m-1:\n",
    "        return 1\n",
    "    \n",
    "    if dp[x][y] != -1:\n",
    "        return dp[x][y]\n",
    "    \n",
    "    ways = 0\n",
    "    for i in range(4):\n",
    "        nx = x + dx[i]\n",
    "        ny = y + dy[i]\n",
    "        \n",
    "        if 0 <= nx < n and 0 <= ny < m and field[x][y] > field[nx][ny]:\n",
    "            ways += dfs(nx, ny)\n",
    "            \n",
    "    dp[x][y] = ways\n",
    "    return dp[x][y]\n",
    "                \n",
    "                \n",
    "print(dfs(0, 0))\n",
    "\n"
   ]
  },
  {
   "cell_type": "code",
   "execution_count": 16,
   "id": "157ca73a",
   "metadata": {},
   "outputs": [
    {
     "name": "stdout",
     "output_type": "stream",
     "text": [
      "5 17\n",
      "2\n"
     ]
    }
   ],
   "source": [
    "from collections import deque\n",
    "\n",
    "n, k = map(int, input().split())\n",
    "time = [0] * 100001\n",
    "\n",
    "\n",
    "def bfs(x, y):\n",
    "    queue = deque()\n",
    "    if x == 0:\n",
    "        queue.append(1)\n",
    "    else:\n",
    "        queue.append(x)\n",
    "        \n",
    "    while queue:\n",
    "        x = queue.popleft()\n",
    "        if y == x:\n",
    "            return time[x]\n",
    "        \n",
    "        for nx in (x-1, x+1, x*2):\n",
    "            if 0 <= nx < 100001 and time[nx] == 0:\n",
    "                if nx == x*2:\n",
    "                    time[nx] = time[x]\n",
    "                    queue.appendleft(nx)\n",
    "                else:\n",
    "                    time[nx] = time[x] + 1\n",
    "                    queue.append(nx)\n",
    "        \n",
    "        \n",
    "\n",
    "if n == 0:\n",
    "    print(bfs(n, k) + 1)\n",
    "else:\n",
    "    print(bfs(n, k))\n"
   ]
  },
  {
   "cell_type": "code",
   "execution_count": 15,
   "id": "6a0790da",
   "metadata": {},
   "outputs": [
    {
     "name": "stdout",
     "output_type": "stream",
     "text": [
      "5 17\n",
      "2\n"
     ]
    }
   ],
   "source": [
    "\n",
    "a,b = map(int,input().split())\n",
    "limit = 100001\n",
    "time = [0]*limit\n",
    " \n",
    "def bfs(x,y):\n",
    "    q = deque()\n",
    "    if x == 0 :\n",
    "        q.append(1)\n",
    "    else :\n",
    "        q.append(x)\n",
    "    \n",
    "    while q:\n",
    "        x = q.popleft()\n",
    "        if y == x :\n",
    "            return time[x]\n",
    "        \n",
    "        for nx in (x-1,x+1,x*2):\n",
    "            if 0 <= nx < limit and time[nx]==0:\n",
    "                if nx == 2*x :\n",
    "                    time[nx] = time[x]\n",
    "                    q.appendleft(nx)\n",
    "                else : \n",
    "                    time[nx] = time[x] + 1\n",
    "                    q.append(nx)\n",
    "\n",
    "if a==0 :\n",
    "    print(bfs(a,b)+1)\n",
    "else :\n",
    "    print(bfs(a,b))"
   ]
  },
  {
   "cell_type": "code",
   "execution_count": 25,
   "id": "01112698",
   "metadata": {},
   "outputs": [
    {
     "name": "stdout",
     "output_type": "stream",
     "text": [
      "6 5\n",
      "1 2\n",
      "2 5\n",
      "5 1\n",
      "3 4\n",
      "4 6\n",
      "2\n"
     ]
    }
   ],
   "source": [
    "n, m = map(int, input().split())\n",
    "# n, m = 6, 5\n",
    "graph = [[] for _ in range(n+1)]\n",
    "visited = [0] * (n+1)\n",
    "\n",
    "for _ in range(m):\n",
    "    a, b = map(int, input().split())\n",
    "    graph[a].append(b)\n",
    "    graph[b].append(a)\n",
    "\n",
    "\n",
    "def dfs(v):\n",
    "    visited[v] = 1\n",
    "    for i in graph[v]:\n",
    "        if visited[i] == 0:\n",
    "            visited[i] = 1\n",
    "            dfs(i)\n",
    "            \n",
    "cnt = 0\n",
    "            \n",
    "for i in range(1, n+1):\n",
    "    if visited[i] == 0:\n",
    "        cnt += 1\n",
    "        dfs(i)\n",
    "        \n",
    "print(cnt)\n",
    "\n",
    "\n",
    "    \n",
    "\n",
    "\n",
    "    "
   ]
  },
  {
   "cell_type": "code",
   "execution_count": 42,
   "id": "6c14b0b8",
   "metadata": {},
   "outputs": [
    {
     "name": "stdout",
     "output_type": "stream",
     "text": [
      "2\n",
      "6\n",
      "5 8\n",
      "22\n",
      "10946 17711\n"
     ]
    }
   ],
   "source": [
    "n = int(input())\n",
    "\n",
    "zero = [1, 0, 1]\n",
    "one = [0, 1, 1]\n",
    "\n",
    "def fibo(x):\n",
    "    length = len(zero)\n",
    "    if x >= length:\n",
    "        for i in range(length, x+1):\n",
    "            zero.append(zero[i-1] + zero[i-2])\n",
    "            one.append(one[i-1] + one[i-2])\n",
    "            \n",
    "    print(zero[x], one[x])\n",
    "    \n",
    "\n",
    "for _ in range(n):\n",
    "    fibo(int(input()))"
   ]
  },
  {
   "cell_type": "code",
   "execution_count": 45,
   "id": "a848e9e1",
   "metadata": {},
   "outputs": [
    {
     "name": "stdout",
     "output_type": "stream",
     "text": [
      "3\n",
      "96\n"
     ]
    }
   ],
   "source": [
    "n = int(input())\n",
    "a = [list(map(int, input().split())) for _ in range(n)]\n",
    "# a = [[26, 40, 83], [49, 60, 57], [13, 89, 99]]\n",
    "\n",
    "for i in range(1, n):\n",
    "    a[i][0] += min(a[i-1][1], a[i-1][2]) \n",
    "    a[i][1] += min(a[i-1][0], a[i-1][2])\n",
    "    a[i][2] += min(a[i-1][0], a[i-1][1])\n",
    "    \n",
    "print(min(a[n-1][0], a[n-1][1], a[n-1][2]))\n",
    "    "
   ]
  },
  {
   "cell_type": "code",
   "execution_count": 52,
   "id": "91c49c50",
   "metadata": {},
   "outputs": [
    {
     "name": "stdout",
     "output_type": "stream",
     "text": [
      "6\n",
      "75\n"
     ]
    }
   ],
   "source": [
    "n = int(input())\n",
    "stair = [0] * 301\n",
    "for i in range(1, n+1):\n",
    "    stair[i] = int(input())\n",
    "dp = [0] * 301\n",
    "\n",
    "dp[1] = stair[1]\n",
    "dp[2] = stair[1] + stair[2]\n",
    "dp[3] = max(stair[1] + stair[3], stair[2] + stair[3])\n",
    "\n",
    "for i in range(4, n+1):\n",
    "    dp[i] = max(stair[i] + stair[i-1] + dp[i-3], stair[i] + dp[i-2])\n",
    "    \n",
    "print(dp[n])\n"
   ]
  },
  {
   "cell_type": "code",
   "execution_count": 74,
   "id": "c0321470",
   "metadata": {},
   "outputs": [
    {
     "name": "stdout",
     "output_type": "stream",
     "text": [
      "c=c=\n",
      "deque(['c'])\n",
      "deque(['c', '='])\n",
      "1 1\n",
      "deque(['c'])\n",
      "deque(['c', '='])\n",
      "1 2\n",
      "2\n",
      "deque([])\n",
      "2\n"
     ]
    }
   ],
   "source": [
    "from collections import deque\n",
    "\n",
    "word = list(input())\n",
    "croatia = ['c=', 'c-', 'dz=', 'd-', 'lj', 'nj', 's=', 'z=']\n",
    "ans = 0\n",
    "queue = deque()\n",
    "\n",
    "for i in word:\n",
    "    queue.append(i)\n",
    "    \n",
    "    if (''.join(queue)) in croatia:\n",
    "        for i in range(len(queue)):\n",
    "            queue.popleft()\n",
    "            \n",
    "        ans += 1\n",
    "\n",
    "        \n",
    "    if len(queue) >= 3:\n",
    "        queue.popleft()\n",
    "        ans += 1\n",
    "        if (''.join(queue)) in croatia:\n",
    "            for i in range(len(queue)):\n",
    "                queue.popleft()\n",
    "\n",
    "            ans += 1\n",
    "\n",
    "if queue:\n",
    "    ans += len(queue)\n",
    "        \n",
    "print(ans)\n",
    "\n",
    "\n"
   ]
  },
  {
   "cell_type": "code",
   "execution_count": 77,
   "id": "664441bf",
   "metadata": {},
   "outputs": [
    {
     "name": "stdout",
     "output_type": "stream",
     "text": [
      "ljes=njak\n",
      "ljes=njak\n",
      "ljes=njak\n",
      "ljes=njak\n",
      "ljes=njak\n",
      "aes=njak\n",
      "aes=aak\n",
      "aeaaak\n",
      "aeaaak\n"
     ]
    }
   ],
   "source": [
    "word = input()\n",
    "croatia = ['c=', 'c-', 'dz=', 'd-', 'lj', 'nj', 's=', 'z=']\n",
    "\n",
    "for i in croatia:\n",
    "    word = word.replace(i, 'a')\n",
    "print(len(word))"
   ]
  },
  {
   "cell_type": "code",
   "execution_count": 87,
   "id": "386e66d7",
   "metadata": {},
   "outputs": [
    {
     "name": "stdout",
     "output_type": "stream",
     "text": [
      "1\n",
      "4 2\n",
      "1 2 3 4\n",
      "deque([(1, 0), (2, 1), (3, 2), (4, 3)])\n"
     ]
    }
   ],
   "source": [
    "from collections import deque\n",
    "\n",
    "t = int(input())\n",
    "\n",
    "for _ in range(t):\n",
    "    n, idx = map(int, input().split())\n",
    "    queue = deque(map(int, input().split()))\n",
    "    queue = deque([(i, idx) for idx, i in enumerate(queue)])\n",
    "\n",
    "    \n",
    "    cnt = 0\n",
    "    \n",
    "    while True:\n",
    "        if queue[0][0] == max(queue, key=lambda x: x[0])[0]:\n",
    "            cnt += 1\n",
    "            if queue[0][1] == idx:\n",
    "                print(cnt)\n",
    "                break\n",
    "            else:\n",
    "                queue.popleft()\n",
    "        else:\n",
    "            queue.append(queue.popleft())\n",
    "        \n",
    "    \n",
    "    \n",
    "    "
   ]
  },
  {
   "cell_type": "code",
   "execution_count": null,
   "id": "31e9e631",
   "metadata": {},
   "outputs": [],
   "source": [
    "# 3\n",
    "1 0\n",
    "5\n",
    "4 2\n",
    "1 2 3 4\n",
    "6 0\n",
    "1 1 9 1 1 1"
   ]
  },
  {
   "cell_type": "code",
   "execution_count": 90,
   "id": "4bd322b1",
   "metadata": {},
   "outputs": [
    {
     "name": "stdout",
     "output_type": "stream",
     "text": [
      "(4, 3)\n"
     ]
    }
   ],
   "source": [
    "q = deque([(1, 0), (2, 1), (3, 2), (4, 3)])\n",
    "print(max(q, key=lambda x: x[0]))"
   ]
  },
  {
   "cell_type": "code",
   "execution_count": null,
   "id": "bcfc1e6f",
   "metadata": {},
   "outputs": [],
   "source": []
  },
  {
   "cell_type": "code",
   "execution_count": null,
   "id": "67822ae9",
   "metadata": {},
   "outputs": [],
   "source": []
  },
  {
   "cell_type": "code",
   "execution_count": null,
   "id": "8f7f1ff5",
   "metadata": {},
   "outputs": [],
   "source": []
  },
  {
   "cell_type": "code",
   "execution_count": null,
   "id": "4e959a01",
   "metadata": {},
   "outputs": [],
   "source": []
  },
  {
   "cell_type": "code",
   "execution_count": null,
   "id": "40bc115c",
   "metadata": {},
   "outputs": [],
   "source": []
  },
  {
   "cell_type": "code",
   "execution_count": null,
   "id": "a9a39b84",
   "metadata": {},
   "outputs": [],
   "source": []
  },
  {
   "cell_type": "code",
   "execution_count": null,
   "id": "135ff6fb",
   "metadata": {},
   "outputs": [],
   "source": []
  },
  {
   "cell_type": "code",
   "execution_count": null,
   "id": "ee88147d",
   "metadata": {},
   "outputs": [],
   "source": []
  },
  {
   "cell_type": "code",
   "execution_count": null,
   "id": "9ebf0714",
   "metadata": {},
   "outputs": [],
   "source": []
  },
  {
   "cell_type": "code",
   "execution_count": null,
   "id": "92ac3940",
   "metadata": {},
   "outputs": [],
   "source": []
  },
  {
   "cell_type": "code",
   "execution_count": null,
   "id": "347e1bc6",
   "metadata": {},
   "outputs": [],
   "source": []
  },
  {
   "cell_type": "code",
   "execution_count": null,
   "id": "5bd69ffd",
   "metadata": {},
   "outputs": [],
   "source": []
  },
  {
   "cell_type": "code",
   "execution_count": null,
   "id": "d0f81e3f",
   "metadata": {},
   "outputs": [],
   "source": []
  },
  {
   "cell_type": "code",
   "execution_count": null,
   "id": "0ead4551",
   "metadata": {},
   "outputs": [],
   "source": []
  },
  {
   "cell_type": "code",
   "execution_count": null,
   "id": "c840bcf3",
   "metadata": {},
   "outputs": [],
   "source": []
  }
 ],
 "metadata": {
  "kernelspec": {
   "display_name": "Python 3 (ipykernel)",
   "language": "python",
   "name": "python3"
  },
  "language_info": {
   "codemirror_mode": {
    "name": "ipython",
    "version": 3
   },
   "file_extension": ".py",
   "mimetype": "text/x-python",
   "name": "python",
   "nbconvert_exporter": "python",
   "pygments_lexer": "ipython3",
   "version": "3.9.13"
  }
 },
 "nbformat": 4,
 "nbformat_minor": 5
}
