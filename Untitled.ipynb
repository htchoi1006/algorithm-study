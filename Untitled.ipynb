{
 "cells": [
  {
   "cell_type": "code",
   "execution_count": 2,
   "id": "36671458",
   "metadata": {},
   "outputs": [
    {
     "name": "stdout",
     "output_type": "stream",
     "text": [
      "1000 100\n",
      "10.0\n",
      "0\n"
     ]
    }
   ],
   "source": [
    "a, b = map(int, input().split())\n",
    "\n",
    "print(a//b)\n",
    "print(a%b)\n",
    "\n"
   ]
  },
  {
   "cell_type": "code",
   "execution_count": 4,
   "id": "9093fa20",
   "metadata": {},
   "outputs": [
    {
     "name": "stdout",
     "output_type": "stream",
     "text": [
      "A\n",
      "10\n"
     ]
    }
   ],
   "source": [
    "num = input()\n",
    "\n",
    "print(int(num, 16))"
   ]
  },
  {
   "cell_type": "code",
   "execution_count": 8,
   "id": "38fe2090",
   "metadata": {},
   "outputs": [
    {
     "name": "stdout",
     "output_type": "stream",
     "text": [
      "3\n",
      "config.sys\n",
      "config.inf\n",
      "configures\n",
      "config????\n"
     ]
    }
   ],
   "source": [
    "n = int(input())\n",
    "a = list(input())\n",
    "\n",
    "for i in range(n-1):\n",
    "    b = list(input())\n",
    "    for j in range(len(a)):\n",
    "        if(a[j] != b[j]):\n",
    "            a[j] = '?'\n",
    "\n",
    "print(\"\".join(a))\n",
    "\n"
   ]
  },
  {
   "cell_type": "code",
   "execution_count": 22,
   "id": "bfd9b498",
   "metadata": {},
   "outputs": [
    {
     "name": "stdout",
     "output_type": "stream",
     "text": [
      "1\n",
      "60\n"
     ]
    }
   ],
   "source": [
    "def calculation(n):\n",
    "    tmp = n//10 + n%10\n",
    "    tmp = (n%10)*10 + tmp%10\n",
    "    return tmp\n",
    "\n",
    "\n",
    "\n",
    "n = int(input())\n",
    "cnt = 0\n",
    "answer = n\n",
    "while(True):\n",
    "    answer = calculation(answer)\n",
    "    cnt += 1\n",
    "    if(answer == n):\n",
    "        break\n",
    "        \n",
    "print(cnt)\n"
   ]
  },
  {
   "cell_type": "code",
   "execution_count": 26,
   "id": "065caf87",
   "metadata": {},
   "outputs": [
    {
     "name": "stdout",
     "output_type": "stream",
     "text": [
      "32 42 70 35 90\n",
      "210\n"
     ]
    }
   ],
   "source": [
    "nums = list(map(int, input().split()))\n",
    "n = min(nums)\n",
    "\n",
    "while(True):\n",
    "    cnt = 0\n",
    "    for i in range(len(nums)):\n",
    "        if(n % nums[i] == 0):\n",
    "            cnt += 1\n",
    "    \n",
    "    if(cnt > 2):\n",
    "        break\n",
    "    \n",
    "    n += 1\n",
    "    \n",
    "print(n)"
   ]
  },
  {
   "cell_type": "code",
   "execution_count": 42,
   "id": "5c4148f9",
   "metadata": {},
   "outputs": [
    {
     "name": "stdout",
     "output_type": "stream",
     "text": [
      "aabbbc\n",
      "B\n"
     ]
    }
   ],
   "source": [
    "word = input()\n",
    "word = word.upper()\n",
    "a = {'A':0, 'B':0, 'C':0, 'D':0, 'E':0, 'F':0, 'G':0, \n",
    "     'H':0, 'I':0, 'J':0, 'K':0, 'L':0, 'M':0, 'N':0, \n",
    "     'O':0, 'P':0, 'Q':0, 'R':0, 'S':0, 'T':0, 'U':0, \n",
    "     'V':0, 'W':0, 'X':0, 'Y':0, 'Z':0}\n",
    "\n",
    "\n",
    "for i in word:\n",
    "    a[i] = a[i]+1\n",
    "    \n",
    "answer = [k for k,v in a.items() if max(a.values()) == v]\n",
    "if(len(answer) > 1):\n",
    "    print('?')\n",
    "else:\n",
    "    print(answer[0])"
   ]
  },
  {
   "cell_type": "code",
   "execution_count": 61,
   "id": "276d6655",
   "metadata": {},
   "outputs": [
    {
     "name": "stdout",
     "output_type": "stream",
     "text": [
      "mississipi\n",
      "?\n"
     ]
    }
   ],
   "source": [
    "word = input().upper()\n",
    "word_list = list(set(word))\n",
    "cnt = []\n",
    "\n",
    "for i in word_list:\n",
    "    count = word.count(i)\n",
    "    cnt.append(count)\n",
    "    \n",
    "if(cnt.count(max(cnt)) >= 2):\n",
    "    print('?')\n",
    "else:\n",
    "    print(word_list[(cnt.index(max(cnt)))])"
   ]
  },
  {
   "cell_type": "code",
   "execution_count": 71,
   "id": "f22c209a",
   "metadata": {},
   "outputs": [
    {
     "name": "stdout",
     "output_type": "stream",
     "text": [
      "['c', 'd']\n"
     ]
    }
   ],
   "source": [
    "a = {'a': 0, 'b': 1, 'c': 5, 'd': 5} # 직접 생성\n",
    "# di = dict(zip('abcd',[0,0,0,0])) # zip 함수를 사용해 dict 생성: zip(key list, value list)\n",
    "\n",
    "\n",
    "\n",
    "# print(max(a,key=a.get))\n",
    "tmp = [k for k,v in a.items() if max(a.values()) == v]\n",
    "print(tmp)"
   ]
  },
  {
   "cell_type": "code",
   "execution_count": 74,
   "id": "527bc088",
   "metadata": {},
   "outputs": [
    {
     "name": "stdout",
     "output_type": "stream",
     "text": [
      "[('a', '1'), ('a', '2'), ('a', '3'), ('b', '1'), ('b', '2'), ('b', '3'), ('c', '1'), ('c', '2'), ('c', '3')]\n"
     ]
    }
   ],
   "source": [
    "l = [(x, y) for x in ['a', 'b', 'c'] for y in ['1', '2', '3']]\n",
    "\n",
    "print(l)"
   ]
  },
  {
   "cell_type": "code",
   "execution_count": 79,
   "id": "c113c869",
   "metadata": {},
   "outputs": [
    {
     "name": "stdout",
     "output_type": "stream",
     "text": [
      "14\n",
      "2/4\n"
     ]
    }
   ],
   "source": [
    "x = int(input())\n",
    "line = 1\n",
    "\n",
    "while(x > line):\n",
    "    x -= line\n",
    "    line += 1\n",
    "    \n",
    "if(line%2 == 0):\n",
    "    a = x\n",
    "    b = line - x + 1\n",
    "    \n",
    "else:\n",
    "    a = line - x + 1\n",
    "    b = x\n",
    "    \n",
    "print(a, \"/\", b, sep='')"
   ]
  },
  {
   "cell_type": "code",
   "execution_count": 82,
   "id": "f86f75c7",
   "metadata": {},
   "outputs": [
    {
     "name": "stdout",
     "output_type": "stream",
     "text": [
      "abc\n",
      "a/b/c\n",
      "a#b#c\n"
     ]
    }
   ],
   "source": [
    "print(\"a\", \"b\", \"c\", sep='')\n",
    "print(\"a\", \"b\", \"c\", sep='/')\n",
    "print(\"a\", \"b\", \"c\", sep='#')"
   ]
  },
  {
   "cell_type": "code",
   "execution_count": 85,
   "id": "908da68f",
   "metadata": {},
   "outputs": [
    {
     "name": "stdout",
     "output_type": "stream",
     "text": [
      "hello!!!!! world\n"
     ]
    }
   ],
   "source": [
    "print(\"hello\", end='!!!!! ')\n",
    "print(\"world\")"
   ]
  },
  {
   "cell_type": "code",
   "execution_count": 89,
   "id": "99adc687",
   "metadata": {},
   "outputs": [
    {
     "name": "stdout",
     "output_type": "stream",
     "text": [
      "빵을 5개 주세요.\n"
     ]
    }
   ],
   "source": [
    "print(\"%s을 %d개 주세요.\"%(\"빵\", 5))"
   ]
  },
  {
   "cell_type": "code",
   "execution_count": 93,
   "id": "819d0e36",
   "metadata": {},
   "outputs": [
    {
     "name": "stdout",
     "output_type": "stream",
     "text": [
      "줄\n",
      "바\n",
      "꿈 \n",
      " \"큰 따옴표\" \n",
      " \\역슬래쉬 \n",
      " 백스페이스\b \n"
     ]
    }
   ],
   "source": [
    "print(\"줄\\n바\\n꿈 \")\n",
    "print(\" \\\"큰 따옴표\\\" \")\n",
    "print(\" \\\\역슬래쉬 \")\n",
    "print(\" 백스페이스\\b \")"
   ]
  },
  {
   "cell_type": "code",
   "execution_count": 102,
   "id": "cd3f0e67",
   "metadata": {},
   "outputs": [
    {
     "name": "stdout",
     "output_type": "stream",
     "text": [
      "3 3\n",
      "...\n",
      "...\n",
      "...\n",
      "max: 3\n"
     ]
    }
   ],
   "source": [
    "n,m = map(int, input().split())\n",
    "board = []\n",
    "\n",
    "for i in range(n):\n",
    "    board.append(input())\n",
    "\n",
    "a, b = 0,0     #a:행, b:열\n",
    "\n",
    "for i in range(n):\n",
    "    if(\"X\" not in board[i]):\n",
    "        a += 1\n",
    "\n",
    "for j in range(m):\n",
    "    if(\"X\" not in [board[i][j] for i in range(n)]):\n",
    "        b += 1\n",
    "\n",
    "print(max(a,b))"
   ]
  },
  {
   "cell_type": "code",
   "execution_count": 120,
   "id": "9072bf9e",
   "metadata": {},
   "outputs": [
    {
     "name": "stdout",
     "output_type": "stream",
     "text": [
      "121\n",
      "yes\n",
      "1\n",
      "yes\n",
      "2\n",
      "yes\n",
      "3\n",
      "yes\n",
      "0\n"
     ]
    }
   ],
   "source": [
    "while(True):\n",
    "    stack = []\n",
    "    n = input()\n",
    "    if(n == \"0\"):\n",
    "        break\n",
    "        \n",
    "    if(len(n) == 1):\n",
    "        print(\"yes\")\n",
    "    else:\n",
    "        for i in n:\n",
    "            stack.append(i)\n",
    "        \n",
    "        for j in range(len(stack)//2):\n",
    "            if(stack[j] != stack[len(stack)-j-1]):\n",
    "                print(\"no\")\n",
    "                break\n",
    "            else:\n",
    "                if(j == len(stack)//2 -1):\n",
    "                    print(\"yes\")\n",
    "                else:\n",
    "                    continue\n",
    "            "
   ]
  },
  {
   "cell_type": "code",
   "execution_count": 137,
   "id": "8ff4e8e3",
   "metadata": {},
   "outputs": [
    {
     "name": "stdout",
     "output_type": "stream",
     "text": [
      "5\n",
      "2 3 1 7 3\n",
      "4 1 9 6 8\n",
      "5 5 2 4 4\n",
      "6 5 2 6 7\n",
      "8 4 2 2 2\n",
      "students:  [[2, 3, 1, 7, 3], [4, 1, 9, 6, 8], [5, 5, 2, 4, 4], [6, 5, 2, 6, 7], [8, 4, 2, 2, 2]]\n",
      "2: [[0, 0, 0, 0, 0], [0, 0, 0, 1, 0], [0, 0, 0, 1, 1], [0, 1, 1, 0, 1], [0, 0, 1, 1, 0]]\n"
     ]
    }
   ],
   "source": [
    "n = int(input())\n",
    "students = []\n",
    "tmp = [0] * n\n",
    "\n",
    "for i in range(n):\n",
    "    students.append(list(map(int,input().split())))\n",
    "    tmp[i] = [0] * n\n",
    "    \n",
    "\n",
    "    \n",
    "for i in range(5):\n",
    "    for j in range(n):\n",
    "        for k in range(j+1,n):\n",
    "            if(students[j][i] == students[k][i]):\n",
    "                tmp[k][j] = 1\n",
    "                tmp[j][k] = 1\n",
    "\n",
    "            \n",
    "\n",
    "cnt = []\n",
    "for i in tmp:\n",
    "    cnt.append(i.count(1))\n",
    "    \n",
    "print(cnt.index(max(cnt)) + 1)\n",
    "\n",
    "\n",
    "\n"
   ]
  },
  {
   "cell_type": "code",
   "execution_count": 144,
   "id": "b4caba41",
   "metadata": {},
   "outputs": [
    {
     "name": "stdout",
     "output_type": "stream",
     "text": [
      "3\n"
     ]
    }
   ],
   "source": [
    "a = [[0, 0, 0, 0, 0], [0, 0, 0, 1, 0], [0, 0, 0, 1, 1], [0, 1, 1, 0, 1], [0, 0, 1, 1, 0]]\n",
    "\n",
    "cntt = []\n",
    "\n",
    "for i in a:\n",
    "    cntt.append(i.count(1))\n",
    "    \n",
    "    \n",
    "print(cntt.index(max(cntt)))"
   ]
  },
  {
   "cell_type": "code",
   "execution_count": 155,
   "id": "4df6ebcc",
   "metadata": {},
   "outputs": [
    {
     "name": "stdout",
     "output_type": "stream",
     "text": [
      "LOVE\n",
      "(1, 1, 1, 1)\n"
     ]
    }
   ],
   "source": [
    "L, O, V, E = 0, 0, 0, 0\n",
    "l = []\n",
    "\n",
    "def calculate(L,O,V,E):\n",
    "    score = ((L+O) * (L+V) * (L+E) * (O+V) * (O+E) * (V+E)) % 100\n",
    "    return score\n",
    "\n",
    "def calculate2(a):\n",
    "    L, O, V, E = 0, 0, 0, 0\n",
    "    if(\"L\" in a):\n",
    "        L += 1\n",
    "    if(\"O\" in a):\n",
    "        O += 1\n",
    "    if(\"V\" in a):\n",
    "        V += 1\n",
    "    if(\"E\" in a):\n",
    "        E += 1\n",
    "        \n",
    "    return L, O, V, E\n",
    "    \n",
    "\n",
    "\n",
    "\n",
    "word = input()\n",
    "print(calculate2(word))\n",
    "    \n",
    "\n",
    "# n = int(input())\n",
    "\n",
    "# for i in range(n):\n",
    "#     team = input()\n",
    "    \n",
    "    \n",
    "    \n",
    "    \n",
    "        \n",
    "\n",
    "# print(((L+O) * (L+V) * (L+E) * (O+V) * (O+E) * (V+E)) % 100)"
   ]
  },
  {
   "cell_type": "code",
   "execution_count": 7,
   "id": "0d5c87aa",
   "metadata": {},
   "outputs": [
    {
     "name": "stdout",
     "output_type": "stream",
     "text": [
      "3 8\n",
      "[0, 1, 2, 2, 3, 3, 3, 4, 4, 4, 4, 5, 5, 5, 5, 5, 6, 6, 6, 6, 6, 6, 7, 7, 7, 7, 7, 7, 7, 8, 8, 8, 8, 8, 8, 8, 8]\n",
      "19\n"
     ]
    }
   ],
   "source": [
    "a, b = map(int, input().split())\n",
    "numlist = [0]\n",
    "answer = 0\n",
    "\n",
    "for i in range(1, b+1):\n",
    "    for j in range(i):\n",
    "        numlist.append(i)\n",
    "        \n",
    "for i in range(a,b+1):\n",
    "    answer += numlist[i]\n",
    "        \n",
    "print(numlist)\n",
    "print(answer)"
   ]
  },
  {
   "cell_type": "code",
   "execution_count": 5,
   "id": "2b67f927",
   "metadata": {},
   "outputs": [
    {
     "name": "stdout",
     "output_type": "stream",
     "text": [
      "1\n",
      "NO\n"
     ]
    }
   ],
   "source": [
    "n = input()\n",
    "n_len = len(n)\n",
    "true = 0\n",
    "\n",
    "for i in range(n_len - 1):\n",
    "    left = right = 1\n",
    "    \n",
    "    for j in range(i + 1):\n",
    "        left *= int(n[j])\n",
    "    \n",
    "    for k in range(i+1, n_len):\n",
    "        right *= int(n[k])\n",
    "        \n",
    "    if(left == right):\n",
    "        print(\"YES\")\n",
    "        true = 1\n",
    "        break\n",
    "    \n",
    "if(true == 0):\n",
    "    print(\"NO\")"
   ]
  },
  {
   "cell_type": "code",
   "execution_count": 8,
   "id": "b0171375",
   "metadata": {},
   "outputs": [
    {
     "name": "stdout",
     "output_type": "stream",
     "text": [
      "14\n",
      "push 1\n",
      "push 2\n",
      "top\n"
     ]
    },
    {
     "ename": "NameError",
     "evalue": "name 'stack' is not defined",
     "output_type": "error",
     "traceback": [
      "\u001b[0;31m---------------------------------------------------------------------------\u001b[0m",
      "\u001b[0;31mNameError\u001b[0m                                 Traceback (most recent call last)",
      "Input \u001b[0;32mIn [8]\u001b[0m, in \u001b[0;36m<cell line: 7>\u001b[0;34m()\u001b[0m\n\u001b[1;32m     28\u001b[0m         \u001b[38;5;28mprint\u001b[39m(\u001b[38;5;241m0\u001b[39m)\n\u001b[1;32m     30\u001b[0m \u001b[38;5;28;01melif\u001b[39;00m order \u001b[38;5;241m==\u001b[39m \u001b[38;5;124m\"\u001b[39m\u001b[38;5;124mtop\u001b[39m\u001b[38;5;124m\"\u001b[39m:\n\u001b[0;32m---> 31\u001b[0m     \u001b[38;5;28;01mif\u001b[39;00m(\u001b[38;5;28mlen\u001b[39m(\u001b[43mstack\u001b[49m) \u001b[38;5;241m==\u001b[39m \u001b[38;5;241m0\u001b[39m):\n\u001b[1;32m     32\u001b[0m         \u001b[38;5;28mprint\u001b[39m(\u001b[38;5;241m-\u001b[39m\u001b[38;5;241m1\u001b[39m)\n\u001b[1;32m     33\u001b[0m     \u001b[38;5;28;01melse\u001b[39;00m:\n",
      "\u001b[0;31mNameError\u001b[0m: name 'stack' is not defined"
     ]
    }
   ],
   "source": [
    "import sys\n",
    "\n",
    "numstack = []\n",
    "\n",
    "length = int(input())\n",
    "\n",
    "for i in range(length):\n",
    "    stc = input().split()\n",
    "    order = stc[0]\n",
    "    \n",
    "    if order == \"push\":\n",
    "        answer = stc[1]\n",
    "        numstack.append(answer)\n",
    "        \n",
    "    elif order == \"pop\":\n",
    "        if(len(numstack) == 0):\n",
    "            print(-1)\n",
    "        else:\n",
    "            print(numstack.pop())\n",
    "        \n",
    "    elif order == \"size\":\n",
    "        print(len(numstack))\n",
    "        \n",
    "    elif order == \"empty\":\n",
    "        if(len(numstack) == 0):\n",
    "            print(1)\n",
    "        else:\n",
    "            print(0)\n",
    "        \n",
    "    elif order == \"top\":\n",
    "        if(len(numstack) == 0):\n",
    "            print(-1)\n",
    "        else:\n",
    "            print(numstack[-1])"
   ]
  },
  {
   "cell_type": "code",
   "execution_count": 9,
   "id": "548b16bb",
   "metadata": {},
   "outputs": [
    {
     "name": "stdout",
     "output_type": "stream",
     "text": [
      "321\n"
     ]
    }
   ],
   "source": [
    "a = 321\n",
    "\n",
    "b = str(a)\n",
    "for i in range(len(b)):\n",
    "    \n",
    "\n",
    "print(b)"
   ]
  },
  {
   "cell_type": "code",
   "execution_count": 35,
   "id": "5a8e18d7",
   "metadata": {},
   "outputs": [
    {
     "name": "stdout",
     "output_type": "stream",
     "text": [
      "314\n"
     ]
    }
   ],
   "source": [
    "a = int(input())\n",
    "b = str(a)\n",
    "sum = 0\n",
    "mul = 0\n",
    "\n",
    "for i in range(len(b)-1,-1,-1):\n",
    "    sum += (int(b[i]) * (2**mul))\n",
    "    mul += 1\n",
    "        \n",
    "\n",
    "print(oct(sum).split(\"o\")[1])"
   ]
  },
  {
   "cell_type": "code",
   "execution_count": 42,
   "id": "316a1c3f",
   "metadata": {},
   "outputs": [
    {
     "name": "stdout",
     "output_type": "stream",
     "text": [
      "314\n",
      "11001100\n"
     ]
    }
   ],
   "source": [
    "print(oct(int(input(),2))[2:])"
   ]
  },
  {
   "cell_type": "code",
   "execution_count": 51,
   "id": "303b95be",
   "metadata": {},
   "outputs": [
    {
     "name": "stdout",
     "output_type": "stream",
     "text": [
      "100\n",
      "77\n"
     ]
    }
   ],
   "source": [
    "n = int(input())\n",
    "\n",
    "while True:\n",
    "    flag = True\n",
    "    for i in str(n):\n",
    "        if i!='4' and i!='7':\n",
    "            flag = False\n",
    "            n -= 1\n",
    "    if flag:\n",
    "        print(n)\n",
    "        break"
   ]
  },
  {
   "cell_type": "code",
   "execution_count": 52,
   "id": "3e21942a",
   "metadata": {},
   "outputs": [
    {
     "data": {
      "text/plain": [
       "71.42857142857143"
      ]
     },
     "execution_count": 52,
     "metadata": {},
     "output_type": "execute_result"
    }
   ],
   "source": [
    "50/70*100"
   ]
  },
  {
   "cell_type": "code",
   "execution_count": 58,
   "id": "9010477e",
   "metadata": {},
   "outputs": [
    {
     "name": "stdout",
     "output_type": "stream",
     "text": [
      "1\n",
      "50\n",
      "100.0\n"
     ]
    }
   ],
   "source": [
    "n = int(input())\n",
    "score = list(map(int, input().split()))\n",
    "average = 0\n",
    "\n",
    "maxscore = max(score)\n",
    "for i in range(n):\n",
    "    score[i] = (score[i]/maxscore) * 100\n",
    "    average += score[i]\n",
    "    \n",
    "print(average/n)"
   ]
  },
  {
   "cell_type": "code",
   "execution_count": 1,
   "id": "0c5017d9",
   "metadata": {},
   "outputs": [
    {
     "name": "stdout",
     "output_type": "stream",
     "text": [
      "hi\n"
     ]
    }
   ],
   "source": [
    "print(\"hi\")"
   ]
  },
  {
   "cell_type": "code",
   "execution_count": 6,
   "id": "920934d9",
   "metadata": {},
   "outputs": [
    {
     "name": "stdout",
     "output_type": "stream",
     "text": [
      "5\n",
      "i,j =  0 0\n",
      "i,j =  1 0\n",
      "i,j =  2 0\n",
      "i,j =  3 3\n",
      "5 4\n"
     ]
    }
   ],
   "source": [
    "n = int(input())\n",
    "# a = []\n",
    "row = 0\n",
    "col = 0\n",
    "\n",
    "\n",
    "# for i in range(n):\n",
    "#     a.append(list(input()))\n",
    "\n",
    "# print(a)\n",
    "a = [['.', '.', '.', '.', 'X'], ['.', '.', 'X', 'X', '.'], ['.', '.', '.', '.', '.'], ['.', 'X', 'X', '.', '.'], ['X', '.', '.', '.', '.']]\n",
    "\n",
    "for i in range(n):\n",
    "    for j in range(n-1):\n",
    "        if a[i][j] == '.' and a[i][j+1] == '.':\n",
    "            row += 1\n",
    "            break\n",
    "            \n",
    "for i in range(n-1):\n",
    "    for j in range(n):\n",
    "        if a[i][j] == '.' and a[i+1][j] == '.':\n",
    "            print(\"i,j = \",i,j)\n",
    "            col += 1\n",
    "            break\n",
    "        \n",
    "print(row, col)"
   ]
  },
  {
   "cell_type": "code",
   "execution_count": null,
   "id": "74e0eabe",
   "metadata": {},
   "outputs": [],
   "source": [
    "....X\n",
    "..XX.\n",
    ".....\n",
    ".XX..\n",
    "X...."
   ]
  },
  {
   "cell_type": "code",
   "execution_count": 16,
   "id": "3ffff649",
   "metadata": {},
   "outputs": [
    {
     "name": "stdout",
     "output_type": "stream",
     "text": [
      "9\n",
      "2\n"
     ]
    }
   ],
   "source": [
    "n = int(input())\n",
    "\n",
    "if(n%5 == 0):\n",
    "    print(n//5)\n",
    "else:\n",
    "    count = 0\n",
    "    while(n > 0):\n",
    "        n -= 3\n",
    "        count += 1\n",
    "        \n",
    "        if(n%5 == 0):\n",
    "            count += n//5\n",
    "            print(count)\n",
    "            break\n",
    "        elif(n==1 or n==2):\n",
    "            print(-1)\n",
    "            break\n",
    "        elif(n == 0):\n",
    "            print(p)\n",
    "            break"
   ]
  },
  {
   "cell_type": "code",
   "execution_count": 25,
   "id": "151e09b0",
   "metadata": {},
   "outputs": [
    {
     "name": "stdout",
     "output_type": "stream",
     "text": [
      "5\n",
      "3 1 4 3 2\n",
      "[1, 2, 3, 3, 4]\n",
      "32\n"
     ]
    }
   ],
   "source": [
    "n = int(input())\n",
    "time = list(map(int, input().split()))\n",
    "\n",
    "time = sorted(time)\n",
    "\n",
    "sum_time = 0\n",
    "\n",
    "for i in range(n):\n",
    "    for j in range(i+1):\n",
    "        sum_time += time[j]\n",
    "#         print(\"time j : \",time[j])\n",
    "#         print(\"sumtime :\", sum_time)\n",
    "print(sum_time)\n",
    "    "
   ]
  },
  {
   "cell_type": "code",
   "execution_count": 37,
   "id": "55f86bf7",
   "metadata": {},
   "outputs": [
    {
     "name": "stdout",
     "output_type": "stream",
     "text": [
      "10 4790\n",
      "1\n",
      "5\n",
      "10\n",
      "50\n",
      "100\n",
      "500\n",
      "1000\n",
      "5000\n",
      "10000\n",
      "50000\n",
      "money:  790 i:  1000 count:  4\n",
      "money:  290 i:  500 count:  5\n",
      "money:  90 i:  100 count:  7\n",
      "money:  40 i:  50 count:  8\n",
      "money:  0 i:  10 count:  12\n",
      "12\n"
     ]
    }
   ],
   "source": [
    "n, money = map(int, input().split())\n",
    "coin = []\n",
    "for i in range(n):\n",
    "    tmp = int(input())\n",
    "    coin.append(tmp)\n",
    "\n",
    "coin = sorted(coin, reverse=True)\n",
    "# print(coin)\n",
    "\n",
    "count = 0\n",
    "\n",
    "for i in coin:\n",
    "    if(i <= money):\n",
    "        count += money//i\n",
    "        money = money%i\n",
    "#         print(\"money: \", money, \"i: \", i, \"count: \",count)\n",
    "        if(money <= 0):\n",
    "            break\n",
    "        \n",
    "        \n",
    "print(count)"
   ]
  },
  {
   "cell_type": "code",
   "execution_count": 46,
   "id": "032b933a",
   "metadata": {},
   "outputs": [
    {
     "name": "stdout",
     "output_type": "stream",
     "text": [
      "11\n",
      "1 4\n",
      "3 5\n",
      "0 6\n",
      "5 7\n",
      "3 8\n",
      "5 9\n",
      "6 10\n",
      "8 11\n",
      "8 12\n",
      "2 13\n",
      "12 14\n",
      "[[1, 4], [3, 5], [0, 6], [5, 7], [3, 8], [5, 9], [6, 10], [8, 11], [8, 12], [2, 13], [12, 14]]\n"
     ]
    }
   ],
   "source": [
    "n = int(input())\n",
    "room = []\n",
    "\n",
    "for i in range(n):\n",
    "    a, b = map(int, input().split())\n",
    "    room.append([a,b])\n",
    "    \n",
    "\n",
    "room.sort(key = lambda x: x[0])\n",
    "room.sort(key = lambda x: x[1])\n",
    "\n",
    "cnt = 1\n",
    "end = room[0][1]\n",
    "\n",
    "for i in range(1, n):\n",
    "    if(room[i][0] >= end):\n",
    "        cnt += 1\n",
    "        end = room[i][1]\n",
    "        \n",
    "print(cnt)"
   ]
  },
  {
   "cell_type": "code",
   "execution_count": 51,
   "id": "818e5b7f",
   "metadata": {},
   "outputs": [
    {
     "ename": "SyntaxError",
     "evalue": "invalid syntax (3610136354.py, line 13)",
     "output_type": "error",
     "traceback": [
      "\u001b[0;36m  Input \u001b[0;32mIn [51]\u001b[0;36m\u001b[0m\n\u001b[0;31m    print(for i in range(n): sum += a[i] * b[i])\u001b[0m\n\u001b[0m          ^\u001b[0m\n\u001b[0;31mSyntaxError\u001b[0m\u001b[0;31m:\u001b[0m invalid syntax\n"
     ]
    }
   ],
   "source": [
    "n = int(input())\n",
    "a = list(map(int, input().split()))\n",
    "b = list(map(int, input().split()))\n",
    "\n",
    "a.sort()\n",
    "b.sort(reverse=True)\n",
    "\n",
    "sum = 0\n",
    "\n",
    "for i in range(n):\n",
    "    sum += a[i] * b[i]\n",
    "    \n",
    "print(sum)\n",
    "    \n"
   ]
  },
  {
   "cell_type": "code",
   "execution_count": null,
   "id": "85e68c17",
   "metadata": {},
   "outputs": [],
   "source": [
    "n = int(input())\n",
    "\n",
    "a_list = list(map(int, input().split()))\n",
    "b_list = list(map(int, input().split()))\n",
    "\n",
    "s = 0\n",
    "for i in range(n):\n",
    "    s += min(a_list) * max(b_list)\n",
    "    a_list.pop(a_list.index(min(a_list)))\n",
    "    b_list.pop(b_list.index(max(b_list)))\n",
    "\n",
    "print(s)"
   ]
  },
  {
   "cell_type": "code",
   "execution_count": 61,
   "id": "84d75e5e",
   "metadata": {},
   "outputs": [
    {
     "name": "stdout",
     "output_type": "stream",
     "text": [
      "-40+20-30\n",
      "-40+20-30 ['', '40+20', '30']\n"
     ]
    },
    {
     "ename": "TypeError",
     "evalue": "'int' object is not callable",
     "output_type": "error",
     "traceback": [
      "\u001b[0;31m---------------------------------------------------------------------------\u001b[0m",
      "\u001b[0;31mTypeError\u001b[0m                                 Traceback (most recent call last)",
      "Input \u001b[0;32mIn [61]\u001b[0m, in \u001b[0;36m<cell line: 5>\u001b[0;34m()\u001b[0m\n\u001b[1;32m      3\u001b[0m \u001b[38;5;28mprint\u001b[39m(s, t)\n\u001b[1;32m      4\u001b[0m answer \u001b[38;5;241m=\u001b[39m \u001b[38;5;241m0\u001b[39m\n\u001b[0;32m----> 5\u001b[0m x \u001b[38;5;241m=\u001b[39m \u001b[38;5;28;43msum\u001b[39;49m\u001b[43m(\u001b[49m\u001b[38;5;28;43mmap\u001b[39;49m\u001b[43m(\u001b[49m\u001b[38;5;28;43mint\u001b[39;49m\u001b[43m,\u001b[49m\u001b[43m \u001b[49m\u001b[43m(\u001b[49m\u001b[43mt\u001b[49m\u001b[43m[\u001b[49m\u001b[38;5;241;43m0\u001b[39;49m\u001b[43m]\u001b[49m\u001b[38;5;241;43m.\u001b[39;49m\u001b[43msplit\u001b[49m\u001b[43m(\u001b[49m\u001b[38;5;124;43m\"\u001b[39;49m\u001b[38;5;124;43m+\u001b[39;49m\u001b[38;5;124;43m\"\u001b[39;49m\u001b[43m)\u001b[49m\u001b[43m)\u001b[49m\u001b[43m)\u001b[49m\u001b[43m)\u001b[49m\n\u001b[1;32m      6\u001b[0m \u001b[38;5;66;03m# if(s[0] == \"-\"):\u001b[39;00m\n\u001b[1;32m      7\u001b[0m \u001b[38;5;66;03m#     answer -= \u001b[39;00m\n\u001b[1;32m      8\u001b[0m \u001b[38;5;28mprint\u001b[39m(x)\n",
      "\u001b[0;31mTypeError\u001b[0m: 'int' object is not callable"
     ]
    }
   ],
   "source": [
    "s = input()\n",
    "t = s.split(\"-\")\n",
    "print(s, t)\n",
    "answer = 0\n",
    "x = sum(map(int, (t[0].split(\"+\"))))\n",
    "# if(s[0] == \"-\"):\n",
    "#     answer -= \n",
    "print(x)\n",
    "\n",
    "\n"
   ]
  },
  {
   "cell_type": "code",
   "execution_count": 70,
   "id": "2993e1ef",
   "metadata": {},
   "outputs": [
    {
     "name": "stdout",
     "output_type": "stream",
     "text": [
      "00009-00009\n",
      "['00009', '00009']\n",
      "0\n"
     ]
    }
   ],
   "source": [
    "n = input().split(\"-\")\n",
    "answer = 0\n",
    "\n",
    "for i in n[0].split(\"+\"):\n",
    "    answer += int(i)\n",
    "\n",
    "for i in n[1:]:\n",
    "    for j in i.split(\"+\"):\n",
    "        answer -= int(j)\n",
    "    \n",
    "print(answer)\n",
    "    \n",
    "\n"
   ]
  },
  {
   "cell_type": "code",
   "execution_count": 75,
   "id": "93f04f80",
   "metadata": {},
   "outputs": [
    {
     "name": "stdout",
     "output_type": "stream",
     "text": [
      "1\n",
      "500\n",
      "100\n",
      "50\n",
      "10\n",
      "5\n",
      "1\n",
      "15\n"
     ]
    }
   ],
   "source": [
    "n = 1000 - int(input())\n",
    "money = [500, 100, 50, 10, 5, 1]\n",
    "cnt = 0\n",
    "\n",
    "for i in money:\n",
    "    cnt += n//i\n",
    "    n %= i\n",
    "    \n",
    "print(cnt)\n",
    "    \n"
   ]
  },
  {
   "cell_type": "code",
   "execution_count": null,
   "id": "810e77ef",
   "metadata": {},
   "outputs": [],
   "source": [
    "n = int(input())\n",
    "rope = []\n",
    "\n",
    "\n",
    "for i in range(n):\n",
    "    rope.append(int(input()))\n",
    "    \n",
    "rope.sort(reverse=True)\n",
    "max_weight = rope[0]\n",
    "\n",
    "for i in range(n):\n",
    "    if(max_weight < rope[i]*(i+1)):\n",
    "        max_weight = rope[i]*(i+1)\n",
    "        \n",
    "print(max_weight)"
   ]
  },
  {
   "cell_type": "code",
   "execution_count": 13,
   "id": "de1d1594",
   "metadata": {},
   "outputs": [
    {
     "name": "stdout",
     "output_type": "stream",
     "text": [
      "100\n",
      "0 1 4 "
     ]
    }
   ],
   "source": [
    "n = int(input())\n",
    "\n",
    "\n",
    "if(n%10 != 0):\n",
    "    print(-1)\n",
    "else:\n",
    "    for i in [300, 60, 10]:\n",
    "        print(n//i, end=\" \")\n",
    "        n %= i\n",
    "    \n"
   ]
  },
  {
   "cell_type": "code",
   "execution_count": 17,
   "id": "a87fabad",
   "metadata": {},
   "outputs": [
    {
     "name": "stdout",
     "output_type": "stream",
     "text": [
      "400\n",
      "27\n"
     ]
    }
   ],
   "source": [
    "n = int(input())\n",
    "s = 1\n",
    "\n",
    "while( (s*(s+1))/2 <= n ):\n",
    "    s += 1\n",
    "    \n",
    "print(s-1)\n"
   ]
  },
  {
   "cell_type": "code",
   "execution_count": 15,
   "id": "d524a140",
   "metadata": {},
   "outputs": [
    {
     "name": "stdout",
     "output_type": "stream",
     "text": [
      "K1KA5CB7\n",
      "ABCKK13\n"
     ]
    }
   ],
   "source": [
    "word = input()\n",
    "alphabet = []\n",
    "numbers = ['0', '1', '2', '3', '4', '5', '6', '7', '8', '9']\n",
    "num = 0\n",
    "\n",
    "for i in word:\n",
    "    if(i.isalpha()):\n",
    "        alphabet.append(i)\n",
    "    else:\n",
    "        num += int(i)\n",
    "        \n",
    "alphabet.sort()\n",
    "alphabet.append(str(num))\n",
    "\n",
    "print(''.join(alphabet))"
   ]
  },
  {
   "cell_type": "code",
   "execution_count": null,
   "id": "c9afe78a",
   "metadata": {},
   "outputs": [],
   "source": [
    "1965801310"
   ]
  },
  {
   "cell_type": "code",
   "execution_count": 3,
   "id": "65770521",
   "metadata": {},
   "outputs": [
    {
     "name": "stdout",
     "output_type": "stream",
     "text": [
      "3 5\n",
      "1 2 3 4\n",
      "[4, 3, 2, 1]\n"
     ]
    }
   ],
   "source": [
    "n, m = map(int, input().split())\n",
    "tree = list(map(int, input().split()))\n",
    "start, end = 1, max(tree)\n",
    "\n",
    "while start <= end:\n",
    "    mid = (start + end) // 2\n",
    "    \n",
    "    cnt = 0\n",
    "    for i in tree:\n",
    "        if(i >= mid):\n",
    "            cnt += i - mid\n",
    "            \n",
    "    if(cnt >= m):\n",
    "        start = mid + 1\n",
    "    else:\n",
    "        end = mid - 1\n",
    "        \n",
    "print(end)"
   ]
  },
  {
   "cell_type": "code",
   "execution_count": null,
   "id": "394be6e6",
   "metadata": {},
   "outputs": [],
   "source": [
    "4 7\n",
    "20 17 15 10"
   ]
  },
  {
   "cell_type": "code",
   "execution_count": null,
   "id": "3ae2142a",
   "metadata": {},
   "outputs": [],
   "source": [
    "# import sys\n",
    "import heapq as hq\n",
    "\n",
    "n = int(input())\n",
    "heap = []\n",
    "\n",
    "for i in range(n):\n",
    "    x = int(input())\n",
    "    \n",
    "    if x:\n",
    "        hq.heappush(heap, x)\n",
    "        print(heap)\n",
    "    else:\n",
    "        if(len(heap) >= 1):\n",
    "            print(hq.heappop(heap)[1])\n",
    "        else:\n",
    "            print(0)"
   ]
  },
  {
   "cell_type": "code",
   "execution_count": 13,
   "id": "784a086c",
   "metadata": {},
   "outputs": [
    {
     "name": "stdout",
     "output_type": "stream",
     "text": [
      "6\n",
      "1000 999 1000 999 1000 999\n",
      "{999: 0, 1000: 1}\n",
      "1 0 1 0 1 0 "
     ]
    }
   ],
   "source": [
    "n = int(input())\n",
    "num = list(map(int, input().split()))\n",
    "\n",
    "arr2 = list(sorted(set(num)))\n",
    "dic = {arr2[i]:i for i in range(len(arr2))}\n",
    "\n",
    "print(dic)\n",
    "\n",
    "for i in num:\n",
    "    print(dic[i], end=' ')"
   ]
  },
  {
   "cell_type": "code",
   "execution_count": 24,
   "id": "96270d61",
   "metadata": {},
   "outputs": [
    {
     "name": "stdout",
     "output_type": "stream",
     "text": [
      "3 5\n",
      "000P0\n",
      "0I00X\n",
      "000XP\n",
      "1\n"
     ]
    }
   ],
   "source": [
    "from collections import deque\n",
    "\n",
    "n, m = map(int, input().split())\n",
    "campus = []\n",
    "start = ()\n",
    "\n",
    "for i in range(n):\n",
    "    row = list(input())\n",
    "    for j in range(m):\n",
    "        if(row[j] == 'I'):\n",
    "            start = (i, j)\n",
    "    campus.append(row)\n",
    "\n",
    "    \n",
    "direction = [(1,0), (0,1), (-1,0), (0, -1)]\n",
    "visited = [[False]*m for _ in range(n)]\n",
    "num_people = 0 #만날 수 있는 사람의 수\n",
    "\n",
    "queue = deque([start])\n",
    "\n",
    "visited[start[0]][start[1]] = True\n",
    "\n",
    "while(queue):\n",
    "    x, y = queue.popleft()\n",
    "\n",
    "    \n",
    "    for dx, dy in direction:\n",
    "        nx, ny = x+dx, y+dy\n",
    "        \n",
    "        if(0 <= nx < n) and (0 <= ny < m):\n",
    "            if(campus[nx][ny] != 'X') and not (visited[nx][ny]):\n",
    "                queue.append((nx, ny))\n",
    "                visited[nx][ny] = True\n",
    "                \n",
    "                if(campus[nx][ny] == 'P'):\n",
    "                    num_people += 1\n",
    "                    \n",
    "                    \n",
    "print(num_people if num_people > 0 else 'TT')"
   ]
  },
  {
   "cell_type": "code",
   "execution_count": null,
   "id": "ea30dcc4",
   "metadata": {},
   "outputs": [],
   "source": [
    "OOOPO\n",
    "OIOOX\n",
    "OOOXP"
   ]
  },
  {
   "cell_type": "code",
   "execution_count": 27,
   "id": "92ed0328",
   "metadata": {},
   "outputs": [
    {
     "name": "stdout",
     "output_type": "stream",
     "text": [
      "3 3\n",
      "I0X\n",
      "0XP\n",
      "XPP\n",
      "(0, 0)\n",
      "[[True, False, False], [False, False, False], [False, False, False]]\n"
     ]
    }
   ],
   "source": [
    "from collections import deque\n",
    "\n",
    "n, m = map(int, input().split())\n",
    "campus = []\n",
    "start = ()\n",
    "\n",
    "for i in range(n):\n",
    "    row = list(input())\n",
    "    \n",
    "    for j in range(m):\n",
    "        if(row[j] == 'I'):\n",
    "            start = (i, j)\n",
    "            \n",
    "    campus.append(row)\n",
    "    \n",
    "    \n",
    "direction = [(1,0), (0,1), (-1,0), (0,-1)]\n",
    "visited = [[False]*m for _ in range(n)]\n",
    "num = 0\n",
    "\n",
    "queue = deque([start])\n",
    "visited[start[0]][start[1]] = True\n",
    "\n",
    "while(queue):\n",
    "    print(queue)\n",
    "    x, y = queue.popleft()\n",
    "    \n",
    "    for dx, dy in direction:\n",
    "        nx, ny = x+dx, y+dy\n",
    "        \n",
    "        if(0 <= nx < n) and (0 <= ny < m):\n",
    "            if(campus[nx][ny] != 'X') and not (visited[nx][ny]):\n",
    "                queue.append((nx, ny))\n",
    "                visited[nx][ny] = True\n",
    "                \n",
    "                if(campus[nx][ny] == 'P'):\n",
    "                    num += 1\n",
    "                    \n",
    "print(num if num > 0 else 'TT')"
   ]
  },
  {
   "cell_type": "code",
   "execution_count": 29,
   "id": "20898ab6",
   "metadata": {},
   "outputs": [
    {
     "name": "stdout",
     "output_type": "stream",
     "text": [
      "3 7 7\n",
      "63\n"
     ]
    }
   ],
   "source": [
    "n, r, c = map(int, input().split())\n",
    "\n",
    "answer = 0\n",
    "\n",
    "while(n != 0):\n",
    "    n -= 1\n",
    "    \n",
    "    if(r < 2**n and c < 2**n):\n",
    "        answer += (2**n) * (2**n) * 0\n",
    "        \n",
    "    elif(r < 2**n and c >= 2**n):\n",
    "        answer += (2**n) * (2**n) * 1\n",
    "        c -= (2**n)\n",
    "    \n",
    "    elif(r >= 2**n and c < 2**n):\n",
    "        answer += (2**n) * (2**n) * 2\n",
    "        r -= (2**n)\n",
    "        \n",
    "    else:\n",
    "        answer += (2**n) * (2**n) * 3\n",
    "        r -= (2**n)\n",
    "        c -= (2**n)\n",
    "        \n",
    "print(answer)"
   ]
  },
  {
   "cell_type": "code",
   "execution_count": 30,
   "id": "d49ca73e",
   "metadata": {},
   "outputs": [
    {
     "name": "stdout",
     "output_type": "stream",
     "text": [
      "3 7 7\n",
      "63\n"
     ]
    }
   ],
   "source": [
    "n,r,c=map(int,input().split())\n",
    "print(int(f'{c:b}',4)+2*int(f'{r:b}',4))"
   ]
  },
  {
   "cell_type": "code",
   "execution_count": 39,
   "id": "d7f69b0b",
   "metadata": {},
   "outputs": [
    {
     "name": "stdout",
     "output_type": "stream",
     "text": [
      "5 17\n",
      "hi\n",
      "hello\n",
      "hi\n",
      "hello\n",
      "20 17\n",
      "5\n"
     ]
    }
   ],
   "source": [
    "n, k = map(int, input().split())\n",
    "n2 = n\n",
    "cnt = 0\n",
    "\n",
    "while((k-n) >= n2):\n",
    "    n *= 2\n",
    "    print(\"hi\")\n",
    "    cnt += 1\n",
    "    print(\"hello\")\n",
    "    \n",
    "cnt += abs(k-n)\n",
    "print(n, k)\n",
    "print(cnt)"
   ]
  },
  {
   "cell_type": "code",
   "execution_count": 40,
   "id": "f59e873c",
   "metadata": {},
   "outputs": [
    {
     "name": "stdout",
     "output_type": "stream",
     "text": [
      "5 17\n",
      "4\n"
     ]
    }
   ],
   "source": [
    "from collections import deque\n",
    "\n",
    "def bfs():\n",
    "    q = deque()\n",
    "    q.append(n)\n",
    "    \n",
    "    while(q):\n",
    "        x = q.popleft()\n",
    "        if(x == k):\n",
    "            print(dist[x])\n",
    "            break\n",
    "            \n",
    "        for nx in (x-1, x+1, x*2):\n",
    "            if(0 <= nx <= MAX and not dist[nx]):\n",
    "                dist[nx] = dist[x] + 1\n",
    "                q.append(nx)\n",
    "                \n",
    "                \n",
    "MAX = 100000\n",
    "dist = [0] * (MAX + 1)\n",
    "n, k = map(int, input().split())\n",
    "\n",
    "bfs()"
   ]
  },
  {
   "cell_type": "code",
   "execution_count": 52,
   "id": "70a07647",
   "metadata": {},
   "outputs": [
    {
     "name": "stdout",
     "output_type": "stream",
     "text": [
      "2 25\n",
      "1011101110111011101110111\n",
      "1110111011101110111011101\n",
      "38\n"
     ]
    }
   ],
   "source": [
    "from collections import deque\n",
    "\n",
    "N, M = map(int, input().split())\n",
    "graph = []\n",
    "\n",
    "for i in range(N):\n",
    "    graph.append(list(map(int, input())))\n",
    "    \n",
    "\n",
    "def bfs(x, y):\n",
    "    dx = [-1, 1, 0, 0]\n",
    "    dy = [0, 0, 1, -1]\n",
    "    \n",
    "    queue = deque()\n",
    "    queue.append((x, y))\n",
    "    \n",
    "    while queue:\n",
    "        x, y = queue.popleft()\n",
    "        \n",
    "        for i in range(4):\n",
    "            nx = x + dx[i]\n",
    "            ny = y + dy[i]\n",
    "            \n",
    "            if(nx < 0 or nx >= N or ny < 0 or ny >= M):\n",
    "                continue\n",
    "            \n",
    "            if(graph[nx][ny] == 0):\n",
    "                continue\n",
    "                \n",
    "            if(graph[nx][ny] == 1):\n",
    "                graph[nx][ny] = graph[x][y] + 1\n",
    "                queue.append((nx, ny))\n",
    "                \n",
    "    return graph[N-1][M-1]\n",
    "    \n",
    "print(bfs(0, 0))"
   ]
  },
  {
   "cell_type": "code",
   "execution_count": 55,
   "id": "1f1fdb58",
   "metadata": {},
   "outputs": [
    {
     "name": "stdout",
     "output_type": "stream",
     "text": [
      "7\n",
      "0110100\n",
      "0110101\n",
      "1110101\n",
      "0000111\n",
      "0100000\n",
      "0111110\n",
      "0111000\n",
      "3\n",
      "<generator object <genexpr> at 0x119d2b0b0>\n"
     ]
    }
   ],
   "source": [
    "from collections import deque\n",
    "graph = []\n",
    "\n",
    "dx = [0, 0, 1, -1]\n",
    "dy = [1, -1, 0, 0]\n",
    "\n",
    "def bfs(graph, a, b):\n",
    "    n = len(graph)\n",
    "    queue = deque()\n",
    "    queue.append((a, b))\n",
    "    graph[a][b] = 0\n",
    "    count = 1\n",
    "    \n",
    "    while queue:\n",
    "        x, y = queue.popleft()\n",
    "        \n",
    "        for i in range(4):\n",
    "            nx = x + dx[i]\n",
    "            ny = y + dy[i]\n",
    "            if(nx < 0 or nx >= n or ny < 0 or ny >= n):\n",
    "                continue\n",
    "                \n",
    "            if(graph[nx][ny] == 1):\n",
    "                graph[nx][ny] = 0\n",
    "                queue.append((nx, ny))\n",
    "                count += 1\n",
    "                \n",
    "    return count\n",
    "\n",
    "        \n",
    "        \n",
    "n = int(input())\n",
    "\n",
    "for _ in range(n):\n",
    "    graph.append(list(map(int, input())))\n",
    "    \n",
    "cnt = []\n",
    "for i in range(n):\n",
    "    for j in range(n):\n",
    "        if graph[i][j] == 1:\n",
    "            cnt.append(bfs(graph, i, j))\n",
    "            \n",
    "cnt.sort()\n",
    "print(len(cnt))\n",
    "for i in cnt:\n",
    "    print(i)\n",
    "    \n"
   ]
  },
  {
   "cell_type": "code",
   "execution_count": 58,
   "id": "b30e99f0",
   "metadata": {},
   "outputs": [
    {
     "name": "stdout",
     "output_type": "stream",
     "text": [
      "2\n",
      "13\n",
      "OOIOIOIOIIOII\n",
      "2\n"
     ]
    }
   ],
   "source": [
    "n = int(input())\n",
    "m = int(input())\n",
    "s = input()\n",
    "left, right = 0, 0\n",
    "ans = 0\n",
    "\n",
    "\n",
    "while(right < m):\n",
    "    if(s[right:right+3] == 'IOI'):\n",
    "        right += 2\n",
    "        if(right - left == 2*n):\n",
    "            ans += 1\n",
    "            left += 2\n",
    "    else:\n",
    "        left = right = right + 1\n",
    "        \n",
    "print(ans)"
   ]
  },
  {
   "cell_type": "code",
   "execution_count": 59,
   "id": "b3e88c98",
   "metadata": {},
   "outputs": [
    {
     "name": "stdout",
     "output_type": "stream",
     "text": [
      "3\n",
      "10 12 3 9\n",
      "33\n",
      "10 12 7 2\n",
      "-1\n",
      "13 11 5 6\n",
      "83\n"
     ]
    }
   ],
   "source": [
    "t = int(input())\n",
    "\n",
    "for i in range(t):\n",
    "    m, n, x, y = map(int, input().split())\n",
    "    flag = 1\n",
    "    \n",
    "    while(x <= m*n):\n",
    "        if((x-y)%n == 0):\n",
    "            print(x)\n",
    "            flag = 0\n",
    "            break\n",
    "        x += m\n",
    "        \n",
    "    if flag:\n",
    "        print(-1)\n",
    "\n",
    "    "
   ]
  },
  {
   "cell_type": "code",
   "execution_count": 61,
   "id": "e2e742dc",
   "metadata": {
    "scrolled": true
   },
   "outputs": [
    {
     "name": "stdout",
     "output_type": "stream",
     "text": [
      "18\n",
      "1\n",
      "[(1, 1)]\n",
      "-1\n",
      "[(1, -1), (1, 1)]\n",
      "0\n",
      "-1\n",
      "[(1, 1)]\n",
      "0\n",
      "1\n",
      "[]\n",
      "0\n",
      "0\n",
      "1\n",
      "[(1, 1)]\n",
      "1\n",
      "[(1, 1), (1, 1)]\n",
      "-1\n",
      "[(1, -1), (1, 1), (1, 1)]\n",
      "-1\n",
      "[(1, -1), (1, -1), (1, 1), (1, 1)]\n",
      "2\n",
      "[(1, -1), (1, -1), (1, 1), (1, 1), (2, 2)]\n",
      "-2\n",
      "[(1, -1), (1, -1), (1, 1), (1, 1), (2, 2), (2, -2)]\n",
      "0\n",
      "-1\n",
      "[(1, -1), (1, 1), (1, 1), (2, -2), (2, 2)]\n",
      "0\n",
      "-1\n",
      "[(1, 1), (1, 1), (2, 2), (2, -2)]\n",
      "0\n",
      "1\n",
      "[(1, 1), (2, -2), (2, 2)]\n",
      "0\n",
      "1\n",
      "[(2, -2), (2, 2)]\n",
      "0\n",
      "-2\n",
      "[(2, 2)]\n"
     ]
    },
    {
     "ename": "KeyboardInterrupt",
     "evalue": "Interrupted by user",
     "output_type": "error",
     "traceback": [
      "\u001b[0;31m---------------------------------------------------------------------------\u001b[0m",
      "\u001b[0;31mKeyboardInterrupt\u001b[0m                         Traceback (most recent call last)",
      "Input \u001b[0;32mIn [61]\u001b[0m, in \u001b[0;36m<cell line: 6>\u001b[0;34m()\u001b[0m\n\u001b[1;32m      4\u001b[0m heap \u001b[38;5;241m=\u001b[39m []\n\u001b[1;32m      6\u001b[0m \u001b[38;5;28;01mfor\u001b[39;00m _ \u001b[38;5;129;01min\u001b[39;00m \u001b[38;5;28mrange\u001b[39m(t):\n\u001b[0;32m----> 7\u001b[0m     num \u001b[38;5;241m=\u001b[39m \u001b[38;5;28mint\u001b[39m(\u001b[38;5;28;43minput\u001b[39;49m\u001b[43m(\u001b[49m\u001b[43m)\u001b[49m)\n\u001b[1;32m      8\u001b[0m     \u001b[38;5;28;01mif\u001b[39;00m(num \u001b[38;5;241m!=\u001b[39m \u001b[38;5;241m0\u001b[39m):\n\u001b[1;32m      9\u001b[0m         heapq\u001b[38;5;241m.\u001b[39mheappush(heap, (\u001b[38;5;28mabs\u001b[39m(num), num))\n",
      "File \u001b[0;32m~/anaconda3/lib/python3.9/site-packages/ipykernel/kernelbase.py:1177\u001b[0m, in \u001b[0;36mKernel.raw_input\u001b[0;34m(self, prompt)\u001b[0m\n\u001b[1;32m   1173\u001b[0m \u001b[38;5;28;01mif\u001b[39;00m \u001b[38;5;129;01mnot\u001b[39;00m \u001b[38;5;28mself\u001b[39m\u001b[38;5;241m.\u001b[39m_allow_stdin:\n\u001b[1;32m   1174\u001b[0m     \u001b[38;5;28;01mraise\u001b[39;00m StdinNotImplementedError(\n\u001b[1;32m   1175\u001b[0m         \u001b[38;5;124m\"\u001b[39m\u001b[38;5;124mraw_input was called, but this frontend does not support input requests.\u001b[39m\u001b[38;5;124m\"\u001b[39m\n\u001b[1;32m   1176\u001b[0m     )\n\u001b[0;32m-> 1177\u001b[0m \u001b[38;5;28;01mreturn\u001b[39;00m \u001b[38;5;28;43mself\u001b[39;49m\u001b[38;5;241;43m.\u001b[39;49m\u001b[43m_input_request\u001b[49m\u001b[43m(\u001b[49m\n\u001b[1;32m   1178\u001b[0m \u001b[43m    \u001b[49m\u001b[38;5;28;43mstr\u001b[39;49m\u001b[43m(\u001b[49m\u001b[43mprompt\u001b[49m\u001b[43m)\u001b[49m\u001b[43m,\u001b[49m\n\u001b[1;32m   1179\u001b[0m \u001b[43m    \u001b[49m\u001b[38;5;28;43mself\u001b[39;49m\u001b[38;5;241;43m.\u001b[39;49m\u001b[43m_parent_ident\u001b[49m\u001b[43m[\u001b[49m\u001b[38;5;124;43m\"\u001b[39;49m\u001b[38;5;124;43mshell\u001b[39;49m\u001b[38;5;124;43m\"\u001b[39;49m\u001b[43m]\u001b[49m\u001b[43m,\u001b[49m\n\u001b[1;32m   1180\u001b[0m \u001b[43m    \u001b[49m\u001b[38;5;28;43mself\u001b[39;49m\u001b[38;5;241;43m.\u001b[39;49m\u001b[43mget_parent\u001b[49m\u001b[43m(\u001b[49m\u001b[38;5;124;43m\"\u001b[39;49m\u001b[38;5;124;43mshell\u001b[39;49m\u001b[38;5;124;43m\"\u001b[39;49m\u001b[43m)\u001b[49m\u001b[43m,\u001b[49m\n\u001b[1;32m   1181\u001b[0m \u001b[43m    \u001b[49m\u001b[43mpassword\u001b[49m\u001b[38;5;241;43m=\u001b[39;49m\u001b[38;5;28;43;01mFalse\u001b[39;49;00m\u001b[43m,\u001b[49m\n\u001b[1;32m   1182\u001b[0m \u001b[43m\u001b[49m\u001b[43m)\u001b[49m\n",
      "File \u001b[0;32m~/anaconda3/lib/python3.9/site-packages/ipykernel/kernelbase.py:1219\u001b[0m, in \u001b[0;36mKernel._input_request\u001b[0;34m(self, prompt, ident, parent, password)\u001b[0m\n\u001b[1;32m   1216\u001b[0m             \u001b[38;5;28;01mbreak\u001b[39;00m\n\u001b[1;32m   1217\u001b[0m \u001b[38;5;28;01mexcept\u001b[39;00m \u001b[38;5;167;01mKeyboardInterrupt\u001b[39;00m:\n\u001b[1;32m   1218\u001b[0m     \u001b[38;5;66;03m# re-raise KeyboardInterrupt, to truncate traceback\u001b[39;00m\n\u001b[0;32m-> 1219\u001b[0m     \u001b[38;5;28;01mraise\u001b[39;00m \u001b[38;5;167;01mKeyboardInterrupt\u001b[39;00m(\u001b[38;5;124m\"\u001b[39m\u001b[38;5;124mInterrupted by user\u001b[39m\u001b[38;5;124m\"\u001b[39m) \u001b[38;5;28;01mfrom\u001b[39;00m \u001b[38;5;28mNone\u001b[39m\n\u001b[1;32m   1220\u001b[0m \u001b[38;5;28;01mexcept\u001b[39;00m \u001b[38;5;167;01mException\u001b[39;00m:\n\u001b[1;32m   1221\u001b[0m     \u001b[38;5;28mself\u001b[39m\u001b[38;5;241m.\u001b[39mlog\u001b[38;5;241m.\u001b[39mwarning(\u001b[38;5;124m\"\u001b[39m\u001b[38;5;124mInvalid Message:\u001b[39m\u001b[38;5;124m\"\u001b[39m, exc_info\u001b[38;5;241m=\u001b[39m\u001b[38;5;28;01mTrue\u001b[39;00m)\n",
      "\u001b[0;31mKeyboardInterrupt\u001b[0m: Interrupted by user"
     ]
    }
   ],
   "source": [
    "import heapq\n",
    "import sys\n",
    "\n",
    "t = int(input())\n",
    "heap = []\n",
    "\n",
    "for _ in range(t):\n",
    "    num = int(sys.stdin.readline())\n",
    "    if(num != 0):\n",
    "        heapq.heappush(heap, (abs(num), num))\n",
    "    else:\n",
    "        try:\n",
    "            print(heapq.heappop(heap)[1])\n",
    "        except:\n",
    "            print(0)"
   ]
  },
  {
   "cell_type": "code",
   "execution_count": 62,
   "id": "b6902de8",
   "metadata": {},
   "outputs": [
    {
     "name": "stdout",
     "output_type": "stream",
     "text": [
      "15 15\n",
      "2 1 1 1 1 1 1 1 1 1 1 1 1 1 1\n",
      "1 1 1 1 1 1 1 1 1 1 1 1 1 1 1\n",
      "1 1 1 1 1 1 1 1 1 1 1 1 1 1 1\n",
      "1 1 1 1 1 1 1 1 1 1 1 1 1 1 1\n",
      "1 1 1 1 1 1 1 1 1 1 1 1 1 1 1\n",
      "1 1 1 1 1 1 1 1 1 1 1 1 1 1 1\n",
      "1 1 1 1 1 1 1 1 1 1 1 1 1 1 1\n",
      "1 1 1 1 1 1 1 1 1 1 1 1 1 1 1\n",
      "1 1 1 1 1 1 1 1 1 1 1 1 1 1 1\n",
      "1 1 1 1 1 1 1 1 1 1 1 1 1 1 1\n",
      "1 1 1 1 1 1 1 1 1 1 1 1 1 1 1\n",
      "1 1 1 1 1 1 1 1 1 1 0 0 0 0 1\n",
      "1 1 1 1 1 1 1 1 1 1 0 1 1 1 1\n",
      "1 1 1 1 1 1 1 1 1 1 0 1 0 0 0\n",
      "1 1 1 1 1 1 1 1 1 1 0 1 1 1 1\n",
      "0 -1 -1 1 -1 -1 -1 -1 -1 -1 -1 -1 -1 -1 -1 \n",
      "-1 -1 -1 1 -1 -1 -1 -1 -1 -1 -1 -1 -1 -1 -1 \n",
      "-1 -1 -1 2 -1 -1 -1 -1 -1 -1 -1 -1 -1 -1 -1 \n",
      "-1 -1 -1 3 -1 -1 -1 -1 -1 -1 -1 -1 -1 -1 -1 \n",
      "-1 -1 -1 4 -1 -1 -1 -1 -1 -1 -1 -1 -1 -1 -1 \n",
      "-1 -1 -1 5 -1 -1 -1 -1 -1 -1 -1 -1 -1 -1 -1 \n",
      "-1 -1 -1 6 -1 -1 -1 -1 -1 -1 -1 -1 -1 -1 -1 \n",
      "-1 -1 -1 7 -1 -1 -1 -1 -1 -1 -1 -1 -1 -1 -1 \n",
      "-1 -1 -1 8 -1 -1 -1 -1 -1 -1 -1 -1 -1 -1 -1 \n",
      "-1 -1 -1 9 -1 -1 -1 -1 -1 -1 -1 -1 -1 -1 -1 \n",
      "-1 -1 -1 10 -1 -1 -1 -1 -1 -1 -1 -1 -1 -1 -1 \n",
      "-1 -1 -1 11 -1 -1 -1 -1 -1 -1 0 0 0 0 -1 \n",
      "-1 -1 -1 12 -1 -1 -1 -1 -1 -1 0 -1 -1 -1 -1 \n",
      "-1 -1 -1 13 -1 -1 -1 -1 -1 -1 0 -1 0 0 0 \n",
      "-1 -1 -1 14 -1 -1 -1 -1 -1 -1 0 -1 -1 -1 -1 \n"
     ]
    }
   ],
   "source": [
    "from collections import deque\n",
    "\n",
    "n, m = map(int, input().split())\n",
    "board = []\n",
    "queue = deque([])\n",
    "visit = [[False]*m for _ in range(n)]\n",
    "res = [[-1]*m for _ in range(n)]\n",
    "\n",
    "\n",
    "for i in range(n):\n",
    "    row = list(map(int, input().split()))\n",
    "    \n",
    "    for j in range(m):\n",
    "        if(row[j] == 2):\n",
    "            queue.append((i, j))\n",
    "            visit[i][j] = True\n",
    "            res[i][j] = 0\n",
    "            \n",
    "        if(row[j] == 0):\n",
    "            res[i][j] = 0\n",
    "    board.append(row)\n",
    "    \n",
    "\n",
    "direction = [(1,0), (-1,0), (0,1), (0,-1)]\n",
    "while queue:\n",
    "    x, y = queue.popleft()\n",
    "    \n",
    "    for dx, dy in direction:\n",
    "        nx, ny = x+dx, y+dy\n",
    "        \n",
    "        if(0<=nx<n and 0<=ny<m and not visit[nx][ny] and board[nx][ny] == 1):\n",
    "            queue.append((nx, ny))\n",
    "            visit[nx][ny] = True\n",
    "            res[nx][ny] = res[x][y] + 1\n",
    "            \n",
    "            \n",
    "for i in res:\n",
    "    for j in i:\n",
    "        print(j, end =\" \")\n",
    "    print()"
   ]
  },
  {
   "cell_type": "code",
   "execution_count": 69,
   "id": "28ff6f2d",
   "metadata": {},
   "outputs": [
    {
     "name": "stdout",
     "output_type": "stream",
     "text": [
      "3\n",
      "3\n",
      "ENTJ INTP ESFJ\n",
      "8\n",
      "4\n",
      "ESFP ESFP ESFP ESFP\n",
      "0\n",
      "5\n",
      "INFP INFP ESTP ESTJ ISTJ\n",
      "4\n"
     ]
    }
   ],
   "source": [
    "from itertools import combinations\n",
    "\n",
    "\n",
    "def cal(a, b):\n",
    "    dist = 0\n",
    "    for i, j in zip(a, b):\n",
    "        if(i != j):\n",
    "            dist += 1\n",
    "    return dist\n",
    "\n",
    "t = int(input())\n",
    "\n",
    "for _ in range(t):\n",
    "    n = int(input())\n",
    "    mbti = input().split()\n",
    "    \n",
    "    if(n > 32):\n",
    "        print(0)\n",
    "        \n",
    "    else:\n",
    "        res = 13\n",
    "        case = combinations(mbti, 3)\n",
    "        for a, b, c in case:\n",
    "            dist = 0\n",
    "            dist += cal(a, b)\n",
    "            dist += cal(b, c)\n",
    "            dist += cal(a, c)\n",
    "            \n",
    "            res = min(res, dist)\n",
    "        print(res)"
   ]
  },
  {
   "cell_type": "code",
   "execution_count": 73,
   "id": "6c38881b",
   "metadata": {},
   "outputs": [
    {
     "name": "stdout",
     "output_type": "stream",
     "text": [
      "500000\n",
      "8\n",
      "0 2 3 4 6 7 8 9\n",
      "11117\n"
     ]
    }
   ],
   "source": [
    "target = int(input())\n",
    "ans = abs(100 - target)\n",
    "m = int(input())\n",
    "\n",
    "if m:\n",
    "    broken = set(input().split())\n",
    "else:\n",
    "    broken = set()\n",
    "    \n",
    "for num in range(1000001):\n",
    "    for n in str(num):\n",
    "        if n in broken:\n",
    "            break\n",
    "    else:\n",
    "        ans = min(ans, len(str(num)) + abs(num - target))\n",
    "print(ans)"
   ]
  },
  {
   "cell_type": "code",
   "execution_count": 98,
   "id": "c69865ec",
   "metadata": {},
   "outputs": [
    {
     "name": "stdout",
     "output_type": "stream",
     "text": [
      "1\n",
      "D\n",
      "0\n",
      "[]\n",
      "error\n",
      "error\n"
     ]
    }
   ],
   "source": [
    "from collections import deque\n",
    "t = int(input())\n",
    "\n",
    "for _ in range(t):\n",
    "    command = input()\n",
    "    nums = []\n",
    "    n = int(input())\n",
    "    \n",
    "    tmp = input()\n",
    "    for i in tmp:\n",
    "        if(i.isdecimal()):\n",
    "            nums.append(int(i))\n",
    "    \n",
    "#     print(nums)\n",
    "    \n",
    "    for i in command:\n",
    "        if(i == \"R\"):\n",
    "            nums.reverse()\n",
    "#             print(nums)\n",
    "        elif(i == \"D\"):\n",
    "            if nums:\n",
    "                nums.pop(0)\n",
    "#                 print(nums)\n",
    "            else:\n",
    "                print('error')\n",
    "            \n",
    "    if nums:\n",
    "        print(nums)\n",
    "    else:\n",
    "        print('error')"
   ]
  },
  {
   "cell_type": "code",
   "execution_count": 103,
   "id": "d5928c82",
   "metadata": {},
   "outputs": [
    {
     "name": "stdout",
     "output_type": "stream",
     "text": [
      "1\n",
      "RRD\n",
      "6\n",
      "[1,1,2,3,5,8]\n",
      "[1,2,3,5,8]\n"
     ]
    }
   ],
   "source": [
    "from collections import deque\n",
    "\n",
    "t = int(input())\n",
    "\n",
    "for _ in range(t):\n",
    "    cmd = input()\n",
    "    n = int(input())\n",
    "    arr = input()[1:-1].split(',')\n",
    "    \n",
    "    queue = deque(arr)\n",
    "    flag = 0\n",
    "    \n",
    "    if(n == 0):\n",
    "        queue = []\n",
    "        \n",
    "    for i in cmd:\n",
    "        if(i == 'R'):\n",
    "            flag += 1\n",
    "        elif(i == 'D'):\n",
    "            if(len(queue) == 0):\n",
    "                print('error')\n",
    "                break\n",
    "            else:\n",
    "                if(flag % 2 == 0):\n",
    "                    queue.popleft()\n",
    "                else:\n",
    "                    queue.pop()\n",
    "                    \n",
    "\n",
    "    else:\n",
    "        if(flag % 2 == 0):\n",
    "            print(\"[\" + \",\".join(queue) + ']')\n",
    "        else:\n",
    "            queue.reverse()\n",
    "            print(\"[\" + \",\".join(queue) + ']')"
   ]
  },
  {
   "cell_type": "code",
   "execution_count": 108,
   "id": "c749bc87",
   "metadata": {},
   "outputs": [
    {
     "name": "stdout",
     "output_type": "stream",
     "text": [
      "6 4\n",
      "0 0 0 0 0 0\n",
      "0 0 0 0 0 0\n",
      "0 0 0 0 0 0\n",
      "0 0 0 0 0 1\n",
      "8\n"
     ]
    }
   ],
   "source": [
    "from collections import deque\n",
    "\n",
    "m, n = map(int, input().split())\n",
    "arr = []\n",
    "\n",
    "for _ in range(n):\n",
    "    arr.append(list(map(int, input().split())))\n",
    "    \n",
    "queue = deque([])\n",
    "dx = [-1, 1, 0, 0]\n",
    "dy = [0, 0, -1, 1]\n",
    "res = 0\n",
    "\n",
    "for i in range(n):\n",
    "    for j in range(m):\n",
    "        if(arr[i][j] == 1):\n",
    "            queue.append([i, j])\n",
    "            \n",
    "            \n",
    "def bfs():\n",
    "    while queue:\n",
    "        x, y = queue.popleft()\n",
    "        \n",
    "        for i in range(4):\n",
    "            nx, ny = x + dx[i], y + dy[i]\n",
    "            \n",
    "            if(0 <= nx < n and 0 <= ny < m and arr[nx][ny] == 0):\n",
    "                arr[nx][ny] = arr[x][y] + 1\n",
    "                queue.append([nx, ny])\n",
    "                \n",
    "bfs()\n",
    "\n",
    "for i in arr:\n",
    "    for j in i:\n",
    "        if(j == 0):\n",
    "            print(-1)\n",
    "            exit(0)\n",
    "            \n",
    "    res = max(res, max(i))\n",
    "print(res - 1)"
   ]
  },
  {
   "cell_type": "code",
   "execution_count": 114,
   "id": "1ffe517d",
   "metadata": {},
   "outputs": [
    {
     "name": "stdout",
     "output_type": "stream",
     "text": [
      "5\n",
      "RRRBB\n",
      "GGBBB\n",
      "BBBRR\n",
      "BBRRR\n",
      "RRRRR\n",
      "4 3\n"
     ]
    }
   ],
   "source": [
    "from collections import deque\n",
    "\n",
    "n = int(input())\n",
    "painting = [list(input()) for _ in range(n)]\n",
    "queue = deque([])\n",
    "\n",
    "dx, dy = [-1, 1, 0, 0], [0, 0, -1, 1]\n",
    "ans1, ans2 = 0, 0\n",
    "\n",
    "\n",
    "def bfs(x, y):\n",
    "    queue.append([x, y])\n",
    "    visited[x][y] = 1\n",
    "    while queue:\n",
    "        x, y = queue.popleft()\n",
    "        for i in range(4):\n",
    "            nx = x + dx[i]\n",
    "            ny = y + dy[i]\n",
    "            if(0 <= nx < n and 0 <= ny < n and painting[nx][ny] == painting[x][y] and not visited[nx][ny]):\n",
    "                visited[nx][ny] = 1\n",
    "                queue.append([nx, ny])\n",
    "\n",
    "\n",
    "visited = [[0]*n for _ in range(n)]\n",
    "for i in range(n):\n",
    "    for j in range(n):\n",
    "        if(not visited[i][j]):\n",
    "            bfs(i, j)\n",
    "            ans1 += 1\n",
    "            \n",
    "            \n",
    "for i in range(n):\n",
    "    for j in range(n):\n",
    "        if(painting[i][j] == 'G'):\n",
    "            painting[i][j] = 'R'\n",
    "            \n",
    "            \n",
    "visited = [[0]*n for _ in range(n)]\n",
    "for i in range(n):\n",
    "    for j in range(n):\n",
    "        if(not visited[i][j]):\n",
    "            bfs(i, j)\n",
    "            ans2 += 1\n",
    "            \n",
    "            \n",
    "print(ans1, ans2)"
   ]
  },
  {
   "cell_type": "code",
   "execution_count": 116,
   "id": "96670feb",
   "metadata": {},
   "outputs": [
    {
     "name": "stdout",
     "output_type": "stream",
     "text": [
      "1\n",
      "1\n",
      "i 16\n",
      "i 16\n"
     ]
    }
   ],
   "source": [
    "t = int(input())\n",
    "\n",
    "for _ in range(t):\n",
    "    k = int(input())\n",
    "    for _ in range(k):\n",
    "        cmd, n = input().split()\n",
    "        \n",
    "    print(cmd, n)"
   ]
  },
  {
   "cell_type": "code",
   "execution_count": 118,
   "id": "0767a5a1",
   "metadata": {},
   "outputs": [
    {
     "name": "stdout",
     "output_type": "stream",
     "text": [
      "2\n",
      "7\n",
      "I 16\n",
      "16 16\n",
      "I -5643\n",
      "16 -5643\n",
      "D -1\n",
      "16 16\n",
      "D 1\n",
      "EMPTY\n",
      "D 1\n",
      "EMPTY\n",
      "I 123\n",
      "123 123\n",
      "D -1\n",
      "EMPTY\n",
      "9\n",
      "I -45\n",
      "-45 -45\n",
      "I 653\n",
      "653 -45\n",
      "D 1\n",
      "-45 -45\n",
      "I -642\n",
      "-45 -642\n",
      "I 45\n",
      "45 -642\n",
      "I 97\n",
      "97 -642\n",
      "D 1\n",
      "45 -642\n",
      "D -1\n",
      "45 -45\n",
      "I 333\n",
      "333 -45\n"
     ]
    }
   ],
   "source": [
    "import heapq\n",
    "\n",
    "t = int(input())\n",
    "\n",
    "for i in range(t):\n",
    "    k = int(input())\n",
    "    q1, q2 = [], []\n",
    "    visited = [False] * k\n",
    "    \n",
    "    for j in range(k):\n",
    "        cmd, num = input().split()\n",
    "        \n",
    "        if(cmd == 'I'):\n",
    "            heapq.heappush(q1, (int(num), j))\n",
    "            heapq.heappush(q2, (-int(num), j))\n",
    "            visited[j] = True\n",
    "            \n",
    "            \n",
    "        else:\n",
    "            if(num == '1'):\n",
    "                while(q2 and not visited[q2[0][1]]):\n",
    "                    heapq.heappop(q2)\n",
    "                if q2:\n",
    "                    visited[q2[0][1]] = False\n",
    "                    heapq.heappop(q2)\n",
    "                    \n",
    "            else:\n",
    "                while(q1 and not visited[q1[0][1]]):\n",
    "                    heapq.heappop(q1)\n",
    "                if q1:\n",
    "                    visited[q1[0][1]] = False\n",
    "                    heapq.heappop(q1)\n",
    "                    \n",
    "                    \n",
    "    while(q1 and not visited[q1[0][1]]):\n",
    "        heapq.heappop(q1)\n",
    "    while(q2 and not visited[q2[0][1]]):\n",
    "        heapq.heappop(q2)\n",
    "\n",
    "\n",
    "    if(not q1 or not q2):\n",
    "        print(\"EMPTY\")\n",
    "    else:\n",
    "        a = -q2[0][0]\n",
    "        b = q1[0][0]\n",
    "        print(int(a), int(b))"
   ]
  },
  {
   "cell_type": "code",
   "execution_count": null,
   "id": "bd3c270a",
   "metadata": {},
   "outputs": [],
   "source": [
    "from collections import deque\n",
    "t = int(input())\n",
    "\n",
    "for _ in range(t):\n",
    "    m, n = map(int, input().split())\n",
    "    visited = [False for _ in range(10001)]\n",
    "    \n",
    "    queue = deque()\n",
    "    queue.append([m,''])\n",
    "    visited[m] = True\n",
    "    \n",
    "    while queue:\n",
    "        num, cmd = queue.popleft()\n",
    "        \n",
    "        if(num == n):\n",
    "            print(cmd)\n",
    "            break\n",
    "            \n",
    "        d = num * 2 % 10000\n",
    "        if(not visited[d]):\n",
    "            visited[d] = True\n",
    "            queue.append([d, cmd+'D'])\n",
    "            \n",
    "        s = (num - 1) % 10000\n",
    "        if(not visited[s]):\n",
    "            visited[s] = True\n",
    "            queue.append([s, cmd+'S'])\n",
    "            \n",
    "        l = num//1000 + (num%1000)*10\n",
    "        if(not visited[l]):\n",
    "            visited[l] = True\n",
    "            queue.append([l, cmd+'L'])\n",
    "            \n",
    "        r = num//10 + (num%10)\n",
    "    "
   ]
  },
  {
   "cell_type": "code",
   "execution_count": 3,
   "id": "19c8082c",
   "metadata": {},
   "outputs": [
    {
     "name": "stdout",
     "output_type": "stream",
     "text": [
      "5 5\n",
      "1 2 3 4 5\n",
      "5 4 3 2 1\n",
      "2 3 4 5 6\n",
      "6 5 4 3 2\n",
      "1 2 1 2 1\n"
     ]
    },
    {
     "ename": "IndexError",
     "evalue": "list index out of range",
     "output_type": "error",
     "traceback": [
      "\u001b[0;31m---------------------------------------------------------------------------\u001b[0m",
      "\u001b[0;31mIndexError\u001b[0m                                Traceback (most recent call last)",
      "Input \u001b[0;32mIn [3]\u001b[0m, in \u001b[0;36m<cell line: 36>\u001b[0;34m()\u001b[0m\n\u001b[1;32m     37\u001b[0m     \u001b[38;5;28;01mfor\u001b[39;00m j \u001b[38;5;129;01min\u001b[39;00m \u001b[38;5;28mrange\u001b[39m(m):\n\u001b[1;32m     38\u001b[0m         visit[i][j] \u001b[38;5;241m=\u001b[39m \u001b[38;5;241m1\u001b[39m\n\u001b[0;32m---> 39\u001b[0m         \u001b[43mdfs\u001b[49m\u001b[43m(\u001b[49m\u001b[43mi\u001b[49m\u001b[43m,\u001b[49m\u001b[43m \u001b[49m\u001b[43mj\u001b[49m\u001b[43m,\u001b[49m\u001b[43m \u001b[49m\u001b[38;5;241;43m0\u001b[39;49m\u001b[43m,\u001b[49m\u001b[43m \u001b[49m\u001b[43mpaper\u001b[49m\u001b[43m[\u001b[49m\u001b[43mi\u001b[49m\u001b[43m]\u001b[49m\u001b[43m[\u001b[49m\u001b[43mj\u001b[49m\u001b[43m]\u001b[49m\u001b[43m)\u001b[49m\n\u001b[1;32m     40\u001b[0m         visit[i][j] \u001b[38;5;241m=\u001b[39m \u001b[38;5;241m0\u001b[39m\n\u001b[1;32m     42\u001b[0m \u001b[38;5;28mprint\u001b[39m(ans)\n",
      "Input \u001b[0;32mIn [3]\u001b[0m, in \u001b[0;36mdfs\u001b[0;34m(x, y, idx, total)\u001b[0m\n\u001b[1;32m     19\u001b[0m     visit[nx][ny] \u001b[38;5;241m=\u001b[39m \u001b[38;5;241m0\u001b[39m\n\u001b[1;32m     20\u001b[0m visit[nx][ny] \u001b[38;5;241m=\u001b[39m \u001b[38;5;241m1\u001b[39m\n\u001b[0;32m---> 21\u001b[0m dfs(nx, ny, idx\u001b[38;5;241m+\u001b[39m\u001b[38;5;241m1\u001b[39m, total\u001b[38;5;241m+\u001b[39m\u001b[43mpaper\u001b[49m\u001b[43m[\u001b[49m\u001b[43mnx\u001b[49m\u001b[43m]\u001b[49m[ny])\n\u001b[1;32m     22\u001b[0m visit[nx][ny] \u001b[38;5;241m=\u001b[39m \u001b[38;5;241m0\u001b[39m\n",
      "\u001b[0;31mIndexError\u001b[0m: list index out of range"
     ]
    }
   ],
   "source": [
    "import sys\n",
    "\n",
    "def dfs(x, y, idx, total):\n",
    "    global ans\n",
    "    if(ans >= total + max_val * (3-idx)):\n",
    "        return\n",
    "    if(idx == 3):\n",
    "        ans = max(ans, total)\n",
    "        return\n",
    "    else:\n",
    "        for i in range(4):\n",
    "            nx = x + dx[i]\n",
    "            ny = y + dy[i]\n",
    "            \n",
    "            if(0 <= nx < n and 0 <= ny < m and visit[nx][ny] == 0):\n",
    "                if(idx == 1):\n",
    "                    visit[nx][ny] = 1\n",
    "                    dfs(x, y, idx+1, total+paper[nx][ny])\n",
    "                    visit[nx][ny] = 0\n",
    "                visit[nx][ny] = 1\n",
    "                dfs(nx, ny, idx+1, total+paper[nx][ny])\n",
    "                visit[nx][ny] = 0\n",
    "\n",
    "n, m = map(int, input().split())\n",
    "\n",
    "for _ in range(n):\n",
    "    paper = [list(map(int, input().split()))]\n",
    "visit = [[0]*m for _ in range(n)]\n",
    "\n",
    "dx, dy = [-1, 1, 0, 0], [0, 0, -1, 1]\n",
    "ans = 0\n",
    "max_val = max(map(max, paper))\n",
    "\n",
    "    \n",
    "    \n",
    "for i in range(n):\n",
    "    for j in range(m):\n",
    "        visit[i][j] = 1\n",
    "        dfs(i, j, 0, paper[i][j])\n",
    "        visit[i][j] = 0\n",
    "            \n",
    "print(ans)\n",
    "    "
   ]
  },
  {
   "cell_type": "code",
   "execution_count": 4,
   "id": "eee451b2",
   "metadata": {},
   "outputs": [
    {
     "name": "stdout",
     "output_type": "stream",
     "text": [
      "5 5\n",
      "1 2 3 4 5\n",
      "5 4 3 2 1\n",
      "2 3 4 5 6\n",
      "6 5 4 3 2\n",
      "1 2 1 2 1\n",
      "19\n"
     ]
    }
   ],
   "source": [
    "import sys; \n",
    "input = sys.stdin.readline\n",
    "\n",
    "def dfs(r, c, idx, total):\n",
    "    global ans\n",
    "    if ans >= total + max_val * (3 - idx):\n",
    "        return\n",
    "    if idx == 3:\n",
    "        ans = max(ans, total)\n",
    "        return\n",
    "    else:\n",
    "        for i in range(4):\n",
    "            nr = r + dr[i]\n",
    "            nc = c + dc[i]\n",
    "            if 0 <= nr < N and 0 <= nc < M and visit[nr][nc] == 0:\n",
    "                if idx == 1:\n",
    "                    visit[nr][nc] = 1\n",
    "                    dfs(r, c, idx + 1, total + arr[nr][nc])\n",
    "                    visit[nr][nc] = 0\n",
    "                visit[nr][nc] = 1\n",
    "                dfs(nr, nc, idx + 1, total + arr[nr][nc])\n",
    "                visit[nr][nc] = 0\n",
    "\n",
    "\n",
    "N, M = map(int, input().split())\n",
    "arr = [list(map(int, input().split())) for _ in range(N)]\n",
    "visit = [([0] * M) for _ in range(N)]\n",
    "dr = [-1, 0, 1, 0]\n",
    "dc = [0, 1, 0, -1]\n",
    "ans = 0\n",
    "max_val = max(map(max, arr))\n",
    "\n",
    "for r in range(N):\n",
    "    for c in range(M):\n",
    "        visit[r][c] = 1\n",
    "        dfs(r, c, 0, arr[r][c])\n",
    "        visit[r][c] = 0\n",
    "\n",
    "print(ans)"
   ]
  },
  {
   "cell_type": "code",
   "execution_count": 32,
   "id": "6b2232a5",
   "metadata": {},
   "outputs": [
    {
     "name": "stdout",
     "output_type": "stream",
     "text": [
      "4 4\n",
      "1231 1232 1233 1234\n",
      "1231 1231 1231 1231\n",
      "1231 1231 1231 1232\n",
      "1231 1231 1231 1233\n",
      "1231 1231 1231 1234\n",
      "1231 1231 1232 1232\n",
      "1231 1231 1232 1233\n",
      "1231 1231 1232 1234\n",
      "1231 1231 1233 1233\n",
      "1231 1231 1233 1234\n",
      "1231 1231 1234 1234\n",
      "1231 1232 1232 1232\n",
      "1231 1232 1232 1233\n",
      "1231 1232 1232 1234\n",
      "1231 1232 1233 1233\n",
      "1231 1232 1233 1234\n",
      "1231 1232 1234 1234\n",
      "1231 1233 1233 1233\n",
      "1231 1233 1233 1234\n",
      "1231 1233 1234 1234\n",
      "1231 1234 1234 1234\n",
      "1232 1232 1232 1232\n",
      "1232 1232 1232 1233\n",
      "1232 1232 1232 1234\n",
      "1232 1232 1233 1233\n",
      "1232 1232 1233 1234\n",
      "1232 1232 1234 1234\n",
      "1232 1233 1233 1233\n",
      "1232 1233 1233 1234\n",
      "1232 1233 1234 1234\n",
      "1232 1234 1234 1234\n",
      "1233 1233 1233 1233\n",
      "1233 1233 1233 1234\n",
      "1233 1233 1234 1234\n",
      "1233 1234 1234 1234\n",
      "1234 1234 1234 1234\n"
     ]
    }
   ],
   "source": [
    "n, m = map(int, input().split())\n",
    "s = []\n",
    "num = list(map(int, input().split()))\n",
    "num.sort()\n",
    "\n",
    "def dfs(start):\n",
    "    if(len(s) == m):\n",
    "#         print(' '.join(map(str, s)))\n",
    "        print(*s)\n",
    "        return\n",
    "    \n",
    "    for i in range(start, n):\n",
    "#         if(num[i] not in s):\n",
    "        s.append(num[i])\n",
    "        dfs(i)\n",
    "        s.pop()\n",
    "            \n",
    "            \n",
    "dfs(0)"
   ]
  },
  {
   "cell_type": "code",
   "execution_count": 53,
   "id": "60b247ca",
   "metadata": {},
   "outputs": [
    {
     "name": "stdout",
     "output_type": "stream",
     "text": [
      "6\n",
      "10 20 10 30 20 50\n",
      "[1, 2, 1, 3, 2, 4]\n",
      "4\n"
     ]
    }
   ],
   "source": [
    "n = int(input())\n",
    "num = list(map(int, input().split()))\n",
    "\n",
    "visited = [1] * n\n",
    "\n",
    "for i in range(1, n):\n",
    "    for j in range(i):\n",
    "        if(num[i] > num[j]):\n",
    "            visited[i] = max(visited[i], visited[j]+1)\n",
    "\n",
    "\n",
    "# print(visited)\n",
    "print(max(visited))"
   ]
  },
  {
   "cell_type": "code",
   "execution_count": 60,
   "id": "7ed0a7f3",
   "metadata": {},
   "outputs": [
    {
     "name": "stdout",
     "output_type": "stream",
     "text": [
      "5\n",
      "1 1\n",
      "1 1\n",
      "2 2\n",
      "2 2\n",
      "[[1, 1], [1, 1], [2, 2], [2, 2]]\n"
     ]
    }
   ],
   "source": [
    "from collections import deque\n",
    "\n",
    "n = int(input())\n",
    "graph = [[] for _ in range(n+1)]\n",
    "\n",
    "for _ in range(n-1):\n",
    "    a, b = map(int, input().split())\n",
    "    graph[a].append(b)\n",
    "    graph[b].append(a)\n",
    "    \n",
    "    \n",
    "queue = deque()\n",
    "queue.append(1)\n",
    "\n",
    "ans = [0]*(n+1)\n",
    "\n",
    "def bfs():\n",
    "    while queue:\n",
    "        now = queue.popleft()\n",
    "        for i in graph[now]:\n",
    "            if(ans[i] == 0):\n",
    "                ans[i] = now\n",
    "                queue.append(i)\n",
    "                \n",
    "bfs()\n",
    "res = ans[2:]\n",
    "\n",
    "for i in res:\n",
    "\n",
    "    print(i)"
   ]
  },
  {
   "cell_type": "code",
   "execution_count": 64,
   "id": "a7de8c61",
   "metadata": {},
   "outputs": [
    {
     "name": "stdout",
     "output_type": "stream",
     "text": [
      "2 162\n",
      "2 1\n",
      "4 2\n",
      "21 2\n",
      "8 3\n",
      "41 3\n",
      "42 3\n",
      "16 4\n",
      "81 4\n",
      "82 4\n",
      "84 4\n",
      "32 5\n",
      "161 5\n",
      "162 5\n",
      "5\n"
     ]
    }
   ],
   "source": [
    "from collections import deque\n",
    "\n",
    "\n",
    "def bfs(a, b):\n",
    "    queue = deque([(a, 1)])\n",
    "    \n",
    "    while queue:\n",
    "        a, cnt = queue.popleft()\n",
    "        if(a == b):\n",
    "            print(cnt)\n",
    "            return\n",
    "        \n",
    "        if(a*2 <= b):\n",
    "            queue.append((a*2, cnt+1))\n",
    "        if(a*10 + 1 <= b):\n",
    "            queue.append((a*10+1, cnt+1))\n",
    "    print(-1)\n",
    "\n",
    "\n",
    "\n",
    "a, b = map(int, input().split())\n",
    "bfs(a, b)"
   ]
  },
  {
   "cell_type": "code",
   "execution_count": 72,
   "id": "651e635e",
   "metadata": {},
   "outputs": [
    {
     "name": "stdout",
     "output_type": "stream",
     "text": [
      "3 4 99\n",
      "0 0 0 0\n",
      "0 0 0 0\n",
      "0 0 0 1\n",
      "2 0\n"
     ]
    }
   ],
   "source": [
    "import sys\n",
    "\n",
    "n, m, b = map(int, input().split())\n",
    "field = []\n",
    "answer = sys.maxsize\n",
    "idx = 0\n",
    "\n",
    "for i in range(n):\n",
    "    field.append(list(map(int, input().split())))\n",
    "    \n",
    "\n",
    "for floor in range(257):\n",
    "    plus_block, minus_block = 0, 0\n",
    "    \n",
    "    for i in range(n):\n",
    "        for j in range(m):\n",
    "            \n",
    "            if(field[i][j] > floor):\n",
    "                plus_block += field[i][j] - floor\n",
    "            else:\n",
    "                minus_block += floor - field[i][j]\n",
    "                \n",
    "    if(plus_block + b >= minus_block):\n",
    "        if(plus_block * 2 + minus_block <= answer):\n",
    "            answer = (plus_block*2) + minus_block\n",
    "            idx = floor\n",
    "            \n",
    "        \n",
    "print(answer, idx)\n",
    "        "
   ]
  },
  {
   "cell_type": "code",
   "execution_count": 70,
   "id": "aaffa7cd",
   "metadata": {},
   "outputs": [
    {
     "name": "stdout",
     "output_type": "stream",
     "text": [
      "3 4 99\n",
      "0 0 0 0\n",
      "0 0 0 0\n",
      "0 0 0 1\n",
      "2 0\n"
     ]
    }
   ],
   "source": [
    "import sys\n",
    "input = sys.stdin.readline\n",
    "N, M, B = map(int, input().split())\n",
    "field = [list(map(int, input().split())) for _ in range(N)]\n",
    "answer = sys.maxsize\n",
    "idx = 0\n",
    "\n",
    "for floor in range(257):\n",
    "    exceed_block, lack_block = 0, 0\n",
    "\n",
    "    for i in range(N):\n",
    "        for j in range(M):\n",
    "\n",
    "            if field[i][j] > floor :\n",
    "                exceed_block += field[i][j] - floor\n",
    "            else : \n",
    "                lack_block += floor - field[i][j]\n",
    "\n",
    "    if exceed_block + B >= lack_block :\n",
    "        if (exceed_block * 2) + lack_block <= answer:\n",
    "            answer = (exceed_block * 2) + lack_block\n",
    "            idx = floor\n",
    "\n",
    "\n",
    "print(answer, idx)"
   ]
  },
  {
   "cell_type": "code",
   "execution_count": 76,
   "id": "7196fc89",
   "metadata": {},
   "outputs": [
    {
     "name": "stdout",
     "output_type": "stream",
     "text": [
      "3\n",
      "CCP\n",
      "CCP\n",
      "PPC\n",
      "3\n"
     ]
    }
   ],
   "source": [
    "def check(data):\n",
    "    max_cnt = 1\n",
    "    \n",
    "    for i in range(n):\n",
    "        cnt = 1\n",
    "        for j in range(1, n):\n",
    "            if(data[i][j] == data[i][j-1]):\n",
    "                cnt += 1\n",
    "            else:\n",
    "                cnt = 1\n",
    "            max_cnt = max(max_cnt, cnt)\n",
    "        \n",
    "        cnt = 1\n",
    "        for j in range(1, n):\n",
    "            if(data[j][i] == data[j-1][i]):\n",
    "                cnt += 1\n",
    "            else:\n",
    "                cnt = 1\n",
    "            max_cnt = max(max_cnt, cnt)\n",
    "            \n",
    "    return max_cnt\n",
    "\n",
    "\n",
    "n = int(input()) \n",
    "data = [list(input()) for _ in range(n)]\n",
    "ans = 0\n",
    "    \n",
    "for i in range(n):\n",
    "    for j in range(n):\n",
    "        if(j+1 < n):\n",
    "            data[i][j], data[i][j+1] = data[i][j+1], data[i][j]\n",
    "            cnt = check(data)\n",
    "            ans = max(ans, cnt)\n",
    "            data[i][j], data[i][j+1] = data[i][j+1], data[i][j]\n",
    "            \n",
    "        if(i+1 < n):\n",
    "            data[i][j], data[i+1][j] = data[i+1][j], data[i][j]\n",
    "            cnt = check(data)\n",
    "            ans = max(ans, cnt)\n",
    "            data[i][j], data[i+1][j] = data[i+1][j], data[i][j]\n",
    "            \n",
    "print(ans)\n",
    "        "
   ]
  },
  {
   "cell_type": "code",
   "execution_count": 77,
   "id": "77b1f5f1",
   "metadata": {},
   "outputs": [
    {
     "name": "stdout",
     "output_type": "stream",
     "text": [
      "3\n",
      "CCP\n",
      "CCP\n",
      "PPC\n",
      "3\n"
     ]
    }
   ],
   "source": [
    "n = int(input()) \n",
    "grid = [list(input()) for _ in range(n)]\n",
    "dx, dy = [1, 0], [0, 1]\n",
    "max_score = 0\n",
    "\n",
    "def getMaxScore(n, grid):\n",
    "    score = 0\n",
    "    \n",
    "    for i in range(n):\n",
    "        cur = ''\n",
    "        seq = 0\n",
    "        for j in range(n):\n",
    "            if(cur == grid[i][j]):\n",
    "                seq += 1\n",
    "                score = max(score, seq)\n",
    "            else:\n",
    "                cur = grid[i][j]\n",
    "                seq = 1\n",
    "            \n",
    "    for i in range(n):\n",
    "        cur = ''\n",
    "        seq = 0\n",
    "        for j in range(n):\n",
    "            if(cur == grid[j][i]):\n",
    "                seq += 1\n",
    "                score = max(score, seq)\n",
    "            else:\n",
    "                cur = grid[j][i]\n",
    "                seq = 1\n",
    "                \n",
    "    return score\n",
    "\n",
    "\n",
    "for i in range(n):\n",
    "    for j in range(n):\n",
    "        for k in range(2):\n",
    "            nx = i + dx[k]\n",
    "            ny = j + dy[k]\n",
    "            \n",
    "            if(nx < n and ny < n):\n",
    "                grid[i][j] = grid[nx][ny]\n",
    "                max_score = max(max_score, getMaxScore(n, grid))\n",
    "                grid[i][j] = grid[nx][ny]\n",
    "                \n",
    "print(max_score)"
   ]
  },
  {
   "cell_type": "code",
   "execution_count": 100,
   "id": "1c4b264c",
   "metadata": {},
   "outputs": [
    {
     "name": "stdout",
     "output_type": "stream",
     "text": [
      "7\n",
      "4 50\n",
      "2 160\n",
      "3 30\n",
      "1 60\n",
      "3 20\n",
      "1 100\n",
      "47600\n"
     ]
    }
   ],
   "source": [
    "n = int(input())\n",
    "field = [list(map(int, input().split())) for _ in range(6)]\n",
    "# field = [[4, 50], [2, 160], [3, 30], [1, 60], [3, 20], [1, 100]]\n",
    "# field.sort()\n",
    "# print(field)\n",
    "\n",
    "\n",
    "row, col = 0, 0\n",
    "big, small = 0, 0\n",
    "idx_row = 0\n",
    "idx_col = 0\n",
    "\n",
    "for i in range(len(field)):    \n",
    "    if(field[i][0] == 1 or field[i][0] == 2):\n",
    "        if(field[i][1] > row):\n",
    "            row = field[i][1]\n",
    "            idx_row = i\n",
    "            \n",
    "    elif(field[i][0] == 3 or field[i][0] == 4):\n",
    "        if(field[i][1] > col):\n",
    "            col = field[i][1]\n",
    "            idx_col = i\n",
    "            \n",
    "# print(row, col)\n",
    "big = row*col\n",
    "\n",
    "small = abs(field[(idx_row+1)%6][1] - field[(idx_row-1)%6][1]) * abs(field[(idx_col+1)%6][1] - field[(idx_col-1)%6][1])\n",
    "\n",
    "\n",
    "print((big - small)*n)"
   ]
  },
  {
   "cell_type": "code",
   "execution_count": null,
   "id": "28465696",
   "metadata": {},
   "outputs": [],
   "source": [
    "7\n",
    "4 50\n",
    "2 160\n",
    "3 30\n",
    "1 60\n",
    "3 20\n",
    "1 100"
   ]
  },
  {
   "cell_type": "code",
   "execution_count": 87,
   "id": "40d60934",
   "metadata": {},
   "outputs": [
    {
     "name": "stdout",
     "output_type": "stream",
     "text": [
      "100\n"
     ]
    }
   ],
   "source": [
    "a = [[1, 60], [1, 100], [2, 160], [3, 20], [3, 30], [4, 50]]\n",
    "print(max(a))"
   ]
  },
  {
   "cell_type": "code",
   "execution_count": 101,
   "id": "c338cb54",
   "metadata": {},
   "outputs": [
    {
     "name": "stdout",
     "output_type": "stream",
     "text": [
      "4\n",
      "2 1 1 0\n",
      "[4, 2, 1, 3]\n"
     ]
    }
   ],
   "source": [
    "n = int(input())\n",
    "people = list(map(int, input().split()))\n",
    "\n",
    "height = [0] * n\n",
    "\n",
    "for i in range(n):\n",
    "    cnt = 0\n",
    "    \n",
    "    for j in range(n):\n",
    "        if(cnt == people[i] and height[j] == 0):\n",
    "            height[j] = i + 1\n",
    "            break\n",
    "        elif(height[j] == 0):\n",
    "            cnt += 1\n",
    "            \n",
    "print(*height)"
   ]
  },
  {
   "cell_type": "code",
   "execution_count": null,
   "id": "d731dbb3",
   "metadata": {},
   "outputs": [],
   "source": [
    "2 1 1 0"
   ]
  },
  {
   "cell_type": "code",
   "execution_count": 126,
   "id": "add29f42",
   "metadata": {},
   "outputs": [
    {
     "name": "stdout",
     "output_type": "stream",
     "text": [
      "4 4 2\n",
      "1 2 3 4\n",
      "5 6 7 8\n",
      "9 10 11 12\n",
      "13 14 15 16\n",
      "3 4 8 12\n",
      "2 11 10 16\n",
      "1 7 6 15\n",
      "5 9 13 14\n"
     ]
    }
   ],
   "source": [
    "from collections import deque\n",
    "\n",
    "n, m, r = map(int, input().split())\n",
    "nums = [list(input().split()) for _ in range(n)]\n",
    "answer = [[0]*m for _ in range(n)]\n",
    "queue = deque()\n",
    "\n",
    "loops = min(n, m)//2\n",
    "\n",
    "for i in range(loops):\n",
    "    queue.clear()\n",
    "    queue.extend(nums[i][i:m-i]) #위쪽\n",
    "    queue.extend([row[m-i-1] for row in nums[i+1:n-i-1]]) #오른쪽\n",
    "    queue.extend(nums[n-i-1][i:m-i][::-1]) #아래쪽\n",
    "    queue.extend([row[i] for row in nums[i+1:n-i-1][::-1]]) #왼쪽\n",
    "    \n",
    "#     print(*queue)\n",
    "    \n",
    "    queue.rotate(-r)\n",
    "    \n",
    "#     print(*queue)\n",
    "    \n",
    "    for j in range(i, m-i):\n",
    "        answer[i][j] = queue.popleft()\n",
    "    for j in range(i+1, n-i-1):\n",
    "        answer[j][m-i-1] = queue.popleft()\n",
    "    for j in range(m-i-1, i-1, -1):\n",
    "        answer[n-i-1][j] = queue.popleft()\n",
    "    for j in range(n-i-2, i, -1):\n",
    "        answer[j][i] = queue.popleft()\n",
    "        \n",
    "        \n",
    "for line in answer:\n",
    "    print(\" \".join(line))\n",
    "    \n"
   ]
  },
  {
   "cell_type": "code",
   "execution_count": 125,
   "id": "36480c07",
   "metadata": {},
   "outputs": [
    {
     "name": "stdout",
     "output_type": "stream",
     "text": [
      "4 4 2\n",
      "1 2 3 4\n",
      "5 6 7 8\n",
      "9 10 11 12\n",
      "13 14 15 16\n",
      "3 4 8 12\n",
      "2 11 10 16\n",
      "1 7 6 15\n",
      "5 9 13 14\n"
     ]
    }
   ],
   "source": [
    "from sys import stdin\n",
    "from collections import deque\n",
    "\n",
    "N, M, R = map(int, input().split())\n",
    "\n",
    "matrix = []\n",
    "answer = [[0]*M for _ in range(N)]\n",
    "deq = deque()\n",
    "\n",
    "for i in range(N):\n",
    "    matrix.append(list(input().split()))\n",
    "\n",
    "loops = min(N, M) // 2\n",
    "for i in range(loops):\n",
    "    deq.clear()\n",
    "    deq.extend(matrix[i][i:M-i])\n",
    "    deq.extend([row[M-i-1] for row in matrix[i+1:N-i-1]])\n",
    "    deq.extend(matrix[N-i-1][i:M-i][::-1])\n",
    "    deq.extend([row[i] for row in matrix[i+1:N-i-1]][::-1])\n",
    "    \n",
    "    deq.rotate(-R)\n",
    "    \n",
    "    for j in range(i, M-i):                 # 위쪽\n",
    "        answer[i][j] = deq.popleft()\n",
    "    for j in range(i+1, N-i-1):             # 오른쪽\n",
    "        answer[j][M-i-1] = deq.popleft()\n",
    "    for j in range(M-i-1, i-1, -1):           # 아래쪽\n",
    "        answer[N-i-1][j] = deq.popleft()  \n",
    "    for j in range(N-i-2, i, -1):           # 왼쪽\n",
    "        answer[j][i] = deq.popleft()    \n",
    "\n",
    "for line in answer:\n",
    "    print(\" \".join(line))"
   ]
  },
  {
   "cell_type": "code",
   "execution_count": 123,
   "id": "e12e9d70",
   "metadata": {},
   "outputs": [
    {
     "name": "stdout",
     "output_type": "stream",
     "text": [
      "3 4 8 12 \n",
      "2 11 10 16 \n",
      "1 7 6 15 \n",
      "5 9 13 14 \n"
     ]
    }
   ],
   "source": [
    "b = [[3, 4, 8, 12], [2, 11, 10, 16], [1, 7, 6, 15], [5, 9, 13, 14]]\n",
    "c = [1, 2, 3, 4]\n",
    "\n",
    "for i in range(4):\n",
    "    for j in range(4):\n",
    "        print(b[i][j], end=' ')\n",
    "    print()"
   ]
  },
  {
   "cell_type": "code",
   "execution_count": 131,
   "id": "fc604967",
   "metadata": {},
   "outputs": [
    {
     "name": "stdout",
     "output_type": "stream",
     "text": [
      "4 2 10\n",
      "7 4 5 6\n",
      "[0]\n",
      "[0, 7]\n",
      "[7]\n",
      "[7, 0]\n",
      "[0]\n",
      "[0, 4]\n",
      "[4]\n",
      "[4, 5]\n",
      "[5]\n",
      "[5, 0]\n",
      "[0]\n",
      "[0, 6]\n",
      "[6]\n",
      "[]\n",
      "8\n"
     ]
    }
   ],
   "source": [
    "n, w, l = map(int, input().split())\n",
    "truck = list(map(int, input().split()))\n",
    "\n",
    "bridge = [0] * w\n",
    "time = 0\n",
    "\n",
    "while bridge:\n",
    "    time += 1\n",
    "    bridge.pop(0)\n",
    "    \n",
    "    if truck:\n",
    "        if(sum(bridge) + truck[0] <= l):\n",
    "            bridge.append(truck.pop(0))\n",
    "        else:\n",
    "            bridge.append(0)\n",
    "\n",
    "print(time)"
   ]
  },
  {
   "cell_type": "code",
   "execution_count": 137,
   "id": "2ff0f2fd",
   "metadata": {},
   "outputs": [
    {
     "name": "stdout",
     "output_type": "stream",
     "text": [
      "3\n",
      "9\n",
      "2 1 4 3 5 6 2 7 2\n",
      "2 6 7\n"
     ]
    }
   ],
   "source": [
    "n = int(input())\n",
    "num = int(input())\n",
    "student = list(map(int, input().split()))\n",
    "\n",
    "candidate = []\n",
    "recommend = []\n",
    "\n",
    "for i in range(num):\n",
    "    if(student[i] in candidate):\n",
    "        for j in range(len(candidate)):\n",
    "            if(student[i] == candidate[j]):\n",
    "                recommend[j] += 1\n",
    "            \n",
    "    else:\n",
    "        if(len(candidate) >= n):\n",
    "            for j in range(n):\n",
    "                if(recommend[j] == min(recommend)):\n",
    "                    del candidate[j]\n",
    "                    del recommend[j] \n",
    "                    break\n",
    "            \n",
    "        candidate.append(student[i])\n",
    "        recommend.append(1)\n",
    "    \n",
    "candidate.sort()\n",
    "print(*candidate)\n",
    "                \n",
    "                \n",
    "    "
   ]
  },
  {
   "cell_type": "code",
   "execution_count": 140,
   "id": "514078c9",
   "metadata": {},
   "outputs": [
    {
     "name": "stdout",
     "output_type": "stream",
     "text": [
      "5\n",
      "7\n",
      "13\n",
      "29\n",
      "29\n"
     ]
    }
   ],
   "source": [
    "def isPrime(n):\n",
    "    for i in range(2, n):\n",
    "        if(n % i == 0):\n",
    "            return 0\n",
    "    return 1\n",
    "\n",
    "\n",
    "n = 13195\n",
    "max_div = 0\n",
    "\n",
    "for i in range(2, n):\n",
    "    if(isPrime(i) == 1 and n%i == 0):\n",
    "        max_div = i\n",
    "        print(max_div)\n",
    "print(max_div)\n"
   ]
  },
  {
   "cell_type": "code",
   "execution_count": 142,
   "id": "c5e131ac",
   "metadata": {},
   "outputs": [
    {
     "name": "stdout",
     "output_type": "stream",
     "text": [
      "10 5\n",
      "3\n",
      "1 4\n",
      "3 2\n",
      "2 8\n",
      "2 3\n",
      "[4, 28, 17, 22]\n",
      "23\n"
     ]
    }
   ],
   "source": [
    "w, h = map(int, input().split())\n",
    "n = int(input())\n",
    "\n",
    "def get_distance(x, y):\n",
    "    if(x == 1): #북\n",
    "        return y\n",
    "    elif(x == 2): #남\n",
    "        return w + h + w - y\n",
    "    elif(x == 3): #서\n",
    "        return w + h + w + h - y\n",
    "    else: #동\n",
    "        return w + y\n",
    "    \n",
    "\n",
    "course = []\n",
    "for _ in range(n+1):\n",
    "    x, y = map(int, input().split())\n",
    "    course.append(get_distance(x, y))\n",
    "    \n",
    "answer = 0\n",
    "\n",
    "\n",
    "\n",
    "for i in range(n):\n",
    "    in_course = abs(course[-1] - course[i])\n",
    "    out_course = 2 * (w + h) - in_course  #반대 방향이 더 빠를 수도 있으므로\n",
    "    answer += min(in_course, out_course)\n",
    "    \n",
    "print(answer)"
   ]
  },
  {
   "cell_type": "code",
   "execution_count": 15,
   "id": "f917111f",
   "metadata": {},
   "outputs": [
    {
     "name": "stdout",
     "output_type": "stream",
     "text": [
      "4\n",
      "dog\n",
      "god\n",
      "c:  ['d', 'o', 'g']\n",
      "good\n",
      "c:  []\n",
      "doll\n",
      "c:  []\n",
      "1\n"
     ]
    }
   ],
   "source": [
    "n = int(input())\n",
    "main_word = list(input())\n",
    "answer = 0\n",
    "\n",
    "for _ in range(n-1):\n",
    "    compare = main_word[:]\n",
    "    word = input()\n",
    "    cnt = 0\n",
    "\n",
    "    for w in word:\n",
    "        if w in compare:\n",
    "            compare.remove(w)\n",
    "        else:\n",
    "            cnt += 1\n",
    "            \n",
    "    if(cnt < 2 and len(compare) < 2):\n",
    "        answer += 1\n",
    "        \n",
    "print(answer)\n",
    "    "
   ]
  },
  {
   "cell_type": "code",
   "execution_count": 24,
   "id": "fbdc926f",
   "metadata": {},
   "outputs": [
    {
     "name": "stdout",
     "output_type": "stream",
     "text": [
      "a= 20 b= 2\n"
     ]
    }
   ],
   "source": [
    "def exam(num1, num2=2):\n",
    "    print('a=', num1, 'b=', num2)\n",
    "exam(20)"
   ]
  },
  {
   "cell_type": "code",
   "execution_count": 26,
   "id": "bbdc8546",
   "metadata": {},
   "outputs": [
    {
     "name": "stdout",
     "output_type": "stream",
     "text": [
      "4\n",
      "ZG431SN\n",
      "ZG5080K\n",
      "ST123D\n",
      "ZG206A\n",
      "ZG206A\n",
      "ZG431SN\n",
      "ZG5080K\n",
      "ST123D\n",
      "{'ZG431SN': 0, 'ZG5080K': 1, 'ST123D': 2, 'ZG206A': 3}\n",
      "['ZG206A', 'ZG431SN', 'ZG5080K', 'ST123D']\n",
      "1\n"
     ]
    }
   ],
   "source": [
    "n = int(input())\n",
    "answer = 0\n",
    "enter, out = dict(), []\n",
    "\n",
    "for i in range(n):\n",
    "    car = input()\n",
    "    enter[car] = i\n",
    "    \n",
    "for _ in range(n):\n",
    "    car = input()\n",
    "    out.append(car)\n",
    "    \n",
    "    \n",
    "for i in range(n-1):\n",
    "    for j in range(i+1, n):\n",
    "        if(enter[out[i]] > enter[out[j]]):\n",
    "            answer += 1\n",
    "            break\n",
    "            \n",
    "print(answer)"
   ]
  },
  {
   "cell_type": "code",
   "execution_count": 27,
   "id": "e9c87ebf",
   "metadata": {},
   "outputs": [
    {
     "name": "stdout",
     "output_type": "stream",
     "text": [
      "5 3\n",
      "...\n",
      ".X.\n",
      ".X.\n",
      ".X.\n",
      "...\n",
      "[['.', '.', '.'], ['.', 'X', '.'], ['.', 'X', '.'], ['.', 'X', '.'], ['.', '.', '.']]\n"
     ]
    }
   ],
   "source": [
    "import copy \n",
    "\n",
    "r, c = map(int, input().split())\n",
    "island = [list(input()) for _ in range(r)]\n",
    "\n",
    "dx, dy = [0, 0, -1, 1], [-1, 1, 0, 0]\n",
    "land_cnt = 0\n",
    "result = copy.deepcopy(island)\n",
    "\n",
    "for i in range(r):\n",
    "    for j in range(c):\n",
    "        if(island[i][j] == 'X'):\n",
    "            cnt = 0\n",
    "            land_cnt += 1\n",
    "            \n",
    "            for k in range(4):\n",
    "                nx = i + dx[k]\n",
    "                ny = j + dy[k]\n",
    "                \n",
    "                if(nx < 0 or nx > r or ny < 0 or ny >= c):\n",
    "                    cnt += 1\n",
    "                elif(island[nx][ny] == '.'):\n",
    "                    cnt += 1\n",
    "            \n",
    "            if(cnt >= 3):\n",
    "                result[i][j] = '.'\n",
    "                land_cnt -= 1\n",
    "                \n",
    "                \n",
    "if(land_cnt == 0):\n",
    "    print('X')\n",
    "\n",
    "else:\n",
    "    startR, endR = 0, 0\n",
    "    for i in range(r):\n",
    "        if('X' in result[i]):\n",
    "            startR = i\n",
    "            break\n",
    "            \n",
    "    for i in range(r-1, -1, -1):\n",
    "        if('X' in result[i]):\n",
    "            endR = i\n",
    "            break\n",
    "            \n",
    "    idx = []\n",
    "    \n",
    "    for j in range(c):\n",
    "        for i in range(startR, endR + 1):\n",
    "            if('X' == result[i][j]):\n",
    "                idx.append(j)\n",
    "                break\n",
    "                \n",
    "    for i in result[startR : endR+1]:\n",
    "        print(''.join(i[idx[0] : idx[-1] + 1]))"
   ]
  },
  {
   "cell_type": "code",
   "execution_count": 28,
   "id": "c6d8ee29",
   "metadata": {},
   "outputs": [
    {
     "name": "stdout",
     "output_type": "stream",
     "text": [
      "4\n",
      "-6 -8 7 -4\n",
      "-5 -5 14 11\n",
      "11 11 -1 -1\n",
      "4 9 -2 -4\n"
     ]
    },
    {
     "ename": "TypeError",
     "evalue": "list indices must be integers or slices, not float",
     "output_type": "error",
     "traceback": [
      "\u001b[0;31m---------------------------------------------------------------------------\u001b[0m",
      "\u001b[0;31mTypeError\u001b[0m                                 Traceback (most recent call last)",
      "Input \u001b[0;32mIn [28]\u001b[0m, in \u001b[0;36m<cell line: 20>\u001b[0;34m()\u001b[0m\n\u001b[1;32m     17\u001b[0m     answer\u001b[38;5;241m.\u001b[39msort()\n\u001b[1;32m     18\u001b[0m     \u001b[38;5;28;01mreturn\u001b[39;00m answer[\u001b[38;5;241m2\u001b[39m]\n\u001b[0;32m---> 20\u001b[0m \u001b[38;5;28mprint\u001b[39m(\u001b[43mpooling\u001b[49m\u001b[43m(\u001b[49m\u001b[43mn\u001b[49m\u001b[43m,\u001b[49m\u001b[43m \u001b[49m\u001b[38;5;241;43m0\u001b[39;49m\u001b[43m,\u001b[49m\u001b[43m \u001b[49m\u001b[38;5;241;43m0\u001b[39;49m\u001b[43m)\u001b[49m)\n",
      "Input \u001b[0;32mIn [28]\u001b[0m, in \u001b[0;36mpooling\u001b[0;34m(size, x, y)\u001b[0m\n\u001b[1;32m      9\u001b[0m     \u001b[38;5;28;01mreturn\u001b[39;00m answer[\u001b[38;5;241m2\u001b[39m]\n\u001b[1;32m     11\u001b[0m lt \u001b[38;5;241m=\u001b[39m pooling(mid, x, y)\n\u001b[0;32m---> 12\u001b[0m rt \u001b[38;5;241m=\u001b[39m \u001b[43mpooling\u001b[49m\u001b[43m(\u001b[49m\u001b[43mmid\u001b[49m\u001b[43m,\u001b[49m\u001b[43m \u001b[49m\u001b[43mx\u001b[49m\u001b[38;5;241;43m+\u001b[39;49m\u001b[43mmid\u001b[49m\u001b[43m,\u001b[49m\u001b[43m \u001b[49m\u001b[43my\u001b[49m\u001b[43m)\u001b[49m\n\u001b[1;32m     13\u001b[0m lb \u001b[38;5;241m=\u001b[39m pooling(mid, x, y\u001b[38;5;241m+\u001b[39mmid)\n\u001b[1;32m     14\u001b[0m rb \u001b[38;5;241m=\u001b[39m pooling(mid, x\u001b[38;5;241m+\u001b[39mmid, y\u001b[38;5;241m+\u001b[39mmid)\n",
      "Input \u001b[0;32mIn [28]\u001b[0m, in \u001b[0;36mpooling\u001b[0;34m(size, x, y)\u001b[0m\n\u001b[1;32m      5\u001b[0m mid \u001b[38;5;241m=\u001b[39m size\u001b[38;5;241m/\u001b[39m\u001b[38;5;241m2\u001b[39m\n\u001b[1;32m      6\u001b[0m \u001b[38;5;28;01mif\u001b[39;00m(size \u001b[38;5;241m==\u001b[39m \u001b[38;5;241m2\u001b[39m):\n\u001b[0;32m----> 7\u001b[0m     answer \u001b[38;5;241m=\u001b[39m [\u001b[43mnums\u001b[49m\u001b[43m[\u001b[49m\u001b[43mx\u001b[49m\u001b[43m]\u001b[49m[y], nums[x\u001b[38;5;241m+\u001b[39m\u001b[38;5;241m1\u001b[39m][y], nums[x][y\u001b[38;5;241m+\u001b[39m\u001b[38;5;241m1\u001b[39m], nums[x\u001b[38;5;241m+\u001b[39m\u001b[38;5;241m1\u001b[39m][y\u001b[38;5;241m+\u001b[39m\u001b[38;5;241m1\u001b[39m]]\n\u001b[1;32m      8\u001b[0m     answer\u001b[38;5;241m.\u001b[39msort()\n\u001b[1;32m      9\u001b[0m     \u001b[38;5;28;01mreturn\u001b[39;00m answer[\u001b[38;5;241m2\u001b[39m]\n",
      "\u001b[0;31mTypeError\u001b[0m: list indices must be integers or slices, not float"
     ]
    }
   ],
   "source": [
    "n = int(input())\n",
    "nums = [list(map(int, input().split())) for _ in range(n)]\n",
    "\n",
    "def pooling(size, x, y):\n",
    "    mid = size//2\n",
    "    if(size == 2):\n",
    "        answer = [nums[x][y], nums[x+1][y], nums[x][y+1], nums[x+1][y+1]]\n",
    "        answer.sort()\n",
    "        return answer[-2]\n",
    "    \n",
    "    lt = pooling(mid, x, y)\n",
    "    rt = pooling(mid, x+mid, y)\n",
    "    lb = pooling(mid, x, y+mid)\n",
    "    rb = pooling(mid, x+mid, y+mid)\n",
    "\n",
    "    answer = [lt, rt, lb, rb]\n",
    "    answer.sort()\n",
    "    return answer[-2]\n",
    "\n",
    "print(pooling(n, 0, 0))\n"
   ]
  },
  {
   "cell_type": "code",
   "execution_count": 9,
   "id": "f4cf4e70",
   "metadata": {},
   "outputs": [
    {
     "name": "stdout",
     "output_type": "stream",
     "text": [
      "22:00 23:00 23:30\n",
      "21:30 malkoring\n",
      "21:33 tolelom\n",
      "21:34 minjae705\n",
      "21:35 hhan14\n",
      "21:36 dicohy27\n",
      "21:40 906bc\n",
      "23:00 906bc\n",
      "23:01 tolelom\n",
      "23:10 minjae705\n",
      "23:11 hhan14\n",
      "23:20 dicohy27\n",
      "\n",
      "5\n"
     ]
    }
   ],
   "source": [
    "import sys\n",
    "input = sys.stdin.readline\n",
    "\n",
    "start, middle, end = input().split()\n",
    "start = int(start[:2] + start[3:])\n",
    "middle = int(middle[:2] + middle[3:])\n",
    "end = int(end[:2] + end[3:])\n",
    "\n",
    "attend = set()\n",
    "cnt = 0\n",
    "\n",
    "while True:\n",
    "    try:\n",
    "        time, name = input().split()\n",
    "        time = int(time[:2] + time[3:])\n",
    "        if time <= start:\n",
    "            attend.add(name)\n",
    "        elif middle <= time <= end and name in attend:\n",
    "            attend.remove(name)\n",
    "            cnt += 1\n",
    "            \n",
    "    except:\n",
    "        break\n",
    "        \n",
    "print(cnt)\n"
   ]
  },
  {
   "cell_type": "code",
   "execution_count": 14,
   "id": "9f91213f",
   "metadata": {},
   "outputs": [
    {
     "name": "stdout",
     "output_type": "stream",
     "text": [
      "6\n",
      "LFFRFF\n",
      "...\n",
      "##.\n",
      "##.\n"
     ]
    }
   ],
   "source": [
    "n = int(input())\n",
    "cmd = input()\n",
    "\n",
    "dx, dy = [-1, 0, 1, 0], [0, 1, 0, -1]\n",
    "V = [['#' for j in range(101)] for i in range(101)]\n",
    "\n",
    "x, y, d = 50, 50, 2\n",
    "ex = ey = sy = sx = 50\n",
    "V[x][y] = '.'\n",
    "\n",
    "for i in cmd:\n",
    "    if(i == 'L'):\n",
    "        d = (d+3) % 4\n",
    "    elif(i == 'R'):\n",
    "        d = (d+1) % 4\n",
    "    else:\n",
    "        x = x + dx[d]\n",
    "        y = y + dy[d]\n",
    "        V[x][y] = '.'\n",
    "        sy, ey, sx, ex = min(sy, y), max(ey, y), min(sx, x), max(ex, x)\n",
    "        \n",
    "for i in range(sx, ex+1):\n",
    "    print(''.join(V[i][sy:ey+1]))"
   ]
  },
  {
   "cell_type": "code",
   "execution_count": 29,
   "id": "1f5b9b96",
   "metadata": {},
   "outputs": [
    {
     "name": "stdout",
     "output_type": "stream",
     "text": [
      "5 5\n",
      "1 1 1 \n",
      "1 1 2\n",
      "1 2 2\n",
      "1 2 3\n",
      "3 1\n",
      "[0, 1, 1, 0, 0, 0, 0, 0, 0, 0, 0, 0, 0, 0, 0, 0, 0, 0, 0, 0, 0, 0]\n",
      "[0, 1, 1, 0, 0, 0, 0, 0, 0, 0, 0, 0, 0, 0, 0, 0, 0, 0, 0, 0, 0, 0]\n",
      "[0, 0, 0, 0, 0, 0, 0, 0, 0, 0, 0, 0, 0, 0, 0, 0, 0, 0, 0, 0, 0, 0]\n",
      "[0, 0, 0, 0, 0, 0, 0, 0, 0, 0, 0, 0, 0, 0, 0, 0, 0, 0, 0, 0, 0, 0]\n",
      "[0, 0, 0, 0, 0, 0, 0, 0, 0, 0, 0, 0, 0, 0, 0, 0, 0, 0, 0, 0, 0, 0]\n",
      "2\n"
     ]
    }
   ],
   "source": [
    "n, m = map(int, input().split()) #n: 기차의 수, m: 명령의 수\n",
    "commands = [list(map(int, input().split())) for _ in range(m)]\n",
    "train = [[0] * 22 for _ in range(n)]\n",
    "\n",
    "for cmd in commands:\n",
    "    if(cmd[0] == 1):\n",
    "        if(train[cmd[1]-1][cmd[2]-1] == 0):\n",
    "            train[cmd[1]-1][cmd[2]-1] = 1\n",
    "        else:\n",
    "            continue\n",
    "    elif(cmd[0] == 2):\n",
    "        if(train[cmd[1]-1][cmd[2]-1] == 1):\n",
    "            train[cmd[1]-1][cmd[2]-1] = 0\n",
    "        else:\n",
    "            continue\n",
    "    elif(cmd[0] == 3):\n",
    "        train[cmd[1]-1].insert(0,0)\n",
    "        del train[cmd[1]-1][21]\n",
    "    elif(cmd[0] == 4):\n",
    "        train[cmd[1]-1].insert(20,0)\n",
    "        del train[cmd[1]-1][0]\n",
    "        \n",
    "    \n",
    "answer = []\n",
    "for i in train:\n",
    "    if(i not in answer):\n",
    "        answer.append(i)\n",
    "        \n",
    "print(len(answer))"
   ]
  },
  {
   "cell_type": "code",
   "execution_count": null,
   "id": "9bcb39dd",
   "metadata": {},
   "outputs": [],
   "source": [
    "5 5\n",
    "1 1 1\n",
    "1 1 2\n",
    "1 2 2\n",
    "1 2 3\n",
    "3 1"
   ]
  },
  {
   "cell_type": "code",
   "execution_count": 21,
   "id": "29d802ff",
   "metadata": {},
   "outputs": [
    {
     "name": "stdout",
     "output_type": "stream",
     "text": [
      "[1, 2, 3, 0]\n"
     ]
    }
   ],
   "source": [
    "from collections import deque\n",
    "\n",
    "n, m = map(int, input().split())\n",
    "train = [deque([0] * 20) for _ in range(n)]\n",
    "\n",
    "for _ in range(m):\n",
    "    cmd = list(map(int, input().split()))\n",
    "    \n",
    "    if(cmd[0] == 1):\n",
    "        train[cmd[1]-1][cmd[2]-1] = 1\n",
    "    elif(cmd[0] == 2):\n",
    "        train[cmd[1]-1][cmd[2]-1] = 0\n",
    "    elif(cmd[0] == 3):\n",
    "        train[cmd[1]-1].rotate(1)\n",
    "        train[cmd[1]-1][0] = 0\n",
    "    else:\n",
    "        train[cmd[1]-1].rotate(-1)\n",
    "        train[cmd[1]-1][19] = 0\n",
    "        \n",
    "answer = []\n",
    "\n",
    "for i in train:\n",
    "    if(i not in answer):\n",
    "        answer.append(i)\n",
    "        \n",
    "print(len(answer))"
   ]
  },
  {
   "cell_type": "code",
   "execution_count": 43,
   "id": "d38ea12b",
   "metadata": {},
   "outputs": [
    {
     "name": "stdout",
     "output_type": "stream",
     "text": [
      "3\n",
      "358572 83391967 82\n",
      "3\n",
      "50229961 1091444 8863\n",
      "000012028\n"
     ]
    }
   ],
   "source": [
    "import math\n",
    "\n",
    "n = int(input())\n",
    "tmp = list(map(int,input().split()))\n",
    "num1 = 1\n",
    "for i in tmp:\n",
    "    num1 *= i\n",
    "    \n",
    "m = int(input())\n",
    "tmp = list(map(int,input().split()))\n",
    "num2 = 1\n",
    "for i in tmp:\n",
    "    num2 *= i\n",
    "    \n",
    "# print(num1, num2)\n",
    "\n",
    "print(str(math.gcd(num1, num2))[-9:])"
   ]
  },
  {
   "cell_type": "code",
   "execution_count": 46,
   "id": "7b3f697c",
   "metadata": {},
   "outputs": [
    {
     "name": "stdout",
     "output_type": "stream",
     "text": [
      "3 3\n",
      "1 3 4\n",
      "2 2 3\n",
      "1 2 4\n",
      "60\n"
     ]
    }
   ],
   "source": [
    "n, m = map(int, input().split())\n",
    "arr = [list(map(int, input().split())) for _ in range(n)]\n",
    "\n",
    "up = n * m\n",
    "\n",
    "left = 0\n",
    "for i in range(n):\n",
    "    for j in range(m):\n",
    "        if j == 0:\n",
    "            left += arr[i][j]\n",
    "        else:\n",
    "            if arr[i][j-1] < arr[i][j]:\n",
    "                left += arr[i][j] - arr[i][j-1]\n",
    "                \n",
    "\n",
    "front = 0\n",
    "for j in range(m):\n",
    "    for i in range(n):\n",
    "        if i == 0:\n",
    "            front += arr[i][j]\n",
    "        else:\n",
    "            if arr[i-1][j] < arr[i][j]:\n",
    "                front += arr[i][j] - arr[i-1][j]\n",
    "                \n",
    "answer = 2 * (up + left + front)\n",
    "print(answer)"
   ]
  },
  {
   "cell_type": "code",
   "execution_count": 62,
   "id": "80628c7e",
   "metadata": {},
   "outputs": [
    {
     "name": "stdout",
     "output_type": "stream",
     "text": [
      "8\n",
      "New window\n",
      "[N]ew window\n",
      "[[]N]ew window\n"
     ]
    },
    {
     "ename": "KeyboardInterrupt",
     "evalue": "Interrupted by user",
     "output_type": "error",
     "traceback": [
      "\u001b[0;31m---------------------------------------------------------------------------\u001b[0m",
      "\u001b[0;31mKeyboardInterrupt\u001b[0m                         Traceback (most recent call last)",
      "Input \u001b[0;32mIn [62]\u001b[0m, in \u001b[0;36m<cell line: 4>\u001b[0;34m()\u001b[0m\n\u001b[1;32m      2\u001b[0m shortcut \u001b[38;5;241m=\u001b[39m []\n\u001b[1;32m      4\u001b[0m \u001b[38;5;28;01mfor\u001b[39;00m _ \u001b[38;5;129;01min\u001b[39;00m \u001b[38;5;28mrange\u001b[39m(n):\n\u001b[0;32m----> 5\u001b[0m     word \u001b[38;5;241m=\u001b[39m \u001b[38;5;28mlist\u001b[39m(\u001b[38;5;28mmap\u001b[39m(\u001b[38;5;28mstr\u001b[39m, \u001b[38;5;28;43minput\u001b[39;49m\u001b[43m(\u001b[49m\u001b[43m)\u001b[49m\u001b[38;5;241m.\u001b[39msplit()))\n\u001b[1;32m      6\u001b[0m \u001b[38;5;66;03m#     print(word)\u001b[39;00m\n\u001b[1;32m      8\u001b[0m     \u001b[38;5;28;01mfor\u001b[39;00m i \u001b[38;5;129;01min\u001b[39;00m \u001b[38;5;28mrange\u001b[39m(\u001b[38;5;28mlen\u001b[39m(word)):\n",
      "File \u001b[0;32m~/anaconda3/lib/python3.9/site-packages/ipykernel/kernelbase.py:1177\u001b[0m, in \u001b[0;36mKernel.raw_input\u001b[0;34m(self, prompt)\u001b[0m\n\u001b[1;32m   1173\u001b[0m \u001b[38;5;28;01mif\u001b[39;00m \u001b[38;5;129;01mnot\u001b[39;00m \u001b[38;5;28mself\u001b[39m\u001b[38;5;241m.\u001b[39m_allow_stdin:\n\u001b[1;32m   1174\u001b[0m     \u001b[38;5;28;01mraise\u001b[39;00m StdinNotImplementedError(\n\u001b[1;32m   1175\u001b[0m         \u001b[38;5;124m\"\u001b[39m\u001b[38;5;124mraw_input was called, but this frontend does not support input requests.\u001b[39m\u001b[38;5;124m\"\u001b[39m\n\u001b[1;32m   1176\u001b[0m     )\n\u001b[0;32m-> 1177\u001b[0m \u001b[38;5;28;01mreturn\u001b[39;00m \u001b[38;5;28;43mself\u001b[39;49m\u001b[38;5;241;43m.\u001b[39;49m\u001b[43m_input_request\u001b[49m\u001b[43m(\u001b[49m\n\u001b[1;32m   1178\u001b[0m \u001b[43m    \u001b[49m\u001b[38;5;28;43mstr\u001b[39;49m\u001b[43m(\u001b[49m\u001b[43mprompt\u001b[49m\u001b[43m)\u001b[49m\u001b[43m,\u001b[49m\n\u001b[1;32m   1179\u001b[0m \u001b[43m    \u001b[49m\u001b[38;5;28;43mself\u001b[39;49m\u001b[38;5;241;43m.\u001b[39;49m\u001b[43m_parent_ident\u001b[49m\u001b[43m[\u001b[49m\u001b[38;5;124;43m\"\u001b[39;49m\u001b[38;5;124;43mshell\u001b[39;49m\u001b[38;5;124;43m\"\u001b[39;49m\u001b[43m]\u001b[49m\u001b[43m,\u001b[49m\n\u001b[1;32m   1180\u001b[0m \u001b[43m    \u001b[49m\u001b[38;5;28;43mself\u001b[39;49m\u001b[38;5;241;43m.\u001b[39;49m\u001b[43mget_parent\u001b[49m\u001b[43m(\u001b[49m\u001b[38;5;124;43m\"\u001b[39;49m\u001b[38;5;124;43mshell\u001b[39;49m\u001b[38;5;124;43m\"\u001b[39;49m\u001b[43m)\u001b[49m\u001b[43m,\u001b[49m\n\u001b[1;32m   1181\u001b[0m \u001b[43m    \u001b[49m\u001b[43mpassword\u001b[49m\u001b[38;5;241;43m=\u001b[39;49m\u001b[38;5;28;43;01mFalse\u001b[39;49;00m\u001b[43m,\u001b[49m\n\u001b[1;32m   1182\u001b[0m \u001b[43m\u001b[49m\u001b[43m)\u001b[49m\n",
      "File \u001b[0;32m~/anaconda3/lib/python3.9/site-packages/ipykernel/kernelbase.py:1219\u001b[0m, in \u001b[0;36mKernel._input_request\u001b[0;34m(self, prompt, ident, parent, password)\u001b[0m\n\u001b[1;32m   1216\u001b[0m             \u001b[38;5;28;01mbreak\u001b[39;00m\n\u001b[1;32m   1217\u001b[0m \u001b[38;5;28;01mexcept\u001b[39;00m \u001b[38;5;167;01mKeyboardInterrupt\u001b[39;00m:\n\u001b[1;32m   1218\u001b[0m     \u001b[38;5;66;03m# re-raise KeyboardInterrupt, to truncate traceback\u001b[39;00m\n\u001b[0;32m-> 1219\u001b[0m     \u001b[38;5;28;01mraise\u001b[39;00m \u001b[38;5;167;01mKeyboardInterrupt\u001b[39;00m(\u001b[38;5;124m\"\u001b[39m\u001b[38;5;124mInterrupted by user\u001b[39m\u001b[38;5;124m\"\u001b[39m) \u001b[38;5;28;01mfrom\u001b[39;00m \u001b[38;5;28mNone\u001b[39m\n\u001b[1;32m   1220\u001b[0m \u001b[38;5;28;01mexcept\u001b[39;00m \u001b[38;5;167;01mException\u001b[39;00m:\n\u001b[1;32m   1221\u001b[0m     \u001b[38;5;28mself\u001b[39m\u001b[38;5;241m.\u001b[39mlog\u001b[38;5;241m.\u001b[39mwarning(\u001b[38;5;124m\"\u001b[39m\u001b[38;5;124mInvalid Message:\u001b[39m\u001b[38;5;124m\"\u001b[39m, exc_info\u001b[38;5;241m=\u001b[39m\u001b[38;5;28;01mTrue\u001b[39;00m)\n",
      "\u001b[0;31mKeyboardInterrupt\u001b[0m: Interrupted by user"
     ]
    }
   ],
   "source": [
    "n = int(input())\n",
    "shortcut = []\n",
    "\n",
    "for _ in range(n):\n",
    "    word = list(map(str, input().split()))\n",
    "#     print(word)\n",
    "    \n",
    "    for i in range(len(word)):\n",
    "        if word[i][0].upper() not in shortcut:\n",
    "            shortcut.append(word[i][0].upper())\n",
    "            word[i] = \"[\" + word[i][0] + \"]\" + word[i][1:]\n",
    "            print(\" \".join(word))\n",
    "            break\n",
    "            \n",
    "    else:\n",
    "        for j in range(len(word)):\n",
    "            flag = False\n",
    "            for k in range(len(word[j])):\n",
    "                if word[j][k].upper() not in shortcut:\n",
    "                    shortcut.append(word[j][k].upper())\n",
    "                    flag = True\n",
    "                    word[j] = word[j][:k] + \"[\" + word[j][k] + \"]\" + word[j][k+1:]\n",
    "                    print(\" \".join(word))\n",
    "                    break\n",
    "            if flag:\n",
    "                break\n",
    "\n",
    "\n",
    "        else:\n",
    "            print(*word)"
   ]
  },
  {
   "cell_type": "code",
   "execution_count": 95,
   "id": "09162b4f",
   "metadata": {},
   "outputs": [
    {
     "name": "stdout",
     "output_type": "stream",
     "text": [
      "4\n",
      "hello\n",
      "helol\n",
      "drink\n",
      "drkin\n",
      "shuttle\n",
      "slehttu\n",
      "zoo\n",
      "zoo\n"
     ]
    }
   ],
   "source": [
    "import itertools\n",
    "n = int(input())\n",
    "\n",
    "\n",
    "for _ in range(n):\n",
    "    word = list(input())\n",
    "    comb = itertools.permutations(word, len(word))\n",
    "    \n",
    "    word_list = []\n",
    "    answer = ''\n",
    "    \n",
    "    for i in set(comb):\n",
    "        tmp = ''.join(i)\n",
    "        word_list.append(tmp)\n",
    "        \n",
    "    word_list.sort()\n",
    "    original = ''.join(word)\n",
    "    \n",
    "    if(original == max(word_list)):\n",
    "        print(original)\n",
    "        continue\n",
    "    else:\n",
    "        for i in range(len(word_list)):\n",
    "            if(original == word_list[i]):\n",
    "                answer = word_list[i+1]\n",
    "            \n",
    "\n",
    "    print(answer)"
   ]
  },
  {
   "cell_type": "code",
   "execution_count": null,
   "id": "8af38dbf",
   "metadata": {},
   "outputs": [],
   "source": [
    "4\n",
    "HELLO\n",
    "DRINK\n",
    "SHUTTLE\n",
    "ZOO"
   ]
  },
  {
   "cell_type": "code",
   "execution_count": 97,
   "id": "e68c67d9",
   "metadata": {},
   "outputs": [
    {
     "name": "stdout",
     "output_type": "stream",
     "text": [
      "4\n",
      "HELLO\n",
      "HELOL\n",
      "DRINK\n",
      "DRKIN\n",
      "SHUTTLE\n",
      "SLEHTTU\n",
      "ZOO\n",
      "ZOO\n"
     ]
    }
   ],
   "source": [
    "n = int(input())\n",
    "\n",
    "for _ in range(n):\n",
    "    string = list(input())\n",
    "    length = len(string)\n",
    "    i, j = 0, 1\n",
    "    \n",
    "    for idx in range(1, length):\n",
    "        if string[idx] > string[idx-1]:\n",
    "            if i < idx:\n",
    "                i = idx\n",
    "                \n",
    "    for idx in range(1, length):\n",
    "        if string[idx] > string[i-1]:\n",
    "            if j < idx:\n",
    "                j = idx\n",
    "                \n",
    "    if i != 0 and j != 0:\n",
    "        string[i-1], string[j] = string[j], string[i-1]\n",
    "        string[i:] = list(reversed(string[i:]))\n",
    "        \n",
    "    print(''.join(string))"
   ]
  },
  {
   "cell_type": "code",
   "execution_count": 104,
   "id": "8ec309e0",
   "metadata": {},
   "outputs": [
    {
     "data": {
      "image/png": "[encoded data removed]",
      "text/plain": [
       "<Figure size 640x480 with 1 Axes>"
      ]
     },
     "metadata": {},
     "output_type": "display_data"
    }
   ],
   "source": [
    "from matplotlib import pyplot as plt\n",
    "\n",
    "variance = [1, 2, 4, 8, 16, 32, 64, 128, 256]\n",
    "bias_squared = [256, 128, 64, 32, 16, 8, 4, 2, 1]\n",
    "total_error = [x+y for x, y in zip(variance, bias_squared)]\n",
    "xs = range(len(variance))\n",
    "\n",
    "plt.plot(xs, variance, 'g-', label='variance')\n",
    "plt.plot(xs, bias_squared, 'r-.', label = 'bias^2')\n",
    "plt.plot(xs, total_error, 'b:', label= 'total error')\n",
    "\n",
    "plt.legend(loc = 'upper center')\n",
    "plt.xlabel('model complexity')\n",
    "plt.xticks([])\n",
    "plt.title(\"the bias ...\")\n",
    "plt.show()"
   ]
  },
  {
   "cell_type": "code",
   "execution_count": 107,
   "id": "23ae6133",
   "metadata": {},
   "outputs": [
    {
     "data": {
      "image/png": "[encoded data removed]",
      "text/plain": [
       "<Figure size 640x480 with 1 Axes>"
      ]
     },
     "metadata": {},
     "output_type": "display_data"
    }
   ],
   "source": [
    "movies = ['Harry Potter', 'A rainy day in New York', 'Forest Gump']\n",
    "num_oscars = [5, 11, 3]\n",
    "\n",
    "plt.bar(movies, num_oscars)\n",
    "\n",
    "plt.title(\"my favorite movies\")\n",
    "plt.ylabel('# of academy')\n",
    "\n",
    "plt.show()"
   ]
  },
  {
   "cell_type": "code",
   "execution_count": 114,
   "id": "8c4f3bec",
   "metadata": {},
   "outputs": [
    {
     "name": "stdout",
     "output_type": "stream",
     "text": [
      "9 4\n",
      "4 3 5 4 6 5 7 6 6\n",
      "1\n"
     ]
    }
   ],
   "source": [
    "c, p = map(int,input().split())\n",
    "fd = list(map(int, input().split()))\n",
    "ans = 0\n",
    "\n",
    "if p == 1:\n",
    "    ans += c #세우는 경우\n",
    "    for i in range(c-3): #눕히는 경우\n",
    "        if fd[i] == fd[i+1] and fd[i+1] == fd[i+2] and fd[i+2] == fd[i+3]:\n",
    "            ans += 1\n",
    "            \n",
    "            \n",
    "if p == 2:\n",
    "    for i in range(c-1):\n",
    "        if fd[i] == fd[i+1]:\n",
    "            ans += 1\n",
    "            \n",
    "if p == 3:\n",
    "    for i in range(c-2): #눕히는 경우(001)\n",
    "        if fd[i] == fd[i+1] and fd[i+1] == fd[i+2]-1:\n",
    "            ans += 1\n",
    "            \n",
    "    for i in range(c-1): #세우는 경우 (10)\n",
    "        if fd[i] == fd[i+1]+1:\n",
    "            ans += 1\n",
    "            \n",
    "            \n",
    "if p == 4:\n",
    "    for i in range(c-2):\n",
    "        if fd[i]-1 == fd[i+1] and fd[i+1] == fd[i+2]:\n",
    "            ans += 1\n",
    "\n",
    "    for i in range(c-1):\n",
    "        if fd[i]+1 == fd[i+1]:\n",
    "            ans += 1\n",
    "            \n",
    "            \n",
    "if p == 5:\n",
    "    for i in range(c-2):\n",
    "        if fd[i] == fd[i+1] and fd[i+1] == fd[i+2]:\n",
    "            ans += 1\n",
    "        if fd[i]-1 == fd[i+1] and fd[i+1] == fd[i+2]-1:\n",
    "            ans += 1\n",
    "            \n",
    "    for i in range(c-1):\n",
    "        if fd[i]-1 == fd[i+1]:\n",
    "            ans += 1\n",
    "        if fd[i]+1 == fd[i+1]:\n",
    "            ans += 1\n",
    "            \n",
    "            \n",
    "if p == 6:\n",
    "    for i in range(c-2):\n",
    "        if fd[i] == fd[i+1] and fd[i+1] == fd[i+2]:\n",
    "            ans += 1\n",
    "        if fd[i]+1 == fd[i+1] and fd[i+1] == fd[i+2]:\n",
    "            ans += 1\n",
    "    \n",
    "    for i in range(c-1):\n",
    "        if fd[i] == fd[i+1]:\n",
    "            ans += 1\n",
    "        if fd[i]-2 == fd[i+1]:\n",
    "            ans += 1\n",
    "            \n",
    "            \n",
    "print(ans)\n",
    "    "
   ]
  },
  {
   "cell_type": "code",
   "execution_count": null,
   "id": "f03af32d",
   "metadata": {},
   "outputs": [],
   "source": []
  },
  {
   "cell_type": "code",
   "execution_count": null,
   "id": "e55b126f",
   "metadata": {},
   "outputs": [],
   "source": []
  },
  {
   "cell_type": "code",
   "execution_count": null,
   "id": "946faa31",
   "metadata": {},
   "outputs": [],
   "source": []
  },
  {
   "cell_type": "code",
   "execution_count": null,
   "id": "51fa1dc9",
   "metadata": {},
   "outputs": [],
   "source": []
  },
  {
   "cell_type": "code",
   "execution_count": null,
   "id": "7a1d389e",
   "metadata": {},
   "outputs": [],
   "source": []
  },
  {
   "cell_type": "code",
   "execution_count": null,
   "id": "74966ac3",
   "metadata": {},
   "outputs": [],
   "source": []
  },
  {
   "cell_type": "code",
   "execution_count": null,
   "id": "61004fef",
   "metadata": {},
   "outputs": [],
   "source": []
  },
  {
   "cell_type": "code",
   "execution_count": null,
   "id": "31234aee",
   "metadata": {},
   "outputs": [],
   "source": []
  },
  {
   "cell_type": "code",
   "execution_count": null,
   "id": "4c1edd47",
   "metadata": {},
   "outputs": [],
   "source": []
  },
  {
   "cell_type": "code",
   "execution_count": null,
   "id": "f20cab96",
   "metadata": {},
   "outputs": [],
   "source": []
  },
  {
   "cell_type": "code",
   "execution_count": null,
   "id": "63c39ff7",
   "metadata": {},
   "outputs": [],
   "source": []
  },
  {
   "cell_type": "code",
   "execution_count": null,
   "id": "e03a82c1",
   "metadata": {},
   "outputs": [],
   "source": []
  },
  {
   "cell_type": "code",
   "execution_count": null,
   "id": "13dca7cd",
   "metadata": {},
   "outputs": [],
   "source": []
  },
  {
   "cell_type": "code",
   "execution_count": null,
   "id": "70b61c22",
   "metadata": {},
   "outputs": [],
   "source": []
  },
  {
   "cell_type": "code",
   "execution_count": null,
   "id": "3dd9fc41",
   "metadata": {},
   "outputs": [],
   "source": []
  },
  {
   "cell_type": "code",
   "execution_count": null,
   "id": "07a0d6e7",
   "metadata": {},
   "outputs": [],
   "source": []
  },
  {
   "cell_type": "code",
   "execution_count": null,
   "id": "17e0c653",
   "metadata": {},
   "outputs": [],
   "source": []
  },
  {
   "cell_type": "code",
   "execution_count": null,
   "id": "e971207a",
   "metadata": {},
   "outputs": [],
   "source": []
  },
  {
   "cell_type": "code",
   "execution_count": null,
   "id": "3177f36a",
   "metadata": {},
   "outputs": [],
   "source": []
  },
  {
   "cell_type": "code",
   "execution_count": null,
   "id": "79142b44",
   "metadata": {},
   "outputs": [],
   "source": []
  },
  {
   "cell_type": "code",
   "execution_count": null,
   "id": "bcd9efeb",
   "metadata": {},
   "outputs": [],
   "source": []
  },
  {
   "cell_type": "code",
   "execution_count": null,
   "id": "a1ebe43d",
   "metadata": {},
   "outputs": [],
   "source": []
  },
  {
   "cell_type": "code",
   "execution_count": null,
   "id": "7d3c3a0c",
   "metadata": {},
   "outputs": [],
   "source": []
  },
  {
   "cell_type": "code",
   "execution_count": null,
   "id": "7be9f491",
   "metadata": {},
   "outputs": [],
   "source": []
  },
  {
   "cell_type": "code",
   "execution_count": null,
   "id": "4fc3f0aa",
   "metadata": {},
   "outputs": [],
   "source": []
  },
  {
   "cell_type": "code",
   "execution_count": null,
   "id": "f55af957",
   "metadata": {},
   "outputs": [],
   "source": []
  },
  {
   "cell_type": "code",
   "execution_count": null,
   "id": "f4fa1c98",
   "metadata": {},
   "outputs": [],
   "source": []
  },
  {
   "cell_type": "code",
   "execution_count": null,
   "id": "fafc6cdd",
   "metadata": {},
   "outputs": [],
   "source": []
  },
  {
   "cell_type": "code",
   "execution_count": null,
   "id": "b033a2c3",
   "metadata": {},
   "outputs": [],
   "source": []
  },
  {
   "cell_type": "code",
   "execution_count": null,
   "id": "dfac8b7d",
   "metadata": {},
   "outputs": [],
   "source": []
  },
  {
   "cell_type": "code",
   "execution_count": null,
   "id": "a6fa1789",
   "metadata": {},
   "outputs": [],
   "source": []
  },
  {
   "cell_type": "code",
   "execution_count": null,
   "id": "3acb578a",
   "metadata": {},
   "outputs": [],
   "source": []
  }
 ],
 "metadata": {
  "kernelspec": {
   "display_name": "Python 3 (ipykernel)",
   "language": "python",
   "name": "python3"
  },
  "language_info": {
   "codemirror_mode": {
    "name": "ipython",
    "version": 3
   },
   "file_extension": ".py",
   "mimetype": "text/x-python",
   "name": "python",
   "nbconvert_exporter": "python",
   "pygments_lexer": "ipython3",
   "version": "3.9.13"
  }
 },
 "nbformat": 4,
 "nbformat_minor": 5
}
