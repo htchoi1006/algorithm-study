{
 "cells": [
  {
   "cell_type": "code",
   "execution_count": 2,
   "id": "36671458",
   "metadata": {},
   "outputs": [
    {
     "name": "stdout",
     "output_type": "stream",
     "text": [
      "1000 100\n",
      "10.0\n",
      "0\n"
     ]
    }
   ],
   "source": [
    "a, b = map(int, input().split())\n",
    "\n",
    "print(a//b)\n",
    "print(a%b)\n",
    "\n"
   ]
  },
  {
   "cell_type": "code",
   "execution_count": 4,
   "id": "9093fa20",
   "metadata": {},
   "outputs": [
    {
     "name": "stdout",
     "output_type": "stream",
     "text": [
      "A\n",
      "10\n"
     ]
    }
   ],
   "source": [
    "num = input()\n",
    "\n",
    "print(int(num, 16))"
   ]
  },
  {
   "cell_type": "code",
   "execution_count": 8,
   "id": "38fe2090",
   "metadata": {},
   "outputs": [
    {
     "name": "stdout",
     "output_type": "stream",
     "text": [
      "3\n",
      "config.sys\n",
      "config.inf\n",
      "configures\n",
      "config????\n"
     ]
    }
   ],
   "source": [
    "n = int(input())\n",
    "a = list(input())\n",
    "\n",
    "for i in range(n-1):\n",
    "    b = list(input())\n",
    "    for j in range(len(a)):\n",
    "        if(a[j] != b[j]):\n",
    "            a[j] = '?'\n",
    "\n",
    "print(\"\".join(a))\n",
    "\n"
   ]
  },
  {
   "cell_type": "code",
   "execution_count": 22,
   "id": "bfd9b498",
   "metadata": {},
   "outputs": [
    {
     "name": "stdout",
     "output_type": "stream",
     "text": [
      "1\n",
      "60\n"
     ]
    }
   ],
   "source": [
    "def calculation(n):\n",
    "    tmp = n//10 + n%10\n",
    "    tmp = (n%10)*10 + tmp%10\n",
    "    return tmp\n",
    "\n",
    "\n",
    "\n",
    "n = int(input())\n",
    "cnt = 0\n",
    "answer = n\n",
    "while(True):\n",
    "    answer = calculation(answer)\n",
    "    cnt += 1\n",
    "    if(answer == n):\n",
    "        break\n",
    "        \n",
    "print(cnt)\n"
   ]
  },
  {
   "cell_type": "code",
   "execution_count": 26,
   "id": "065caf87",
   "metadata": {},
   "outputs": [
    {
     "name": "stdout",
     "output_type": "stream",
     "text": [
      "32 42 70 35 90\n",
      "210\n"
     ]
    }
   ],
   "source": [
    "nums = list(map(int, input().split()))\n",
    "n = min(nums)\n",
    "\n",
    "while(True):\n",
    "    cnt = 0\n",
    "    for i in range(len(nums)):\n",
    "        if(n % nums[i] == 0):\n",
    "            cnt += 1\n",
    "    \n",
    "    if(cnt > 2):\n",
    "        break\n",
    "    \n",
    "    n += 1\n",
    "    \n",
    "print(n)"
   ]
  },
  {
   "cell_type": "code",
   "execution_count": 42,
   "id": "5c4148f9",
   "metadata": {},
   "outputs": [
    {
     "name": "stdout",
     "output_type": "stream",
     "text": [
      "aabbbc\n",
      "B\n"
     ]
    }
   ],
   "source": [
    "word = input()\n",
    "word = word.upper()\n",
    "a = {'A':0, 'B':0, 'C':0, 'D':0, 'E':0, 'F':0, 'G':0, \n",
    "     'H':0, 'I':0, 'J':0, 'K':0, 'L':0, 'M':0, 'N':0, \n",
    "     'O':0, 'P':0, 'Q':0, 'R':0, 'S':0, 'T':0, 'U':0, \n",
    "     'V':0, 'W':0, 'X':0, 'Y':0, 'Z':0}\n",
    "\n",
    "\n",
    "for i in word:\n",
    "    a[i] = a[i]+1\n",
    "    \n",
    "answer = [k for k,v in a.items() if max(a.values()) == v]\n",
    "if(len(answer) > 1):\n",
    "    print('?')\n",
    "else:\n",
    "    print(answer[0])"
   ]
  },
  {
   "cell_type": "code",
   "execution_count": 61,
   "id": "276d6655",
   "metadata": {},
   "outputs": [
    {
     "name": "stdout",
     "output_type": "stream",
     "text": [
      "mississipi\n",
      "?\n"
     ]
    }
   ],
   "source": [
    "word = input().upper()\n",
    "word_list = list(set(word))\n",
    "cnt = []\n",
    "\n",
    "for i in word_list:\n",
    "    count = word.count(i)\n",
    "    cnt.append(count)\n",
    "    \n",
    "if(cnt.count(max(cnt)) >= 2):\n",
    "    print('?')\n",
    "else:\n",
    "    print(word_list[(cnt.index(max(cnt)))])"
   ]
  },
  {
   "cell_type": "code",
   "execution_count": 71,
   "id": "f22c209a",
   "metadata": {},
   "outputs": [
    {
     "name": "stdout",
     "output_type": "stream",
     "text": [
      "['c', 'd']\n"
     ]
    }
   ],
   "source": [
    "a = {'a': 0, 'b': 1, 'c': 5, 'd': 5} # 직접 생성\n",
    "# di = dict(zip('abcd',[0,0,0,0])) # zip 함수를 사용해 dict 생성: zip(key list, value list)\n",
    "\n",
    "\n",
    "\n",
    "# print(max(a,key=a.get))\n",
    "tmp = [k for k,v in a.items() if max(a.values()) == v]\n",
    "print(tmp)"
   ]
  },
  {
   "cell_type": "code",
   "execution_count": 74,
   "id": "527bc088",
   "metadata": {},
   "outputs": [
    {
     "name": "stdout",
     "output_type": "stream",
     "text": [
      "[('a', '1'), ('a', '2'), ('a', '3'), ('b', '1'), ('b', '2'), ('b', '3'), ('c', '1'), ('c', '2'), ('c', '3')]\n"
     ]
    }
   ],
   "source": [
    "l = [(x, y) for x in ['a', 'b', 'c'] for y in ['1', '2', '3']]\n",
    "\n",
    "print(l)"
   ]
  },
  {
   "cell_type": "code",
   "execution_count": 79,
   "id": "c113c869",
   "metadata": {},
   "outputs": [
    {
     "name": "stdout",
     "output_type": "stream",
     "text": [
      "14\n",
      "2/4\n"
     ]
    }
   ],
   "source": [
    "x = int(input())\n",
    "line = 1\n",
    "\n",
    "while(x > line):\n",
    "    x -= line\n",
    "    line += 1\n",
    "    \n",
    "if(line%2 == 0):\n",
    "    a = x\n",
    "    b = line - x + 1\n",
    "    \n",
    "else:\n",
    "    a = line - x + 1\n",
    "    b = x\n",
    "    \n",
    "print(a, \"/\", b, sep='')"
   ]
  },
  {
   "cell_type": "code",
   "execution_count": 82,
   "id": "f86f75c7",
   "metadata": {},
   "outputs": [
    {
     "name": "stdout",
     "output_type": "stream",
     "text": [
      "abc\n",
      "a/b/c\n",
      "a#b#c\n"
     ]
    }
   ],
   "source": [
    "print(\"a\", \"b\", \"c\", sep='')\n",
    "print(\"a\", \"b\", \"c\", sep='/')\n",
    "print(\"a\", \"b\", \"c\", sep='#')"
   ]
  },
  {
   "cell_type": "code",
   "execution_count": 85,
   "id": "908da68f",
   "metadata": {},
   "outputs": [
    {
     "name": "stdout",
     "output_type": "stream",
     "text": [
      "hello!!!!! world\n"
     ]
    }
   ],
   "source": [
    "print(\"hello\", end='!!!!! ')\n",
    "print(\"world\")"
   ]
  },
  {
   "cell_type": "code",
   "execution_count": 89,
   "id": "99adc687",
   "metadata": {},
   "outputs": [
    {
     "name": "stdout",
     "output_type": "stream",
     "text": [
      "빵을 5개 주세요.\n"
     ]
    }
   ],
   "source": [
    "print(\"%s을 %d개 주세요.\"%(\"빵\", 5))"
   ]
  },
  {
   "cell_type": "code",
   "execution_count": 93,
   "id": "819d0e36",
   "metadata": {},
   "outputs": [
    {
     "name": "stdout",
     "output_type": "stream",
     "text": [
      "줄\n",
      "바\n",
      "꿈 \n",
      " \"큰 따옴표\" \n",
      " \\역슬래쉬 \n",
      " 백스페이스\b \n"
     ]
    }
   ],
   "source": [
    "print(\"줄\\n바\\n꿈 \")\n",
    "print(\" \\\"큰 따옴표\\\" \")\n",
    "print(\" \\\\역슬래쉬 \")\n",
    "print(\" 백스페이스\\b \")"
   ]
  },
  {
   "cell_type": "code",
   "execution_count": 102,
   "id": "cd3f0e67",
   "metadata": {},
   "outputs": [
    {
     "name": "stdout",
     "output_type": "stream",
     "text": [
      "3 3\n",
      "...\n",
      "...\n",
      "...\n",
      "max: 3\n"
     ]
    }
   ],
   "source": [
    "n,m = map(int, input().split())\n",
    "board = []\n",
    "\n",
    "for i in range(n):\n",
    "    board.append(input())\n",
    "\n",
    "a, b = 0,0     #a:행, b:열\n",
    "\n",
    "for i in range(n):\n",
    "    if(\"X\" not in board[i]):\n",
    "        a += 1\n",
    "\n",
    "for j in range(m):\n",
    "    if(\"X\" not in [board[i][j] for i in range(n)]):\n",
    "        b += 1\n",
    "\n",
    "print(max(a,b))"
   ]
  },
  {
   "cell_type": "code",
   "execution_count": 120,
   "id": "9072bf9e",
   "metadata": {},
   "outputs": [
    {
     "name": "stdout",
     "output_type": "stream",
     "text": [
      "121\n",
      "yes\n",
      "1\n",
      "yes\n",
      "2\n",
      "yes\n",
      "3\n",
      "yes\n",
      "0\n"
     ]
    }
   ],
   "source": [
    "while(True):\n",
    "    stack = []\n",
    "    n = input()\n",
    "    if(n == \"0\"):\n",
    "        break\n",
    "        \n",
    "    if(len(n) == 1):\n",
    "        print(\"yes\")\n",
    "    else:\n",
    "        for i in n:\n",
    "            stack.append(i)\n",
    "        \n",
    "        for j in range(len(stack)//2):\n",
    "            if(stack[j] != stack[len(stack)-j-1]):\n",
    "                print(\"no\")\n",
    "                break\n",
    "            else:\n",
    "                if(j == len(stack)//2 -1):\n",
    "                    print(\"yes\")\n",
    "                else:\n",
    "                    continue\n",
    "            "
   ]
  },
  {
   "cell_type": "code",
   "execution_count": 137,
   "id": "8ff4e8e3",
   "metadata": {},
   "outputs": [
    {
     "name": "stdout",
     "output_type": "stream",
     "text": [
      "5\n",
      "2 3 1 7 3\n",
      "4 1 9 6 8\n",
      "5 5 2 4 4\n",
      "6 5 2 6 7\n",
      "8 4 2 2 2\n",
      "students:  [[2, 3, 1, 7, 3], [4, 1, 9, 6, 8], [5, 5, 2, 4, 4], [6, 5, 2, 6, 7], [8, 4, 2, 2, 2]]\n",
      "2: [[0, 0, 0, 0, 0], [0, 0, 0, 1, 0], [0, 0, 0, 1, 1], [0, 1, 1, 0, 1], [0, 0, 1, 1, 0]]\n"
     ]
    }
   ],
   "source": [
    "n = int(input())\n",
    "students = []\n",
    "tmp = [0] * n\n",
    "\n",
    "for i in range(n):\n",
    "    students.append(list(map(int,input().split())))\n",
    "    tmp[i] = [0] * n\n",
    "    \n",
    "\n",
    "    \n",
    "for i in range(5):\n",
    "    for j in range(n):\n",
    "        for k in range(j+1,n):\n",
    "            if(students[j][i] == students[k][i]):\n",
    "                tmp[k][j] = 1\n",
    "                tmp[j][k] = 1\n",
    "\n",
    "            \n",
    "\n",
    "cnt = []\n",
    "for i in tmp:\n",
    "    cnt.append(i.count(1))\n",
    "    \n",
    "print(cnt.index(max(cnt)) + 1)\n",
    "\n",
    "\n",
    "\n"
   ]
  },
  {
   "cell_type": "code",
   "execution_count": 144,
   "id": "b4caba41",
   "metadata": {},
   "outputs": [
    {
     "name": "stdout",
     "output_type": "stream",
     "text": [
      "3\n"
     ]
    }
   ],
   "source": [
    "a = [[0, 0, 0, 0, 0], [0, 0, 0, 1, 0], [0, 0, 0, 1, 1], [0, 1, 1, 0, 1], [0, 0, 1, 1, 0]]\n",
    "\n",
    "cntt = []\n",
    "\n",
    "for i in a:\n",
    "    cntt.append(i.count(1))\n",
    "    \n",
    "    \n",
    "print(cntt.index(max(cntt)))"
   ]
  },
  {
   "cell_type": "code",
   "execution_count": 155,
   "id": "4df6ebcc",
   "metadata": {},
   "outputs": [
    {
     "name": "stdout",
     "output_type": "stream",
     "text": [
      "LOVE\n",
      "(1, 1, 1, 1)\n"
     ]
    }
   ],
   "source": [
    "L, O, V, E = 0, 0, 0, 0\n",
    "l = []\n",
    "\n",
    "def calculate(L,O,V,E):\n",
    "    score = ((L+O) * (L+V) * (L+E) * (O+V) * (O+E) * (V+E)) % 100\n",
    "    return score\n",
    "\n",
    "def calculate2(a):\n",
    "    L, O, V, E = 0, 0, 0, 0\n",
    "    if(\"L\" in a):\n",
    "        L += 1\n",
    "    if(\"O\" in a):\n",
    "        O += 1\n",
    "    if(\"V\" in a):\n",
    "        V += 1\n",
    "    if(\"E\" in a):\n",
    "        E += 1\n",
    "        \n",
    "    return L, O, V, E\n",
    "    \n",
    "\n",
    "\n",
    "\n",
    "word = input()\n",
    "print(calculate2(word))\n",
    "    \n",
    "\n",
    "# n = int(input())\n",
    "\n",
    "# for i in range(n):\n",
    "#     team = input()\n",
    "    \n",
    "    \n",
    "    \n",
    "    \n",
    "        \n",
    "\n",
    "# print(((L+O) * (L+V) * (L+E) * (O+V) * (O+E) * (V+E)) % 100)"
   ]
  },
  {
   "cell_type": "code",
   "execution_count": 7,
   "id": "0d5c87aa",
   "metadata": {},
   "outputs": [
    {
     "name": "stdout",
     "output_type": "stream",
     "text": [
      "3 8\n",
      "[0, 1, 2, 2, 3, 3, 3, 4, 4, 4, 4, 5, 5, 5, 5, 5, 6, 6, 6, 6, 6, 6, 7, 7, 7, 7, 7, 7, 7, 8, 8, 8, 8, 8, 8, 8, 8]\n",
      "19\n"
     ]
    }
   ],
   "source": [
    "a, b = map(int, input().split())\n",
    "numlist = [0]\n",
    "answer = 0\n",
    "\n",
    "for i in range(1, b+1):\n",
    "    for j in range(i):\n",
    "        numlist.append(i)\n",
    "        \n",
    "for i in range(a,b+1):\n",
    "    answer += numlist[i]\n",
    "        \n",
    "print(numlist)\n",
    "print(answer)"
   ]
  },
  {
   "cell_type": "code",
   "execution_count": 5,
   "id": "2b67f927",
   "metadata": {},
   "outputs": [
    {
     "name": "stdout",
     "output_type": "stream",
     "text": [
      "1\n",
      "NO\n"
     ]
    }
   ],
   "source": [
    "n = input()\n",
    "n_len = len(n)\n",
    "true = 0\n",
    "\n",
    "for i in range(n_len - 1):\n",
    "    left = right = 1\n",
    "    \n",
    "    for j in range(i + 1):\n",
    "        left *= int(n[j])\n",
    "    \n",
    "    for k in range(i+1, n_len):\n",
    "        right *= int(n[k])\n",
    "        \n",
    "    if(left == right):\n",
    "        print(\"YES\")\n",
    "        true = 1\n",
    "        break\n",
    "    \n",
    "if(true == 0):\n",
    "    print(\"NO\")"
   ]
  },
  {
   "cell_type": "code",
   "execution_count": 8,
   "id": "b0171375",
   "metadata": {},
   "outputs": [
    {
     "name": "stdout",
     "output_type": "stream",
     "text": [
      "14\n",
      "push 1\n",
      "push 2\n",
      "top\n"
     ]
    },
    {
     "ename": "NameError",
     "evalue": "name 'stack' is not defined",
     "output_type": "error",
     "traceback": [
      "\u001b[0;31m---------------------------------------------------------------------------\u001b[0m",
      "\u001b[0;31mNameError\u001b[0m                                 Traceback (most recent call last)",
      "Input \u001b[0;32mIn [8]\u001b[0m, in \u001b[0;36m<cell line: 7>\u001b[0;34m()\u001b[0m\n\u001b[1;32m     28\u001b[0m         \u001b[38;5;28mprint\u001b[39m(\u001b[38;5;241m0\u001b[39m)\n\u001b[1;32m     30\u001b[0m \u001b[38;5;28;01melif\u001b[39;00m order \u001b[38;5;241m==\u001b[39m \u001b[38;5;124m\"\u001b[39m\u001b[38;5;124mtop\u001b[39m\u001b[38;5;124m\"\u001b[39m:\n\u001b[0;32m---> 31\u001b[0m     \u001b[38;5;28;01mif\u001b[39;00m(\u001b[38;5;28mlen\u001b[39m(\u001b[43mstack\u001b[49m) \u001b[38;5;241m==\u001b[39m \u001b[38;5;241m0\u001b[39m):\n\u001b[1;32m     32\u001b[0m         \u001b[38;5;28mprint\u001b[39m(\u001b[38;5;241m-\u001b[39m\u001b[38;5;241m1\u001b[39m)\n\u001b[1;32m     33\u001b[0m     \u001b[38;5;28;01melse\u001b[39;00m:\n",
      "\u001b[0;31mNameError\u001b[0m: name 'stack' is not defined"
     ]
    }
   ],
   "source": [
    "import sys\n",
    "\n",
    "numstack = []\n",
    "\n",
    "length = int(input())\n",
    "\n",
    "for i in range(length):\n",
    "    stc = input().split()\n",
    "    order = stc[0]\n",
    "    \n",
    "    if order == \"push\":\n",
    "        answer = stc[1]\n",
    "        numstack.append(answer)\n",
    "        \n",
    "    elif order == \"pop\":\n",
    "        if(len(numstack) == 0):\n",
    "            print(-1)\n",
    "        else:\n",
    "            print(numstack.pop())\n",
    "        \n",
    "    elif order == \"size\":\n",
    "        print(len(numstack))\n",
    "        \n",
    "    elif order == \"empty\":\n",
    "        if(len(numstack) == 0):\n",
    "            print(1)\n",
    "        else:\n",
    "            print(0)\n",
    "        \n",
    "    elif order == \"top\":\n",
    "        if(len(numstack) == 0):\n",
    "            print(-1)\n",
    "        else:\n",
    "            print(numstack[-1])"
   ]
  },
  {
   "cell_type": "code",
   "execution_count": 9,
   "id": "548b16bb",
   "metadata": {},
   "outputs": [
    {
     "name": "stdout",
     "output_type": "stream",
     "text": [
      "321\n"
     ]
    }
   ],
   "source": [
    "a = 321\n",
    "\n",
    "b = str(a)\n",
    "for i in range(len(b)):\n",
    "    \n",
    "\n",
    "print(b)"
   ]
  },
  {
   "cell_type": "code",
   "execution_count": 35,
   "id": "5a8e18d7",
   "metadata": {},
   "outputs": [
    {
     "name": "stdout",
     "output_type": "stream",
     "text": [
      "314\n"
     ]
    }
   ],
   "source": [
    "a = int(input())\n",
    "b = str(a)\n",
    "sum = 0\n",
    "mul = 0\n",
    "\n",
    "for i in range(len(b)-1,-1,-1):\n",
    "    sum += (int(b[i]) * (2**mul))\n",
    "    mul += 1\n",
    "        \n",
    "\n",
    "print(oct(sum).split(\"o\")[1])"
   ]
  },
  {
   "cell_type": "code",
   "execution_count": 42,
   "id": "316a1c3f",
   "metadata": {},
   "outputs": [
    {
     "name": "stdout",
     "output_type": "stream",
     "text": [
      "314\n",
      "11001100\n"
     ]
    }
   ],
   "source": [
    "print(oct(int(input(),2))[2:])"
   ]
  },
  {
   "cell_type": "code",
   "execution_count": 51,
   "id": "303b95be",
   "metadata": {},
   "outputs": [
    {
     "name": "stdout",
     "output_type": "stream",
     "text": [
      "100\n",
      "77\n"
     ]
    }
   ],
   "source": [
    "n = int(input())\n",
    "\n",
    "while True:\n",
    "    flag = True\n",
    "    for i in str(n):\n",
    "        if i!='4' and i!='7':\n",
    "            flag = False\n",
    "            n -= 1\n",
    "    if flag:\n",
    "        print(n)\n",
    "        break"
   ]
  },
  {
   "cell_type": "code",
   "execution_count": 52,
   "id": "3e21942a",
   "metadata": {},
   "outputs": [
    {
     "data": {
      "text/plain": [
       "71.42857142857143"
      ]
     },
     "execution_count": 52,
     "metadata": {},
     "output_type": "execute_result"
    }
   ],
   "source": [
    "50/70*100"
   ]
  },
  {
   "cell_type": "code",
   "execution_count": 58,
   "id": "9010477e",
   "metadata": {},
   "outputs": [
    {
     "name": "stdout",
     "output_type": "stream",
     "text": [
      "1\n",
      "50\n",
      "100.0\n"
     ]
    }
   ],
   "source": [
    "n = int(input())\n",
    "score = list(map(int, input().split()))\n",
    "average = 0\n",
    "\n",
    "maxscore = max(score)\n",
    "for i in range(n):\n",
    "    score[i] = (score[i]/maxscore) * 100\n",
    "    average += score[i]\n",
    "    \n",
    "print(average/n)"
   ]
  },
  {
   "cell_type": "code",
   "execution_count": 1,
   "id": "0c5017d9",
   "metadata": {},
   "outputs": [
    {
     "name": "stdout",
     "output_type": "stream",
     "text": [
      "hi\n"
     ]
    }
   ],
   "source": [
    "print(\"hi\")"
   ]
  },
  {
   "cell_type": "code",
   "execution_count": 6,
   "id": "920934d9",
   "metadata": {},
   "outputs": [
    {
     "name": "stdout",
     "output_type": "stream",
     "text": [
      "5\n",
      "i,j =  0 0\n",
      "i,j =  1 0\n",
      "i,j =  2 0\n",
      "i,j =  3 3\n",
      "5 4\n"
     ]
    }
   ],
   "source": [
    "n = int(input())\n",
    "# a = []\n",
    "row = 0\n",
    "col = 0\n",
    "\n",
    "\n",
    "# for i in range(n):\n",
    "#     a.append(list(input()))\n",
    "\n",
    "# print(a)\n",
    "a = [['.', '.', '.', '.', 'X'], ['.', '.', 'X', 'X', '.'], ['.', '.', '.', '.', '.'], ['.', 'X', 'X', '.', '.'], ['X', '.', '.', '.', '.']]\n",
    "\n",
    "for i in range(n):\n",
    "    for j in range(n-1):\n",
    "        if a[i][j] == '.' and a[i][j+1] == '.':\n",
    "            row += 1\n",
    "            break\n",
    "            \n",
    "for i in range(n-1):\n",
    "    for j in range(n):\n",
    "        if a[i][j] == '.' and a[i+1][j] == '.':\n",
    "            print(\"i,j = \",i,j)\n",
    "            col += 1\n",
    "            break\n",
    "        \n",
    "print(row, col)"
   ]
  },
  {
   "cell_type": "code",
   "execution_count": null,
   "id": "74e0eabe",
   "metadata": {},
   "outputs": [],
   "source": [
    "....X\n",
    "..XX.\n",
    ".....\n",
    ".XX..\n",
    "X...."
   ]
  },
  {
   "cell_type": "code",
   "execution_count": 16,
   "id": "3ffff649",
   "metadata": {},
   "outputs": [
    {
     "name": "stdout",
     "output_type": "stream",
     "text": [
      "9\n",
      "2\n"
     ]
    }
   ],
   "source": [
    "n = int(input())\n",
    "\n",
    "if(n%5 == 0):\n",
    "    print(n//5)\n",
    "else:\n",
    "    count = 0\n",
    "    while(n > 0):\n",
    "        n -= 3\n",
    "        count += 1\n",
    "        \n",
    "        if(n%5 == 0):\n",
    "            count += n//5\n",
    "            print(count)\n",
    "            break\n",
    "        elif(n==1 or n==2):\n",
    "            print(-1)\n",
    "            break\n",
    "        elif(n == 0):\n",
    "            print(p)\n",
    "            break"
   ]
  },
  {
   "cell_type": "code",
   "execution_count": 25,
   "id": "151e09b0",
   "metadata": {},
   "outputs": [
    {
     "name": "stdout",
     "output_type": "stream",
     "text": [
      "5\n",
      "3 1 4 3 2\n",
      "[1, 2, 3, 3, 4]\n",
      "32\n"
     ]
    }
   ],
   "source": [
    "n = int(input())\n",
    "time = list(map(int, input().split()))\n",
    "\n",
    "time = sorted(time)\n",
    "\n",
    "sum_time = 0\n",
    "\n",
    "for i in range(n):\n",
    "    for j in range(i+1):\n",
    "        sum_time += time[j]\n",
    "#         print(\"time j : \",time[j])\n",
    "#         print(\"sumtime :\", sum_time)\n",
    "print(sum_time)\n",
    "    "
   ]
  },
  {
   "cell_type": "code",
   "execution_count": 37,
   "id": "55f86bf7",
   "metadata": {},
   "outputs": [
    {
     "name": "stdout",
     "output_type": "stream",
     "text": [
      "10 4790\n",
      "1\n",
      "5\n",
      "10\n",
      "50\n",
      "100\n",
      "500\n",
      "1000\n",
      "5000\n",
      "10000\n",
      "50000\n",
      "money:  790 i:  1000 count:  4\n",
      "money:  290 i:  500 count:  5\n",
      "money:  90 i:  100 count:  7\n",
      "money:  40 i:  50 count:  8\n",
      "money:  0 i:  10 count:  12\n",
      "12\n"
     ]
    }
   ],
   "source": [
    "n, money = map(int, input().split())\n",
    "coin = []\n",
    "for i in range(n):\n",
    "    tmp = int(input())\n",
    "    coin.append(tmp)\n",
    "\n",
    "coin = sorted(coin, reverse=True)\n",
    "# print(coin)\n",
    "\n",
    "count = 0\n",
    "\n",
    "for i in coin:\n",
    "    if(i <= money):\n",
    "        count += money//i\n",
    "        money = money%i\n",
    "#         print(\"money: \", money, \"i: \", i, \"count: \",count)\n",
    "        if(money <= 0):\n",
    "            break\n",
    "        \n",
    "        \n",
    "print(count)"
   ]
  },
  {
   "cell_type": "code",
   "execution_count": 46,
   "id": "032b933a",
   "metadata": {},
   "outputs": [
    {
     "name": "stdout",
     "output_type": "stream",
     "text": [
      "11\n",
      "1 4\n",
      "3 5\n",
      "0 6\n",
      "5 7\n",
      "3 8\n",
      "5 9\n",
      "6 10\n",
      "8 11\n",
      "8 12\n",
      "2 13\n",
      "12 14\n",
      "[[1, 4], [3, 5], [0, 6], [5, 7], [3, 8], [5, 9], [6, 10], [8, 11], [8, 12], [2, 13], [12, 14]]\n"
     ]
    }
   ],
   "source": [
    "n = int(input())\n",
    "room = []\n",
    "\n",
    "for i in range(n):\n",
    "    a, b = map(int, input().split())\n",
    "    room.append([a,b])\n",
    "    \n",
    "\n",
    "room.sort(key = lambda x: x[0])\n",
    "room.sort(key = lambda x: x[1])\n",
    "\n",
    "cnt = 1\n",
    "end = room[0][1]\n",
    "\n",
    "for i in range(1, n):\n",
    "    if(room[i][0] >= end):\n",
    "        cnt += 1\n",
    "        end = room[i][1]\n",
    "        \n",
    "print(cnt)"
   ]
  },
  {
   "cell_type": "code",
   "execution_count": 51,
   "id": "818e5b7f",
   "metadata": {},
   "outputs": [
    {
     "ename": "SyntaxError",
     "evalue": "invalid syntax (3610136354.py, line 13)",
     "output_type": "error",
     "traceback": [
      "\u001b[0;36m  Input \u001b[0;32mIn [51]\u001b[0;36m\u001b[0m\n\u001b[0;31m    print(for i in range(n): sum += a[i] * b[i])\u001b[0m\n\u001b[0m          ^\u001b[0m\n\u001b[0;31mSyntaxError\u001b[0m\u001b[0;31m:\u001b[0m invalid syntax\n"
     ]
    }
   ],
   "source": [
    "n = int(input())\n",
    "a = list(map(int, input().split()))\n",
    "b = list(map(int, input().split()))\n",
    "\n",
    "a.sort()\n",
    "b.sort(reverse=True)\n",
    "\n",
    "sum = 0\n",
    "\n",
    "for i in range(n):\n",
    "    sum += a[i] * b[i]\n",
    "    \n",
    "print(sum)\n",
    "    \n"
   ]
  },
  {
   "cell_type": "code",
   "execution_count": null,
   "id": "85e68c17",
   "metadata": {},
   "outputs": [],
   "source": [
    "n = int(input())\n",
    "\n",
    "a_list = list(map(int, input().split()))\n",
    "b_list = list(map(int, input().split()))\n",
    "\n",
    "s = 0\n",
    "for i in range(n):\n",
    "    s += min(a_list) * max(b_list)\n",
    "    a_list.pop(a_list.index(min(a_list)))\n",
    "    b_list.pop(b_list.index(max(b_list)))\n",
    "\n",
    "print(s)"
   ]
  },
  {
   "cell_type": "code",
   "execution_count": 61,
   "id": "84d75e5e",
   "metadata": {},
   "outputs": [
    {
     "name": "stdout",
     "output_type": "stream",
     "text": [
      "-40+20-30\n",
      "-40+20-30 ['', '40+20', '30']\n"
     ]
    },
    {
     "ename": "TypeError",
     "evalue": "'int' object is not callable",
     "output_type": "error",
     "traceback": [
      "\u001b[0;31m---------------------------------------------------------------------------\u001b[0m",
      "\u001b[0;31mTypeError\u001b[0m                                 Traceback (most recent call last)",
      "Input \u001b[0;32mIn [61]\u001b[0m, in \u001b[0;36m<cell line: 5>\u001b[0;34m()\u001b[0m\n\u001b[1;32m      3\u001b[0m \u001b[38;5;28mprint\u001b[39m(s, t)\n\u001b[1;32m      4\u001b[0m answer \u001b[38;5;241m=\u001b[39m \u001b[38;5;241m0\u001b[39m\n\u001b[0;32m----> 5\u001b[0m x \u001b[38;5;241m=\u001b[39m \u001b[38;5;28;43msum\u001b[39;49m\u001b[43m(\u001b[49m\u001b[38;5;28;43mmap\u001b[39;49m\u001b[43m(\u001b[49m\u001b[38;5;28;43mint\u001b[39;49m\u001b[43m,\u001b[49m\u001b[43m \u001b[49m\u001b[43m(\u001b[49m\u001b[43mt\u001b[49m\u001b[43m[\u001b[49m\u001b[38;5;241;43m0\u001b[39;49m\u001b[43m]\u001b[49m\u001b[38;5;241;43m.\u001b[39;49m\u001b[43msplit\u001b[49m\u001b[43m(\u001b[49m\u001b[38;5;124;43m\"\u001b[39;49m\u001b[38;5;124;43m+\u001b[39;49m\u001b[38;5;124;43m\"\u001b[39;49m\u001b[43m)\u001b[49m\u001b[43m)\u001b[49m\u001b[43m)\u001b[49m\u001b[43m)\u001b[49m\n\u001b[1;32m      6\u001b[0m \u001b[38;5;66;03m# if(s[0] == \"-\"):\u001b[39;00m\n\u001b[1;32m      7\u001b[0m \u001b[38;5;66;03m#     answer -= \u001b[39;00m\n\u001b[1;32m      8\u001b[0m \u001b[38;5;28mprint\u001b[39m(x)\n",
      "\u001b[0;31mTypeError\u001b[0m: 'int' object is not callable"
     ]
    }
   ],
   "source": [
    "s = input()\n",
    "t = s.split(\"-\")\n",
    "print(s, t)\n",
    "answer = 0\n",
    "x = sum(map(int, (t[0].split(\"+\"))))\n",
    "# if(s[0] == \"-\"):\n",
    "#     answer -= \n",
    "print(x)\n",
    "\n",
    "\n"
   ]
  },
  {
   "cell_type": "code",
   "execution_count": 70,
   "id": "2993e1ef",
   "metadata": {},
   "outputs": [
    {
     "name": "stdout",
     "output_type": "stream",
     "text": [
      "00009-00009\n",
      "['00009', '00009']\n",
      "0\n"
     ]
    }
   ],
   "source": [
    "n = input().split(\"-\")\n",
    "answer = 0\n",
    "\n",
    "for i in n[0].split(\"+\"):\n",
    "    answer += int(i)\n",
    "\n",
    "for i in n[1:]:\n",
    "    for j in i.split(\"+\"):\n",
    "        answer -= int(j)\n",
    "    \n",
    "print(answer)\n",
    "    \n",
    "\n"
   ]
  },
  {
   "cell_type": "code",
   "execution_count": 75,
   "id": "93f04f80",
   "metadata": {},
   "outputs": [
    {
     "name": "stdout",
     "output_type": "stream",
     "text": [
      "1\n",
      "500\n",
      "100\n",
      "50\n",
      "10\n",
      "5\n",
      "1\n",
      "15\n"
     ]
    }
   ],
   "source": [
    "n = 1000 - int(input())\n",
    "money = [500, 100, 50, 10, 5, 1]\n",
    "cnt = 0\n",
    "\n",
    "for i in money:\n",
    "    cnt += n//i\n",
    "    n %= i\n",
    "    \n",
    "print(cnt)\n",
    "    \n"
   ]
  },
  {
   "cell_type": "code",
   "execution_count": null,
   "id": "810e77ef",
   "metadata": {},
   "outputs": [],
   "source": [
    "n = int(input())\n",
    "rope = []\n",
    "\n",
    "\n",
    "for i in range(n):\n",
    "    rope.append(int(input()))\n",
    "    \n",
    "rope.sort(reverse=True)\n",
    "max_weight = rope[0]\n",
    "\n",
    "for i in range(n):\n",
    "    if(max_weight < rope[i]*(i+1)):\n",
    "        max_weight = rope[i]*(i+1)\n",
    "        \n",
    "print(max_weight)"
   ]
  },
  {
   "cell_type": "code",
   "execution_count": 13,
   "id": "de1d1594",
   "metadata": {},
   "outputs": [
    {
     "name": "stdout",
     "output_type": "stream",
     "text": [
      "100\n",
      "0 1 4 "
     ]
    }
   ],
   "source": [
    "n = int(input())\n",
    "\n",
    "\n",
    "if(n%10 != 0):\n",
    "    print(-1)\n",
    "else:\n",
    "    for i in [300, 60, 10]:\n",
    "        print(n//i, end=\" \")\n",
    "        n %= i\n",
    "    \n"
   ]
  },
  {
   "cell_type": "code",
   "execution_count": 17,
   "id": "a87fabad",
   "metadata": {},
   "outputs": [
    {
     "name": "stdout",
     "output_type": "stream",
     "text": [
      "400\n",
      "27\n"
     ]
    }
   ],
   "source": [
    "n = int(input())\n",
    "s = 1\n",
    "\n",
    "while( (s*(s+1))/2 <= n ):\n",
    "    s += 1\n",
    "    \n",
    "print(s-1)\n"
   ]
  },
  {
   "cell_type": "code",
   "execution_count": 15,
   "id": "d524a140",
   "metadata": {},
   "outputs": [
    {
     "name": "stdout",
     "output_type": "stream",
     "text": [
      "K1KA5CB7\n",
      "ABCKK13\n"
     ]
    }
   ],
   "source": [
    "word = input()\n",
    "alphabet = []\n",
    "numbers = ['0', '1', '2', '3', '4', '5', '6', '7', '8', '9']\n",
    "num = 0\n",
    "\n",
    "for i in word:\n",
    "    if(i.isalpha()):\n",
    "        alphabet.append(i)\n",
    "    else:\n",
    "        num += int(i)\n",
    "        \n",
    "alphabet.sort()\n",
    "alphabet.append(str(num))\n",
    "\n",
    "print(''.join(alphabet))"
   ]
  },
  {
   "cell_type": "code",
   "execution_count": null,
   "id": "c9afe78a",
   "metadata": {},
   "outputs": [],
   "source": [
    "1965801310"
   ]
  },
  {
   "cell_type": "code",
   "execution_count": null,
   "id": "65770521",
   "metadata": {},
   "outputs": [],
   "source": []
  },
  {
   "cell_type": "code",
   "execution_count": null,
   "id": "394be6e6",
   "metadata": {},
   "outputs": [],
   "source": []
  },
  {
   "cell_type": "code",
   "execution_count": null,
   "id": "d38ec533",
   "metadata": {},
   "outputs": [],
   "source": []
  },
  {
   "cell_type": "code",
   "execution_count": null,
   "id": "fe76d4c5",
   "metadata": {},
   "outputs": [],
   "source": []
  },
  {
   "cell_type": "code",
   "execution_count": null,
   "id": "784a086c",
   "metadata": {},
   "outputs": [],
   "source": []
  },
  {
   "cell_type": "code",
   "execution_count": null,
   "id": "96270d61",
   "metadata": {},
   "outputs": [],
   "source": []
  },
  {
   "cell_type": "code",
   "execution_count": null,
   "id": "ea30dcc4",
   "metadata": {},
   "outputs": [],
   "source": []
  },
  {
   "cell_type": "code",
   "execution_count": null,
   "id": "92ed0328",
   "metadata": {},
   "outputs": [],
   "source": []
  },
  {
   "cell_type": "code",
   "execution_count": null,
   "id": "20898ab6",
   "metadata": {},
   "outputs": [],
   "source": []
  },
  {
   "cell_type": "code",
   "execution_count": null,
   "id": "d49ca73e",
   "metadata": {},
   "outputs": [],
   "source": []
  },
  {
   "cell_type": "code",
   "execution_count": null,
   "id": "d7f69b0b",
   "metadata": {},
   "outputs": [],
   "source": []
  },
  {
   "cell_type": "code",
   "execution_count": null,
   "id": "f59e873c",
   "metadata": {},
   "outputs": [],
   "source": []
  },
  {
   "cell_type": "code",
   "execution_count": null,
   "id": "70a07647",
   "metadata": {},
   "outputs": [],
   "source": []
  },
  {
   "cell_type": "code",
   "execution_count": null,
   "id": "d12bd07e",
   "metadata": {},
   "outputs": [],
   "source": []
  },
  {
   "cell_type": "code",
   "execution_count": null,
   "id": "bc258863",
   "metadata": {},
   "outputs": [],
   "source": []
  },
  {
   "cell_type": "code",
   "execution_count": null,
   "id": "1f1fdb58",
   "metadata": {},
   "outputs": [],
   "source": []
  },
  {
   "cell_type": "code",
   "execution_count": null,
   "id": "c29b8ca7",
   "metadata": {},
   "outputs": [],
   "source": []
  },
  {
   "cell_type": "code",
   "execution_count": null,
   "id": "9b97ef33",
   "metadata": {},
   "outputs": [],
   "source": []
  },
  {
   "cell_type": "code",
   "execution_count": null,
   "id": "fafc6cdd",
   "metadata": {},
   "outputs": [],
   "source": []
  },
  {
   "cell_type": "code",
   "execution_count": null,
   "id": "b033a2c3",
   "metadata": {},
   "outputs": [],
   "source": []
  },
  {
   "cell_type": "code",
   "execution_count": null,
   "id": "dfac8b7d",
   "metadata": {},
   "outputs": [],
   "source": []
  },
  {
   "cell_type": "code",
   "execution_count": null,
   "id": "a6fa1789",
   "metadata": {},
   "outputs": [],
   "source": []
  },
  {
   "cell_type": "code",
   "execution_count": null,
   "id": "3acb578a",
   "metadata": {},
   "outputs": [],
   "source": []
  }
 ],
 "metadata": {
  "kernelspec": {
   "display_name": "Python 3 (ipykernel)",
   "language": "python",
   "name": "python3"
  },
  "language_info": {
   "codemirror_mode": {
    "name": "ipython",
    "version": 3
   },
   "file_extension": ".py",
   "mimetype": "text/x-python",
   "name": "python",
   "nbconvert_exporter": "python",
   "pygments_lexer": "ipython3",
   "version": "3.9.13"
  }
 },
 "nbformat": 4,
 "nbformat_minor": 5
}
