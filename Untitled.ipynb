{
 "cells": [
  {
   "cell_type": "code",
   "execution_count": 2,
   "id": "36671458",
   "metadata": {},
   "outputs": [
    {
     "name": "stdout",
     "output_type": "stream",
     "text": [
      "1000 100\n",
      "10.0\n",
      "0\n"
     ]
    }
   ],
   "source": [
    "a, b = map(int, input().split())\n",
    "\n",
    "print(a//b)\n",
    "print(a%b)\n",
    "\n"
   ]
  },
  {
   "cell_type": "code",
   "execution_count": 4,
   "id": "9093fa20",
   "metadata": {},
   "outputs": [
    {
     "name": "stdout",
     "output_type": "stream",
     "text": [
      "A\n",
      "10\n"
     ]
    }
   ],
   "source": [
    "num = input()\n",
    "\n",
    "print(int(num, 16))"
   ]
  },
  {
   "cell_type": "code",
   "execution_count": 8,
   "id": "38fe2090",
   "metadata": {},
   "outputs": [
    {
     "name": "stdout",
     "output_type": "stream",
     "text": [
      "3\n",
      "config.sys\n",
      "config.inf\n",
      "configures\n",
      "config????\n"
     ]
    }
   ],
   "source": [
    "n = int(input())\n",
    "a = list(input())\n",
    "\n",
    "for i in range(n-1):\n",
    "    b = list(input())\n",
    "    for j in range(len(a)):\n",
    "        if(a[j] != b[j]):\n",
    "            a[j] = '?'\n",
    "\n",
    "print(\"\".join(a))\n",
    "\n"
   ]
  },
  {
   "cell_type": "code",
   "execution_count": 22,
   "id": "bfd9b498",
   "metadata": {},
   "outputs": [
    {
     "name": "stdout",
     "output_type": "stream",
     "text": [
      "1\n",
      "60\n"
     ]
    }
   ],
   "source": [
    "def calculation(n):\n",
    "    tmp = n//10 + n%10\n",
    "    tmp = (n%10)*10 + tmp%10\n",
    "    return tmp\n",
    "\n",
    "\n",
    "\n",
    "n = int(input())\n",
    "cnt = 0\n",
    "answer = n\n",
    "while(True):\n",
    "    answer = calculation(answer)\n",
    "    cnt += 1\n",
    "    if(answer == n):\n",
    "        break\n",
    "        \n",
    "print(cnt)\n"
   ]
  },
  {
   "cell_type": "code",
   "execution_count": 26,
   "id": "065caf87",
   "metadata": {},
   "outputs": [
    {
     "name": "stdout",
     "output_type": "stream",
     "text": [
      "32 42 70 35 90\n",
      "210\n"
     ]
    }
   ],
   "source": [
    "nums = list(map(int, input().split()))\n",
    "n = min(nums)\n",
    "\n",
    "while(True):\n",
    "    cnt = 0\n",
    "    for i in range(len(nums)):\n",
    "        if(n % nums[i] == 0):\n",
    "            cnt += 1\n",
    "    \n",
    "    if(cnt > 2):\n",
    "        break\n",
    "    \n",
    "    n += 1\n",
    "    \n",
    "print(n)"
   ]
  },
  {
   "cell_type": "code",
   "execution_count": 42,
   "id": "5c4148f9",
   "metadata": {},
   "outputs": [
    {
     "name": "stdout",
     "output_type": "stream",
     "text": [
      "aabbbc\n",
      "B\n"
     ]
    }
   ],
   "source": [
    "word = input()\n",
    "word = word.upper()\n",
    "a = {'A':0, 'B':0, 'C':0, 'D':0, 'E':0, 'F':0, 'G':0, \n",
    "     'H':0, 'I':0, 'J':0, 'K':0, 'L':0, 'M':0, 'N':0, \n",
    "     'O':0, 'P':0, 'Q':0, 'R':0, 'S':0, 'T':0, 'U':0, \n",
    "     'V':0, 'W':0, 'X':0, 'Y':0, 'Z':0}\n",
    "\n",
    "\n",
    "for i in word:\n",
    "    a[i] = a[i]+1\n",
    "    \n",
    "answer = [k for k,v in a.items() if max(a.values()) == v]\n",
    "if(len(answer) > 1):\n",
    "    print('?')\n",
    "else:\n",
    "    print(answer[0])"
   ]
  },
  {
   "cell_type": "code",
   "execution_count": 61,
   "id": "276d6655",
   "metadata": {},
   "outputs": [
    {
     "name": "stdout",
     "output_type": "stream",
     "text": [
      "mississipi\n",
      "?\n"
     ]
    }
   ],
   "source": [
    "word = input().upper()\n",
    "word_list = list(set(word))\n",
    "cnt = []\n",
    "\n",
    "for i in word_list:\n",
    "    count = word.count(i)\n",
    "    cnt.append(count)\n",
    "    \n",
    "if(cnt.count(max(cnt)) >= 2):\n",
    "    print('?')\n",
    "else:\n",
    "    print(word_list[(cnt.index(max(cnt)))])"
   ]
  },
  {
   "cell_type": "code",
   "execution_count": 71,
   "id": "f22c209a",
   "metadata": {},
   "outputs": [
    {
     "name": "stdout",
     "output_type": "stream",
     "text": [
      "['c', 'd']\n"
     ]
    }
   ],
   "source": [
    "a = {'a': 0, 'b': 1, 'c': 5, 'd': 5} # 직접 생성\n",
    "# di = dict(zip('abcd',[0,0,0,0])) # zip 함수를 사용해 dict 생성: zip(key list, value list)\n",
    "\n",
    "\n",
    "\n",
    "# print(max(a,key=a.get))\n",
    "tmp = [k for k,v in a.items() if max(a.values()) == v]\n",
    "print(tmp)"
   ]
  },
  {
   "cell_type": "code",
   "execution_count": 74,
   "id": "527bc088",
   "metadata": {},
   "outputs": [
    {
     "name": "stdout",
     "output_type": "stream",
     "text": [
      "[('a', '1'), ('a', '2'), ('a', '3'), ('b', '1'), ('b', '2'), ('b', '3'), ('c', '1'), ('c', '2'), ('c', '3')]\n"
     ]
    }
   ],
   "source": [
    "l = [(x, y) for x in ['a', 'b', 'c'] for y in ['1', '2', '3']]\n",
    "\n",
    "print(l)"
   ]
  },
  {
   "cell_type": "code",
   "execution_count": 79,
   "id": "c113c869",
   "metadata": {},
   "outputs": [
    {
     "name": "stdout",
     "output_type": "stream",
     "text": [
      "14\n",
      "2/4\n"
     ]
    }
   ],
   "source": [
    "x = int(input())\n",
    "line = 1\n",
    "\n",
    "while(x > line):\n",
    "    x -= line\n",
    "    line += 1\n",
    "    \n",
    "if(line%2 == 0):\n",
    "    a = x\n",
    "    b = line - x + 1\n",
    "    \n",
    "else:\n",
    "    a = line - x + 1\n",
    "    b = x\n",
    "    \n",
    "print(a, \"/\", b, sep='')"
   ]
  },
  {
   "cell_type": "code",
   "execution_count": 82,
   "id": "f86f75c7",
   "metadata": {},
   "outputs": [
    {
     "name": "stdout",
     "output_type": "stream",
     "text": [
      "abc\n",
      "a/b/c\n",
      "a#b#c\n"
     ]
    }
   ],
   "source": [
    "print(\"a\", \"b\", \"c\", sep='')\n",
    "print(\"a\", \"b\", \"c\", sep='/')\n",
    "print(\"a\", \"b\", \"c\", sep='#')"
   ]
  },
  {
   "cell_type": "code",
   "execution_count": 85,
   "id": "908da68f",
   "metadata": {},
   "outputs": [
    {
     "name": "stdout",
     "output_type": "stream",
     "text": [
      "hello!!!!! world\n"
     ]
    }
   ],
   "source": [
    "print(\"hello\", end='!!!!! ')\n",
    "print(\"world\")"
   ]
  },
  {
   "cell_type": "code",
   "execution_count": 89,
   "id": "99adc687",
   "metadata": {},
   "outputs": [
    {
     "name": "stdout",
     "output_type": "stream",
     "text": [
      "빵을 5개 주세요.\n"
     ]
    }
   ],
   "source": [
    "print(\"%s을 %d개 주세요.\"%(\"빵\", 5))"
   ]
  },
  {
   "cell_type": "code",
   "execution_count": 93,
   "id": "819d0e36",
   "metadata": {},
   "outputs": [
    {
     "name": "stdout",
     "output_type": "stream",
     "text": [
      "줄\n",
      "바\n",
      "꿈 \n",
      " \"큰 따옴표\" \n",
      " \\역슬래쉬 \n",
      " 백스페이스\b \n"
     ]
    }
   ],
   "source": [
    "print(\"줄\\n바\\n꿈 \")\n",
    "print(\" \\\"큰 따옴표\\\" \")\n",
    "print(\" \\\\역슬래쉬 \")\n",
    "print(\" 백스페이스\\b \")"
   ]
  },
  {
   "cell_type": "code",
   "execution_count": 102,
   "id": "cd3f0e67",
   "metadata": {},
   "outputs": [
    {
     "name": "stdout",
     "output_type": "stream",
     "text": [
      "3 3\n",
      "...\n",
      "...\n",
      "...\n",
      "max: 3\n"
     ]
    }
   ],
   "source": [
    "n,m = map(int, input().split())\n",
    "board = []\n",
    "\n",
    "for i in range(n):\n",
    "    board.append(input())\n",
    "\n",
    "a, b = 0,0     #a:행, b:열\n",
    "\n",
    "for i in range(n):\n",
    "    if(\"X\" not in board[i]):\n",
    "        a += 1\n",
    "\n",
    "for j in range(m):\n",
    "    if(\"X\" not in [board[i][j] for i in range(n)]):\n",
    "        b += 1\n",
    "\n",
    "print(max(a,b))"
   ]
  },
  {
   "cell_type": "code",
   "execution_count": 120,
   "id": "9072bf9e",
   "metadata": {},
   "outputs": [
    {
     "name": "stdout",
     "output_type": "stream",
     "text": [
      "121\n",
      "yes\n",
      "1\n",
      "yes\n",
      "2\n",
      "yes\n",
      "3\n",
      "yes\n",
      "0\n"
     ]
    }
   ],
   "source": [
    "while(True):\n",
    "    stack = []\n",
    "    n = input()\n",
    "    if(n == \"0\"):\n",
    "        break\n",
    "        \n",
    "    if(len(n) == 1):\n",
    "        print(\"yes\")\n",
    "    else:\n",
    "        for i in n:\n",
    "            stack.append(i)\n",
    "        \n",
    "        for j in range(len(stack)//2):\n",
    "            if(stack[j] != stack[len(stack)-j-1]):\n",
    "                print(\"no\")\n",
    "                break\n",
    "            else:\n",
    "                if(j == len(stack)//2 -1):\n",
    "                    print(\"yes\")\n",
    "                else:\n",
    "                    continue\n",
    "            "
   ]
  },
  {
   "cell_type": "code",
   "execution_count": 137,
   "id": "8ff4e8e3",
   "metadata": {},
   "outputs": [
    {
     "name": "stdout",
     "output_type": "stream",
     "text": [
      "5\n",
      "2 3 1 7 3\n",
      "4 1 9 6 8\n",
      "5 5 2 4 4\n",
      "6 5 2 6 7\n",
      "8 4 2 2 2\n",
      "students:  [[2, 3, 1, 7, 3], [4, 1, 9, 6, 8], [5, 5, 2, 4, 4], [6, 5, 2, 6, 7], [8, 4, 2, 2, 2]]\n",
      "2: [[0, 0, 0, 0, 0], [0, 0, 0, 1, 0], [0, 0, 0, 1, 1], [0, 1, 1, 0, 1], [0, 0, 1, 1, 0]]\n"
     ]
    }
   ],
   "source": [
    "n = int(input())\n",
    "students = []\n",
    "tmp = [0] * n\n",
    "\n",
    "for i in range(n):\n",
    "    students.append(list(map(int,input().split())))\n",
    "    tmp[i] = [0] * n\n",
    "    \n",
    "\n",
    "    \n",
    "for i in range(5):\n",
    "    for j in range(n):\n",
    "        for k in range(j+1,n):\n",
    "            if(students[j][i] == students[k][i]):\n",
    "                tmp[k][j] = 1\n",
    "                tmp[j][k] = 1\n",
    "\n",
    "            \n",
    "\n",
    "cnt = []\n",
    "for i in tmp:\n",
    "    cnt.append(i.count(1))\n",
    "    \n",
    "print(cnt.index(max(cnt)) + 1)\n",
    "\n",
    "\n",
    "\n"
   ]
  },
  {
   "cell_type": "code",
   "execution_count": 144,
   "id": "b4caba41",
   "metadata": {},
   "outputs": [
    {
     "name": "stdout",
     "output_type": "stream",
     "text": [
      "3\n"
     ]
    }
   ],
   "source": [
    "a = [[0, 0, 0, 0, 0], [0, 0, 0, 1, 0], [0, 0, 0, 1, 1], [0, 1, 1, 0, 1], [0, 0, 1, 1, 0]]\n",
    "\n",
    "cntt = []\n",
    "\n",
    "for i in a:\n",
    "    cntt.append(i.count(1))\n",
    "    \n",
    "    \n",
    "print(cntt.index(max(cntt)))"
   ]
  },
  {
   "cell_type": "code",
   "execution_count": 155,
   "id": "4df6ebcc",
   "metadata": {},
   "outputs": [
    {
     "name": "stdout",
     "output_type": "stream",
     "text": [
      "LOVE\n",
      "(1, 1, 1, 1)\n"
     ]
    }
   ],
   "source": [
    "L, O, V, E = 0, 0, 0, 0\n",
    "l = []\n",
    "\n",
    "def calculate(L,O,V,E):\n",
    "    score = ((L+O) * (L+V) * (L+E) * (O+V) * (O+E) * (V+E)) % 100\n",
    "    return score\n",
    "\n",
    "def calculate2(a):\n",
    "    L, O, V, E = 0, 0, 0, 0\n",
    "    if(\"L\" in a):\n",
    "        L += 1\n",
    "    if(\"O\" in a):\n",
    "        O += 1\n",
    "    if(\"V\" in a):\n",
    "        V += 1\n",
    "    if(\"E\" in a):\n",
    "        E += 1\n",
    "        \n",
    "    return L, O, V, E\n",
    "    \n",
    "\n",
    "\n",
    "\n",
    "word = input()\n",
    "print(calculate2(word))\n",
    "    \n",
    "\n",
    "# n = int(input())\n",
    "\n",
    "# for i in range(n):\n",
    "#     team = input()\n",
    "    \n",
    "    \n",
    "    \n",
    "    \n",
    "        \n",
    "\n",
    "# print(((L+O) * (L+V) * (L+E) * (O+V) * (O+E) * (V+E)) % 100)"
   ]
  },
  {
   "cell_type": "code",
   "execution_count": 7,
   "id": "0d5c87aa",
   "metadata": {},
   "outputs": [
    {
     "name": "stdout",
     "output_type": "stream",
     "text": [
      "3 8\n",
      "[0, 1, 2, 2, 3, 3, 3, 4, 4, 4, 4, 5, 5, 5, 5, 5, 6, 6, 6, 6, 6, 6, 7, 7, 7, 7, 7, 7, 7, 8, 8, 8, 8, 8, 8, 8, 8]\n",
      "19\n"
     ]
    }
   ],
   "source": [
    "a, b = map(int, input().split())\n",
    "numlist = [0]\n",
    "answer = 0\n",
    "\n",
    "for i in range(1, b+1):\n",
    "    for j in range(i):\n",
    "        numlist.append(i)\n",
    "        \n",
    "for i in range(a,b+1):\n",
    "    answer += numlist[i]\n",
    "        \n",
    "print(numlist)\n",
    "print(answer)"
   ]
  },
  {
   "cell_type": "code",
   "execution_count": 5,
   "id": "2b67f927",
   "metadata": {},
   "outputs": [
    {
     "name": "stdout",
     "output_type": "stream",
     "text": [
      "1\n",
      "NO\n"
     ]
    }
   ],
   "source": [
    "n = input()\n",
    "n_len = len(n)\n",
    "true = 0\n",
    "\n",
    "for i in range(n_len - 1):\n",
    "    left = right = 1\n",
    "    \n",
    "    for j in range(i + 1):\n",
    "        left *= int(n[j])\n",
    "    \n",
    "    for k in range(i+1, n_len):\n",
    "        right *= int(n[k])\n",
    "        \n",
    "    if(left == right):\n",
    "        print(\"YES\")\n",
    "        true = 1\n",
    "        break\n",
    "    \n",
    "if(true == 0):\n",
    "    print(\"NO\")"
   ]
  },
  {
   "cell_type": "code",
   "execution_count": 8,
   "id": "b0171375",
   "metadata": {},
   "outputs": [
    {
     "name": "stdout",
     "output_type": "stream",
     "text": [
      "14\n",
      "push 1\n",
      "push 2\n",
      "top\n"
     ]
    },
    {
     "ename": "NameError",
     "evalue": "name 'stack' is not defined",
     "output_type": "error",
     "traceback": [
      "\u001b[0;31m---------------------------------------------------------------------------\u001b[0m",
      "\u001b[0;31mNameError\u001b[0m                                 Traceback (most recent call last)",
      "Input \u001b[0;32mIn [8]\u001b[0m, in \u001b[0;36m<cell line: 7>\u001b[0;34m()\u001b[0m\n\u001b[1;32m     28\u001b[0m         \u001b[38;5;28mprint\u001b[39m(\u001b[38;5;241m0\u001b[39m)\n\u001b[1;32m     30\u001b[0m \u001b[38;5;28;01melif\u001b[39;00m order \u001b[38;5;241m==\u001b[39m \u001b[38;5;124m\"\u001b[39m\u001b[38;5;124mtop\u001b[39m\u001b[38;5;124m\"\u001b[39m:\n\u001b[0;32m---> 31\u001b[0m     \u001b[38;5;28;01mif\u001b[39;00m(\u001b[38;5;28mlen\u001b[39m(\u001b[43mstack\u001b[49m) \u001b[38;5;241m==\u001b[39m \u001b[38;5;241m0\u001b[39m):\n\u001b[1;32m     32\u001b[0m         \u001b[38;5;28mprint\u001b[39m(\u001b[38;5;241m-\u001b[39m\u001b[38;5;241m1\u001b[39m)\n\u001b[1;32m     33\u001b[0m     \u001b[38;5;28;01melse\u001b[39;00m:\n",
      "\u001b[0;31mNameError\u001b[0m: name 'stack' is not defined"
     ]
    }
   ],
   "source": [
    "import sys\n",
    "\n",
    "numstack = []\n",
    "\n",
    "length = int(input())\n",
    "\n",
    "for i in range(length):\n",
    "    stc = input().split()\n",
    "    order = stc[0]\n",
    "    \n",
    "    if order == \"push\":\n",
    "        answer = stc[1]\n",
    "        numstack.append(answer)\n",
    "        \n",
    "    elif order == \"pop\":\n",
    "        if(len(numstack) == 0):\n",
    "            print(-1)\n",
    "        else:\n",
    "            print(numstack.pop())\n",
    "        \n",
    "    elif order == \"size\":\n",
    "        print(len(numstack))\n",
    "        \n",
    "    elif order == \"empty\":\n",
    "        if(len(numstack) == 0):\n",
    "            print(1)\n",
    "        else:\n",
    "            print(0)\n",
    "        \n",
    "    elif order == \"top\":\n",
    "        if(len(numstack) == 0):\n",
    "            print(-1)\n",
    "        else:\n",
    "            print(numstack[-1])"
   ]
  },
  {
   "cell_type": "code",
   "execution_count": 9,
   "id": "548b16bb",
   "metadata": {},
   "outputs": [
    {
     "name": "stdout",
     "output_type": "stream",
     "text": [
      "321\n"
     ]
    }
   ],
   "source": [
    "a = 321\n",
    "\n",
    "b = str(a)\n",
    "for i in range(len(b)):\n",
    "    \n",
    "\n",
    "print(b)"
   ]
  },
  {
   "cell_type": "code",
   "execution_count": 35,
   "id": "5a8e18d7",
   "metadata": {},
   "outputs": [
    {
     "name": "stdout",
     "output_type": "stream",
     "text": [
      "314\n"
     ]
    }
   ],
   "source": [
    "a = int(input())\n",
    "b = str(a)\n",
    "sum = 0\n",
    "mul = 0\n",
    "\n",
    "for i in range(len(b)-1,-1,-1):\n",
    "    sum += (int(b[i]) * (2**mul))\n",
    "    mul += 1\n",
    "        \n",
    "\n",
    "print(oct(sum).split(\"o\")[1])"
   ]
  },
  {
   "cell_type": "code",
   "execution_count": 42,
   "id": "316a1c3f",
   "metadata": {},
   "outputs": [
    {
     "name": "stdout",
     "output_type": "stream",
     "text": [
      "314\n",
      "11001100\n"
     ]
    }
   ],
   "source": [
    "print(oct(int(input(),2))[2:])"
   ]
  },
  {
   "cell_type": "code",
   "execution_count": 51,
   "id": "303b95be",
   "metadata": {},
   "outputs": [
    {
     "name": "stdout",
     "output_type": "stream",
     "text": [
      "100\n",
      "77\n"
     ]
    }
   ],
   "source": [
    "n = int(input())\n",
    "\n",
    "while True:\n",
    "    flag = True\n",
    "    for i in str(n):\n",
    "        if i!='4' and i!='7':\n",
    "            flag = False\n",
    "            n -= 1\n",
    "    if flag:\n",
    "        print(n)\n",
    "        break"
   ]
  },
  {
   "cell_type": "code",
   "execution_count": 52,
   "id": "3e21942a",
   "metadata": {},
   "outputs": [
    {
     "data": {
      "text/plain": [
       "71.42857142857143"
      ]
     },
     "execution_count": 52,
     "metadata": {},
     "output_type": "execute_result"
    }
   ],
   "source": [
    "50/70*100"
   ]
  },
  {
   "cell_type": "code",
   "execution_count": 58,
   "id": "9010477e",
   "metadata": {},
   "outputs": [
    {
     "name": "stdout",
     "output_type": "stream",
     "text": [
      "1\n",
      "50\n",
      "100.0\n"
     ]
    }
   ],
   "source": [
    "n = int(input())\n",
    "score = list(map(int, input().split()))\n",
    "average = 0\n",
    "\n",
    "maxscore = max(score)\n",
    "for i in range(n):\n",
    "    score[i] = (score[i]/maxscore) * 100\n",
    "    average += score[i]\n",
    "    \n",
    "print(average/n)"
   ]
  },
  {
   "cell_type": "code",
   "execution_count": 1,
   "id": "0c5017d9",
   "metadata": {},
   "outputs": [
    {
     "name": "stdout",
     "output_type": "stream",
     "text": [
      "hi\n"
     ]
    }
   ],
   "source": [
    "print(\"hi\")"
   ]
  },
  {
   "cell_type": "code",
   "execution_count": 6,
   "id": "920934d9",
   "metadata": {},
   "outputs": [
    {
     "name": "stdout",
     "output_type": "stream",
     "text": [
      "5\n",
      "i,j =  0 0\n",
      "i,j =  1 0\n",
      "i,j =  2 0\n",
      "i,j =  3 3\n",
      "5 4\n"
     ]
    }
   ],
   "source": [
    "n = int(input())\n",
    "# a = []\n",
    "row = 0\n",
    "col = 0\n",
    "\n",
    "\n",
    "# for i in range(n):\n",
    "#     a.append(list(input()))\n",
    "\n",
    "# print(a)\n",
    "a = [['.', '.', '.', '.', 'X'], ['.', '.', 'X', 'X', '.'], ['.', '.', '.', '.', '.'], ['.', 'X', 'X', '.', '.'], ['X', '.', '.', '.', '.']]\n",
    "\n",
    "for i in range(n):\n",
    "    for j in range(n-1):\n",
    "        if a[i][j] == '.' and a[i][j+1] == '.':\n",
    "            row += 1\n",
    "            break\n",
    "            \n",
    "for i in range(n-1):\n",
    "    for j in range(n):\n",
    "        if a[i][j] == '.' and a[i+1][j] == '.':\n",
    "            print(\"i,j = \",i,j)\n",
    "            col += 1\n",
    "            break\n",
    "        \n",
    "print(row, col)"
   ]
  },
  {
   "cell_type": "code",
   "execution_count": null,
   "id": "74e0eabe",
   "metadata": {},
   "outputs": [],
   "source": [
    "....X\n",
    "..XX.\n",
    ".....\n",
    ".XX..\n",
    "X...."
   ]
  },
  {
   "cell_type": "code",
   "execution_count": 16,
   "id": "3ffff649",
   "metadata": {},
   "outputs": [
    {
     "name": "stdout",
     "output_type": "stream",
     "text": [
      "9\n",
      "2\n"
     ]
    }
   ],
   "source": [
    "n = int(input())\n",
    "\n",
    "if(n%5 == 0):\n",
    "    print(n//5)\n",
    "else:\n",
    "    count = 0\n",
    "    while(n > 0):\n",
    "        n -= 3\n",
    "        count += 1\n",
    "        \n",
    "        if(n%5 == 0):\n",
    "            count += n//5\n",
    "            print(count)\n",
    "            break\n",
    "        elif(n==1 or n==2):\n",
    "            print(-1)\n",
    "            break\n",
    "        elif(n == 0):\n",
    "            print(p)\n",
    "            break"
   ]
  },
  {
   "cell_type": "code",
   "execution_count": 25,
   "id": "151e09b0",
   "metadata": {},
   "outputs": [
    {
     "name": "stdout",
     "output_type": "stream",
     "text": [
      "5\n",
      "3 1 4 3 2\n",
      "[1, 2, 3, 3, 4]\n",
      "32\n"
     ]
    }
   ],
   "source": [
    "n = int(input())\n",
    "time = list(map(int, input().split()))\n",
    "\n",
    "time = sorted(time)\n",
    "\n",
    "sum_time = 0\n",
    "\n",
    "for i in range(n):\n",
    "    for j in range(i+1):\n",
    "        sum_time += time[j]\n",
    "#         print(\"time j : \",time[j])\n",
    "#         print(\"sumtime :\", sum_time)\n",
    "print(sum_time)\n",
    "    "
   ]
  },
  {
   "cell_type": "code",
   "execution_count": 37,
   "id": "55f86bf7",
   "metadata": {},
   "outputs": [
    {
     "name": "stdout",
     "output_type": "stream",
     "text": [
      "10 4790\n",
      "1\n",
      "5\n",
      "10\n",
      "50\n",
      "100\n",
      "500\n",
      "1000\n",
      "5000\n",
      "10000\n",
      "50000\n",
      "money:  790 i:  1000 count:  4\n",
      "money:  290 i:  500 count:  5\n",
      "money:  90 i:  100 count:  7\n",
      "money:  40 i:  50 count:  8\n",
      "money:  0 i:  10 count:  12\n",
      "12\n"
     ]
    }
   ],
   "source": [
    "n, money = map(int, input().split())\n",
    "coin = []\n",
    "for i in range(n):\n",
    "    tmp = int(input())\n",
    "    coin.append(tmp)\n",
    "\n",
    "coin = sorted(coin, reverse=True)\n",
    "# print(coin)\n",
    "\n",
    "count = 0\n",
    "\n",
    "for i in coin:\n",
    "    if(i <= money):\n",
    "        count += money//i\n",
    "        money = money%i\n",
    "#         print(\"money: \", money, \"i: \", i, \"count: \",count)\n",
    "        if(money <= 0):\n",
    "            break\n",
    "        \n",
    "        \n",
    "print(count)"
   ]
  },
  {
   "cell_type": "code",
   "execution_count": 46,
   "id": "032b933a",
   "metadata": {},
   "outputs": [
    {
     "name": "stdout",
     "output_type": "stream",
     "text": [
      "11\n",
      "1 4\n",
      "3 5\n",
      "0 6\n",
      "5 7\n",
      "3 8\n",
      "5 9\n",
      "6 10\n",
      "8 11\n",
      "8 12\n",
      "2 13\n",
      "12 14\n",
      "[[1, 4], [3, 5], [0, 6], [5, 7], [3, 8], [5, 9], [6, 10], [8, 11], [8, 12], [2, 13], [12, 14]]\n"
     ]
    }
   ],
   "source": [
    "n = int(input())\n",
    "room = []\n",
    "\n",
    "for i in range(n):\n",
    "    a, b = map(int, input().split())\n",
    "    room.append([a,b])\n",
    "    \n",
    "\n",
    "room.sort(key = lambda x: x[0])\n",
    "room.sort(key = lambda x: x[1])\n",
    "\n",
    "cnt = 1\n",
    "end = room[0][1]\n",
    "\n",
    "for i in range(1, n):\n",
    "    if(room[i][0] >= end):\n",
    "        cnt += 1\n",
    "        end = room[i][1]\n",
    "        \n",
    "print(cnt)"
   ]
  },
  {
   "cell_type": "code",
   "execution_count": 51,
   "id": "818e5b7f",
   "metadata": {},
   "outputs": [
    {
     "ename": "SyntaxError",
     "evalue": "invalid syntax (3610136354.py, line 13)",
     "output_type": "error",
     "traceback": [
      "\u001b[0;36m  Input \u001b[0;32mIn [51]\u001b[0;36m\u001b[0m\n\u001b[0;31m    print(for i in range(n): sum += a[i] * b[i])\u001b[0m\n\u001b[0m          ^\u001b[0m\n\u001b[0;31mSyntaxError\u001b[0m\u001b[0;31m:\u001b[0m invalid syntax\n"
     ]
    }
   ],
   "source": [
    "n = int(input())\n",
    "a = list(map(int, input().split()))\n",
    "b = list(map(int, input().split()))\n",
    "\n",
    "a.sort()\n",
    "b.sort(reverse=True)\n",
    "\n",
    "sum = 0\n",
    "\n",
    "for i in range(n):\n",
    "    sum += a[i] * b[i]\n",
    "    \n",
    "print(sum)\n",
    "    \n"
   ]
  },
  {
   "cell_type": "code",
   "execution_count": null,
   "id": "85e68c17",
   "metadata": {},
   "outputs": [],
   "source": [
    "n = int(input())\n",
    "\n",
    "a_list = list(map(int, input().split()))\n",
    "b_list = list(map(int, input().split()))\n",
    "\n",
    "s = 0\n",
    "for i in range(n):\n",
    "    s += min(a_list) * max(b_list)\n",
    "    a_list.pop(a_list.index(min(a_list)))\n",
    "    b_list.pop(b_list.index(max(b_list)))\n",
    "\n",
    "print(s)"
   ]
  },
  {
   "cell_type": "code",
   "execution_count": 61,
   "id": "84d75e5e",
   "metadata": {},
   "outputs": [
    {
     "name": "stdout",
     "output_type": "stream",
     "text": [
      "-40+20-30\n",
      "-40+20-30 ['', '40+20', '30']\n"
     ]
    },
    {
     "ename": "TypeError",
     "evalue": "'int' object is not callable",
     "output_type": "error",
     "traceback": [
      "\u001b[0;31m---------------------------------------------------------------------------\u001b[0m",
      "\u001b[0;31mTypeError\u001b[0m                                 Traceback (most recent call last)",
      "Input \u001b[0;32mIn [61]\u001b[0m, in \u001b[0;36m<cell line: 5>\u001b[0;34m()\u001b[0m\n\u001b[1;32m      3\u001b[0m \u001b[38;5;28mprint\u001b[39m(s, t)\n\u001b[1;32m      4\u001b[0m answer \u001b[38;5;241m=\u001b[39m \u001b[38;5;241m0\u001b[39m\n\u001b[0;32m----> 5\u001b[0m x \u001b[38;5;241m=\u001b[39m \u001b[38;5;28;43msum\u001b[39;49m\u001b[43m(\u001b[49m\u001b[38;5;28;43mmap\u001b[39;49m\u001b[43m(\u001b[49m\u001b[38;5;28;43mint\u001b[39;49m\u001b[43m,\u001b[49m\u001b[43m \u001b[49m\u001b[43m(\u001b[49m\u001b[43mt\u001b[49m\u001b[43m[\u001b[49m\u001b[38;5;241;43m0\u001b[39;49m\u001b[43m]\u001b[49m\u001b[38;5;241;43m.\u001b[39;49m\u001b[43msplit\u001b[49m\u001b[43m(\u001b[49m\u001b[38;5;124;43m\"\u001b[39;49m\u001b[38;5;124;43m+\u001b[39;49m\u001b[38;5;124;43m\"\u001b[39;49m\u001b[43m)\u001b[49m\u001b[43m)\u001b[49m\u001b[43m)\u001b[49m\u001b[43m)\u001b[49m\n\u001b[1;32m      6\u001b[0m \u001b[38;5;66;03m# if(s[0] == \"-\"):\u001b[39;00m\n\u001b[1;32m      7\u001b[0m \u001b[38;5;66;03m#     answer -= \u001b[39;00m\n\u001b[1;32m      8\u001b[0m \u001b[38;5;28mprint\u001b[39m(x)\n",
      "\u001b[0;31mTypeError\u001b[0m: 'int' object is not callable"
     ]
    }
   ],
   "source": [
    "s = input()\n",
    "t = s.split(\"-\")\n",
    "print(s, t)\n",
    "answer = 0\n",
    "x = sum(map(int, (t[0].split(\"+\"))))\n",
    "# if(s[0] == \"-\"):\n",
    "#     answer -= \n",
    "print(x)\n",
    "\n",
    "\n"
   ]
  },
  {
   "cell_type": "code",
   "execution_count": 70,
   "id": "2993e1ef",
   "metadata": {},
   "outputs": [
    {
     "name": "stdout",
     "output_type": "stream",
     "text": [
      "00009-00009\n",
      "['00009', '00009']\n",
      "0\n"
     ]
    }
   ],
   "source": [
    "n = input().split(\"-\")\n",
    "answer = 0\n",
    "\n",
    "for i in n[0].split(\"+\"):\n",
    "    answer += int(i)\n",
    "\n",
    "for i in n[1:]:\n",
    "    for j in i.split(\"+\"):\n",
    "        answer -= int(j)\n",
    "    \n",
    "print(answer)\n",
    "    \n",
    "\n"
   ]
  },
  {
   "cell_type": "code",
   "execution_count": 75,
   "id": "93f04f80",
   "metadata": {},
   "outputs": [
    {
     "name": "stdout",
     "output_type": "stream",
     "text": [
      "1\n",
      "500\n",
      "100\n",
      "50\n",
      "10\n",
      "5\n",
      "1\n",
      "15\n"
     ]
    }
   ],
   "source": [
    "n = 1000 - int(input())\n",
    "money = [500, 100, 50, 10, 5, 1]\n",
    "cnt = 0\n",
    "\n",
    "for i in money:\n",
    "    cnt += n//i\n",
    "    n %= i\n",
    "    \n",
    "print(cnt)\n",
    "    \n"
   ]
  },
  {
   "cell_type": "code",
   "execution_count": null,
   "id": "810e77ef",
   "metadata": {},
   "outputs": [],
   "source": [
    "n = int(input())\n",
    "rope = []\n",
    "\n",
    "\n",
    "for i in range(n):\n",
    "    rope.append(int(input()))\n",
    "    \n",
    "rope.sort(reverse=True)\n",
    "max_weight = rope[0]\n",
    "\n",
    "for i in range(n):\n",
    "    if(max_weight < rope[i]*(i+1)):\n",
    "        max_weight = rope[i]*(i+1)\n",
    "        \n",
    "print(max_weight)"
   ]
  },
  {
   "cell_type": "code",
   "execution_count": 13,
   "id": "de1d1594",
   "metadata": {},
   "outputs": [
    {
     "name": "stdout",
     "output_type": "stream",
     "text": [
      "100\n",
      "0 1 4 "
     ]
    }
   ],
   "source": [
    "n = int(input())\n",
    "\n",
    "\n",
    "if(n%10 != 0):\n",
    "    print(-1)\n",
    "else:\n",
    "    for i in [300, 60, 10]:\n",
    "        print(n//i, end=\" \")\n",
    "        n %= i\n",
    "    \n"
   ]
  },
  {
   "cell_type": "code",
   "execution_count": 17,
   "id": "a87fabad",
   "metadata": {},
   "outputs": [
    {
     "name": "stdout",
     "output_type": "stream",
     "text": [
      "400\n",
      "27\n"
     ]
    }
   ],
   "source": [
    "n = int(input())\n",
    "s = 1\n",
    "\n",
    "while( (s*(s+1))/2 <= n ):\n",
    "    s += 1\n",
    "    \n",
    "print(s-1)\n"
   ]
  },
  {
   "cell_type": "code",
   "execution_count": 15,
   "id": "d524a140",
   "metadata": {},
   "outputs": [
    {
     "name": "stdout",
     "output_type": "stream",
     "text": [
      "K1KA5CB7\n",
      "ABCKK13\n"
     ]
    }
   ],
   "source": [
    "word = input()\n",
    "alphabet = []\n",
    "numbers = ['0', '1', '2', '3', '4', '5', '6', '7', '8', '9']\n",
    "num = 0\n",
    "\n",
    "for i in word:\n",
    "    if(i.isalpha()):\n",
    "        alphabet.append(i)\n",
    "    else:\n",
    "        num += int(i)\n",
    "        \n",
    "alphabet.sort()\n",
    "alphabet.append(str(num))\n",
    "\n",
    "print(''.join(alphabet))"
   ]
  },
  {
   "cell_type": "code",
   "execution_count": null,
   "id": "c9afe78a",
   "metadata": {},
   "outputs": [],
   "source": [
    "1965801310"
   ]
  },
  {
   "cell_type": "code",
   "execution_count": 3,
   "id": "65770521",
   "metadata": {},
   "outputs": [
    {
     "name": "stdout",
     "output_type": "stream",
     "text": [
      "3 5\n",
      "1 2 3 4\n",
      "[4, 3, 2, 1]\n"
     ]
    }
   ],
   "source": [
    "n, m = map(int, input().split())\n",
    "tree = list(map(int, input().split()))\n",
    "start, end = 1, max(tree)\n",
    "\n",
    "while start <= end:\n",
    "    mid = (start + end) // 2\n",
    "    \n",
    "    cnt = 0\n",
    "    for i in tree:\n",
    "        if(i >= mid):\n",
    "            cnt += i - mid\n",
    "            \n",
    "    if(cnt >= m):\n",
    "        start = mid + 1\n",
    "    else:\n",
    "        end = mid - 1\n",
    "        \n",
    "print(end)"
   ]
  },
  {
   "cell_type": "code",
   "execution_count": null,
   "id": "394be6e6",
   "metadata": {},
   "outputs": [],
   "source": [
    "4 7\n",
    "20 17 15 10"
   ]
  },
  {
   "cell_type": "code",
   "execution_count": null,
   "id": "3ae2142a",
   "metadata": {},
   "outputs": [],
   "source": [
    "# import sys\n",
    "import heapq as hq\n",
    "\n",
    "n = int(input())\n",
    "heap = []\n",
    "\n",
    "for i in range(n):\n",
    "    x = int(input())\n",
    "    \n",
    "    if x:\n",
    "        hq.heappush(heap, x)\n",
    "        print(heap)\n",
    "    else:\n",
    "        if(len(heap) >= 1):\n",
    "            print(hq.heappop(heap)[1])\n",
    "        else:\n",
    "            print(0)"
   ]
  },
  {
   "cell_type": "code",
   "execution_count": 13,
   "id": "784a086c",
   "metadata": {},
   "outputs": [
    {
     "name": "stdout",
     "output_type": "stream",
     "text": [
      "6\n",
      "1000 999 1000 999 1000 999\n",
      "{999: 0, 1000: 1}\n",
      "1 0 1 0 1 0 "
     ]
    }
   ],
   "source": [
    "n = int(input())\n",
    "num = list(map(int, input().split()))\n",
    "\n",
    "arr2 = list(sorted(set(num)))\n",
    "dic = {arr2[i]:i for i in range(len(arr2))}\n",
    "\n",
    "print(dic)\n",
    "\n",
    "for i in num:\n",
    "    print(dic[i], end=' ')"
   ]
  },
  {
   "cell_type": "code",
   "execution_count": 24,
   "id": "96270d61",
   "metadata": {},
   "outputs": [
    {
     "name": "stdout",
     "output_type": "stream",
     "text": [
      "3 5\n",
      "000P0\n",
      "0I00X\n",
      "000XP\n",
      "1\n"
     ]
    }
   ],
   "source": [
    "from collections import deque\n",
    "\n",
    "n, m = map(int, input().split())\n",
    "campus = []\n",
    "start = ()\n",
    "\n",
    "for i in range(n):\n",
    "    row = list(input())\n",
    "    for j in range(m):\n",
    "        if(row[j] == 'I'):\n",
    "            start = (i, j)\n",
    "    campus.append(row)\n",
    "\n",
    "    \n",
    "direction = [(1,0), (0,1), (-1,0), (0, -1)]\n",
    "visited = [[False]*m for _ in range(n)]\n",
    "num_people = 0 #만날 수 있는 사람의 수\n",
    "\n",
    "queue = deque([start])\n",
    "\n",
    "visited[start[0]][start[1]] = True\n",
    "\n",
    "while(queue):\n",
    "    x, y = queue.popleft()\n",
    "\n",
    "    \n",
    "    for dx, dy in direction:\n",
    "        nx, ny = x+dx, y+dy\n",
    "        \n",
    "        if(0 <= nx < n) and (0 <= ny < m):\n",
    "            if(campus[nx][ny] != 'X') and not (visited[nx][ny]):\n",
    "                queue.append((nx, ny))\n",
    "                visited[nx][ny] = True\n",
    "                \n",
    "                if(campus[nx][ny] == 'P'):\n",
    "                    num_people += 1\n",
    "                    \n",
    "                    \n",
    "print(num_people if num_people > 0 else 'TT')"
   ]
  },
  {
   "cell_type": "code",
   "execution_count": null,
   "id": "ea30dcc4",
   "metadata": {},
   "outputs": [],
   "source": [
    "OOOPO\n",
    "OIOOX\n",
    "OOOXP"
   ]
  },
  {
   "cell_type": "code",
   "execution_count": 27,
   "id": "92ed0328",
   "metadata": {},
   "outputs": [
    {
     "name": "stdout",
     "output_type": "stream",
     "text": [
      "3 3\n",
      "I0X\n",
      "0XP\n",
      "XPP\n",
      "(0, 0)\n",
      "[[True, False, False], [False, False, False], [False, False, False]]\n"
     ]
    }
   ],
   "source": [
    "from collections import deque\n",
    "\n",
    "n, m = map(int, input().split())\n",
    "campus = []\n",
    "start = ()\n",
    "\n",
    "for i in range(n):\n",
    "    row = list(input())\n",
    "    \n",
    "    for j in range(m):\n",
    "        if(row[j] == 'I'):\n",
    "            start = (i, j)\n",
    "            \n",
    "    campus.append(row)\n",
    "    \n",
    "    \n",
    "direction = [(1,0), (0,1), (-1,0), (0,-1)]\n",
    "visited = [[False]*m for _ in range(n)]\n",
    "num = 0\n",
    "\n",
    "queue = deque([start])\n",
    "visited[start[0]][start[1]] = True\n",
    "\n",
    "while(queue):\n",
    "    print(queue)\n",
    "    x, y = queue.popleft()\n",
    "    \n",
    "    for dx, dy in direction:\n",
    "        nx, ny = x+dx, y+dy\n",
    "        \n",
    "        if(0 <= nx < n) and (0 <= ny < m):\n",
    "            if(campus[nx][ny] != 'X') and not (visited[nx][ny]):\n",
    "                queue.append((nx, ny))\n",
    "                visited[nx][ny] = True\n",
    "                \n",
    "                if(campus[nx][ny] == 'P'):\n",
    "                    num += 1\n",
    "                    \n",
    "print(num if num > 0 else 'TT')"
   ]
  },
  {
   "cell_type": "code",
   "execution_count": 29,
   "id": "20898ab6",
   "metadata": {},
   "outputs": [
    {
     "name": "stdout",
     "output_type": "stream",
     "text": [
      "3 7 7\n",
      "63\n"
     ]
    }
   ],
   "source": [
    "n, r, c = map(int, input().split())\n",
    "\n",
    "answer = 0\n",
    "\n",
    "while(n != 0):\n",
    "    n -= 1\n",
    "    \n",
    "    if(r < 2**n and c < 2**n):\n",
    "        answer += (2**n) * (2**n) * 0\n",
    "        \n",
    "    elif(r < 2**n and c >= 2**n):\n",
    "        answer += (2**n) * (2**n) * 1\n",
    "        c -= (2**n)\n",
    "    \n",
    "    elif(r >= 2**n and c < 2**n):\n",
    "        answer += (2**n) * (2**n) * 2\n",
    "        r -= (2**n)\n",
    "        \n",
    "    else:\n",
    "        answer += (2**n) * (2**n) * 3\n",
    "        r -= (2**n)\n",
    "        c -= (2**n)\n",
    "        \n",
    "print(answer)"
   ]
  },
  {
   "cell_type": "code",
   "execution_count": 30,
   "id": "d49ca73e",
   "metadata": {},
   "outputs": [
    {
     "name": "stdout",
     "output_type": "stream",
     "text": [
      "3 7 7\n",
      "63\n"
     ]
    }
   ],
   "source": [
    "n,r,c=map(int,input().split())\n",
    "print(int(f'{c:b}',4)+2*int(f'{r:b}',4))"
   ]
  },
  {
   "cell_type": "code",
   "execution_count": 39,
   "id": "d7f69b0b",
   "metadata": {},
   "outputs": [
    {
     "name": "stdout",
     "output_type": "stream",
     "text": [
      "5 17\n",
      "hi\n",
      "hello\n",
      "hi\n",
      "hello\n",
      "20 17\n",
      "5\n"
     ]
    }
   ],
   "source": [
    "n, k = map(int, input().split())\n",
    "n2 = n\n",
    "cnt = 0\n",
    "\n",
    "while((k-n) >= n2):\n",
    "    n *= 2\n",
    "    print(\"hi\")\n",
    "    cnt += 1\n",
    "    print(\"hello\")\n",
    "    \n",
    "cnt += abs(k-n)\n",
    "print(n, k)\n",
    "print(cnt)"
   ]
  },
  {
   "cell_type": "code",
   "execution_count": 40,
   "id": "f59e873c",
   "metadata": {},
   "outputs": [
    {
     "name": "stdout",
     "output_type": "stream",
     "text": [
      "5 17\n",
      "4\n"
     ]
    }
   ],
   "source": [
    "from collections import deque\n",
    "\n",
    "def bfs():\n",
    "    q = deque()\n",
    "    q.append(n)\n",
    "    \n",
    "    while(q):\n",
    "        x = q.popleft()\n",
    "        if(x == k):\n",
    "            print(dist[x])\n",
    "            break\n",
    "            \n",
    "        for nx in (x-1, x+1, x*2):\n",
    "            if(0 <= nx <= MAX and not dist[nx]):\n",
    "                dist[nx] = dist[x] + 1\n",
    "                q.append(nx)\n",
    "                \n",
    "                \n",
    "MAX = 100000\n",
    "dist = [0] * (MAX + 1)\n",
    "n, k = map(int, input().split())\n",
    "\n",
    "bfs()"
   ]
  },
  {
   "cell_type": "code",
   "execution_count": 52,
   "id": "70a07647",
   "metadata": {},
   "outputs": [
    {
     "name": "stdout",
     "output_type": "stream",
     "text": [
      "2 25\n",
      "1011101110111011101110111\n",
      "1110111011101110111011101\n",
      "38\n"
     ]
    }
   ],
   "source": [
    "from collections import deque\n",
    "\n",
    "N, M = map(int, input().split())\n",
    "graph = []\n",
    "\n",
    "for i in range(N):\n",
    "    graph.append(list(map(int, input())))\n",
    "    \n",
    "\n",
    "def bfs(x, y):\n",
    "    dx = [-1, 1, 0, 0]\n",
    "    dy = [0, 0, 1, -1]\n",
    "    \n",
    "    queue = deque()\n",
    "    queue.append((x, y))\n",
    "    \n",
    "    while queue:\n",
    "        x, y = queue.popleft()\n",
    "        \n",
    "        for i in range(4):\n",
    "            nx = x + dx[i]\n",
    "            ny = y + dy[i]\n",
    "            \n",
    "            if(nx < 0 or nx >= N or ny < 0 or ny >= M):\n",
    "                continue\n",
    "            \n",
    "            if(graph[nx][ny] == 0):\n",
    "                continue\n",
    "                \n",
    "            if(graph[nx][ny] == 1):\n",
    "                graph[nx][ny] = graph[x][y] + 1\n",
    "                queue.append((nx, ny))\n",
    "                \n",
    "    return graph[N-1][M-1]\n",
    "    \n",
    "print(bfs(0, 0))"
   ]
  },
  {
   "cell_type": "code",
   "execution_count": 55,
   "id": "1f1fdb58",
   "metadata": {},
   "outputs": [
    {
     "name": "stdout",
     "output_type": "stream",
     "text": [
      "7\n",
      "0110100\n",
      "0110101\n",
      "1110101\n",
      "0000111\n",
      "0100000\n",
      "0111110\n",
      "0111000\n",
      "3\n",
      "<generator object <genexpr> at 0x119d2b0b0>\n"
     ]
    }
   ],
   "source": [
    "from collections import deque\n",
    "graph = []\n",
    "\n",
    "dx = [0, 0, 1, -1]\n",
    "dy = [1, -1, 0, 0]\n",
    "\n",
    "def bfs(graph, a, b):\n",
    "    n = len(graph)\n",
    "    queue = deque()\n",
    "    queue.append((a, b))\n",
    "    graph[a][b] = 0\n",
    "    count = 1\n",
    "    \n",
    "    while queue:\n",
    "        x, y = queue.popleft()\n",
    "        \n",
    "        for i in range(4):\n",
    "            nx = x + dx[i]\n",
    "            ny = y + dy[i]\n",
    "            if(nx < 0 or nx >= n or ny < 0 or ny >= n):\n",
    "                continue\n",
    "                \n",
    "            if(graph[nx][ny] == 1):\n",
    "                graph[nx][ny] = 0\n",
    "                queue.append((nx, ny))\n",
    "                count += 1\n",
    "                \n",
    "    return count\n",
    "\n",
    "        \n",
    "        \n",
    "n = int(input())\n",
    "\n",
    "for _ in range(n):\n",
    "    graph.append(list(map(int, input())))\n",
    "    \n",
    "cnt = []\n",
    "for i in range(n):\n",
    "    for j in range(n):\n",
    "        if graph[i][j] == 1:\n",
    "            cnt.append(bfs(graph, i, j))\n",
    "            \n",
    "cnt.sort()\n",
    "print(len(cnt))\n",
    "for i in cnt:\n",
    "    print(i)\n",
    "    \n"
   ]
  },
  {
   "cell_type": "code",
   "execution_count": 58,
   "id": "b30e99f0",
   "metadata": {},
   "outputs": [
    {
     "name": "stdout",
     "output_type": "stream",
     "text": [
      "2\n",
      "13\n",
      "OOIOIOIOIIOII\n",
      "2\n"
     ]
    }
   ],
   "source": [
    "n = int(input())\n",
    "m = int(input())\n",
    "s = input()\n",
    "left, right = 0, 0\n",
    "ans = 0\n",
    "\n",
    "\n",
    "while(right < m):\n",
    "    if(s[right:right+3] == 'IOI'):\n",
    "        right += 2\n",
    "        if(right - left == 2*n):\n",
    "            ans += 1\n",
    "            left += 2\n",
    "    else:\n",
    "        left = right = right + 1\n",
    "        \n",
    "print(ans)"
   ]
  },
  {
   "cell_type": "code",
   "execution_count": 59,
   "id": "b3e88c98",
   "metadata": {},
   "outputs": [
    {
     "name": "stdout",
     "output_type": "stream",
     "text": [
      "3\n",
      "10 12 3 9\n",
      "33\n",
      "10 12 7 2\n",
      "-1\n",
      "13 11 5 6\n",
      "83\n"
     ]
    }
   ],
   "source": [
    "t = int(input())\n",
    "\n",
    "for i in range(t):\n",
    "    m, n, x, y = map(int, input().split())\n",
    "    flag = 1\n",
    "    \n",
    "    while(x <= m*n):\n",
    "        if((x-y)%n == 0):\n",
    "            print(x)\n",
    "            flag = 0\n",
    "            break\n",
    "        x += m\n",
    "        \n",
    "    if flag:\n",
    "        print(-1)\n",
    "\n",
    "    "
   ]
  },
  {
   "cell_type": "code",
   "execution_count": 61,
   "id": "e2e742dc",
   "metadata": {
    "scrolled": true
   },
   "outputs": [
    {
     "name": "stdout",
     "output_type": "stream",
     "text": [
      "18\n",
      "1\n",
      "[(1, 1)]\n",
      "-1\n",
      "[(1, -1), (1, 1)]\n",
      "0\n",
      "-1\n",
      "[(1, 1)]\n",
      "0\n",
      "1\n",
      "[]\n",
      "0\n",
      "0\n",
      "1\n",
      "[(1, 1)]\n",
      "1\n",
      "[(1, 1), (1, 1)]\n",
      "-1\n",
      "[(1, -1), (1, 1), (1, 1)]\n",
      "-1\n",
      "[(1, -1), (1, -1), (1, 1), (1, 1)]\n",
      "2\n",
      "[(1, -1), (1, -1), (1, 1), (1, 1), (2, 2)]\n",
      "-2\n",
      "[(1, -1), (1, -1), (1, 1), (1, 1), (2, 2), (2, -2)]\n",
      "0\n",
      "-1\n",
      "[(1, -1), (1, 1), (1, 1), (2, -2), (2, 2)]\n",
      "0\n",
      "-1\n",
      "[(1, 1), (1, 1), (2, 2), (2, -2)]\n",
      "0\n",
      "1\n",
      "[(1, 1), (2, -2), (2, 2)]\n",
      "0\n",
      "1\n",
      "[(2, -2), (2, 2)]\n",
      "0\n",
      "-2\n",
      "[(2, 2)]\n"
     ]
    },
    {
     "ename": "KeyboardInterrupt",
     "evalue": "Interrupted by user",
     "output_type": "error",
     "traceback": [
      "\u001b[0;31m---------------------------------------------------------------------------\u001b[0m",
      "\u001b[0;31mKeyboardInterrupt\u001b[0m                         Traceback (most recent call last)",
      "Input \u001b[0;32mIn [61]\u001b[0m, in \u001b[0;36m<cell line: 6>\u001b[0;34m()\u001b[0m\n\u001b[1;32m      4\u001b[0m heap \u001b[38;5;241m=\u001b[39m []\n\u001b[1;32m      6\u001b[0m \u001b[38;5;28;01mfor\u001b[39;00m _ \u001b[38;5;129;01min\u001b[39;00m \u001b[38;5;28mrange\u001b[39m(t):\n\u001b[0;32m----> 7\u001b[0m     num \u001b[38;5;241m=\u001b[39m \u001b[38;5;28mint\u001b[39m(\u001b[38;5;28;43minput\u001b[39;49m\u001b[43m(\u001b[49m\u001b[43m)\u001b[49m)\n\u001b[1;32m      8\u001b[0m     \u001b[38;5;28;01mif\u001b[39;00m(num \u001b[38;5;241m!=\u001b[39m \u001b[38;5;241m0\u001b[39m):\n\u001b[1;32m      9\u001b[0m         heapq\u001b[38;5;241m.\u001b[39mheappush(heap, (\u001b[38;5;28mabs\u001b[39m(num), num))\n",
      "File \u001b[0;32m~/anaconda3/lib/python3.9/site-packages/ipykernel/kernelbase.py:1177\u001b[0m, in \u001b[0;36mKernel.raw_input\u001b[0;34m(self, prompt)\u001b[0m\n\u001b[1;32m   1173\u001b[0m \u001b[38;5;28;01mif\u001b[39;00m \u001b[38;5;129;01mnot\u001b[39;00m \u001b[38;5;28mself\u001b[39m\u001b[38;5;241m.\u001b[39m_allow_stdin:\n\u001b[1;32m   1174\u001b[0m     \u001b[38;5;28;01mraise\u001b[39;00m StdinNotImplementedError(\n\u001b[1;32m   1175\u001b[0m         \u001b[38;5;124m\"\u001b[39m\u001b[38;5;124mraw_input was called, but this frontend does not support input requests.\u001b[39m\u001b[38;5;124m\"\u001b[39m\n\u001b[1;32m   1176\u001b[0m     )\n\u001b[0;32m-> 1177\u001b[0m \u001b[38;5;28;01mreturn\u001b[39;00m \u001b[38;5;28;43mself\u001b[39;49m\u001b[38;5;241;43m.\u001b[39;49m\u001b[43m_input_request\u001b[49m\u001b[43m(\u001b[49m\n\u001b[1;32m   1178\u001b[0m \u001b[43m    \u001b[49m\u001b[38;5;28;43mstr\u001b[39;49m\u001b[43m(\u001b[49m\u001b[43mprompt\u001b[49m\u001b[43m)\u001b[49m\u001b[43m,\u001b[49m\n\u001b[1;32m   1179\u001b[0m \u001b[43m    \u001b[49m\u001b[38;5;28;43mself\u001b[39;49m\u001b[38;5;241;43m.\u001b[39;49m\u001b[43m_parent_ident\u001b[49m\u001b[43m[\u001b[49m\u001b[38;5;124;43m\"\u001b[39;49m\u001b[38;5;124;43mshell\u001b[39;49m\u001b[38;5;124;43m\"\u001b[39;49m\u001b[43m]\u001b[49m\u001b[43m,\u001b[49m\n\u001b[1;32m   1180\u001b[0m \u001b[43m    \u001b[49m\u001b[38;5;28;43mself\u001b[39;49m\u001b[38;5;241;43m.\u001b[39;49m\u001b[43mget_parent\u001b[49m\u001b[43m(\u001b[49m\u001b[38;5;124;43m\"\u001b[39;49m\u001b[38;5;124;43mshell\u001b[39;49m\u001b[38;5;124;43m\"\u001b[39;49m\u001b[43m)\u001b[49m\u001b[43m,\u001b[49m\n\u001b[1;32m   1181\u001b[0m \u001b[43m    \u001b[49m\u001b[43mpassword\u001b[49m\u001b[38;5;241;43m=\u001b[39;49m\u001b[38;5;28;43;01mFalse\u001b[39;49;00m\u001b[43m,\u001b[49m\n\u001b[1;32m   1182\u001b[0m \u001b[43m\u001b[49m\u001b[43m)\u001b[49m\n",
      "File \u001b[0;32m~/anaconda3/lib/python3.9/site-packages/ipykernel/kernelbase.py:1219\u001b[0m, in \u001b[0;36mKernel._input_request\u001b[0;34m(self, prompt, ident, parent, password)\u001b[0m\n\u001b[1;32m   1216\u001b[0m             \u001b[38;5;28;01mbreak\u001b[39;00m\n\u001b[1;32m   1217\u001b[0m \u001b[38;5;28;01mexcept\u001b[39;00m \u001b[38;5;167;01mKeyboardInterrupt\u001b[39;00m:\n\u001b[1;32m   1218\u001b[0m     \u001b[38;5;66;03m# re-raise KeyboardInterrupt, to truncate traceback\u001b[39;00m\n\u001b[0;32m-> 1219\u001b[0m     \u001b[38;5;28;01mraise\u001b[39;00m \u001b[38;5;167;01mKeyboardInterrupt\u001b[39;00m(\u001b[38;5;124m\"\u001b[39m\u001b[38;5;124mInterrupted by user\u001b[39m\u001b[38;5;124m\"\u001b[39m) \u001b[38;5;28;01mfrom\u001b[39;00m \u001b[38;5;28mNone\u001b[39m\n\u001b[1;32m   1220\u001b[0m \u001b[38;5;28;01mexcept\u001b[39;00m \u001b[38;5;167;01mException\u001b[39;00m:\n\u001b[1;32m   1221\u001b[0m     \u001b[38;5;28mself\u001b[39m\u001b[38;5;241m.\u001b[39mlog\u001b[38;5;241m.\u001b[39mwarning(\u001b[38;5;124m\"\u001b[39m\u001b[38;5;124mInvalid Message:\u001b[39m\u001b[38;5;124m\"\u001b[39m, exc_info\u001b[38;5;241m=\u001b[39m\u001b[38;5;28;01mTrue\u001b[39;00m)\n",
      "\u001b[0;31mKeyboardInterrupt\u001b[0m: Interrupted by user"
     ]
    }
   ],
   "source": [
    "import heapq\n",
    "import sys\n",
    "\n",
    "t = int(input())\n",
    "heap = []\n",
    "\n",
    "for _ in range(t):\n",
    "    num = int(sys.stdin.readline())\n",
    "    if(num != 0):\n",
    "        heapq.heappush(heap, (abs(num), num))\n",
    "    else:\n",
    "        try:\n",
    "            print(heapq.heappop(heap)[1])\n",
    "        except:\n",
    "            print(0)"
   ]
  },
  {
   "cell_type": "code",
   "execution_count": 62,
   "id": "b6902de8",
   "metadata": {},
   "outputs": [
    {
     "name": "stdout",
     "output_type": "stream",
     "text": [
      "15 15\n",
      "2 1 1 1 1 1 1 1 1 1 1 1 1 1 1\n",
      "1 1 1 1 1 1 1 1 1 1 1 1 1 1 1\n",
      "1 1 1 1 1 1 1 1 1 1 1 1 1 1 1\n",
      "1 1 1 1 1 1 1 1 1 1 1 1 1 1 1\n",
      "1 1 1 1 1 1 1 1 1 1 1 1 1 1 1\n",
      "1 1 1 1 1 1 1 1 1 1 1 1 1 1 1\n",
      "1 1 1 1 1 1 1 1 1 1 1 1 1 1 1\n",
      "1 1 1 1 1 1 1 1 1 1 1 1 1 1 1\n",
      "1 1 1 1 1 1 1 1 1 1 1 1 1 1 1\n",
      "1 1 1 1 1 1 1 1 1 1 1 1 1 1 1\n",
      "1 1 1 1 1 1 1 1 1 1 1 1 1 1 1\n",
      "1 1 1 1 1 1 1 1 1 1 0 0 0 0 1\n",
      "1 1 1 1 1 1 1 1 1 1 0 1 1 1 1\n",
      "1 1 1 1 1 1 1 1 1 1 0 1 0 0 0\n",
      "1 1 1 1 1 1 1 1 1 1 0 1 1 1 1\n",
      "0 -1 -1 1 -1 -1 -1 -1 -1 -1 -1 -1 -1 -1 -1 \n",
      "-1 -1 -1 1 -1 -1 -1 -1 -1 -1 -1 -1 -1 -1 -1 \n",
      "-1 -1 -1 2 -1 -1 -1 -1 -1 -1 -1 -1 -1 -1 -1 \n",
      "-1 -1 -1 3 -1 -1 -1 -1 -1 -1 -1 -1 -1 -1 -1 \n",
      "-1 -1 -1 4 -1 -1 -1 -1 -1 -1 -1 -1 -1 -1 -1 \n",
      "-1 -1 -1 5 -1 -1 -1 -1 -1 -1 -1 -1 -1 -1 -1 \n",
      "-1 -1 -1 6 -1 -1 -1 -1 -1 -1 -1 -1 -1 -1 -1 \n",
      "-1 -1 -1 7 -1 -1 -1 -1 -1 -1 -1 -1 -1 -1 -1 \n",
      "-1 -1 -1 8 -1 -1 -1 -1 -1 -1 -1 -1 -1 -1 -1 \n",
      "-1 -1 -1 9 -1 -1 -1 -1 -1 -1 -1 -1 -1 -1 -1 \n",
      "-1 -1 -1 10 -1 -1 -1 -1 -1 -1 -1 -1 -1 -1 -1 \n",
      "-1 -1 -1 11 -1 -1 -1 -1 -1 -1 0 0 0 0 -1 \n",
      "-1 -1 -1 12 -1 -1 -1 -1 -1 -1 0 -1 -1 -1 -1 \n",
      "-1 -1 -1 13 -1 -1 -1 -1 -1 -1 0 -1 0 0 0 \n",
      "-1 -1 -1 14 -1 -1 -1 -1 -1 -1 0 -1 -1 -1 -1 \n"
     ]
    }
   ],
   "source": [
    "from collections import deque\n",
    "\n",
    "n, m = map(int, input().split())\n",
    "board = []\n",
    "queue = deque([])\n",
    "visit = [[False]*m for _ in range(n)]\n",
    "res = [[-1]*m for _ in range(n)]\n",
    "\n",
    "\n",
    "for i in range(n):\n",
    "    row = list(map(int, input().split()))\n",
    "    \n",
    "    for j in range(m):\n",
    "        if(row[j] == 2):\n",
    "            queue.append((i, j))\n",
    "            visit[i][j] = True\n",
    "            res[i][j] = 0\n",
    "            \n",
    "        if(row[j] == 0):\n",
    "            res[i][j] = 0\n",
    "    board.append(row)\n",
    "    \n",
    "\n",
    "direction = [(1,0), (-1,0), (0,1), (0,-1)]\n",
    "while queue:\n",
    "    x, y = queue.popleft()\n",
    "    \n",
    "    for dx, dy in direction:\n",
    "        nx, ny = x+dx, y+dy\n",
    "        \n",
    "        if(0<=nx<n and 0<=ny<m and not visit[nx][ny] and board[nx][ny] == 1):\n",
    "            queue.append((nx, ny))\n",
    "            visit[nx][ny] = True\n",
    "            res[nx][ny] = res[x][y] + 1\n",
    "            \n",
    "            \n",
    "for i in res:\n",
    "    for j in i:\n",
    "        print(j, end =\" \")\n",
    "    print()"
   ]
  },
  {
   "cell_type": "code",
   "execution_count": 69,
   "id": "28ff6f2d",
   "metadata": {},
   "outputs": [
    {
     "name": "stdout",
     "output_type": "stream",
     "text": [
      "3\n",
      "3\n",
      "ENTJ INTP ESFJ\n",
      "8\n",
      "4\n",
      "ESFP ESFP ESFP ESFP\n",
      "0\n",
      "5\n",
      "INFP INFP ESTP ESTJ ISTJ\n",
      "4\n"
     ]
    }
   ],
   "source": [
    "from itertools import combinations\n",
    "\n",
    "\n",
    "def cal(a, b):\n",
    "    dist = 0\n",
    "    for i, j in zip(a, b):\n",
    "        if(i != j):\n",
    "            dist += 1\n",
    "    return dist\n",
    "\n",
    "t = int(input())\n",
    "\n",
    "for _ in range(t):\n",
    "    n = int(input())\n",
    "    mbti = input().split()\n",
    "    \n",
    "    if(n > 32):\n",
    "        print(0)\n",
    "        \n",
    "    else:\n",
    "        res = 13\n",
    "        case = combinations(mbti, 3)\n",
    "        for a, b, c in case:\n",
    "            dist = 0\n",
    "            dist += cal(a, b)\n",
    "            dist += cal(b, c)\n",
    "            dist += cal(a, c)\n",
    "            \n",
    "            res = min(res, dist)\n",
    "        print(res)"
   ]
  },
  {
   "cell_type": "code",
   "execution_count": 73,
   "id": "6c38881b",
   "metadata": {},
   "outputs": [
    {
     "name": "stdout",
     "output_type": "stream",
     "text": [
      "500000\n",
      "8\n",
      "0 2 3 4 6 7 8 9\n",
      "11117\n"
     ]
    }
   ],
   "source": [
    "target = int(input())\n",
    "ans = abs(100 - target)\n",
    "m = int(input())\n",
    "\n",
    "if m:\n",
    "    broken = set(input().split())\n",
    "else:\n",
    "    broken = set()\n",
    "    \n",
    "for num in range(1000001):\n",
    "    for n in str(num):\n",
    "        if n in broken:\n",
    "            break\n",
    "    else:\n",
    "        ans = min(ans, len(str(num)) + abs(num - target))\n",
    "print(ans)"
   ]
  },
  {
   "cell_type": "code",
   "execution_count": 98,
   "id": "c69865ec",
   "metadata": {},
   "outputs": [
    {
     "name": "stdout",
     "output_type": "stream",
     "text": [
      "1\n",
      "D\n",
      "0\n",
      "[]\n",
      "error\n",
      "error\n"
     ]
    }
   ],
   "source": [
    "from collections import deque\n",
    "t = int(input())\n",
    "\n",
    "for _ in range(t):\n",
    "    command = input()\n",
    "    nums = []\n",
    "    n = int(input())\n",
    "    \n",
    "    tmp = input()\n",
    "    for i in tmp:\n",
    "        if(i.isdecimal()):\n",
    "            nums.append(int(i))\n",
    "    \n",
    "#     print(nums)\n",
    "    \n",
    "    for i in command:\n",
    "        if(i == \"R\"):\n",
    "            nums.reverse()\n",
    "#             print(nums)\n",
    "        elif(i == \"D\"):\n",
    "            if nums:\n",
    "                nums.pop(0)\n",
    "#                 print(nums)\n",
    "            else:\n",
    "                print('error')\n",
    "            \n",
    "    if nums:\n",
    "        print(nums)\n",
    "    else:\n",
    "        print('error')"
   ]
  },
  {
   "cell_type": "code",
   "execution_count": 103,
   "id": "d5928c82",
   "metadata": {},
   "outputs": [
    {
     "name": "stdout",
     "output_type": "stream",
     "text": [
      "1\n",
      "RRD\n",
      "6\n",
      "[1,1,2,3,5,8]\n",
      "[1,2,3,5,8]\n"
     ]
    }
   ],
   "source": [
    "from collections import deque\n",
    "\n",
    "t = int(input())\n",
    "\n",
    "for _ in range(t):\n",
    "    cmd = input()\n",
    "    n = int(input())\n",
    "    arr = input()[1:-1].split(',')\n",
    "    \n",
    "    queue = deque(arr)\n",
    "    flag = 0\n",
    "    \n",
    "    if(n == 0):\n",
    "        queue = []\n",
    "        \n",
    "    for i in cmd:\n",
    "        if(i == 'R'):\n",
    "            flag += 1\n",
    "        elif(i == 'D'):\n",
    "            if(len(queue) == 0):\n",
    "                print('error')\n",
    "                break\n",
    "            else:\n",
    "                if(flag % 2 == 0):\n",
    "                    queue.popleft()\n",
    "                else:\n",
    "                    queue.pop()\n",
    "                    \n",
    "\n",
    "    else:\n",
    "        if(flag % 2 == 0):\n",
    "            print(\"[\" + \",\".join(queue) + ']')\n",
    "        else:\n",
    "            queue.reverse()\n",
    "            print(\"[\" + \",\".join(queue) + ']')"
   ]
  },
  {
   "cell_type": "code",
   "execution_count": 108,
   "id": "c749bc87",
   "metadata": {},
   "outputs": [
    {
     "name": "stdout",
     "output_type": "stream",
     "text": [
      "6 4\n",
      "0 0 0 0 0 0\n",
      "0 0 0 0 0 0\n",
      "0 0 0 0 0 0\n",
      "0 0 0 0 0 1\n",
      "8\n"
     ]
    }
   ],
   "source": [
    "from collections import deque\n",
    "\n",
    "m, n = map(int, input().split())\n",
    "arr = []\n",
    "\n",
    "for _ in range(n):\n",
    "    arr.append(list(map(int, input().split())))\n",
    "    \n",
    "queue = deque([])\n",
    "dx = [-1, 1, 0, 0]\n",
    "dy = [0, 0, -1, 1]\n",
    "res = 0\n",
    "\n",
    "for i in range(n):\n",
    "    for j in range(m):\n",
    "        if(arr[i][j] == 1):\n",
    "            queue.append([i, j])\n",
    "            \n",
    "            \n",
    "def bfs():\n",
    "    while queue:\n",
    "        x, y = queue.popleft()\n",
    "        \n",
    "        for i in range(4):\n",
    "            nx, ny = x + dx[i], y + dy[i]\n",
    "            \n",
    "            if(0 <= nx < n and 0 <= ny < m and arr[nx][ny] == 0):\n",
    "                arr[nx][ny] = arr[x][y] + 1\n",
    "                queue.append([nx, ny])\n",
    "                \n",
    "bfs()\n",
    "\n",
    "for i in arr:\n",
    "    for j in i:\n",
    "        if(j == 0):\n",
    "            print(-1)\n",
    "            exit(0)\n",
    "            \n",
    "    res = max(res, max(i))\n",
    "print(res - 1)"
   ]
  },
  {
   "cell_type": "code",
   "execution_count": 114,
   "id": "1ffe517d",
   "metadata": {},
   "outputs": [
    {
     "name": "stdout",
     "output_type": "stream",
     "text": [
      "5\n",
      "RRRBB\n",
      "GGBBB\n",
      "BBBRR\n",
      "BBRRR\n",
      "RRRRR\n",
      "4 3\n"
     ]
    }
   ],
   "source": [
    "from collections import deque\n",
    "\n",
    "n = int(input())\n",
    "painting = [list(input()) for _ in range(n)]\n",
    "queue = deque([])\n",
    "\n",
    "dx, dy = [-1, 1, 0, 0], [0, 0, -1, 1]\n",
    "ans1, ans2 = 0, 0\n",
    "\n",
    "\n",
    "def bfs(x, y):\n",
    "    queue.append([x, y])\n",
    "    visited[x][y] = 1\n",
    "    while queue:\n",
    "        x, y = queue.popleft()\n",
    "        for i in range(4):\n",
    "            nx = x + dx[i]\n",
    "            ny = y + dy[i]\n",
    "            if(0 <= nx < n and 0 <= ny < n and painting[nx][ny] == painting[x][y] and not visited[nx][ny]):\n",
    "                visited[nx][ny] = 1\n",
    "                queue.append([nx, ny])\n",
    "\n",
    "\n",
    "visited = [[0]*n for _ in range(n)]\n",
    "for i in range(n):\n",
    "    for j in range(n):\n",
    "        if(not visited[i][j]):\n",
    "            bfs(i, j)\n",
    "            ans1 += 1\n",
    "            \n",
    "            \n",
    "for i in range(n):\n",
    "    for j in range(n):\n",
    "        if(painting[i][j] == 'G'):\n",
    "            painting[i][j] = 'R'\n",
    "            \n",
    "            \n",
    "visited = [[0]*n for _ in range(n)]\n",
    "for i in range(n):\n",
    "    for j in range(n):\n",
    "        if(not visited[i][j]):\n",
    "            bfs(i, j)\n",
    "            ans2 += 1\n",
    "            \n",
    "            \n",
    "print(ans1, ans2)"
   ]
  },
  {
   "cell_type": "code",
   "execution_count": 116,
   "id": "96670feb",
   "metadata": {},
   "outputs": [
    {
     "name": "stdout",
     "output_type": "stream",
     "text": [
      "1\n",
      "1\n",
      "i 16\n",
      "i 16\n"
     ]
    }
   ],
   "source": [
    "t = int(input())\n",
    "\n",
    "for _ in range(t):\n",
    "    k = int(input())\n",
    "    for _ in range(k):\n",
    "        cmd, n = input().split()\n",
    "        \n",
    "    print(cmd, n)"
   ]
  },
  {
   "cell_type": "code",
   "execution_count": 118,
   "id": "0767a5a1",
   "metadata": {},
   "outputs": [
    {
     "name": "stdout",
     "output_type": "stream",
     "text": [
      "2\n",
      "7\n",
      "I 16\n",
      "16 16\n",
      "I -5643\n",
      "16 -5643\n",
      "D -1\n",
      "16 16\n",
      "D 1\n",
      "EMPTY\n",
      "D 1\n",
      "EMPTY\n",
      "I 123\n",
      "123 123\n",
      "D -1\n",
      "EMPTY\n",
      "9\n",
      "I -45\n",
      "-45 -45\n",
      "I 653\n",
      "653 -45\n",
      "D 1\n",
      "-45 -45\n",
      "I -642\n",
      "-45 -642\n",
      "I 45\n",
      "45 -642\n",
      "I 97\n",
      "97 -642\n",
      "D 1\n",
      "45 -642\n",
      "D -1\n",
      "45 -45\n",
      "I 333\n",
      "333 -45\n"
     ]
    }
   ],
   "source": [
    "import heapq\n",
    "\n",
    "t = int(input())\n",
    "\n",
    "for i in range(t):\n",
    "    k = int(input())\n",
    "    q1, q2 = [], []\n",
    "    visited = [False] * k\n",
    "    \n",
    "    for j in range(k):\n",
    "        cmd, num = input().split()\n",
    "        \n",
    "        if(cmd == 'I'):\n",
    "            heapq.heappush(q1, (int(num), j))\n",
    "            heapq.heappush(q2, (-int(num), j))\n",
    "            visited[j] = True\n",
    "            \n",
    "            \n",
    "        else:\n",
    "            if(num == '1'):\n",
    "                while(q2 and not visited[q2[0][1]]):\n",
    "                    heapq.heappop(q2)\n",
    "                if q2:\n",
    "                    visited[q2[0][1]] = False\n",
    "                    heapq.heappop(q2)\n",
    "                    \n",
    "            else:\n",
    "                while(q1 and not visited[q1[0][1]]):\n",
    "                    heapq.heappop(q1)\n",
    "                if q1:\n",
    "                    visited[q1[0][1]] = False\n",
    "                    heapq.heappop(q1)\n",
    "                    \n",
    "                    \n",
    "    while(q1 and not visited[q1[0][1]]):\n",
    "        heapq.heappop(q1)\n",
    "    while(q2 and not visited[q2[0][1]]):\n",
    "        heapq.heappop(q2)\n",
    "\n",
    "\n",
    "    if(not q1 or not q2):\n",
    "        print(\"EMPTY\")\n",
    "    else:\n",
    "        a = -q2[0][0]\n",
    "        b = q1[0][0]\n",
    "        print(int(a), int(b))"
   ]
  },
  {
   "cell_type": "code",
   "execution_count": null,
   "id": "bd3c270a",
   "metadata": {},
   "outputs": [],
   "source": [
    "from collections import deque\n",
    "t = int(input())\n",
    "\n",
    "for _ in range(t):\n",
    "    m, n = map(int, input().split())\n",
    "    visited = [False for _ in range(10001)]\n",
    "    \n",
    "    queue = deque()\n",
    "    queue.append([m,''])\n",
    "    visited[m] = True\n",
    "    \n",
    "    while queue:\n",
    "        num, cmd = queue.popleft()\n",
    "        \n",
    "        if(num == n):\n",
    "            print(cmd)\n",
    "            break\n",
    "            \n",
    "        d = num * 2 % 10000\n",
    "        if(not visited[d]):\n",
    "            visited[d] = True\n",
    "            queue.append([d, cmd+'D'])\n",
    "            \n",
    "        s = (num - 1) % 10000\n",
    "        if(not visited[s]):\n",
    "            visited[s] = True\n",
    "            queue.append([s, cmd+'S'])\n",
    "            \n",
    "        l = num//1000 + (num%1000)*10\n",
    "        if(not visited[l]):\n",
    "            visited[l] = True\n",
    "            queue.append([l, cmd+'L'])\n",
    "            \n",
    "        r = num//10 + (num%10)\n",
    "    "
   ]
  },
  {
   "cell_type": "code",
   "execution_count": 3,
   "id": "19c8082c",
   "metadata": {},
   "outputs": [
    {
     "name": "stdout",
     "output_type": "stream",
     "text": [
      "5 5\n",
      "1 2 3 4 5\n",
      "5 4 3 2 1\n",
      "2 3 4 5 6\n",
      "6 5 4 3 2\n",
      "1 2 1 2 1\n"
     ]
    },
    {
     "ename": "IndexError",
     "evalue": "list index out of range",
     "output_type": "error",
     "traceback": [
      "\u001b[0;31m---------------------------------------------------------------------------\u001b[0m",
      "\u001b[0;31mIndexError\u001b[0m                                Traceback (most recent call last)",
      "Input \u001b[0;32mIn [3]\u001b[0m, in \u001b[0;36m<cell line: 36>\u001b[0;34m()\u001b[0m\n\u001b[1;32m     37\u001b[0m     \u001b[38;5;28;01mfor\u001b[39;00m j \u001b[38;5;129;01min\u001b[39;00m \u001b[38;5;28mrange\u001b[39m(m):\n\u001b[1;32m     38\u001b[0m         visit[i][j] \u001b[38;5;241m=\u001b[39m \u001b[38;5;241m1\u001b[39m\n\u001b[0;32m---> 39\u001b[0m         \u001b[43mdfs\u001b[49m\u001b[43m(\u001b[49m\u001b[43mi\u001b[49m\u001b[43m,\u001b[49m\u001b[43m \u001b[49m\u001b[43mj\u001b[49m\u001b[43m,\u001b[49m\u001b[43m \u001b[49m\u001b[38;5;241;43m0\u001b[39;49m\u001b[43m,\u001b[49m\u001b[43m \u001b[49m\u001b[43mpaper\u001b[49m\u001b[43m[\u001b[49m\u001b[43mi\u001b[49m\u001b[43m]\u001b[49m\u001b[43m[\u001b[49m\u001b[43mj\u001b[49m\u001b[43m]\u001b[49m\u001b[43m)\u001b[49m\n\u001b[1;32m     40\u001b[0m         visit[i][j] \u001b[38;5;241m=\u001b[39m \u001b[38;5;241m0\u001b[39m\n\u001b[1;32m     42\u001b[0m \u001b[38;5;28mprint\u001b[39m(ans)\n",
      "Input \u001b[0;32mIn [3]\u001b[0m, in \u001b[0;36mdfs\u001b[0;34m(x, y, idx, total)\u001b[0m\n\u001b[1;32m     19\u001b[0m     visit[nx][ny] \u001b[38;5;241m=\u001b[39m \u001b[38;5;241m0\u001b[39m\n\u001b[1;32m     20\u001b[0m visit[nx][ny] \u001b[38;5;241m=\u001b[39m \u001b[38;5;241m1\u001b[39m\n\u001b[0;32m---> 21\u001b[0m dfs(nx, ny, idx\u001b[38;5;241m+\u001b[39m\u001b[38;5;241m1\u001b[39m, total\u001b[38;5;241m+\u001b[39m\u001b[43mpaper\u001b[49m\u001b[43m[\u001b[49m\u001b[43mnx\u001b[49m\u001b[43m]\u001b[49m[ny])\n\u001b[1;32m     22\u001b[0m visit[nx][ny] \u001b[38;5;241m=\u001b[39m \u001b[38;5;241m0\u001b[39m\n",
      "\u001b[0;31mIndexError\u001b[0m: list index out of range"
     ]
    }
   ],
   "source": [
    "import sys\n",
    "\n",
    "def dfs(x, y, idx, total):\n",
    "    global ans\n",
    "    if(ans >= total + max_val * (3-idx)):\n",
    "        return\n",
    "    if(idx == 3):\n",
    "        ans = max(ans, total)\n",
    "        return\n",
    "    else:\n",
    "        for i in range(4):\n",
    "            nx = x + dx[i]\n",
    "            ny = y + dy[i]\n",
    "            \n",
    "            if(0 <= nx < n and 0 <= ny < m and visit[nx][ny] == 0):\n",
    "                if(idx == 1):\n",
    "                    visit[nx][ny] = 1\n",
    "                    dfs(x, y, idx+1, total+paper[nx][ny])\n",
    "                    visit[nx][ny] = 0\n",
    "                visit[nx][ny] = 1\n",
    "                dfs(nx, ny, idx+1, total+paper[nx][ny])\n",
    "                visit[nx][ny] = 0\n",
    "\n",
    "n, m = map(int, input().split())\n",
    "\n",
    "for _ in range(n):\n",
    "    paper = [list(map(int, input().split()))]\n",
    "visit = [[0]*m for _ in range(n)]\n",
    "\n",
    "dx, dy = [-1, 1, 0, 0], [0, 0, -1, 1]\n",
    "ans = 0\n",
    "max_val = max(map(max, paper))\n",
    "\n",
    "    \n",
    "    \n",
    "for i in range(n):\n",
    "    for j in range(m):\n",
    "        visit[i][j] = 1\n",
    "        dfs(i, j, 0, paper[i][j])\n",
    "        visit[i][j] = 0\n",
    "            \n",
    "print(ans)\n",
    "    "
   ]
  },
  {
   "cell_type": "code",
   "execution_count": 4,
   "id": "eee451b2",
   "metadata": {},
   "outputs": [
    {
     "name": "stdout",
     "output_type": "stream",
     "text": [
      "5 5\n",
      "1 2 3 4 5\n",
      "5 4 3 2 1\n",
      "2 3 4 5 6\n",
      "6 5 4 3 2\n",
      "1 2 1 2 1\n",
      "19\n"
     ]
    }
   ],
   "source": [
    "import sys; \n",
    "input = sys.stdin.readline\n",
    "\n",
    "def dfs(r, c, idx, total):\n",
    "    global ans\n",
    "    if ans >= total + max_val * (3 - idx):\n",
    "        return\n",
    "    if idx == 3:\n",
    "        ans = max(ans, total)\n",
    "        return\n",
    "    else:\n",
    "        for i in range(4):\n",
    "            nr = r + dr[i]\n",
    "            nc = c + dc[i]\n",
    "            if 0 <= nr < N and 0 <= nc < M and visit[nr][nc] == 0:\n",
    "                if idx == 1:\n",
    "                    visit[nr][nc] = 1\n",
    "                    dfs(r, c, idx + 1, total + arr[nr][nc])\n",
    "                    visit[nr][nc] = 0\n",
    "                visit[nr][nc] = 1\n",
    "                dfs(nr, nc, idx + 1, total + arr[nr][nc])\n",
    "                visit[nr][nc] = 0\n",
    "\n",
    "\n",
    "N, M = map(int, input().split())\n",
    "arr = [list(map(int, input().split())) for _ in range(N)]\n",
    "visit = [([0] * M) for _ in range(N)]\n",
    "dr = [-1, 0, 1, 0]\n",
    "dc = [0, 1, 0, -1]\n",
    "ans = 0\n",
    "max_val = max(map(max, arr))\n",
    "\n",
    "for r in range(N):\n",
    "    for c in range(M):\n",
    "        visit[r][c] = 1\n",
    "        dfs(r, c, 0, arr[r][c])\n",
    "        visit[r][c] = 0\n",
    "\n",
    "print(ans)"
   ]
  },
  {
   "cell_type": "code",
   "execution_count": 32,
   "id": "6b2232a5",
   "metadata": {},
   "outputs": [
    {
     "name": "stdout",
     "output_type": "stream",
     "text": [
      "4 4\n",
      "1231 1232 1233 1234\n",
      "1231 1231 1231 1231\n",
      "1231 1231 1231 1232\n",
      "1231 1231 1231 1233\n",
      "1231 1231 1231 1234\n",
      "1231 1231 1232 1232\n",
      "1231 1231 1232 1233\n",
      "1231 1231 1232 1234\n",
      "1231 1231 1233 1233\n",
      "1231 1231 1233 1234\n",
      "1231 1231 1234 1234\n",
      "1231 1232 1232 1232\n",
      "1231 1232 1232 1233\n",
      "1231 1232 1232 1234\n",
      "1231 1232 1233 1233\n",
      "1231 1232 1233 1234\n",
      "1231 1232 1234 1234\n",
      "1231 1233 1233 1233\n",
      "1231 1233 1233 1234\n",
      "1231 1233 1234 1234\n",
      "1231 1234 1234 1234\n",
      "1232 1232 1232 1232\n",
      "1232 1232 1232 1233\n",
      "1232 1232 1232 1234\n",
      "1232 1232 1233 1233\n",
      "1232 1232 1233 1234\n",
      "1232 1232 1234 1234\n",
      "1232 1233 1233 1233\n",
      "1232 1233 1233 1234\n",
      "1232 1233 1234 1234\n",
      "1232 1234 1234 1234\n",
      "1233 1233 1233 1233\n",
      "1233 1233 1233 1234\n",
      "1233 1233 1234 1234\n",
      "1233 1234 1234 1234\n",
      "1234 1234 1234 1234\n"
     ]
    }
   ],
   "source": [
    "n, m = map(int, input().split())\n",
    "s = []\n",
    "num = list(map(int, input().split()))\n",
    "num.sort()\n",
    "\n",
    "def dfs(start):\n",
    "    if(len(s) == m):\n",
    "#         print(' '.join(map(str, s)))\n",
    "        print(*s)\n",
    "        return\n",
    "    \n",
    "    for i in range(start, n):\n",
    "#         if(num[i] not in s):\n",
    "        s.append(num[i])\n",
    "        dfs(i)\n",
    "        s.pop()\n",
    "            \n",
    "            \n",
    "dfs(0)"
   ]
  },
  {
   "cell_type": "code",
   "execution_count": 53,
   "id": "60b247ca",
   "metadata": {},
   "outputs": [
    {
     "name": "stdout",
     "output_type": "stream",
     "text": [
      "6\n",
      "10 20 10 30 20 50\n",
      "[1, 2, 1, 3, 2, 4]\n",
      "4\n"
     ]
    }
   ],
   "source": [
    "n = int(input())\n",
    "num = list(map(int, input().split()))\n",
    "\n",
    "visited = [1] * n\n",
    "\n",
    "for i in range(1, n):\n",
    "    for j in range(i):\n",
    "        if(num[i] > num[j]):\n",
    "            visited[i] = max(visited[i], visited[j]+1)\n",
    "\n",
    "\n",
    "# print(visited)\n",
    "print(max(visited))"
   ]
  },
  {
   "cell_type": "code",
   "execution_count": 60,
   "id": "7ed0a7f3",
   "metadata": {},
   "outputs": [
    {
     "name": "stdout",
     "output_type": "stream",
     "text": [
      "5\n",
      "1 1\n",
      "1 1\n",
      "2 2\n",
      "2 2\n",
      "[[1, 1], [1, 1], [2, 2], [2, 2]]\n"
     ]
    }
   ],
   "source": [
    "from collections import deque\n",
    "\n",
    "n = int(input())\n",
    "graph = [[] for _ in range(n+1)]\n",
    "\n",
    "for _ in range(n-1):\n",
    "    a, b = map(int, input().split())\n",
    "    graph[a].append(b)\n",
    "    graph[b].append(a)\n",
    "    \n",
    "    \n",
    "queue = deque()\n",
    "queue.append(1)\n",
    "\n",
    "ans = [0]*(n+1)\n",
    "\n",
    "def bfs():\n",
    "    while queue:\n",
    "        now = queue.popleft()\n",
    "        for i in graph[now]:\n",
    "            if(ans[i] == 0):\n",
    "                ans[i] = now\n",
    "                queue.append(i)\n",
    "                \n",
    "bfs()\n",
    "res = ans[2:]\n",
    "\n",
    "for i in res:\n",
    "\n",
    "    print(i)"
   ]
  },
  {
   "cell_type": "code",
   "execution_count": 64,
   "id": "a7de8c61",
   "metadata": {},
   "outputs": [
    {
     "name": "stdout",
     "output_type": "stream",
     "text": [
      "2 162\n",
      "2 1\n",
      "4 2\n",
      "21 2\n",
      "8 3\n",
      "41 3\n",
      "42 3\n",
      "16 4\n",
      "81 4\n",
      "82 4\n",
      "84 4\n",
      "32 5\n",
      "161 5\n",
      "162 5\n",
      "5\n"
     ]
    }
   ],
   "source": [
    "from collections import deque\n",
    "\n",
    "\n",
    "def bfs(a, b):\n",
    "    queue = deque([(a, 1)])\n",
    "    \n",
    "    while queue:\n",
    "        a, cnt = queue.popleft()\n",
    "        if(a == b):\n",
    "            print(cnt)\n",
    "            return\n",
    "        \n",
    "        if(a*2 <= b):\n",
    "            queue.append((a*2, cnt+1))\n",
    "        if(a*10 + 1 <= b):\n",
    "            queue.append((a*10+1, cnt+1))\n",
    "    print(-1)\n",
    "\n",
    "\n",
    "\n",
    "a, b = map(int, input().split())\n",
    "bfs(a, b)"
   ]
  },
  {
   "cell_type": "code",
   "execution_count": 72,
   "id": "651e635e",
   "metadata": {},
   "outputs": [
    {
     "name": "stdout",
     "output_type": "stream",
     "text": [
      "3 4 99\n",
      "0 0 0 0\n",
      "0 0 0 0\n",
      "0 0 0 1\n",
      "2 0\n"
     ]
    }
   ],
   "source": [
    "import sys\n",
    "\n",
    "n, m, b = map(int, input().split())\n",
    "field = []\n",
    "answer = sys.maxsize\n",
    "idx = 0\n",
    "\n",
    "for i in range(n):\n",
    "    field.append(list(map(int, input().split())))\n",
    "    \n",
    "\n",
    "for floor in range(257):\n",
    "    plus_block, minus_block = 0, 0\n",
    "    \n",
    "    for i in range(n):\n",
    "        for j in range(m):\n",
    "            \n",
    "            if(field[i][j] > floor):\n",
    "                plus_block += field[i][j] - floor\n",
    "            else:\n",
    "                minus_block += floor - field[i][j]\n",
    "                \n",
    "    if(plus_block + b >= minus_block):\n",
    "        if(plus_block * 2 + minus_block <= answer):\n",
    "            answer = (plus_block*2) + minus_block\n",
    "            idx = floor\n",
    "            \n",
    "        \n",
    "print(answer, idx)\n",
    "        "
   ]
  },
  {
   "cell_type": "code",
   "execution_count": 70,
   "id": "aaffa7cd",
   "metadata": {},
   "outputs": [
    {
     "name": "stdout",
     "output_type": "stream",
     "text": [
      "3 4 99\n",
      "0 0 0 0\n",
      "0 0 0 0\n",
      "0 0 0 1\n",
      "2 0\n"
     ]
    }
   ],
   "source": [
    "import sys\n",
    "input = sys.stdin.readline\n",
    "N, M, B = map(int, input().split())\n",
    "field = [list(map(int, input().split())) for _ in range(N)]\n",
    "answer = sys.maxsize\n",
    "idx = 0\n",
    "\n",
    "for floor in range(257):\n",
    "    exceed_block, lack_block = 0, 0\n",
    "\n",
    "    for i in range(N):\n",
    "        for j in range(M):\n",
    "\n",
    "            if field[i][j] > floor :\n",
    "                exceed_block += field[i][j] - floor\n",
    "            else : \n",
    "                lack_block += floor - field[i][j]\n",
    "\n",
    "    if exceed_block + B >= lack_block :\n",
    "        if (exceed_block * 2) + lack_block <= answer:\n",
    "            answer = (exceed_block * 2) + lack_block\n",
    "            idx = floor\n",
    "\n",
    "\n",
    "print(answer, idx)"
   ]
  },
  {
   "cell_type": "code",
   "execution_count": 76,
   "id": "7196fc89",
   "metadata": {},
   "outputs": [
    {
     "name": "stdout",
     "output_type": "stream",
     "text": [
      "3\n",
      "CCP\n",
      "CCP\n",
      "PPC\n",
      "3\n"
     ]
    }
   ],
   "source": [
    "def check(data):\n",
    "    max_cnt = 1\n",
    "    \n",
    "    for i in range(n):\n",
    "        cnt = 1\n",
    "        for j in range(1, n):\n",
    "            if(data[i][j] == data[i][j-1]):\n",
    "                cnt += 1\n",
    "            else:\n",
    "                cnt = 1\n",
    "            max_cnt = max(max_cnt, cnt)\n",
    "        \n",
    "        cnt = 1\n",
    "        for j in range(1, n):\n",
    "            if(data[j][i] == data[j-1][i]):\n",
    "                cnt += 1\n",
    "            else:\n",
    "                cnt = 1\n",
    "            max_cnt = max(max_cnt, cnt)\n",
    "            \n",
    "    return max_cnt\n",
    "\n",
    "\n",
    "n = int(input()) \n",
    "data = [list(input()) for _ in range(n)]\n",
    "ans = 0\n",
    "    \n",
    "for i in range(n):\n",
    "    for j in range(n):\n",
    "        if(j+1 < n):\n",
    "            data[i][j], data[i][j+1] = data[i][j+1], data[i][j]\n",
    "            cnt = check(data)\n",
    "            ans = max(ans, cnt)\n",
    "            data[i][j], data[i][j+1] = data[i][j+1], data[i][j]\n",
    "            \n",
    "        if(i+1 < n):\n",
    "            data[i][j], data[i+1][j] = data[i+1][j], data[i][j]\n",
    "            cnt = check(data)\n",
    "            ans = max(ans, cnt)\n",
    "            data[i][j], data[i+1][j] = data[i+1][j], data[i][j]\n",
    "            \n",
    "print(ans)\n",
    "        "
   ]
  },
  {
   "cell_type": "code",
   "execution_count": 77,
   "id": "77b1f5f1",
   "metadata": {},
   "outputs": [
    {
     "name": "stdout",
     "output_type": "stream",
     "text": [
      "3\n",
      "CCP\n",
      "CCP\n",
      "PPC\n",
      "3\n"
     ]
    }
   ],
   "source": [
    "n = int(input()) \n",
    "grid = [list(input()) for _ in range(n)]\n",
    "dx, dy = [1, 0], [0, 1]\n",
    "max_score = 0\n",
    "\n",
    "def getMaxScore(n, grid):\n",
    "    score = 0\n",
    "    \n",
    "    for i in range(n):\n",
    "        cur = ''\n",
    "        seq = 0\n",
    "        for j in range(n):\n",
    "            if(cur == grid[i][j]):\n",
    "                seq += 1\n",
    "                score = max(score, seq)\n",
    "            else:\n",
    "                cur = grid[i][j]\n",
    "                seq = 1\n",
    "            \n",
    "    for i in range(n):\n",
    "        cur = ''\n",
    "        seq = 0\n",
    "        for j in range(n):\n",
    "            if(cur == grid[j][i]):\n",
    "                seq += 1\n",
    "                score = max(score, seq)\n",
    "            else:\n",
    "                cur = grid[j][i]\n",
    "                seq = 1\n",
    "                \n",
    "    return score\n",
    "\n",
    "\n",
    "for i in range(n):\n",
    "    for j in range(n):\n",
    "        for k in range(2):\n",
    "            nx = i + dx[k]\n",
    "            ny = j + dy[k]\n",
    "            \n",
    "            if(nx < n and ny < n):\n",
    "                grid[i][j] = grid[nx][ny]\n",
    "                max_score = max(max_score, getMaxScore(n, grid))\n",
    "                grid[i][j] = grid[nx][ny]\n",
    "                \n",
    "print(max_score)"
   ]
  },
  {
   "cell_type": "code",
   "execution_count": 100,
   "id": "1c4b264c",
   "metadata": {},
   "outputs": [
    {
     "name": "stdout",
     "output_type": "stream",
     "text": [
      "7\n",
      "4 50\n",
      "2 160\n",
      "3 30\n",
      "1 60\n",
      "3 20\n",
      "1 100\n",
      "47600\n"
     ]
    }
   ],
   "source": [
    "n = int(input())\n",
    "field = [list(map(int, input().split())) for _ in range(6)]\n",
    "# field = [[4, 50], [2, 160], [3, 30], [1, 60], [3, 20], [1, 100]]\n",
    "# field.sort()\n",
    "# print(field)\n",
    "\n",
    "\n",
    "row, col = 0, 0\n",
    "big, small = 0, 0\n",
    "idx_row = 0\n",
    "idx_col = 0\n",
    "\n",
    "for i in range(len(field)):    \n",
    "    if(field[i][0] == 1 or field[i][0] == 2):\n",
    "        if(field[i][1] > row):\n",
    "            row = field[i][1]\n",
    "            idx_row = i\n",
    "            \n",
    "    elif(field[i][0] == 3 or field[i][0] == 4):\n",
    "        if(field[i][1] > col):\n",
    "            col = field[i][1]\n",
    "            idx_col = i\n",
    "            \n",
    "# print(row, col)\n",
    "big = row*col\n",
    "\n",
    "small = abs(field[(idx_row+1)%6][1] - field[(idx_row-1)%6][1]) * abs(field[(idx_col+1)%6][1] - field[(idx_col-1)%6][1])\n",
    "\n",
    "\n",
    "print((big - small)*n)"
   ]
  },
  {
   "cell_type": "code",
   "execution_count": null,
   "id": "28465696",
   "metadata": {},
   "outputs": [],
   "source": [
    "7\n",
    "4 50\n",
    "2 160\n",
    "3 30\n",
    "1 60\n",
    "3 20\n",
    "1 100"
   ]
  },
  {
   "cell_type": "code",
   "execution_count": 87,
   "id": "40d60934",
   "metadata": {},
   "outputs": [
    {
     "name": "stdout",
     "output_type": "stream",
     "text": [
      "100\n"
     ]
    }
   ],
   "source": [
    "a = [[1, 60], [1, 100], [2, 160], [3, 20], [3, 30], [4, 50]]\n",
    "print(max(a))"
   ]
  },
  {
   "cell_type": "code",
   "execution_count": 101,
   "id": "c338cb54",
   "metadata": {},
   "outputs": [
    {
     "name": "stdout",
     "output_type": "stream",
     "text": [
      "4\n",
      "2 1 1 0\n",
      "[4, 2, 1, 3]\n"
     ]
    }
   ],
   "source": [
    "n = int(input())\n",
    "people = list(map(int, input().split()))\n",
    "\n",
    "height = [0] * n\n",
    "\n",
    "for i in range(n):\n",
    "    cnt = 0\n",
    "    \n",
    "    for j in range(n):\n",
    "        if(cnt == people[i] and height[j] == 0):\n",
    "            height[j] = i + 1\n",
    "            break\n",
    "        elif(height[j] == 0):\n",
    "            cnt += 1\n",
    "            \n",
    "print(*height)"
   ]
  },
  {
   "cell_type": "code",
   "execution_count": null,
   "id": "d731dbb3",
   "metadata": {},
   "outputs": [],
   "source": [
    "2 1 1 0"
   ]
  },
  {
   "cell_type": "code",
   "execution_count": 126,
   "id": "add29f42",
   "metadata": {},
   "outputs": [
    {
     "name": "stdout",
     "output_type": "stream",
     "text": [
      "4 4 2\n",
      "1 2 3 4\n",
      "5 6 7 8\n",
      "9 10 11 12\n",
      "13 14 15 16\n",
      "3 4 8 12\n",
      "2 11 10 16\n",
      "1 7 6 15\n",
      "5 9 13 14\n"
     ]
    }
   ],
   "source": [
    "from collections import deque\n",
    "\n",
    "n, m, r = map(int, input().split())\n",
    "nums = [list(input().split()) for _ in range(n)]\n",
    "answer = [[0]*m for _ in range(n)]\n",
    "queue = deque()\n",
    "\n",
    "loops = min(n, m)//2\n",
    "\n",
    "for i in range(loops):\n",
    "    queue.clear()\n",
    "    queue.extend(nums[i][i:m-i]) #위쪽\n",
    "    queue.extend([row[m-i-1] for row in nums[i+1:n-i-1]]) #오른쪽\n",
    "    queue.extend(nums[n-i-1][i:m-i][::-1]) #아래쪽\n",
    "    queue.extend([row[i] for row in nums[i+1:n-i-1][::-1]]) #왼쪽\n",
    "    \n",
    "#     print(*queue)\n",
    "    \n",
    "    queue.rotate(-r)\n",
    "    \n",
    "#     print(*queue)\n",
    "    \n",
    "    for j in range(i, m-i):\n",
    "        answer[i][j] = queue.popleft()\n",
    "    for j in range(i+1, n-i-1):\n",
    "        answer[j][m-i-1] = queue.popleft()\n",
    "    for j in range(m-i-1, i-1, -1):\n",
    "        answer[n-i-1][j] = queue.popleft()\n",
    "    for j in range(n-i-2, i, -1):\n",
    "        answer[j][i] = queue.popleft()\n",
    "        \n",
    "        \n",
    "for line in answer:\n",
    "    print(\" \".join(line))\n",
    "    \n"
   ]
  },
  {
   "cell_type": "code",
   "execution_count": 125,
   "id": "36480c07",
   "metadata": {},
   "outputs": [
    {
     "name": "stdout",
     "output_type": "stream",
     "text": [
      "4 4 2\n",
      "1 2 3 4\n",
      "5 6 7 8\n",
      "9 10 11 12\n",
      "13 14 15 16\n",
      "3 4 8 12\n",
      "2 11 10 16\n",
      "1 7 6 15\n",
      "5 9 13 14\n"
     ]
    }
   ],
   "source": [
    "from sys import stdin\n",
    "from collections import deque\n",
    "\n",
    "N, M, R = map(int, input().split())\n",
    "\n",
    "matrix = []\n",
    "answer = [[0]*M for _ in range(N)]\n",
    "deq = deque()\n",
    "\n",
    "for i in range(N):\n",
    "    matrix.append(list(input().split()))\n",
    "\n",
    "loops = min(N, M) // 2\n",
    "for i in range(loops):\n",
    "    deq.clear()\n",
    "    deq.extend(matrix[i][i:M-i])\n",
    "    deq.extend([row[M-i-1] for row in matrix[i+1:N-i-1]])\n",
    "    deq.extend(matrix[N-i-1][i:M-i][::-1])\n",
    "    deq.extend([row[i] for row in matrix[i+1:N-i-1]][::-1])\n",
    "    \n",
    "    deq.rotate(-R)\n",
    "    \n",
    "    for j in range(i, M-i):                 # 위쪽\n",
    "        answer[i][j] = deq.popleft()\n",
    "    for j in range(i+1, N-i-1):             # 오른쪽\n",
    "        answer[j][M-i-1] = deq.popleft()\n",
    "    for j in range(M-i-1, i-1, -1):           # 아래쪽\n",
    "        answer[N-i-1][j] = deq.popleft()  \n",
    "    for j in range(N-i-2, i, -1):           # 왼쪽\n",
    "        answer[j][i] = deq.popleft()    \n",
    "\n",
    "for line in answer:\n",
    "    print(\" \".join(line))"
   ]
  },
  {
   "cell_type": "code",
   "execution_count": 123,
   "id": "e12e9d70",
   "metadata": {},
   "outputs": [
    {
     "name": "stdout",
     "output_type": "stream",
     "text": [
      "3 4 8 12 \n",
      "2 11 10 16 \n",
      "1 7 6 15 \n",
      "5 9 13 14 \n"
     ]
    }
   ],
   "source": [
    "b = [[3, 4, 8, 12], [2, 11, 10, 16], [1, 7, 6, 15], [5, 9, 13, 14]]\n",
    "c = [1, 2, 3, 4]\n",
    "\n",
    "for i in range(4):\n",
    "    for j in range(4):\n",
    "        print(b[i][j], end=' ')\n",
    "    print()"
   ]
  },
  {
   "cell_type": "code",
   "execution_count": 131,
   "id": "fc604967",
   "metadata": {},
   "outputs": [
    {
     "name": "stdout",
     "output_type": "stream",
     "text": [
      "4 2 10\n",
      "7 4 5 6\n",
      "[0]\n",
      "[0, 7]\n",
      "[7]\n",
      "[7, 0]\n",
      "[0]\n",
      "[0, 4]\n",
      "[4]\n",
      "[4, 5]\n",
      "[5]\n",
      "[5, 0]\n",
      "[0]\n",
      "[0, 6]\n",
      "[6]\n",
      "[]\n",
      "8\n"
     ]
    }
   ],
   "source": [
    "n, w, l = map(int, input().split())\n",
    "truck = list(map(int, input().split()))\n",
    "\n",
    "bridge = [0] * w\n",
    "time = 0\n",
    "\n",
    "while bridge:\n",
    "    time += 1\n",
    "    bridge.pop(0)\n",
    "    \n",
    "    if truck:\n",
    "        if(sum(bridge) + truck[0] <= l):\n",
    "            bridge.append(truck.pop(0))\n",
    "        else:\n",
    "            bridge.append(0)\n",
    "\n",
    "print(time)"
   ]
  },
  {
   "cell_type": "code",
   "execution_count": 137,
   "id": "2ff0f2fd",
   "metadata": {},
   "outputs": [
    {
     "name": "stdout",
     "output_type": "stream",
     "text": [
      "3\n",
      "9\n",
      "2 1 4 3 5 6 2 7 2\n",
      "2 6 7\n"
     ]
    }
   ],
   "source": [
    "n = int(input())\n",
    "num = int(input())\n",
    "student = list(map(int, input().split()))\n",
    "\n",
    "candidate = []\n",
    "recommend = []\n",
    "\n",
    "for i in range(num):\n",
    "    if(student[i] in candidate):\n",
    "        for j in range(len(candidate)):\n",
    "            if(student[i] == candidate[j]):\n",
    "                recommend[j] += 1\n",
    "            \n",
    "    else:\n",
    "        if(len(candidate) >= n):\n",
    "            for j in range(n):\n",
    "                if(recommend[j] == min(recommend)):\n",
    "                    del candidate[j]\n",
    "                    del recommend[j] \n",
    "                    break\n",
    "            \n",
    "        candidate.append(student[i])\n",
    "        recommend.append(1)\n",
    "    \n",
    "candidate.sort()\n",
    "print(*candidate)\n",
    "                \n",
    "                \n",
    "    "
   ]
  },
  {
   "cell_type": "code",
   "execution_count": 140,
   "id": "514078c9",
   "metadata": {},
   "outputs": [
    {
     "name": "stdout",
     "output_type": "stream",
     "text": [
      "5\n",
      "7\n",
      "13\n",
      "29\n",
      "29\n"
     ]
    }
   ],
   "source": [
    "def isPrime(n):\n",
    "    for i in range(2, n):\n",
    "        if(n % i == 0):\n",
    "            return 0\n",
    "    return 1\n",
    "\n",
    "\n",
    "n = 13195\n",
    "max_div = 0\n",
    "\n",
    "for i in range(2, n):\n",
    "    if(isPrime(i) == 1 and n%i == 0):\n",
    "        max_div = i\n",
    "        print(max_div)\n",
    "print(max_div)\n"
   ]
  },
  {
   "cell_type": "code",
   "execution_count": 142,
   "id": "c5e131ac",
   "metadata": {},
   "outputs": [
    {
     "name": "stdout",
     "output_type": "stream",
     "text": [
      "10 5\n",
      "3\n",
      "1 4\n",
      "3 2\n",
      "2 8\n",
      "2 3\n",
      "[4, 28, 17, 22]\n",
      "23\n"
     ]
    }
   ],
   "source": [
    "w, h = map(int, input().split())\n",
    "n = int(input())\n",
    "\n",
    "def get_distance(x, y):\n",
    "    if(x == 1): #북\n",
    "        return y\n",
    "    elif(x == 2): #남\n",
    "        return w + h + w - y\n",
    "    elif(x == 3): #서\n",
    "        return w + h + w + h - y\n",
    "    else: #동\n",
    "        return w + y\n",
    "    \n",
    "\n",
    "course = []\n",
    "for _ in range(n+1):\n",
    "    x, y = map(int, input().split())\n",
    "    course.append(get_distance(x, y))\n",
    "    \n",
    "answer = 0\n",
    "\n",
    "\n",
    "\n",
    "for i in range(n):\n",
    "    in_course = abs(course[-1] - course[i])\n",
    "    out_course = 2 * (w + h) - in_course  #반대 방향이 더 빠를 수도 있으므로\n",
    "    answer += min(in_course, out_course)\n",
    "    \n",
    "print(answer)"
   ]
  },
  {
   "cell_type": "code",
   "execution_count": 15,
   "id": "f917111f",
   "metadata": {},
   "outputs": [
    {
     "name": "stdout",
     "output_type": "stream",
     "text": [
      "4\n",
      "dog\n",
      "god\n",
      "c:  ['d', 'o', 'g']\n",
      "good\n",
      "c:  []\n",
      "doll\n",
      "c:  []\n",
      "1\n"
     ]
    }
   ],
   "source": [
    "n = int(input())\n",
    "main_word = list(input())\n",
    "answer = 0\n",
    "\n",
    "for _ in range(n-1):\n",
    "    compare = main_word[:]\n",
    "    word = input()\n",
    "    cnt = 0\n",
    "\n",
    "    for w in word:\n",
    "        if w in compare:\n",
    "            compare.remove(w)\n",
    "        else:\n",
    "            cnt += 1\n",
    "            \n",
    "    if(cnt < 2 and len(compare) < 2):\n",
    "        answer += 1\n",
    "        \n",
    "print(answer)\n",
    "    "
   ]
  },
  {
   "cell_type": "code",
   "execution_count": 24,
   "id": "fbdc926f",
   "metadata": {},
   "outputs": [
    {
     "name": "stdout",
     "output_type": "stream",
     "text": [
      "a= 20 b= 2\n"
     ]
    }
   ],
   "source": [
    "def exam(num1, num2=2):\n",
    "    print('a=', num1, 'b=', num2)\n",
    "exam(20)"
   ]
  },
  {
   "cell_type": "code",
   "execution_count": 26,
   "id": "bbdc8546",
   "metadata": {},
   "outputs": [
    {
     "name": "stdout",
     "output_type": "stream",
     "text": [
      "4\n",
      "ZG431SN\n",
      "ZG5080K\n",
      "ST123D\n",
      "ZG206A\n",
      "ZG206A\n",
      "ZG431SN\n",
      "ZG5080K\n",
      "ST123D\n",
      "{'ZG431SN': 0, 'ZG5080K': 1, 'ST123D': 2, 'ZG206A': 3}\n",
      "['ZG206A', 'ZG431SN', 'ZG5080K', 'ST123D']\n",
      "1\n"
     ]
    }
   ],
   "source": [
    "n = int(input())\n",
    "answer = 0\n",
    "enter, out = dict(), []\n",
    "\n",
    "for i in range(n):\n",
    "    car = input()\n",
    "    enter[car] = i\n",
    "    \n",
    "for _ in range(n):\n",
    "    car = input()\n",
    "    out.append(car)\n",
    "    \n",
    "    \n",
    "for i in range(n-1):\n",
    "    for j in range(i+1, n):\n",
    "        if(enter[out[i]] > enter[out[j]]):\n",
    "            answer += 1\n",
    "            break\n",
    "            \n",
    "print(answer)"
   ]
  },
  {
   "cell_type": "code",
   "execution_count": 27,
   "id": "e9c87ebf",
   "metadata": {},
   "outputs": [
    {
     "name": "stdout",
     "output_type": "stream",
     "text": [
      "5 3\n",
      "...\n",
      ".X.\n",
      ".X.\n",
      ".X.\n",
      "...\n",
      "[['.', '.', '.'], ['.', 'X', '.'], ['.', 'X', '.'], ['.', 'X', '.'], ['.', '.', '.']]\n"
     ]
    }
   ],
   "source": [
    "import copy \n",
    "\n",
    "r, c = map(int, input().split())\n",
    "island = [list(input()) for _ in range(r)]\n",
    "\n",
    "dx, dy = [0, 0, -1, 1], [-1, 1, 0, 0]\n",
    "land_cnt = 0\n",
    "result = copy.deepcopy(island)\n",
    "\n",
    "for i in range(r):\n",
    "    for j in range(c):\n",
    "        if(island[i][j] == 'X'):\n",
    "            cnt = 0\n",
    "            land_cnt += 1\n",
    "            \n",
    "            for k in range(4):\n",
    "                nx = i + dx[k]\n",
    "                ny = j + dy[k]\n",
    "                \n",
    "                if(nx < 0 or nx > r or ny < 0 or ny >= c):\n",
    "                    cnt += 1\n",
    "                elif(island[nx][ny] == '.'):\n",
    "                    cnt += 1\n",
    "            \n",
    "            if(cnt >= 3):\n",
    "                result[i][j] = '.'\n",
    "                land_cnt -= 1\n",
    "                \n",
    "                \n",
    "if(land_cnt == 0):\n",
    "    print('X')\n",
    "\n",
    "else:\n",
    "    startR, endR = 0, 0\n",
    "    for i in range(r):\n",
    "        if('X' in result[i]):\n",
    "            startR = i\n",
    "            break\n",
    "            \n",
    "    for i in range(r-1, -1, -1):\n",
    "        if('X' in result[i]):\n",
    "            endR = i\n",
    "            break\n",
    "            \n",
    "    idx = []\n",
    "    \n",
    "    for j in range(c):\n",
    "        for i in range(startR, endR + 1):\n",
    "            if('X' == result[i][j]):\n",
    "                idx.append(j)\n",
    "                break\n",
    "                \n",
    "    for i in result[startR : endR+1]:\n",
    "        print(''.join(i[idx[0] : idx[-1] + 1]))"
   ]
  },
  {
   "cell_type": "code",
   "execution_count": 28,
   "id": "c6d8ee29",
   "metadata": {},
   "outputs": [
    {
     "name": "stdout",
     "output_type": "stream",
     "text": [
      "4\n",
      "-6 -8 7 -4\n",
      "-5 -5 14 11\n",
      "11 11 -1 -1\n",
      "4 9 -2 -4\n"
     ]
    },
    {
     "ename": "TypeError",
     "evalue": "list indices must be integers or slices, not float",
     "output_type": "error",
     "traceback": [
      "\u001b[0;31m---------------------------------------------------------------------------\u001b[0m",
      "\u001b[0;31mTypeError\u001b[0m                                 Traceback (most recent call last)",
      "Input \u001b[0;32mIn [28]\u001b[0m, in \u001b[0;36m<cell line: 20>\u001b[0;34m()\u001b[0m\n\u001b[1;32m     17\u001b[0m     answer\u001b[38;5;241m.\u001b[39msort()\n\u001b[1;32m     18\u001b[0m     \u001b[38;5;28;01mreturn\u001b[39;00m answer[\u001b[38;5;241m2\u001b[39m]\n\u001b[0;32m---> 20\u001b[0m \u001b[38;5;28mprint\u001b[39m(\u001b[43mpooling\u001b[49m\u001b[43m(\u001b[49m\u001b[43mn\u001b[49m\u001b[43m,\u001b[49m\u001b[43m \u001b[49m\u001b[38;5;241;43m0\u001b[39;49m\u001b[43m,\u001b[49m\u001b[43m \u001b[49m\u001b[38;5;241;43m0\u001b[39;49m\u001b[43m)\u001b[49m)\n",
      "Input \u001b[0;32mIn [28]\u001b[0m, in \u001b[0;36mpooling\u001b[0;34m(size, x, y)\u001b[0m\n\u001b[1;32m      9\u001b[0m     \u001b[38;5;28;01mreturn\u001b[39;00m answer[\u001b[38;5;241m2\u001b[39m]\n\u001b[1;32m     11\u001b[0m lt \u001b[38;5;241m=\u001b[39m pooling(mid, x, y)\n\u001b[0;32m---> 12\u001b[0m rt \u001b[38;5;241m=\u001b[39m \u001b[43mpooling\u001b[49m\u001b[43m(\u001b[49m\u001b[43mmid\u001b[49m\u001b[43m,\u001b[49m\u001b[43m \u001b[49m\u001b[43mx\u001b[49m\u001b[38;5;241;43m+\u001b[39;49m\u001b[43mmid\u001b[49m\u001b[43m,\u001b[49m\u001b[43m \u001b[49m\u001b[43my\u001b[49m\u001b[43m)\u001b[49m\n\u001b[1;32m     13\u001b[0m lb \u001b[38;5;241m=\u001b[39m pooling(mid, x, y\u001b[38;5;241m+\u001b[39mmid)\n\u001b[1;32m     14\u001b[0m rb \u001b[38;5;241m=\u001b[39m pooling(mid, x\u001b[38;5;241m+\u001b[39mmid, y\u001b[38;5;241m+\u001b[39mmid)\n",
      "Input \u001b[0;32mIn [28]\u001b[0m, in \u001b[0;36mpooling\u001b[0;34m(size, x, y)\u001b[0m\n\u001b[1;32m      5\u001b[0m mid \u001b[38;5;241m=\u001b[39m size\u001b[38;5;241m/\u001b[39m\u001b[38;5;241m2\u001b[39m\n\u001b[1;32m      6\u001b[0m \u001b[38;5;28;01mif\u001b[39;00m(size \u001b[38;5;241m==\u001b[39m \u001b[38;5;241m2\u001b[39m):\n\u001b[0;32m----> 7\u001b[0m     answer \u001b[38;5;241m=\u001b[39m [\u001b[43mnums\u001b[49m\u001b[43m[\u001b[49m\u001b[43mx\u001b[49m\u001b[43m]\u001b[49m[y], nums[x\u001b[38;5;241m+\u001b[39m\u001b[38;5;241m1\u001b[39m][y], nums[x][y\u001b[38;5;241m+\u001b[39m\u001b[38;5;241m1\u001b[39m], nums[x\u001b[38;5;241m+\u001b[39m\u001b[38;5;241m1\u001b[39m][y\u001b[38;5;241m+\u001b[39m\u001b[38;5;241m1\u001b[39m]]\n\u001b[1;32m      8\u001b[0m     answer\u001b[38;5;241m.\u001b[39msort()\n\u001b[1;32m      9\u001b[0m     \u001b[38;5;28;01mreturn\u001b[39;00m answer[\u001b[38;5;241m2\u001b[39m]\n",
      "\u001b[0;31mTypeError\u001b[0m: list indices must be integers or slices, not float"
     ]
    }
   ],
   "source": [
    "n = int(input())\n",
    "nums = [list(map(int, input().split())) for _ in range(n)]\n",
    "\n",
    "def pooling(size, x, y):\n",
    "    mid = size//2\n",
    "    if(size == 2):\n",
    "        answer = [nums[x][y], nums[x+1][y], nums[x][y+1], nums[x+1][y+1]]\n",
    "        answer.sort()\n",
    "        return answer[-2]\n",
    "    \n",
    "    lt = pooling(mid, x, y)\n",
    "    rt = pooling(mid, x+mid, y)\n",
    "    lb = pooling(mid, x, y+mid)\n",
    "    rb = pooling(mid, x+mid, y+mid)\n",
    "\n",
    "    answer = [lt, rt, lb, rb]\n",
    "    answer.sort()\n",
    "    return answer[-2]\n",
    "\n",
    "print(pooling(n, 0, 0))\n"
   ]
  },
  {
   "cell_type": "code",
   "execution_count": 9,
   "id": "f4cf4e70",
   "metadata": {},
   "outputs": [
    {
     "name": "stdout",
     "output_type": "stream",
     "text": [
      "22:00 23:00 23:30\n",
      "21:30 malkoring\n",
      "21:33 tolelom\n",
      "21:34 minjae705\n",
      "21:35 hhan14\n",
      "21:36 dicohy27\n",
      "21:40 906bc\n",
      "23:00 906bc\n",
      "23:01 tolelom\n",
      "23:10 minjae705\n",
      "23:11 hhan14\n",
      "23:20 dicohy27\n",
      "\n",
      "5\n"
     ]
    }
   ],
   "source": [
    "import sys\n",
    "input = sys.stdin.readline\n",
    "\n",
    "start, middle, end = input().split()\n",
    "start = int(start[:2] + start[3:])\n",
    "middle = int(middle[:2] + middle[3:])\n",
    "end = int(end[:2] + end[3:])\n",
    "\n",
    "attend = set()\n",
    "cnt = 0\n",
    "\n",
    "while True:\n",
    "    try:\n",
    "        time, name = input().split()\n",
    "        time = int(time[:2] + time[3:])\n",
    "        if time <= start:\n",
    "            attend.add(name)\n",
    "        elif middle <= time <= end and name in attend:\n",
    "            attend.remove(name)\n",
    "            cnt += 1\n",
    "            \n",
    "    except:\n",
    "        break\n",
    "        \n",
    "print(cnt)\n"
   ]
  },
  {
   "cell_type": "code",
   "execution_count": 14,
   "id": "9f91213f",
   "metadata": {},
   "outputs": [
    {
     "name": "stdout",
     "output_type": "stream",
     "text": [
      "6\n",
      "LFFRFF\n",
      "...\n",
      "##.\n",
      "##.\n"
     ]
    }
   ],
   "source": [
    "n = int(input())\n",
    "cmd = input()\n",
    "\n",
    "dx, dy = [-1, 0, 1, 0], [0, 1, 0, -1]\n",
    "V = [['#' for j in range(101)] for i in range(101)]\n",
    "\n",
    "x, y, d = 50, 50, 2\n",
    "ex = ey = sy = sx = 50\n",
    "V[x][y] = '.'\n",
    "\n",
    "for i in cmd:\n",
    "    if(i == 'L'):\n",
    "        d = (d+3) % 4\n",
    "    elif(i == 'R'):\n",
    "        d = (d+1) % 4\n",
    "    else:\n",
    "        x = x + dx[d]\n",
    "        y = y + dy[d]\n",
    "        V[x][y] = '.'\n",
    "        sy, ey, sx, ex = min(sy, y), max(ey, y), min(sx, x), max(ex, x)\n",
    "        \n",
    "for i in range(sx, ex+1):\n",
    "    print(''.join(V[i][sy:ey+1]))"
   ]
  },
  {
   "cell_type": "code",
   "execution_count": 29,
   "id": "1f5b9b96",
   "metadata": {},
   "outputs": [
    {
     "name": "stdout",
     "output_type": "stream",
     "text": [
      "5 5\n",
      "1 1 1 \n",
      "1 1 2\n",
      "1 2 2\n",
      "1 2 3\n",
      "3 1\n",
      "[0, 1, 1, 0, 0, 0, 0, 0, 0, 0, 0, 0, 0, 0, 0, 0, 0, 0, 0, 0, 0, 0]\n",
      "[0, 1, 1, 0, 0, 0, 0, 0, 0, 0, 0, 0, 0, 0, 0, 0, 0, 0, 0, 0, 0, 0]\n",
      "[0, 0, 0, 0, 0, 0, 0, 0, 0, 0, 0, 0, 0, 0, 0, 0, 0, 0, 0, 0, 0, 0]\n",
      "[0, 0, 0, 0, 0, 0, 0, 0, 0, 0, 0, 0, 0, 0, 0, 0, 0, 0, 0, 0, 0, 0]\n",
      "[0, 0, 0, 0, 0, 0, 0, 0, 0, 0, 0, 0, 0, 0, 0, 0, 0, 0, 0, 0, 0, 0]\n",
      "2\n"
     ]
    }
   ],
   "source": [
    "n, m = map(int, input().split()) #n: 기차의 수, m: 명령의 수\n",
    "commands = [list(map(int, input().split())) for _ in range(m)]\n",
    "train = [[0] * 22 for _ in range(n)]\n",
    "\n",
    "for cmd in commands:\n",
    "    if(cmd[0] == 1):\n",
    "        if(train[cmd[1]-1][cmd[2]-1] == 0):\n",
    "            train[cmd[1]-1][cmd[2]-1] = 1\n",
    "        else:\n",
    "            continue\n",
    "    elif(cmd[0] == 2):\n",
    "        if(train[cmd[1]-1][cmd[2]-1] == 1):\n",
    "            train[cmd[1]-1][cmd[2]-1] = 0\n",
    "        else:\n",
    "            continue\n",
    "    elif(cmd[0] == 3):\n",
    "        train[cmd[1]-1].insert(0,0)\n",
    "        del train[cmd[1]-1][21]\n",
    "    elif(cmd[0] == 4):\n",
    "        train[cmd[1]-1].insert(20,0)\n",
    "        del train[cmd[1]-1][0]\n",
    "        \n",
    "    \n",
    "answer = []\n",
    "for i in train:\n",
    "    if(i not in answer):\n",
    "        answer.append(i)\n",
    "        \n",
    "print(len(answer))"
   ]
  },
  {
   "cell_type": "code",
   "execution_count": null,
   "id": "9bcb39dd",
   "metadata": {},
   "outputs": [],
   "source": [
    "5 5\n",
    "1 1 1\n",
    "1 1 2\n",
    "1 2 2\n",
    "1 2 3\n",
    "3 1"
   ]
  },
  {
   "cell_type": "code",
   "execution_count": 21,
   "id": "29d802ff",
   "metadata": {},
   "outputs": [
    {
     "name": "stdout",
     "output_type": "stream",
     "text": [
      "[1, 2, 3, 0]\n"
     ]
    }
   ],
   "source": [
    "from collections import deque\n",
    "\n",
    "n, m = map(int, input().split())\n",
    "train = [deque([0] * 20) for _ in range(n)]\n",
    "\n",
    "for _ in range(m):\n",
    "    cmd = list(map(int, input().split()))\n",
    "    \n",
    "    if(cmd[0] == 1):\n",
    "        train[cmd[1]-1][cmd[2]-1] = 1\n",
    "    elif(cmd[0] == 2):\n",
    "        train[cmd[1]-1][cmd[2]-1] = 0\n",
    "    elif(cmd[0] == 3):\n",
    "        train[cmd[1]-1].rotate(1)\n",
    "        train[cmd[1]-1][0] = 0\n",
    "    else:\n",
    "        train[cmd[1]-1].rotate(-1)\n",
    "        train[cmd[1]-1][19] = 0\n",
    "        \n",
    "answer = []\n",
    "\n",
    "for i in train:\n",
    "    if(i not in answer):\n",
    "        answer.append(i)\n",
    "        \n",
    "print(len(answer))"
   ]
  },
  {
   "cell_type": "code",
   "execution_count": 43,
   "id": "d38ea12b",
   "metadata": {},
   "outputs": [
    {
     "name": "stdout",
     "output_type": "stream",
     "text": [
      "3\n",
      "358572 83391967 82\n",
      "3\n",
      "50229961 1091444 8863\n",
      "000012028\n"
     ]
    }
   ],
   "source": [
    "import math\n",
    "\n",
    "n = int(input())\n",
    "tmp = list(map(int,input().split()))\n",
    "num1 = 1\n",
    "for i in tmp:\n",
    "    num1 *= i\n",
    "    \n",
    "m = int(input())\n",
    "tmp = list(map(int,input().split()))\n",
    "num2 = 1\n",
    "for i in tmp:\n",
    "    num2 *= i\n",
    "    \n",
    "# print(num1, num2)\n",
    "\n",
    "print(str(math.gcd(num1, num2))[-9:])"
   ]
  },
  {
   "cell_type": "code",
   "execution_count": 46,
   "id": "7b3f697c",
   "metadata": {},
   "outputs": [
    {
     "name": "stdout",
     "output_type": "stream",
     "text": [
      "3 3\n",
      "1 3 4\n",
      "2 2 3\n",
      "1 2 4\n",
      "60\n"
     ]
    }
   ],
   "source": [
    "n, m = map(int, input().split())\n",
    "arr = [list(map(int, input().split())) for _ in range(n)]\n",
    "\n",
    "up = n * m\n",
    "\n",
    "left = 0\n",
    "for i in range(n):\n",
    "    for j in range(m):\n",
    "        if j == 0:\n",
    "            left += arr[i][j]\n",
    "        else:\n",
    "            if arr[i][j-1] < arr[i][j]:\n",
    "                left += arr[i][j] - arr[i][j-1]\n",
    "                \n",
    "\n",
    "front = 0\n",
    "for j in range(m):\n",
    "    for i in range(n):\n",
    "        if i == 0:\n",
    "            front += arr[i][j]\n",
    "        else:\n",
    "            if arr[i-1][j] < arr[i][j]:\n",
    "                front += arr[i][j] - arr[i-1][j]\n",
    "                \n",
    "answer = 2 * (up + left + front)\n",
    "print(answer)"
   ]
  },
  {
   "cell_type": "code",
   "execution_count": 62,
   "id": "80628c7e",
   "metadata": {},
   "outputs": [
    {
     "name": "stdout",
     "output_type": "stream",
     "text": [
      "8\n",
      "New window\n",
      "[N]ew window\n",
      "[[]N]ew window\n"
     ]
    },
    {
     "ename": "KeyboardInterrupt",
     "evalue": "Interrupted by user",
     "output_type": "error",
     "traceback": [
      "\u001b[0;31m---------------------------------------------------------------------------\u001b[0m",
      "\u001b[0;31mKeyboardInterrupt\u001b[0m                         Traceback (most recent call last)",
      "Input \u001b[0;32mIn [62]\u001b[0m, in \u001b[0;36m<cell line: 4>\u001b[0;34m()\u001b[0m\n\u001b[1;32m      2\u001b[0m shortcut \u001b[38;5;241m=\u001b[39m []\n\u001b[1;32m      4\u001b[0m \u001b[38;5;28;01mfor\u001b[39;00m _ \u001b[38;5;129;01min\u001b[39;00m \u001b[38;5;28mrange\u001b[39m(n):\n\u001b[0;32m----> 5\u001b[0m     word \u001b[38;5;241m=\u001b[39m \u001b[38;5;28mlist\u001b[39m(\u001b[38;5;28mmap\u001b[39m(\u001b[38;5;28mstr\u001b[39m, \u001b[38;5;28;43minput\u001b[39;49m\u001b[43m(\u001b[49m\u001b[43m)\u001b[49m\u001b[38;5;241m.\u001b[39msplit()))\n\u001b[1;32m      6\u001b[0m \u001b[38;5;66;03m#     print(word)\u001b[39;00m\n\u001b[1;32m      8\u001b[0m     \u001b[38;5;28;01mfor\u001b[39;00m i \u001b[38;5;129;01min\u001b[39;00m \u001b[38;5;28mrange\u001b[39m(\u001b[38;5;28mlen\u001b[39m(word)):\n",
      "File \u001b[0;32m~/anaconda3/lib/python3.9/site-packages/ipykernel/kernelbase.py:1177\u001b[0m, in \u001b[0;36mKernel.raw_input\u001b[0;34m(self, prompt)\u001b[0m\n\u001b[1;32m   1173\u001b[0m \u001b[38;5;28;01mif\u001b[39;00m \u001b[38;5;129;01mnot\u001b[39;00m \u001b[38;5;28mself\u001b[39m\u001b[38;5;241m.\u001b[39m_allow_stdin:\n\u001b[1;32m   1174\u001b[0m     \u001b[38;5;28;01mraise\u001b[39;00m StdinNotImplementedError(\n\u001b[1;32m   1175\u001b[0m         \u001b[38;5;124m\"\u001b[39m\u001b[38;5;124mraw_input was called, but this frontend does not support input requests.\u001b[39m\u001b[38;5;124m\"\u001b[39m\n\u001b[1;32m   1176\u001b[0m     )\n\u001b[0;32m-> 1177\u001b[0m \u001b[38;5;28;01mreturn\u001b[39;00m \u001b[38;5;28;43mself\u001b[39;49m\u001b[38;5;241;43m.\u001b[39;49m\u001b[43m_input_request\u001b[49m\u001b[43m(\u001b[49m\n\u001b[1;32m   1178\u001b[0m \u001b[43m    \u001b[49m\u001b[38;5;28;43mstr\u001b[39;49m\u001b[43m(\u001b[49m\u001b[43mprompt\u001b[49m\u001b[43m)\u001b[49m\u001b[43m,\u001b[49m\n\u001b[1;32m   1179\u001b[0m \u001b[43m    \u001b[49m\u001b[38;5;28;43mself\u001b[39;49m\u001b[38;5;241;43m.\u001b[39;49m\u001b[43m_parent_ident\u001b[49m\u001b[43m[\u001b[49m\u001b[38;5;124;43m\"\u001b[39;49m\u001b[38;5;124;43mshell\u001b[39;49m\u001b[38;5;124;43m\"\u001b[39;49m\u001b[43m]\u001b[49m\u001b[43m,\u001b[49m\n\u001b[1;32m   1180\u001b[0m \u001b[43m    \u001b[49m\u001b[38;5;28;43mself\u001b[39;49m\u001b[38;5;241;43m.\u001b[39;49m\u001b[43mget_parent\u001b[49m\u001b[43m(\u001b[49m\u001b[38;5;124;43m\"\u001b[39;49m\u001b[38;5;124;43mshell\u001b[39;49m\u001b[38;5;124;43m\"\u001b[39;49m\u001b[43m)\u001b[49m\u001b[43m,\u001b[49m\n\u001b[1;32m   1181\u001b[0m \u001b[43m    \u001b[49m\u001b[43mpassword\u001b[49m\u001b[38;5;241;43m=\u001b[39;49m\u001b[38;5;28;43;01mFalse\u001b[39;49;00m\u001b[43m,\u001b[49m\n\u001b[1;32m   1182\u001b[0m \u001b[43m\u001b[49m\u001b[43m)\u001b[49m\n",
      "File \u001b[0;32m~/anaconda3/lib/python3.9/site-packages/ipykernel/kernelbase.py:1219\u001b[0m, in \u001b[0;36mKernel._input_request\u001b[0;34m(self, prompt, ident, parent, password)\u001b[0m\n\u001b[1;32m   1216\u001b[0m             \u001b[38;5;28;01mbreak\u001b[39;00m\n\u001b[1;32m   1217\u001b[0m \u001b[38;5;28;01mexcept\u001b[39;00m \u001b[38;5;167;01mKeyboardInterrupt\u001b[39;00m:\n\u001b[1;32m   1218\u001b[0m     \u001b[38;5;66;03m# re-raise KeyboardInterrupt, to truncate traceback\u001b[39;00m\n\u001b[0;32m-> 1219\u001b[0m     \u001b[38;5;28;01mraise\u001b[39;00m \u001b[38;5;167;01mKeyboardInterrupt\u001b[39;00m(\u001b[38;5;124m\"\u001b[39m\u001b[38;5;124mInterrupted by user\u001b[39m\u001b[38;5;124m\"\u001b[39m) \u001b[38;5;28;01mfrom\u001b[39;00m \u001b[38;5;28mNone\u001b[39m\n\u001b[1;32m   1220\u001b[0m \u001b[38;5;28;01mexcept\u001b[39;00m \u001b[38;5;167;01mException\u001b[39;00m:\n\u001b[1;32m   1221\u001b[0m     \u001b[38;5;28mself\u001b[39m\u001b[38;5;241m.\u001b[39mlog\u001b[38;5;241m.\u001b[39mwarning(\u001b[38;5;124m\"\u001b[39m\u001b[38;5;124mInvalid Message:\u001b[39m\u001b[38;5;124m\"\u001b[39m, exc_info\u001b[38;5;241m=\u001b[39m\u001b[38;5;28;01mTrue\u001b[39;00m)\n",
      "\u001b[0;31mKeyboardInterrupt\u001b[0m: Interrupted by user"
     ]
    }
   ],
   "source": [
    "n = int(input())\n",
    "shortcut = []\n",
    "\n",
    "for _ in range(n):\n",
    "    word = list(map(str, input().split()))\n",
    "#     print(word)\n",
    "    \n",
    "    for i in range(len(word)):\n",
    "        if word[i][0].upper() not in shortcut:\n",
    "            shortcut.append(word[i][0].upper())\n",
    "            word[i] = \"[\" + word[i][0] + \"]\" + word[i][1:]\n",
    "            print(\" \".join(word))\n",
    "            break\n",
    "            \n",
    "    else:\n",
    "        for j in range(len(word)):\n",
    "            flag = False\n",
    "            for k in range(len(word[j])):\n",
    "                if word[j][k].upper() not in shortcut:\n",
    "                    shortcut.append(word[j][k].upper())\n",
    "                    flag = True\n",
    "                    word[j] = word[j][:k] + \"[\" + word[j][k] + \"]\" + word[j][k+1:]\n",
    "                    print(\" \".join(word))\n",
    "                    break\n",
    "            if flag:\n",
    "                break\n",
    "\n",
    "\n",
    "        else:\n",
    "            print(*word)"
   ]
  },
  {
   "cell_type": "code",
   "execution_count": 95,
   "id": "09162b4f",
   "metadata": {},
   "outputs": [
    {
     "name": "stdout",
     "output_type": "stream",
     "text": [
      "4\n",
      "hello\n",
      "helol\n",
      "drink\n",
      "drkin\n",
      "shuttle\n",
      "slehttu\n",
      "zoo\n",
      "zoo\n"
     ]
    }
   ],
   "source": [
    "import itertools\n",
    "n = int(input())\n",
    "\n",
    "\n",
    "for _ in range(n):\n",
    "    word = list(input())\n",
    "    comb = itertools.permutations(word, len(word))\n",
    "    \n",
    "    word_list = []\n",
    "    answer = ''\n",
    "    \n",
    "    for i in set(comb):\n",
    "        tmp = ''.join(i)\n",
    "        word_list.append(tmp)\n",
    "        \n",
    "    word_list.sort()\n",
    "    original = ''.join(word)\n",
    "    \n",
    "    if(original == max(word_list)):\n",
    "        print(original)\n",
    "        continue\n",
    "    else:\n",
    "        for i in range(len(word_list)):\n",
    "            if(original == word_list[i]):\n",
    "                answer = word_list[i+1]\n",
    "            \n",
    "\n",
    "    print(answer)"
   ]
  },
  {
   "cell_type": "code",
   "execution_count": null,
   "id": "8af38dbf",
   "metadata": {},
   "outputs": [],
   "source": [
    "4\n",
    "HELLO\n",
    "DRINK\n",
    "SHUTTLE\n",
    "ZOO"
   ]
  },
  {
   "cell_type": "code",
   "execution_count": 97,
   "id": "e68c67d9",
   "metadata": {},
   "outputs": [
    {
     "name": "stdout",
     "output_type": "stream",
     "text": [
      "4\n",
      "HELLO\n",
      "HELOL\n",
      "DRINK\n",
      "DRKIN\n",
      "SHUTTLE\n",
      "SLEHTTU\n",
      "ZOO\n",
      "ZOO\n"
     ]
    }
   ],
   "source": [
    "n = int(input())\n",
    "\n",
    "for _ in range(n):\n",
    "    string = list(input())\n",
    "    length = len(string)\n",
    "    i, j = 0, 1\n",
    "    \n",
    "    for idx in range(1, length):\n",
    "        if string[idx] > string[idx-1]:\n",
    "            if i < idx:\n",
    "                i = idx\n",
    "                \n",
    "    for idx in range(1, length):\n",
    "        if string[idx] > string[i-1]:\n",
    "            if j < idx:\n",
    "                j = idx\n",
    "                \n",
    "    if i != 0 and j != 0:\n",
    "        string[i-1], string[j] = string[j], string[i-1]\n",
    "        string[i:] = list(reversed(string[i:]))\n",
    "        \n",
    "    print(''.join(string))"
   ]
  },
  {
   "cell_type": "code",
   "execution_count": 104,
   "id": "8ec309e0",
   "metadata": {},
   "outputs": [
    {
     "data": {
      "image/png": "[encoded data removed]",
      "text/plain": [
       "<Figure size 640x480 with 1 Axes>"
      ]
     },
     "metadata": {},
     "output_type": "display_data"
    }
   ],
   "source": [
    "from matplotlib import pyplot as plt\n",
    "\n",
    "variance = [1, 2, 4, 8, 16, 32, 64, 128, 256]\n",
    "bias_squared = [256, 128, 64, 32, 16, 8, 4, 2, 1]\n",
    "total_error = [x+y for x, y in zip(variance, bias_squared)]\n",
    "xs = range(len(variance))\n",
    "\n",
    "plt.plot(xs, variance, 'g-', label='variance')\n",
    "plt.plot(xs, bias_squared, 'r-.', label = 'bias^2')\n",
    "plt.plot(xs, total_error, 'b:', label= 'total error')\n",
    "\n",
    "plt.legend(loc = 'upper center')\n",
    "plt.xlabel('model complexity')\n",
    "plt.xticks([])\n",
    "plt.title(\"the bias ...\")\n",
    "plt.show()"
   ]
  },
  {
   "cell_type": "code",
   "execution_count": 107,
   "id": "23ae6133",
   "metadata": {},
   "outputs": [
    {
     "data": {
      "image/png": "[encoded data removed]",
      "text/plain": [
       "<Figure size 640x480 with 1 Axes>"
      ]
     },
     "metadata": {},
     "output_type": "display_data"
    }
   ],
   "source": [
    "movies = ['Harry Potter', 'A rainy day in New York', 'Forest Gump']\n",
    "num_oscars = [5, 11, 3]\n",
    "\n",
    "plt.bar(movies, num_oscars)\n",
    "\n",
    "plt.title(\"my favorite movies\")\n",
    "plt.ylabel('# of academy')\n",
    "\n",
    "plt.show()"
   ]
  },
  {
   "cell_type": "code",
   "execution_count": 114,
   "id": "8c4f3bec",
   "metadata": {},
   "outputs": [
    {
     "name": "stdout",
     "output_type": "stream",
     "text": [
      "9 4\n",
      "4 3 5 4 6 5 7 6 6\n",
      "1\n"
     ]
    }
   ],
   "source": [
    "c, p = map(int,input().split())\n",
    "fd = list(map(int, input().split()))\n",
    "ans = 0\n",
    "\n",
    "if p == 1:\n",
    "    ans += c #세우는 경우\n",
    "    for i in range(c-3): #눕히는 경우\n",
    "        if fd[i] == fd[i+1] and fd[i+1] == fd[i+2] and fd[i+2] == fd[i+3]:\n",
    "            ans += 1\n",
    "            \n",
    "            \n",
    "if p == 2:\n",
    "    for i in range(c-1):\n",
    "        if fd[i] == fd[i+1]:\n",
    "            ans += 1\n",
    "            \n",
    "if p == 3:\n",
    "    for i in range(c-2): #눕히는 경우(001)\n",
    "        if fd[i] == fd[i+1] and fd[i+1] == fd[i+2]-1:\n",
    "            ans += 1\n",
    "            \n",
    "    for i in range(c-1): #세우는 경우 (10)\n",
    "        if fd[i] == fd[i+1]+1:\n",
    "            ans += 1\n",
    "            \n",
    "            \n",
    "if p == 4:\n",
    "    for i in range(c-2):\n",
    "        if fd[i]-1 == fd[i+1] and fd[i+1] == fd[i+2]:\n",
    "            ans += 1\n",
    "\n",
    "    for i in range(c-1):\n",
    "        if fd[i]+1 == fd[i+1]:\n",
    "            ans += 1\n",
    "            \n",
    "            \n",
    "if p == 5:\n",
    "    for i in range(c-2):\n",
    "        if fd[i] == fd[i+1] and fd[i+1] == fd[i+2]:\n",
    "            ans += 1\n",
    "        if fd[i]-1 == fd[i+1] and fd[i+1] == fd[i+2]-1:\n",
    "            ans += 1\n",
    "            \n",
    "    for i in range(c-1):\n",
    "        if fd[i]-1 == fd[i+1]:\n",
    "            ans += 1\n",
    "        if fd[i]+1 == fd[i+1]:\n",
    "            ans += 1\n",
    "            \n",
    "            \n",
    "if p == 6:\n",
    "    for i in range(c-2):\n",
    "        if fd[i] == fd[i+1] and fd[i+1] == fd[i+2]:\n",
    "            ans += 1\n",
    "        if fd[i]+1 == fd[i+1] and fd[i+1] == fd[i+2]:\n",
    "            ans += 1\n",
    "    \n",
    "    for i in range(c-1):\n",
    "        if fd[i] == fd[i+1]:\n",
    "            ans += 1\n",
    "        if fd[i]-2 == fd[i+1]:\n",
    "            ans += 1\n",
    "            \n",
    "            \n",
    "if p == 7:\n",
    "    for i in range(c-2):\n",
    "        if fd[i] == fd[i+1] and fd[i+1] == fd[i+2]:\n",
    "            ans += 1\n",
    "        if fd[i] == fd[i+1] and fd[i+1]-1 == fd[i+2]:\n",
    "            ans += 1\n",
    "            \n",
    "    for i in range(c-1):\n",
    "        if fd[i] == fd[i+1]:\n",
    "            ans += 1\n",
    "        if fd[i]+2 == fd[i+1]:\n",
    "            ans += 1\n",
    "            \n",
    "            \n",
    "            \n",
    "print(ans)\n",
    "    "
   ]
  },
  {
   "cell_type": "markdown",
   "id": "c50b2191",
   "metadata": {},
   "source": [
    "# 시각화 실습"
   ]
  },
  {
   "cell_type": "code",
   "execution_count": 116,
   "id": "455d465d",
   "metadata": {},
   "outputs": [
    {
     "data": {
      "image/png": "[encoded data removed]",
      "text/plain": [
       "<Figure size 640x480 with 1 Axes>"
      ]
     },
     "metadata": {},
     "output_type": "display_data"
    }
   ],
   "source": [
    "from matplotlib import pyplot as plt\n",
    "\n",
    "years = [1950, 1960, 1970, 1980, 1990, 2000, 2010]\n",
    "gdp = [300.2, 543.3, 1075.9, 2862.5, 5979.6, 10289.7, 14958.3]\n",
    "\n",
    "plt.plot(years, gdp, color='blue', marker='o', linestyle='solid')\n",
    "\n",
    "plt.title(\"nominal GDP\")\n",
    "plt.ylabel(\"billions of $\")\n",
    "plt.xlabel(\"years\")\n",
    "\n",
    "plt.show()"
   ]
  },
  {
   "cell_type": "code",
   "execution_count": 145,
   "id": "fd536b62",
   "metadata": {},
   "outputs": [
    {
     "name": "stdout",
     "output_type": "stream",
     "text": [
      "[257, 130, 68, 40, 32, 40, 68, 130, 257]\n"
     ]
    },
    {
     "data": {
      "image/png": "[encoded data removed]",
      "text/plain": [
       "<Figure size 640x480 with 1 Axes>"
      ]
     },
     "metadata": {},
     "output_type": "display_data"
    }
   ],
   "source": [
    "from matplotlib import pyplot as plt\n",
    "\n",
    "variance = [1, 2, 4, 8, 16, 32, 64, 128, 256]\n",
    "bias_squared = [256, 128, 64, 32, 16, 8, 4, 2, 1]\n",
    "\n",
    "total_error = [x+y for x, y in zip(variance, bias_squared)]\n",
    "print(total_error)\n",
    "xs = range(len(variance))\n",
    "\n",
    "plt.plot(xs, variance, 'g-', label='variance')\n",
    "plt.plot(xs, bias_squared, 'r-.', label='bias^2')\n",
    "plt.plot(xs, total_error, 'b:', label='total error')\n",
    "\n",
    "plt.legend(loc='center')\n",
    "plt.xlabel(\"model complexity\")\n",
    "plt.xticks([])\n",
    "plt.title(\"the bias of ...\")\n",
    "plt.show()"
   ]
  },
  {
   "cell_type": "code",
   "execution_count": 127,
   "id": "dec02ca6",
   "metadata": {},
   "outputs": [
    {
     "data": {
      "image/png": "[encoded data removed]",
      "text/plain": [
       "<Figure size 640x480 with 1 Axes>"
      ]
     },
     "metadata": {},
     "output_type": "display_data"
    }
   ],
   "source": [
    "movies = [\"annie\", \"ben\", \"casablanca\"]\n",
    "num_oscars = [5, 11, 3]\n",
    "\n",
    "plt.bar(movies, num_oscars)\n",
    "\n",
    "plt.title(\"movies...\")\n",
    "plt.ylabel('# of awards')\n",
    "plt.show()"
   ]
  },
  {
   "cell_type": "code",
   "execution_count": 146,
   "id": "9a164028",
   "metadata": {},
   "outputs": [
    {
     "name": "stdout",
     "output_type": "stream",
     "text": [
      "Counter({80: 4, 90: 3, 70: 1, 0: 1, 60: 1})\n"
     ]
    },
    {
     "data": {
      "text/plain": [
       "Text(0, 0.5, '# of students')"
      ]
     },
     "execution_count": 146,
     "metadata": {},
     "output_type": "execute_result"
    },
    {
     "data": {
      "image/png": "[encoded data removed]",
      "text/plain": [
       "<Figure size 640x480 with 1 Axes>"
      ]
     },
     "metadata": {},
     "output_type": "display_data"
    }
   ],
   "source": [
    "from collections import Counter\n",
    "\n",
    "grades = [83, 95, 91, 87, 70, 0, 85, 82, 100, 67]\n",
    "histogram = Counter(min(90, grade // 10*10) for grade in grades)\n",
    "print(histogram)\n",
    "plt.bar([x+5 for x in histogram.keys()], histogram.values(), width=10, edgecolor='black')\n",
    "\n",
    "plt.xticks(range(0, 101, 10))\n",
    "plt.xlabel('decile')\n",
    "plt.ylabel('# of students')\n"
   ]
  },
  {
   "cell_type": "code",
   "execution_count": 151,
   "id": "b9d410b9",
   "metadata": {},
   "outputs": [
    {
     "name": "stdout",
     "output_type": "stream",
     "text": [
      "['r', 'b', 'g']\n",
      "[1, 2, 6]\n"
     ]
    },
    {
     "data": {
      "image/png": "[encoded data removed]",
      "text/plain": [
       "<Figure size 640x480 with 1 Axes>"
      ]
     },
     "metadata": {},
     "output_type": "display_data"
    }
   ],
   "source": [
    "import networkx as nx\n",
    "\n",
    "G = nx.Graph()\n",
    "\n",
    "G.add_edge('A', 'B', color = 'r', weight=1)\n",
    "G.add_edge('C', 'B', color = 'b', weight=2)\n",
    "G.add_edge('B', 'D', color = 'g', weight=6)\n",
    "\n",
    "pos = nx.spring_layout(G)\n",
    "\n",
    "colors = list(nx.get_edge_attributes(G, 'color').values())\n",
    "weights = list(nx.get_edge_attributes(G, 'weight').values())\n",
    "\n",
    "print(colors)\n",
    "print(weights)\n",
    "\n",
    "nx.draw(G, pos, edge_color=colors, width=weights, with_labels=True)\n",
    "plt.show()"
   ]
  },
  {
   "cell_type": "code",
   "execution_count": 144,
   "id": "39a12a2a",
   "metadata": {},
   "outputs": [
    {
     "name": "stdout",
     "output_type": "stream",
     "text": [
      "a+b = [[3 5 7]\n",
      " [5 7 9]]\n",
      "a-b = [[-1 -1 -1]\n",
      " [-1 -1 -1]]\n",
      "a.T = [[1 2]\n",
      " [2 3]\n",
      " [3 4]]\n",
      "a*b = [[ 2  6 12]\n",
      " [ 6 12 20]]\n",
      "a.dot(b) = [[20 26]\n",
      " [29 38]]\n"
     ]
    }
   ],
   "source": [
    "import numpy as np\n",
    "\n",
    "a = np.array([[1, 2, 3], [2, 3, 4]])\n",
    "b = np.array([[2, 3, 4], [3, 4, 5]])\n",
    "\n",
    "print(f\"a+b = {a+b}\")\n",
    "print(f\"a-b = {a-b}\")\n",
    "print(f\"a.T = {a.T}\")\n",
    "print(f\"a*b = {a*b}\")\n",
    "print(f\"a.dot(b) = {a.dot(b.T)}\")\n"
   ]
  },
  {
   "cell_type": "code",
   "execution_count": 150,
   "id": "a7e0f1f6",
   "metadata": {},
   "outputs": [
    {
     "data": {
      "image/png": "[encoded data removed]",
      "text/plain": [
       "<Figure size 640x480 with 1 Axes>"
      ]
     },
     "metadata": {},
     "output_type": "display_data"
    }
   ],
   "source": [
    "import matplotlib.pyplot as plt\n",
    "friends = [ 70,  65,  72,  63,  71,  64,  60,  64,  67]\n",
    "minutes = [175, 170, 205, 120, 220, 130, 105, 145, 190]\n",
    "labels =  ['a', 'b', 'c', 'd', 'e', 'f', 'g', 'h', 'i']\n",
    "plt.scatter(friends, minutes)\n",
    "for l, f, m in zip(labels, friends, minutes):\n",
    "    plt.annotate(l, xy=(f, m), xytext=(1,-1), textcoords=\"offset points\")\n",
    "    \n",
    "plt.title(\"Daily Minutes vs. Number of Friends\")\n",
    "plt.xlabel(\"# of friends\")\n",
    "plt.ylabel(\"daily minutes spent on the site\")\n",
    "plt.show()"
   ]
  },
  {
   "cell_type": "markdown",
   "id": "8d6eccba",
   "metadata": {},
   "source": [
    "# Pytorch 실습 (Linear Regression)\n",
    "\n",
    "---\n"
   ]
  },
  {
   "cell_type": "code",
   "execution_count": 153,
   "id": "bd31e964",
   "metadata": {},
   "outputs": [
    {
     "name": "stdout",
     "output_type": "stream",
     "text": [
      "x =  tensor([[1, 2, 3],\n",
      "        [4, 5, 6],\n",
      "        [7, 8, 9]])\n",
      "y =  tensor([[1., 2., 3.],\n",
      "        [4., 5., 6.],\n",
      "        [7., 8., 9.]])\n"
     ]
    }
   ],
   "source": [
    "import torch\n",
    "\n",
    "x = torch.tensor([[1,2,3], [4,5,6], [7,8,9]])\n",
    "y = torch.FloatTensor([[1,2,3], [4,5,6], [7,8,9]])\n",
    "\n",
    "print(\"x = \", x)\n",
    "print(\"y = \", y)"
   ]
  },
  {
   "cell_type": "code",
   "execution_count": 156,
   "id": "727a856a",
   "metadata": {},
   "outputs": [
    {
     "name": "stdout",
     "output_type": "stream",
     "text": [
      "Size : torch.Size([3, 3])\n",
      "Shape : torch.Size([3, 3])\n",
      "차원(랭크) : 2\n",
      "차원(랭크) : 2\n"
     ]
    }
   ],
   "source": [
    "print(\"Size :\", x.size())\n",
    "print(\"Shape :\", x.shape)\n",
    "print(\"차원(랭크) :\", x.ndimension())\n",
    "print(\"차원(랭크) :\", len(x.shape))"
   ]
  },
  {
   "cell_type": "code",
   "execution_count": 157,
   "id": "c561e029",
   "metadata": {},
   "outputs": [
    {
     "name": "stdout",
     "output_type": "stream",
     "text": [
      "x0.shape : torch.Size([1, 3, 3])\n",
      "x1.shape : torch.Size([3, 1, 3])\n",
      "x2.shape : torch.Size([3, 3, 1])\n",
      "x0 = tensor([[[1, 2, 3],\n",
      "         [4, 5, 6],\n",
      "         [7, 8, 9]]])\n",
      "x1 = tensor([[[1, 2, 3]],\n",
      "\n",
      "        [[4, 5, 6]],\n",
      "\n",
      "        [[7, 8, 9]]])\n",
      "x2 = tensor([[[1],\n",
      "         [2],\n",
      "         [3]],\n",
      "\n",
      "        [[4],\n",
      "         [5],\n",
      "         [6]],\n",
      "\n",
      "        [[7],\n",
      "         [8],\n",
      "         [9]]])\n"
     ]
    }
   ],
   "source": [
    "x0 = torch.unsqueeze(x, 0)\n",
    "x1 = torch.unsqueeze(x, 1)\n",
    "x2 = torch.unsqueeze(x, 2)\n",
    "\n",
    "print(\"x0.shape :\", x0.shape)\n",
    "print(\"x1.shape :\", x1.shape)\n",
    "print(\"x2.shape :\", x2.shape)\n",
    "\n",
    "print(\"x0 =\", x0)\n",
    "print(\"x1 =\", x1)\n",
    "print(\"x2 =\", x2)"
   ]
  },
  {
   "cell_type": "code",
   "execution_count": 162,
   "id": "c8c98d8a",
   "metadata": {},
   "outputs": [
    {
     "name": "stdout",
     "output_type": "stream",
     "text": [
      "x3 = tensor([[1, 2, 3],\n",
      "        [4, 5, 6],\n",
      "        [7, 8, 9]])\n",
      "x3.shape = torch.Size([3, 3])\n"
     ]
    }
   ],
   "source": [
    "x3 = torch.squeeze(x0)\n",
    "print(\"x3 =\", x3)\n",
    "print(\"x3.shape =\", x3.shape)"
   ]
  },
  {
   "cell_type": "code",
   "execution_count": 166,
   "id": "3239bb99",
   "metadata": {},
   "outputs": [
    {
     "name": "stdout",
     "output_type": "stream",
     "text": [
      "원래 x : tensor([[1, 2, 3],\n",
      "        [4, 5, 6],\n",
      "        [7, 8, 9]])\n",
      "x4 = tensor([1, 2, 3, 4, 5, 6, 7, 8, 9])\n",
      "x5 = tensor([[[1, 2, 3],\n",
      "         [4, 5, 6],\n",
      "         [7, 8, 9]]])\n"
     ]
    }
   ],
   "source": [
    "print(\"원래 x :\", x)\n",
    "x4 = x.view(9)\n",
    "x5 = x.view(1, 3, 3)\n",
    "\n",
    "print(\"x4 =\", x4)\n",
    "print(\"x5 =\", x5)"
   ]
  },
  {
   "cell_type": "code",
   "execution_count": 169,
   "id": "46db732f",
   "metadata": {},
   "outputs": [
    {
     "name": "stdout",
     "output_type": "stream",
     "text": [
      "tensor([[1., 2.],\n",
      "        [3., 4.],\n",
      "        [5., 6.]])\n",
      "tensor([[-0.5585, -1.8539]])\n",
      "tensor([[ 0.0648],\n",
      "        [-0.0457],\n",
      "        [-1.1059]])\n",
      "tensor([[ -4.2016],\n",
      "        [ -9.1370],\n",
      "        [-15.0221]])\n"
     ]
    }
   ],
   "source": [
    "x = torch.FloatTensor([[1,2], [3,4], [5,6]])\n",
    "w = torch.randn(1, 2, dtype=torch.float)\n",
    "b = torch.randn(3, 1, dtype=torch.float)\n",
    "\n",
    "result = torch.mm(x, torch.t(w)) + b\n",
    "print(x)\n",
    "print(w)\n",
    "print(b)\n",
    "print(result)"
   ]
  },
  {
   "cell_type": "code",
   "execution_count": 173,
   "id": "72945fdc",
   "metadata": {},
   "outputs": [
    {
     "name": "stdout",
     "output_type": "stream",
     "text": [
      "l을 w로 미분한 값은 (기울기는) tensor(18.)\n"
     ]
    }
   ],
   "source": [
    "w = torch.tensor(1.0, requires_grad=True)\n",
    "a = w*3\n",
    "l = a**2\n",
    "l.backward()\n",
    "\n",
    "print('l을 w로 미분한 값은 (기울기는)', w.grad)"
   ]
  },
  {
   "cell_type": "code",
   "execution_count": 177,
   "id": "741f259a",
   "metadata": {},
   "outputs": [
    {
     "name": "stdout",
     "output_type": "stream",
     "text": [
      "epoch: 0, cost: 57.719006, w: tensor([1.2000, 0.9721]), b: tensor([[0.6187]])\n",
      "epoch: 100, cost: 1.587338, w: tensor([0.6751, 3.1204]), b: tensor([[-1.3218]])\n",
      "epoch: 200, cost: 0.761837, w: tensor([0.9184, 3.1822]), b: tensor([[-2.1711]])\n",
      "epoch: 300, cost: 0.390830, w: tensor([1.2097, 3.1415]), b: tensor([[-2.6992]])\n",
      "epoch: 400, cost: 0.200846, w: tensor([1.4318, 3.1027]), b: tensor([[-3.0687]])\n",
      "epoch: 500, cost: 0.103219, w: tensor([1.5924, 3.0737]), b: tensor([[-3.3325]])\n",
      "epoch: 600, cost: 0.053046, w: tensor([1.7078, 3.0529]), b: tensor([[-3.5215]])\n",
      "epoch: 700, cost: 0.027261, w: tensor([1.7905, 3.0379]), b: tensor([[-3.6570]])\n",
      "epoch: 800, cost: 0.014010, w: tensor([1.8498, 3.0272]), b: tensor([[-3.7541]])\n",
      "epoch: 900, cost: 0.007200, w: tensor([1.8924, 3.0195]), b: tensor([[-3.8237]])\n",
      "epoch: 1000, cost: 0.003700, w: tensor([1.9228, 3.0140]), b: tensor([[-3.8736]])\n",
      "epoch: 1100, cost: 0.001902, w: tensor([1.9447, 3.0100]), b: tensor([[-3.9094]])\n",
      "epoch: 1200, cost: 0.000977, w: tensor([1.9603, 3.0072]), b: tensor([[-3.9350]])\n",
      "epoch: 1300, cost: 0.000502, w: tensor([1.9716, 3.0051]), b: tensor([[-3.9534]])\n",
      "epoch: 1400, cost: 0.000258, w: tensor([1.9796, 3.0037]), b: tensor([[-3.9666]])\n",
      "epoch: 1500, cost: 0.000133, w: tensor([1.9854, 3.0026]), b: tensor([[-3.9761]])\n",
      "epoch: 1600, cost: 0.000068, w: tensor([1.9895, 3.0019]), b: tensor([[-3.9828]])\n",
      "epoch: 1700, cost: 0.000035, w: tensor([1.9925, 3.0014]), b: tensor([[-3.9877]])\n",
      "epoch: 1800, cost: 0.000018, w: tensor([1.9946, 3.0010]), b: tensor([[-3.9912]])\n",
      "epoch: 1900, cost: 0.000009, w: tensor([1.9961, 3.0007]), b: tensor([[-3.9937]])\n",
      "epoch: 2000, cost: 0.000005, w: tensor([1.9972, 3.0005]), b: tensor([[-3.9955]])\n",
      "epoch: 2100, cost: 0.000002, w: tensor([1.9980, 3.0004]), b: tensor([[-3.9968]])\n",
      "epoch: 2200, cost: 0.000001, w: tensor([1.9986, 3.0003]), b: tensor([[-3.9977]])\n",
      "epoch: 2300, cost: 0.000001, w: tensor([1.9990, 3.0002]), b: tensor([[-3.9983]])\n",
      "epoch: 2400, cost: 0.000000, w: tensor([1.9993, 3.0001]), b: tensor([[-3.9988]])\n",
      "epoch: 2500, cost: 0.000000, w: tensor([1.9995, 3.0001]), b: tensor([[-3.9991]])\n",
      "epoch: 2600, cost: 0.000000, w: tensor([1.9996, 3.0001]), b: tensor([[-3.9994]])\n",
      "epoch: 2700, cost: 0.000000, w: tensor([1.9997, 3.0000]), b: tensor([[-3.9996]])\n",
      "epoch: 2800, cost: 0.000000, w: tensor([1.9998, 3.0000]), b: tensor([[-3.9997]])\n",
      "epoch: 2900, cost: 0.000000, w: tensor([1.9999, 3.0000]), b: tensor([[-3.9998]])\n",
      "epoch: 3000, cost: 0.000000, w: tensor([1.9999, 3.0000]), b: tensor([[-3.9998]])\n"
     ]
    }
   ],
   "source": [
    "import torch\n",
    "\n",
    "x_train = torch.FloatTensor([[1,2], [3,2], [3,7], [1,1], [1,0]])\n",
    "y_train = torch.FloatTensor([[4], [8], [23], [1], [-2]])\n",
    "\n",
    "w = torch.rand(2, 1)\n",
    "b = torch.rand(1, 1)\n",
    "\n",
    "lr = 0.01\n",
    "\n",
    "\n",
    "for epoch in range(3001):\n",
    "    w.requires_grad_(True)\n",
    "    b.requires_grad_(True)\n",
    "    \n",
    "    hypothesis = x_train @ w + b\n",
    "    cost = torch.mean((hypothesis - y_train) ** 2)\n",
    "    \n",
    "    #경사 계산\n",
    "    cost.backward()\n",
    "    with torch.no_grad() as grd:\n",
    "        w = w - lr * w.grad\n",
    "        b = b - lr * b.grad\n",
    "        \n",
    "        \n",
    "    if epoch%100 == 0:\n",
    "        print('epoch: {}, cost: {:4f}, w: {}, b: {}'.format(epoch, cost.item(), w.squeeze(), b))"
   ]
  },
  {
   "cell_type": "code",
   "execution_count": 178,
   "id": "08ea61f1",
   "metadata": {},
   "outputs": [
    {
     "name": "stdout",
     "output_type": "stream",
     "text": [
      "tensor([[35.9998]])\n"
     ]
    }
   ],
   "source": [
    "x_test = torch.FloatTensor([[5, 10]])\n",
    "test_result = x_test@w + b\n",
    "print(test_result)"
   ]
  },
  {
   "cell_type": "markdown",
   "id": "4654919d",
   "metadata": {},
   "source": [
    "# Scikit-Learn 실습 (Linear Regression)\n",
    "\n",
    "---\n"
   ]
  },
  {
   "cell_type": "code",
   "execution_count": 183,
   "id": "8277b28c",
   "metadata": {},
   "outputs": [
    {
     "name": "stdout",
     "output_type": "stream",
     "text": [
      "[[2. 3.]] [-4.]\n"
     ]
    }
   ],
   "source": [
    "from sklearn.linear_model import LinearRegression\n",
    "\n",
    "x = [[1,2], [3,2], [3,7], [1,1], [1,0]]\n",
    "y = [[4], [8], [23], [1], [-2]]\n",
    "\n",
    "lr = LinearRegression()\n",
    "lr.fit(x, y)\n",
    "\n",
    "# coef 는 기울기 값 (w에 해당)\n",
    "# intercept 는 y절편 값 (b에 해당)\n",
    "print(lr.coef_, lr.intercept_)"
   ]
  },
  {
   "cell_type": "code",
   "execution_count": 184,
   "id": "7af68a7a",
   "metadata": {},
   "outputs": [
    {
     "name": "stdout",
     "output_type": "stream",
     "text": [
      "[[36.]]\n"
     ]
    }
   ],
   "source": [
    "# y 값 예측하기\n",
    "print(lr.predict([[5, 10]]))"
   ]
  },
  {
   "cell_type": "markdown",
   "id": "58675803",
   "metadata": {},
   "source": [
    "# Pytorch로 Logistic Regression 구현\n",
    "\n",
    "---\n",
    "\n",
    "\n",
    "==\n",
    "\n"
   ]
  },
  {
   "cell_type": "code",
   "execution_count": 198,
   "id": "fcb72cdb",
   "metadata": {},
   "outputs": [
    {
     "name": "stdout",
     "output_type": "stream",
     "text": [
      "0 0.6931471824645996 -0.15416663885116577 0.0833333283662796\n",
      "100 0.4202210009098053 -1.4512810707092285 4.406925201416016\n",
      "200 0.3987215459346771 -1.8984332084655762 5.773750305175781\n",
      "300 0.39082038402557373 -2.1743228435516357 6.609555244445801\n",
      "400 0.3870086967945099 -2.367328643798828 7.191599369049072\n",
      "500 0.3849242627620697 -2.5106258392333984 7.622530460357666\n",
      "600 0.38369879126548767 -2.620778799057007 7.9531636238098145\n",
      "700 0.38294360041618347 -2.707397222518921 8.212803840637207\n",
      "800 0.38246288895606995 -2.7765953540802 8.42002010345459\n",
      "900 0.38214942812919617 -2.8325202465057373 8.587359428405762\n",
      "1000 0.38194143772125244 -2.8781116008758545 8.7236967086792\n",
      "1100 0.38180145621299744 -2.9155290126800537 8.835537910461426\n",
      "1200 0.3817063271999359 -2.9464011192321777 8.927779197692871\n",
      "1300 0.3816410303115845 -2.9719793796539307 9.004179954528809\n",
      "1400 0.3815959692001343 -2.9932398796081543 9.067667961120605\n",
      "1500 0.3815646469593048 -3.010967493057251 9.12059497833252\n",
      "1600 0.381542831659317 -3.025775909423828 9.164799690246582\n",
      "1700 0.38152751326560974 -3.0381710529327393 9.201793670654297\n",
      "1800 0.3815166652202606 -3.04856014251709 9.23279857635498\n",
      "1900 0.38150909543037415 -3.057278871536255 9.258814811706543\n",
      "2000 0.3815038502216339 -3.0646042823791504 9.280672073364258\n",
      "2100 0.3815000057220459 -3.0707647800445557 9.299052238464355\n",
      "2200 0.3814972937107086 -3.0759482383728027 9.3145170211792\n",
      "2300 0.38149547576904297 -3.0803143978118896 9.32754135131836\n",
      "2400 0.3814941346645355 -3.083991527557373 9.33851146697998\n",
      "2500 0.38149312138557434 -3.0870907306671143 9.347756385803223\n",
      "2600 0.3814925253391266 -3.0897037982940674 9.355550765991211\n",
      "2700 0.38149192929267883 -3.0919084548950195 9.362126350402832\n",
      "2800 0.38149163126945496 -3.093768835067749 9.36767578125\n",
      "2900 0.38149139285087585 -3.0953376293182373 9.372355461120605\n",
      "3000 0.3814913332462311 -3.0966615676879883 9.376304626464844\n"
     ]
    }
   ],
   "source": [
    "import torch\n",
    "\n",
    "x_train = torch.FloatTensor([[1],[2],[3],[4],[5],[2.5],[3.5],[0],[3.1],[2.7],[2.8],[2.9]])\n",
    "y_train = torch.FloatTensor([[1],[1],[1],[0],[0],[0],[0],[1],[0],[1],[1],[1]])\n",
    "\n",
    "w = torch.zeros(1, 1)\n",
    "b = torch.zeros(1, 1)\n",
    "\n",
    "lr = 1.0\n",
    "\n",
    "for epoch in range(3001):\n",
    "    # w랑 b로 미분을 할 것이다\n",
    "    w.requires_grad_(True)\n",
    "    b.requires_grad_(True)\n",
    "    \n",
    "    hypothesis = torch.sigmoid(x_train@w + b)\n",
    "    \n",
    "    cost = torch.mean(-y_train * torch.log(hypothesis) - (1-y_train) * torch.log(1-hypothesis))\n",
    "    cost.backward()\n",
    "    \n",
    "    with torch.no_grad() as grd:\n",
    "        w = w - lr * w.grad\n",
    "        b = b - lr * b.grad\n",
    "        \n",
    "        if epoch % 100 == 0:\n",
    "            print(epoch, cost.item(), w.item(), b.item())\n",
    "    "
   ]
  },
  {
   "cell_type": "code",
   "execution_count": 202,
   "id": "e6a63cf6",
   "metadata": {},
   "outputs": [
    {
     "name": "stdout",
     "output_type": "stream",
     "text": [
      "tensor([[0.0104],\n",
      "        [0.9975]])\n",
      "tensor([[0.],\n",
      "        [1.]])\n"
     ]
    }
   ],
   "source": [
    "# 값 넣었을 때 어떻게 나오는지 확인하기\n",
    "\n",
    "x_test = torch.FloatTensor([[4.5], [1.1]])\n",
    "test_result = torch.sigmoid(x_test @ w + b)\n",
    "\n",
    "print(test_result)\n",
    "print(torch.round(test_result))"
   ]
  },
  {
   "cell_type": "markdown",
   "id": "3ec92d8a",
   "metadata": {},
   "source": [
    "# matplotlib으로 결과 시각화\n",
    "\n",
    "---\n",
    "\n",
    "\n"
   ]
  },
  {
   "cell_type": "code",
   "execution_count": 203,
   "id": "985e4897",
   "metadata": {},
   "outputs": [
    {
     "data": {
      "image/png": "[encoded data removed]",
      "text/plain": [
       "<Figure size 640x480 with 1 Axes>"
      ]
     },
     "metadata": {},
     "output_type": "display_data"
    }
   ],
   "source": [
    "import matplotlib.pyplot as plt\n",
    "\n",
    "w.requires_grad_(False)\n",
    "b.requires_grad_(False)\n",
    "\n",
    "plt.scatter(x_train, y_train, c='black')\n",
    "\n",
    "x = torch.linspace(0, 5, 100).unsqueeze(1)\n",
    "y = torch.sigmoid(x @ w + b)\n",
    "\n",
    "plt.plot(x, y, c='#ff0000')\n",
    "plt.show()"
   ]
  },
  {
   "cell_type": "markdown",
   "id": "7f32ac5d",
   "metadata": {},
   "source": [
    "# sklearn에서 logistic regression 사용\n",
    "\n",
    "---\n",
    "\n",
    "\n"
   ]
  },
  {
   "cell_type": "code",
   "execution_count": 205,
   "id": "350979a4",
   "metadata": {},
   "outputs": [
    {
     "name": "stdout",
     "output_type": "stream",
     "text": [
      "[[-3.10385806]] [9.39776831]\n",
      "[0 1]\n"
     ]
    }
   ],
   "source": [
    "from sklearn.linear_model import LogisticRegression\n",
    "\n",
    "x_train = [[1],[2],[3],[4],[5],[2.5],[3.5],[0],[3.1],[2.7],[2.8],[2.9]]\n",
    "y_train = [1,1,1,0,0,0,0,1,0,1,1,1]\n",
    "\n",
    "\n",
    "model = LogisticRegression(penalty='none')\n",
    "model.fit(x_train, y_train)\n",
    "\n",
    "\n",
    "#w 랑 b 출력\n",
    "print(model.coef_, model.intercept_)\n",
    "\n",
    "x_test = [[4.5], [1.1]]\n",
    "test_result = model.predict(x_test)\n",
    "\n",
    "print(test_result)"
   ]
  },
  {
   "cell_type": "markdown",
   "id": "342e5f7d",
   "metadata": {},
   "source": [
    "# Pytorch로 Softmax Regression 구현\n",
    "\n",
    "--\n",
    "\n",
    "--"
   ]
  },
  {
   "cell_type": "code",
   "execution_count": 209,
   "id": "7eda83ce",
   "metadata": {},
   "outputs": [
    {
     "name": "stdout",
     "output_type": "stream",
     "text": [
      "epoch: 0, cost: 10.903650\n",
      "epoch: 300, cost: 0.206893\n",
      "epoch: 600, cost: 0.100187\n",
      "epoch: 900, cost: 0.058310\n",
      "epoch: 1200, cost: 0.037730\n",
      "epoch: 1500, cost: 0.026148\n",
      "epoch: 1800, cost: 0.019006\n",
      "epoch: 2100, cost: 0.014301\n",
      "epoch: 2400, cost: 0.011043\n",
      "epoch: 2700, cost: 0.008697\n",
      "epoch: 3000, cost: 0.006958\n"
     ]
    }
   ],
   "source": [
    "import torch\n",
    "\n",
    "\n",
    "x_train = torch.FloatTensor([ [1,2,1,1], [2,1,3,2], [3,1,3,4], [4,1,5,5], [1,7,5,5], [1,2,5,6], [1,6,6,6], [1,7,7,7] ])\n",
    "y_train = torch.FloatTensor([ [0,0,1], [0,0,1], [0,0,1], [0,1,0], [0,1,0], [0,1,0], [1,0,0], [1,0,0] ])\n",
    "\n",
    "\n",
    "w = torch.randn(4, 3, requires_grad=True)\n",
    "b = torch.randn(1, 3, requires_grad=True)\n",
    "\n",
    "optimizer = torch.optim.Adam([w, b], lr = 0.1)\n",
    "\n",
    "\n",
    "for epoch in range(3001):\n",
    "    hypothesis = torch.softmax(x_train @ w + b, dim=1)\n",
    "    cost = -torch.mean(torch.sum(y_train * torch.log(hypothesis), dim=1))\n",
    "    \n",
    "    optimizer.zero_grad()\n",
    "    cost.backward()     \n",
    "    optimizer.step()\n",
    "    \n",
    "    if epoch % 300 == 0:\n",
    "        print(\"epoch: {}, cost: {:.6f}\".format(epoch, cost.item()))"
   ]
  },
  {
   "cell_type": "code",
   "execution_count": 212,
   "id": "84ecb725",
   "metadata": {},
   "outputs": [
    {
     "name": "stdout",
     "output_type": "stream",
     "text": [
      "tensor([[1.0000e+00, 6.1812e-16, 4.2929e-32],\n",
      "        [3.6669e-03, 7.3710e-01, 2.5923e-01],\n",
      "        [2.7130e-28, 6.0806e-10, 1.0000e+00]])\n",
      "tensor([0, 1, 2])\n"
     ]
    }
   ],
   "source": [
    "# x 값 주어졌을 때 y 값 출력해보기\n",
    "\n",
    "w.requires_grad_(False)\n",
    "b.requires_grad_(False)\n",
    "\n",
    "x_test = torch.FloatTensor([[1,11,10,9], [1,3,4,3], [1,1,0,1]])\n",
    "test_all = torch.softmax(x_test @ w + b, dim=1)\n",
    "\n",
    "print(test_all)\n",
    "print(torch.argmax(test_all, dim=1)) # 제일 큰 애의 인덱스 리턴"
   ]
  },
  {
   "cell_type": "markdown",
   "id": "b7175296",
   "metadata": {},
   "source": [
    "# softmax를 좀 더 깔끔하게 해보기\n",
    "\n",
    "--\n",
    "--\n"
   ]
  },
  {
   "cell_type": "code",
   "execution_count": 216,
   "id": "09ada280",
   "metadata": {},
   "outputs": [
    {
     "name": "stdout",
     "output_type": "stream",
     "text": [
      "epoch: 0, cost: 5.473145\n",
      "epoch: 300, cost: 0.143968\n",
      "epoch: 600, cost: 0.064403\n",
      "epoch: 900, cost: 0.036213\n",
      "epoch: 1200, cost: 0.023036\n",
      "epoch: 1500, cost: 0.015827\n",
      "epoch: 1800, cost: 0.011451\n",
      "epoch: 2100, cost: 0.008595\n",
      "epoch: 2400, cost: 0.006628\n",
      "epoch: 2700, cost: 0.005217\n",
      "epoch: 3000, cost: 0.004172\n"
     ]
    }
   ],
   "source": [
    "import torch.nn.functional as F\n",
    "import torch\n",
    "\n",
    "x_train = torch.FloatTensor([ [1,2,1,1], [2,1,3,2], [3,1,3,4], [4,1,5,5], [1,7,5,5], [1,2,5,6], [1,6,6,6], [1,7,7,7] ])\n",
    "\n",
    "# y_train = torch.FloatTensor([ [0,0,1], [0,0,1], [0,0,1], [0,1,0], [0,1,0], [0,1,0], [1,0,0], [1,0,0] ]) \n",
    "y_train = torch.LongTensor([2,2,2,1,1,1,0,0])\n",
    "\n",
    "w = torch.randn(4, 3, requires_grad=True)\n",
    "b = torch.randn(1, 3, requires_grad=True)\n",
    "\n",
    "optimizer = torch.optim.Adam([w, b], lr = 0.1)\n",
    "\n",
    "\n",
    "for epoch in range(3001):\n",
    "    # hypothesis = torch.softmax(torch.mm(x_train, W)+b, dim=1)\n",
    "    # cost = -torch.mean(torch.sum(y_train * torch.log(hypothesis), dim=1))\n",
    "    hypothesis = x_train @ w + b\n",
    "    cost = F.cross_entropy(hypothesis, y_train)  #F.cross_entropy는 softmax와 cross entropy를 합친 것\n",
    "    \n",
    "    optimizer.zero_grad()\n",
    "    cost.backward()     \n",
    "    optimizer.step()\n",
    "    \n",
    "    if epoch % 300 == 0:\n",
    "        print(\"epoch: {}, cost: {:.6f}\".format(epoch, cost.item()))"
   ]
  },
  {
   "cell_type": "code",
   "execution_count": 218,
   "id": "4f27332d",
   "metadata": {},
   "outputs": [
    {
     "name": "stdout",
     "output_type": "stream",
     "text": [
      "epoch: 0, cost: 1.884223\n",
      "epoch: 300, cost: 0.105477\n",
      "epoch: 600, cost: 0.042583\n",
      "epoch: 900, cost: 0.023023\n",
      "epoch: 1200, cost: 0.014405\n",
      "epoch: 1500, cost: 0.009821\n",
      "epoch: 1800, cost: 0.007079\n",
      "epoch: 2100, cost: 0.005303\n",
      "epoch: 2400, cost: 0.004085\n",
      "epoch: 2700, cost: 0.003214\n",
      "epoch: 3000, cost: 0.002570\n"
     ]
    }
   ],
   "source": [
    "# w, b 도 간단하게 만들어보기\n",
    "\n",
    "import torch.nn.functional as F\n",
    "import torch\n",
    "import torch.nn as nn\n",
    "\n",
    "x_train = torch.FloatTensor([ [1,2,1,1], [2,1,3,2], [3,1,3,4], [4,1,5,5], [1,7,5,5], [1,2,5,6], [1,6,6,6], [1,7,7,7] ])\n",
    "\n",
    "# y_train = torch.FloatTensor([ [0,0,1], [0,0,1], [0,0,1], [0,1,0], [0,1,0], [0,1,0], [1,0,0], [1,0,0] ]) \n",
    "y_train = torch.LongTensor([2,2,2,1,1,1,0,0])\n",
    "\n",
    "# w = torch.randn(4, 3, requires_grad=True)\n",
    "# b = torch.randn(1, 3, requires_grad=True)\n",
    "model = nn.Linear(4, 3) #(입력 벡터의 차원, 뽑아내고 싶은 출력 클래스의 개수)\n",
    "\n",
    "# optimizer = torch.optim.Adam([w, b], lr = 0.1)\n",
    "optimizer = torch.optim.Adam(model.parameters(), lr=0.1)\n",
    "\n",
    "\n",
    "for epoch in range(3001):\n",
    "    # hypothesis = torch.softmax(torch.mm(x_train, W)+b, dim=1)\n",
    "    # cost = -torch.mean(torch.sum(y_train * torch.log(hypothesis), dim=1))\n",
    "    # hypothesis = x_train @ w + b\n",
    "    hypothesis = model(x_train)\n",
    "    cost = F.cross_entropy(hypothesis, y_train)  #F.cross_entropy는 softmax와 cross entropy를 합친 것\n",
    "    \n",
    "    optimizer.zero_grad()\n",
    "    cost.backward()     \n",
    "    optimizer.step()\n",
    "    \n",
    "    if epoch % 300 == 0:\n",
    "        print(\"epoch: {}, cost: {:.6f}\".format(epoch, cost.item()))"
   ]
  },
  {
   "cell_type": "markdown",
   "id": "d3a07710",
   "metadata": {},
   "source": [
    "# Softmax Regression with Sklearn\n",
    "\n",
    "---\n",
    "\n",
    "\n",
    "---"
   ]
  },
  {
   "cell_type": "code",
   "execution_count": 219,
   "id": "297efeb6",
   "metadata": {},
   "outputs": [
    {
     "name": "stdout",
     "output_type": "stream",
     "text": [
      "[0 2 2]\n"
     ]
    }
   ],
   "source": [
    "import numpy as np\n",
    "from sklearn.linear_model import LogisticRegression\n",
    "\n",
    "\n",
    "x_train = np.array([ [1,2,1,1], [2,1,3,2], [3,1,3,4], [4,1,5,5], [1,7,5,5],\n",
    "                      [1,2,5,6], [1,6,6,6], [1,7,7,7] ])\n",
    "y_train = np.array([2,2,2,1,1,1,0,0]) # y에 0, 1, 2 등 둘 이상의 클래스가 존재 -> softmax regression\n",
    "\n",
    "\n",
    "\n",
    "logistic = LogisticRegression() # 모델 생성\n",
    "logistic.fit(x_train, y_train)  # 모델 학습\n",
    "\n",
    "pred = logistic.predict([[1,11,10,9], [1,3,4,3], [1,1,0,1]])  #test case (값 예측)\n",
    "print(pred)"
   ]
  },
  {
   "cell_type": "code",
   "execution_count": 5,
   "id": "945531a8",
   "metadata": {},
   "outputs": [
    {
     "name": "stdout",
     "output_type": "stream",
     "text": [
      "3\n",
      "i want to see you\n",
      "next week\n",
      "good luck\n",
      "i want next good luck week to see you\n",
      "Possible\n"
     ]
    }
   ],
   "source": [
    "n = int(input())\n",
    "bird = [list(input().split()) for _ in range(n)]\n",
    "answer = list(map(str, input().split()))\n",
    "\n",
    "\n",
    "for item in answer:\n",
    "    correct = False\n",
    "    for i in range(n):\n",
    "        if(len(bird[i]) != 0):\n",
    "            if item == bird[i][0]:\n",
    "                bird[i].pop(0)\n",
    "                correct = True\n",
    "                break\n",
    "    \n",
    "    if correct == False:\n",
    "        break\n",
    "        \n",
    "\n",
    "left = 0\n",
    "for line in bird:\n",
    "    left += len(line)\n",
    "    \n",
    "if correct and left == 0:\n",
    "    print(\"Possible\")\n",
    "else:\n",
    "    print(\"Impossible\")"
   ]
  },
  {
   "cell_type": "code",
   "execution_count": 9,
   "id": "e27e1124",
   "metadata": {},
   "outputs": [
    {
     "name": "stdout",
     "output_type": "stream",
     "text": [
      "10 5\n",
      "10 a\n",
      "15 b\n",
      "20 c\n",
      "25 d\n",
      "30 e\n",
      "17 f\n",
      "18 g\n",
      "26 h\n",
      "24 i\n",
      "28 j\n",
      "Started!\n",
      "10 a\n",
      "15 b\n",
      "20 c\n",
      "17 f\n",
      "18 g\n",
      "Started!\n",
      "25 d\n",
      "30 e\n",
      "26 h\n",
      "24 i\n",
      "28 j\n"
     ]
    }
   ],
   "source": [
    "n, m = map(int, input().split())\n",
    "rooms = []\n",
    "\n",
    "for _ in range(n):\n",
    "    level, name = input().split()\n",
    "    \n",
    "    if not rooms:\n",
    "        rooms.append([[int(level), name]])\n",
    "        continue\n",
    "        \n",
    "    enter = False\n",
    "    \n",
    "    for room in rooms:\n",
    "        if len(room) < m and abs(room[0][0] - int(level)) <= 10:\n",
    "            room.append([int(level), name])\n",
    "            enter = True\n",
    "            break\n",
    "    \n",
    "    if not enter:\n",
    "        rooms.append([[int(level), name]])\n",
    "        \n",
    "        \n",
    "for room in rooms:\n",
    "    room.sort(key=lambda x:x[1])\n",
    "    \n",
    "for room in rooms:\n",
    "    if len(room) == m:\n",
    "        print('Started!')\n",
    "    else:\n",
    "        print('Waiting!')\n",
    "    for level, name in room:\n",
    "        print(level, name)\n",
    "        \n",
    "        \n",
    "\n",
    "        \n",
    "    \n",
    "    "
   ]
  },
  {
   "cell_type": "code",
   "execution_count": 25,
   "id": "9bff21a7",
   "metadata": {},
   "outputs": [
    {
     "name": "stdout",
     "output_type": "stream",
     "text": [
      "1 1 1000\n",
      "1\n",
      "NO\n",
      "1\n"
     ]
    }
   ],
   "source": [
    "import sys\n",
    "input = sys.stdin.readline\n",
    "\n",
    "n, centi, t = map(int, input().split())\n",
    "big = []\n",
    "\n",
    "for _ in range(n):\n",
    "    big.append(int(input()))\n",
    "    \n",
    "count = 0\n",
    "for i in range(t):\n",
    "    big.sort(reverse=True)\n",
    "    if(big[0] == 1):\n",
    "        continue\n",
    "    else:\n",
    "        big[0] = int(big[0]/2)\n",
    "        count += 1\n",
    "    \n",
    "    if(max(big) < centi):\n",
    "        break\n",
    "        \n",
    "    \n",
    "if(max(big) < centi):\n",
    "    print(\"YES\")\n",
    "    print(count)\n",
    "else:\n",
    "    print(\"NO\")\n",
    "    print(max(big))\n"
   ]
  },
  {
   "cell_type": "code",
   "execution_count": 35,
   "id": "c96a44dd",
   "metadata": {},
   "outputs": [
    {
     "name": "stdout",
     "output_type": "stream",
     "text": [
      "5 7\n",
      "0 0 0 0 0 0 0\n",
      "0 0 0 0 0 0 0\n",
      "0 0 0 0 0 0 0\n",
      "0 0 0 0 0 0 0\n",
      "0 0 0 0 0 0 0\n",
      "0\n"
     ]
    }
   ],
   "source": [
    "from collections import deque\n",
    "\n",
    "\n",
    "def bfs(x, y):\n",
    "    queue = deque([(x, y)])\n",
    "    visited[x][y] = 1\n",
    "    sea = []\n",
    "    \n",
    "    while queue:\n",
    "        x, y = queue.popleft()\n",
    "#         print(x, y)\n",
    "        \n",
    "        num_sea = 0\n",
    "        \n",
    "        for i in range(4):   #주변 바다개수 카운트\n",
    "            nx, ny = x + dx[i], y + dy[i]\n",
    "            \n",
    "            if 0 <= nx < n and 0 <= ny < m:\n",
    "                if not graph[nx][ny]:  #바다면\n",
    "                    num_sea += 1\n",
    "                elif graph[nx][ny] and not visited[nx][ny]: #빙산이고 방문한적 없으면\n",
    "                    queue.append((nx, ny))\n",
    "                    visited[nx][ny] = 1\n",
    "                    \n",
    "            \n",
    "        if num_sea > 0:\n",
    "            sea.append((x, y, num_sea))\n",
    "            \n",
    "    for x, y, num_sea in sea:\n",
    "        graph[x][y] = max(0, graph[x][y] - num_sea)  #음수값 방지\n",
    "        \n",
    "    return 1\n",
    "                    \n",
    "                    \n",
    "\n",
    "\n",
    "n, m = map(int, input().split())\n",
    "graph = [list(map(int, input().split())) for _ in range(n)]\n",
    "ice = []\n",
    "\n",
    "for i in range(n):\n",
    "    for j in range(m):\n",
    "        if graph[i][j]:\n",
    "            ice.append((i, j))\n",
    "            \n",
    "            \n",
    "dx, dy = [-1, 1, 0, 0], [0, 0, 1, -1]\n",
    "year = 0\n",
    "group = 0\n",
    "delete = []\n",
    "\n",
    "while ice:\n",
    "    visited = [[0] * m for _ in range(n)]\n",
    "    group = 0\n",
    "    \n",
    "    for i, j in ice:\n",
    "        if graph[i][j] and not visited[i][j]:\n",
    "            group += bfs(i, j)\n",
    "            \n",
    "        if graph[i][j] == 0:  #빙산이 바다에 잠긴 경우\n",
    "            delete.append((i, j))\n",
    "            \n",
    "    \n",
    "    if group >= 2:\n",
    "        print(year)\n",
    "        break\n",
    "        \n",
    "\n",
    "    ice = sorted(list(set(ice) - set(delete)))\n",
    "    year += 1\n",
    "    \n",
    "    \n",
    "if group < 2:\n",
    "    print(0)\n"
   ]
  },
  {
   "cell_type": "code",
   "execution_count": 2,
   "id": "46348308",
   "metadata": {},
   "outputs": [
    {
     "name": "stdout",
     "output_type": "stream",
     "text": [
      "2 10 3\n",
      "16\n",
      "32\n",
      "YES 3\n"
     ]
    }
   ],
   "source": [
    "import sys, heapq\n",
    "\n",
    "n, h, t = map(int, input().split())\n",
    "giants = [-int(input()) for _ in range(n)]\n",
    "heapq.heapify(giants)\n",
    "cnt = 0\n",
    "\n",
    "for i in range(t):\n",
    "    if -giants[0] == 1 or -giants[0] < h:\n",
    "        break\n",
    "    else:\n",
    "        heapq.heapreplace(giants, -(-giants[0] // 2))\n",
    "        cnt += 1\n",
    "        \n",
    "\n",
    "if -giants[0] >= h:\n",
    "    print('NO', -giants[0], sep='\\n')\n",
    "else:\n",
    "    print('YES', cnt, sep='\\n')"
   ]
  },
  {
   "cell_type": "code",
   "execution_count": 16,
   "id": "0a76d021",
   "metadata": {},
   "outputs": [
    {
     "name": "stdout",
     "output_type": "stream",
     "text": [
      "4 4\n",
      "2 1 4 2 4\n",
      "1 1 2\n",
      "1 2 3\n",
      "6\n",
      "[[0, 'K', 0, 'Q'], [0, 0, 'P', 'Q'], [0, 0, 0, 0], [0, 0, 0, 0]]\n",
      "[[0, 1, 2, 1], [0, 0, 1, 1], [1, 0, 2, 1], [0, 1, 0, 1]]\n"
     ]
    }
   ],
   "source": [
    "n, m = map(int, input().split())\n",
    "chess = [[0] * m for _ in range(n)]\n",
    "check = [[0] * m for _ in range(n)]\n",
    "\n",
    "queen = list(map(int, input().split())) \n",
    "knight = list(map(int, input().split())) \n",
    "pawn = list(map(int, input().split())) \n",
    "\n",
    "queen = queen[1:]\n",
    "knight = knight[1:]\n",
    "pawn = pawn[1:]\n",
    "\n",
    "\n",
    "for i in range(len(pawn)):\n",
    "    if i % 2 == 0:\n",
    "        chess[pawn[i]-1][pawn[i+1]-1] = 'P'\n",
    "        \n",
    "for i in range(len(knight)):\n",
    "    if i % 2 == 0:\n",
    "        chess[knight[i]-1][knight[i+1]-1] = 'K'\n",
    "        \n",
    "for i in range(len(queen)):\n",
    "    if i % 2 == 0:\n",
    "        chess[queen[i]-1][queen[i+1]-1] = 'Q'\n",
    "    \n",
    "# print(chess)\n",
    "\n",
    "\n",
    "qdx, qdy = [0, 0, 1, -1, -1, 1, 1, -1], [1, -1, 0, 0, 1, 1, -1, -1]\n",
    "kdx, kdy = [-2, -1, 1, 2, 2, 1, -1, -2], [1, 2, 2, 1, -1, -2, -2, -1]\n",
    "\n",
    "for i in range(n):\n",
    "    for j in range(m):\n",
    "        if chess[i][j] == 'Q':\n",
    "            check[i][j] += 1\n",
    "            \n",
    "            for k in range(8):\n",
    "                for l in range(1, max(n, m)):\n",
    "                    nx, ny = i + l*qdy[k], j + l*qdx[k]\n",
    "                    \n",
    "                    if not (0 <= nx < n and 0 <= ny < m) or chess[nx][ny] != 0:\n",
    "                        break\n",
    "                    \n",
    "                    check[nx][ny] += 1\n",
    "                    \n",
    "        if chess[i][j] == 'K':\n",
    "            check[i][j] += 1\n",
    "            \n",
    "            for k in range(8):\n",
    "                nx, ny = i + kdx[k], j + kdy[k]\n",
    "                \n",
    "                if 0 <= nx < n and 0 <= ny < m and chess[nx][ny] == 0:\n",
    "                    check[nx][ny] += 1\n",
    "                    \n",
    "                    \n",
    "        if chess[i][j] == 'P':\n",
    "            check[i][j] += 1\n",
    "                    \n",
    "                    \n",
    "answer = 0\n",
    "\n",
    "for i in range(n):\n",
    "    for j in range(m):\n",
    "        if check[i][j] == 0:\n",
    "            answer += 1\n",
    "            \n",
    "            \n",
    "print(answer)\n",
    "\n",
    "print(chess)\n",
    "print(check)"
   ]
  },
  {
   "cell_type": "code",
   "execution_count": 22,
   "id": "4e772852",
   "metadata": {},
   "outputs": [
    {
     "name": "stdout",
     "output_type": "stream",
     "text": [
      "10\n",
      "1 4 1 1 4 3 3 3 2 2\n",
      "[[2, 1, 4, 1, 1, 4, 3, 3, 3, 2], [3, 4, 4, 1, 1, 1, 2, 3, 3, 2], [2, 2, 1, 4, 1, 1, 4, 3, 3, 3], [2, 3, 4, 4, 1, 1, 1, 2, 3, 3], [3, 2, 2, 1, 4, 1, 1, 4, 3, 3], [3, 2, 3, 4, 4, 1, 1, 1, 2, 3], [3, 3, 2, 2, 1, 4, 1, 1, 4, 3], [3, 3, 2, 3, 4, 4, 1, 1, 1, 2], [3, 3, 3, 2, 2, 1, 4, 1, 1, 4], [2, 3, 3, 2, 3, 4, 4, 1, 1, 1], [4, 3, 3, 3, 2, 2, 1, 4, 1, 1], [1, 2, 3, 3, 2, 3, 4, 4, 1, 1], [1, 4, 3, 3, 3, 2, 2, 1, 4, 1], [1, 1, 2, 3, 3, 2, 3, 4, 4, 1], [1, 1, 4, 3, 3, 3, 2, 2, 1, 4], [1, 1, 1, 2, 3, 3, 2, 3, 4, 4], [4, 1, 1, 4, 3, 3, 3, 2, 2, 1], [4, 1, 1, 1, 2, 3, 3, 2, 3, 4], [1, 4, 1, 1, 4, 3, 3, 3, 2, 2], [4, 4, 1, 1, 1, 2, 3, 3, 2, 3]]\n",
      "3\n",
      "3 2 2 1 4 1 1 4 3 3\n",
      "1 4 4 3 3 3 2 1 1 2\n",
      "4 4 1 1 1 2 3 3 2 3\n",
      "2\n",
      "3 2 2 1 4 1 1 4 3 3\n",
      "4 4 1 1 1 2 3 3 2 3\n"
     ]
    }
   ],
   "source": [
    "from collections import deque\n",
    "\n",
    "n = int(input())\n",
    "standard = list(map(int, input().split()))\n",
    "standard = deque(standard)\n",
    "reversed_standard = []\n",
    "\n",
    "for i in standard:\n",
    "    if i == 1:\n",
    "        r = 3\n",
    "    elif i == 2:\n",
    "        r = 4\n",
    "    elif i == 3:\n",
    "        r = 1\n",
    "    elif i == 4:\n",
    "        r = 2\n",
    "    reversed_standard.append(r)\n",
    "    \n",
    "reversed_standard.reverse()\n",
    "reversed_standard = deque(reversed_standard)\n",
    "candidate = []\n",
    "\n",
    "for _ in range(n):\n",
    "    standard.rotate(1)\n",
    "    reversed_standard.rotate(1)\n",
    "    \n",
    "    candidate.append(list(standard))\n",
    "    candidate.append(list(reversed_standard))\n",
    "    \n",
    "answer = []\n",
    "\n",
    "\n",
    "\n",
    "m = int(input())\n",
    "for _ in range(m):\n",
    "    example = list(map(int, input().split()))\n",
    "    if example in candidate:\n",
    "        answer.append(example)\n",
    "        \n",
    "print(len(answer))\n",
    "for i in answer:\n",
    "    print(*i)\n",
    "\n"
   ]
  },
  {
   "cell_type": "code",
   "execution_count": 48,
   "id": "72c4e05d",
   "metadata": {},
   "outputs": [
    {
     "name": "stdout",
     "output_type": "stream",
     "text": [
      "4 5\n",
      "adaca\n",
      "da##b\n",
      "abb#b\n",
      "abbac\n",
      "abb\n"
     ]
    }
   ],
   "source": [
    "n, m = map(int, input().split())\n",
    "words = [list(input()) for _ in range(n)]\n",
    "# example = [['a', 'd', 'a', 'c', 'a'], ['d', 'a', '#', '#', 'b'], ['a', 'b', 'b', '#', 'b'], ['a', 'b', 'b', 'a', 'c']]\n",
    "row = []\n",
    "col = []\n",
    "\n",
    "\n",
    "for i in range(n):\n",
    "    for j in range(m):\n",
    "        tmp = max(''.join(words[i]).split('#'), key=len)\n",
    "        if len(tmp) >= 2:\n",
    "            row.append(tmp)\n",
    "        \n",
    "row = list(set(row))\n",
    "# print(row)\n",
    "\n",
    "\n",
    "for i in range(m):\n",
    "    tmp = ''\n",
    "    for j in range(n):\n",
    "        tmp += words[j][i]\n",
    "    tmp = max(tmp.split('#'), key=len)\n",
    "    if len(tmp) >= 2:\n",
    "        col.append(tmp)\n",
    "    \n",
    "col = list(set(col))\n",
    "# print(col)\n",
    "\n",
    "result = row + col\n",
    "result.sort()\n",
    "\n",
    "print(result[0])"
   ]
  },
  {
   "cell_type": "code",
   "execution_count": null,
   "id": "fc758c3a",
   "metadata": {},
   "outputs": [],
   "source": [
    "4 5\n",
    "adaca\n",
    "da##b\n",
    "abb#b\n",
    "abbac"
   ]
  },
  {
   "cell_type": "code",
   "execution_count": 60,
   "id": "dd546c42",
   "metadata": {},
   "outputs": [
    {
     "name": "stdout",
     "output_type": "stream",
     "text": [
      "4 5\n",
      "adaca\n",
      "da##b\n",
      "abb#b\n",
      "abbac\n",
      "abb\n"
     ]
    }
   ],
   "source": [
    "n, m = map(int, input().split())\n",
    "words = [list(input()) for _ in range(n)]\n",
    "# example = [['a', 'd', 'a', 'c', 'a'], ['d', 'a', '#', '#', 'b'], ['a', 'b', 'b', '#', 'b'], ['a', 'b', 'b', 'a', 'c']]\n",
    "new_words = list(map(list, zip(*example)))\n",
    "answer = []\n",
    "\n",
    "\n",
    "for i in range(n):\n",
    "    tmp = ''.join(words[i]).split(\"#\")\n",
    "#     print(tmp)\n",
    "    for j in tmp:\n",
    "        if(len(j) > 1):\n",
    "            answer.append(j)\n",
    "        \n",
    "        \n",
    "# print(new_words)       \n",
    "\n",
    "for i in range(m):\n",
    "    tmp = ''.join(new_words[i]).split(\"#\")\n",
    "#     print(tmp)\n",
    "    for j in tmp:\n",
    "        if(len(j) > 1):\n",
    "            answer.append(j)\n",
    "            \n",
    "answer.sort()\n",
    "print(answer[0])"
   ]
  },
  {
   "cell_type": "code",
   "execution_count": 83,
   "id": "50813a24",
   "metadata": {},
   "outputs": [
    {
     "name": "stdout",
     "output_type": "stream",
     "text": [
      "3\n",
      "5\n",
      "1\n",
      "0\n",
      "3\n",
      "0\n",
      "1\n"
     ]
    }
   ],
   "source": [
    "n = int(input())\n",
    "classes = []\n",
    "for _ in range(n):\n",
    "    tmp = list(map(int, input().split()))[1:]\n",
    "    classes.append(tmp)\n",
    "# classes = [[1, 2, 3, 4], [5, 6, 7, 8, 9, 10], [11, 21, 31, 41]]\n",
    "    \n",
    "    \n",
    "m = int(input())\n",
    "students = []\n",
    "for _ in range(m):\n",
    "    tmp = list(map(int, input().split()))[1:]\n",
    "    students.append(tmp)\n",
    "# students = [[1, 2, 3, 4, 5, 6, 7, 8], \n",
    "#             [1, 2, 3, 7, 8, 9, 10], \n",
    "#             [1, 2, 3, 4, 5, 6, 7, 8, 9, 10, 11, 21, 31, 41], \n",
    "#             [41, 42, 43, 44, 45], \n",
    "#             [1, 5, 6, 7, 8, 9, 10, 11, 21, 31]]\n",
    "\n",
    "answer = [0] * m\n",
    "    \n",
    "    \n",
    "for i in range(n):\n",
    "    for j in range(m):\n",
    "#         print(i, ' ---- ', j)\n",
    "        if all(elem in students[j] for elem in classes[i]):\n",
    "#             print(i, ' ', j)\n",
    "            answer[j] += 1\n",
    "            \n",
    "            \n",
    "for i in answer:\n",
    "    print(i)\n",
    "# print(answer)\n",
    "        \n",
    "    \n",
    "\n",
    "\n",
    "    "
   ]
  },
  {
   "cell_type": "code",
   "execution_count": null,
   "id": "b1ca2873",
   "metadata": {},
   "outputs": [],
   "source": [
    "3\n",
    "4 1 2 3 4\n",
    "6 5 6 7 8 9 10\n",
    "4 11 21 31 41\n",
    "5\n",
    "8 1 2 3 4 5 6 7 8\n",
    "7 1 2 3 7 8 9 10\n",
    "14 1 2 3 4 5 6 7 8 9 10 11 21 31 41\n",
    "5 41 42 43 44 45\n",
    "10 1 5 6 7 8 9 10 11 21 31"
   ]
  },
  {
   "cell_type": "code",
   "execution_count": 79,
   "id": "31c67045",
   "metadata": {},
   "outputs": [
    {
     "data": {
      "text/plain": [
       "True"
      ]
     },
     "execution_count": 79,
     "metadata": {},
     "output_type": "execute_result"
    }
   ],
   "source": [
    "a = [1, 2, 3]\n",
    "b = [1, 2, 3, 4, 5, 6]\n",
    "\n",
    "# Check if all elements in 'classes' are in 'students'\n",
    "all_in_students = all(elem in b for elem in a)\n",
    "all_in_students\n"
   ]
  },
  {
   "cell_type": "code",
   "execution_count": 86,
   "id": "a0540038",
   "metadata": {},
   "outputs": [
    {
     "name": "stdout",
     "output_type": "stream",
     "text": [
      "40\n",
      "###..#..#.#..#..###..#..#.#..#..###..#..\n",
      "[['#', '#', '#'], ['#', '.', '#'], ['#', '#', '#'], ['#', '.', '#'], ['#', '#', '#']]\n",
      "81\n"
     ]
    }
   ],
   "source": [
    "n = int(input())\n",
    "strs = list(input())\n",
    "signal = []\n",
    "\n",
    "for i in range(5):\n",
    "    signal.append(strs[ (i*n)//5 : ((i+1)*n)//5 ])\n",
    "    \n",
    "template = [[] for _ in range(5)]\n",
    "\n",
    "for i in range(3):\n",
    "    for j in range(5):\n",
    "        if j in [1, 3] and i in [1]:\n",
    "            template[j].append('.')\n",
    "        else:\n",
    "            template[j].append('#')\n",
    "            \n",
    "# print(template)\n",
    "\n",
    "\n",
    "def check(board):\n",
    "    difference = []\n",
    "    \n",
    "    for i in range(5):\n",
    "        for j in range(3):\n",
    "            if template[i][j] != board[i][j]:\n",
    "                difference.append([i, j])\n",
    "                \n",
    "    if [0, 1] in difference and [2, 1] in difference:\n",
    "        return 1\n",
    "    elif difference == [[1, 0], [3, 2]]:\n",
    "        return 2\n",
    "    elif difference == [[1, 0], [3, 0]]:\n",
    "        return 3\n",
    "    elif difference == [[0, 1], [3, 0], [4, 0], [4, 1]]:\n",
    "        return 4\n",
    "    elif difference == [[1, 2], [3, 0]]:\n",
    "        return 5\n",
    "    elif difference == [[1, 2]]:\n",
    "        return 6\n",
    "    elif difference == [[1, 0], [2, 0], [2, 1], [3, 0], [4, 0], [4, 1]]:\n",
    "        return 7\n",
    "    elif template == board:\n",
    "        return 8\n",
    "    elif difference == [[3, 0]]:\n",
    "        return 9\n",
    "    else: \n",
    "        return 0\n",
    "    \n",
    "    \n",
    "answer = ''\n",
    "\n",
    "j = 0\n",
    "while j < n//5:\n",
    "    single = [[] for i in range(5)]\n",
    "    tmp = 0\n",
    "    \n",
    "    if signal[0][j] == '#':\n",
    "        for i in range(5):\n",
    "            single[i].extend(signal[i][j:j+3])\n",
    "            single[i].extend(['.'] * (3 - len(single[i])))\n",
    "        tmp = check(single)\n",
    "        answer += str(tmp)\n",
    "        \n",
    "        if tmp == 1:\n",
    "            j += 2\n",
    "        else:\n",
    "            j += 4\n",
    "    else:\n",
    "        j += 1\n",
    "        \n",
    "        \n",
    "print(answer)"
   ]
  },
  {
   "cell_type": "code",
   "execution_count": 111,
   "id": "34eabd7c",
   "metadata": {},
   "outputs": [
    {
     "name": "stdout",
     "output_type": "stream",
     "text": [
      "3 4\n",
      "3\n",
      "[True, False, False]\n",
      "{2: 0}\n",
      "2\n",
      "[True, True, False]\n",
      "{2: 0, 1: 1}\n",
      "-3\n",
      "[False, True, False]\n",
      "{2: 0, 1: 1}\n",
      "1\n",
      "[True, True, False]\n",
      "{2: 0, 1: 1, 0: 0}\n",
      "4\n",
      "[True, True, True]\n",
      "{2: 0, 1: 1, 0: 0, 3: 2}\n",
      "-4\n",
      "[True, True, False]\n",
      "{2: 0, 1: 1, 0: 0, 3: 2}\n",
      "-2\n",
      "[True, False, False]\n",
      "{2: 0, 1: 1, 0: 0, 3: 2}\n",
      "-1\n",
      "[False, False, False]\n",
      "{2: 0, 1: 1, 0: 0, 3: 2}\n",
      "2 0\n",
      "1 1\n",
      "0 0\n",
      "3 2\n",
      "5300\n"
     ]
    }
   ],
   "source": [
    "from collections import deque\n",
    "\n",
    "\n",
    "n, m = map(int, input().split())\n",
    "space = [int(input()) for _ in range(n)]\n",
    "# space2 = [2, 3, 5]\n",
    "\n",
    "car = [int(input()) for _ in range(m)]\n",
    "# car2 = [200, 100, 300, 800]\n",
    "\n",
    "\n",
    "queue = [False] * n\n",
    "car_dict = {}\n",
    "tmp = deque()\n",
    "\n",
    "\n",
    "for i in range(m*2):\n",
    "    inout = int(input())\n",
    "    \n",
    "    if inout > 0: #차가 들어왔을 때\n",
    "        for j in range(n):\n",
    "            if queue[j] == False:  #비어있는 주차공간 찾기\n",
    "                queue[j] = True\n",
    "                car_dict[inout-1] = j\n",
    "#                 print(queue)\n",
    "#                 print(car_dict)\n",
    "                break\n",
    "            elif j == n-1 and queue[j] == True:\n",
    "                tmp.append(inout-1)\n",
    "#                 print(queue)\n",
    "#                 print(car_dict)\n",
    "\n",
    "\n",
    "    elif inout < 0: #차가 나갈 때\n",
    "        if len(tmp) == 0: #기다리는 차 없는 경우\n",
    "            queue[car_dict[-1 * inout-1]] = False \n",
    "#             print(queue)\n",
    "#             print(car_dict)\n",
    "        else: #기다리는 차 있는 경우\n",
    "            queue[car_dict[-1 * inout-1]] = False\n",
    "            queue[car_dict[-1 * inout-1]] = True\n",
    "            waited_car = tmp.popleft()\n",
    "            car_dict[waited_car] = car_dict[-1 * inout-1]\n",
    "#             print(queue)\n",
    "#             print(car_dict)\n",
    "            \n",
    "\n",
    "income = 0\n",
    "\n",
    "for key, value in car_dict.items():\n",
    "#     print(key, value)\n",
    "    income += car2[key] * space[value]\n",
    "    \n",
    "print(income)\n",
    "\n",
    "        "
   ]
  },
  {
   "cell_type": "code",
   "execution_count": null,
   "id": "249de7a0",
   "metadata": {},
   "outputs": [],
   "source": [
    "3 4\n",
    "\n",
    "3\n",
    "2\n",
    "-3\n",
    "1\n",
    "4\n",
    "-4\n",
    "-2\n",
    "-1"
   ]
  },
  {
   "cell_type": "code",
   "execution_count": 109,
   "id": "ba726068",
   "metadata": {},
   "outputs": [
    {
     "name": "stdout",
     "output_type": "stream",
     "text": [
      "dict_items([(2, 0), (1, 1), (0, 0), (3, 2)])\n"
     ]
    }
   ],
   "source": [
    "a = {2: 0, 1: 1, 0: 0, 3: 2}\n",
    "print(a.items())"
   ]
  },
  {
   "cell_type": "code",
   "execution_count": null,
   "id": "f9599851",
   "metadata": {},
   "outputs": [],
   "source": []
  },
  {
   "cell_type": "code",
   "execution_count": null,
   "id": "b395a1c6",
   "metadata": {},
   "outputs": [],
   "source": []
  },
  {
   "cell_type": "code",
   "execution_count": null,
   "id": "4c49dcaf",
   "metadata": {},
   "outputs": [],
   "source": []
  },
  {
   "cell_type": "code",
   "execution_count": null,
   "id": "942e657e",
   "metadata": {},
   "outputs": [],
   "source": []
  },
  {
   "cell_type": "code",
   "execution_count": null,
   "id": "f0ca3a84",
   "metadata": {},
   "outputs": [],
   "source": []
  },
  {
   "cell_type": "code",
   "execution_count": null,
   "id": "e2462200",
   "metadata": {},
   "outputs": [],
   "source": []
  },
  {
   "cell_type": "code",
   "execution_count": null,
   "id": "479b3abf",
   "metadata": {},
   "outputs": [],
   "source": []
  },
  {
   "cell_type": "code",
   "execution_count": null,
   "id": "7b9dbd18",
   "metadata": {},
   "outputs": [],
   "source": []
  },
  {
   "cell_type": "code",
   "execution_count": null,
   "id": "0b973b5e",
   "metadata": {},
   "outputs": [],
   "source": []
  },
  {
   "cell_type": "code",
   "execution_count": null,
   "id": "cefd51f6",
   "metadata": {},
   "outputs": [],
   "source": []
  },
  {
   "cell_type": "code",
   "execution_count": null,
   "id": "fafc6cdd",
   "metadata": {},
   "outputs": [],
   "source": []
  },
  {
   "cell_type": "code",
   "execution_count": null,
   "id": "b033a2c3",
   "metadata": {},
   "outputs": [],
   "source": []
  },
  {
   "cell_type": "code",
   "execution_count": null,
   "id": "dfac8b7d",
   "metadata": {},
   "outputs": [],
   "source": []
  },
  {
   "cell_type": "code",
   "execution_count": null,
   "id": "a6fa1789",
   "metadata": {},
   "outputs": [],
   "source": []
  },
  {
   "cell_type": "code",
   "execution_count": null,
   "id": "3acb578a",
   "metadata": {},
   "outputs": [],
   "source": []
  }
 ],
 "metadata": {
  "kernelspec": {
   "display_name": "Python 3 (ipykernel)",
   "language": "python",
   "name": "python3"
  },
  "language_info": {
   "codemirror_mode": {
    "name": "ipython",
    "version": 3
   },
   "file_extension": ".py",
   "mimetype": "text/x-python",
   "name": "python",
   "nbconvert_exporter": "python",
   "pygments_lexer": "ipython3",
   "version": "3.9.13"
  }
 },
 "nbformat": 4,
 "nbformat_minor": 5
}
