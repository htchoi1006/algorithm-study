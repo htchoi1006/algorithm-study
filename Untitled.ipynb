{
 "cells": [
  {
   "cell_type": "code",
   "execution_count": 2,
   "id": "36671458",
   "metadata": {},
   "outputs": [
    {
     "name": "stdout",
     "output_type": "stream",
     "text": [
      "1000 100\n",
      "10.0\n",
      "0\n"
     ]
    }
   ],
   "source": [
    "a, b = map(int, input().split())\n",
    "\n",
    "print(a//b)\n",
    "print(a%b)\n",
    "\n"
   ]
  },
  {
   "cell_type": "code",
   "execution_count": 4,
   "id": "9093fa20",
   "metadata": {},
   "outputs": [
    {
     "name": "stdout",
     "output_type": "stream",
     "text": [
      "A\n",
      "10\n"
     ]
    }
   ],
   "source": [
    "num = input()\n",
    "\n",
    "print(int(num, 16))"
   ]
  },
  {
   "cell_type": "code",
   "execution_count": 8,
   "id": "38fe2090",
   "metadata": {},
   "outputs": [
    {
     "name": "stdout",
     "output_type": "stream",
     "text": [
      "3\n",
      "config.sys\n",
      "config.inf\n",
      "configures\n",
      "config????\n"
     ]
    }
   ],
   "source": [
    "n = int(input())\n",
    "a = list(input())\n",
    "\n",
    "for i in range(n-1):\n",
    "    b = list(input())\n",
    "    for j in range(len(a)):\n",
    "        if(a[j] != b[j]):\n",
    "            a[j] = '?'\n",
    "\n",
    "print(\"\".join(a))\n",
    "\n"
   ]
  },
  {
   "cell_type": "code",
   "execution_count": 22,
   "id": "bfd9b498",
   "metadata": {},
   "outputs": [
    {
     "name": "stdout",
     "output_type": "stream",
     "text": [
      "1\n",
      "60\n"
     ]
    }
   ],
   "source": [
    "def calculation(n):\n",
    "    tmp = n//10 + n%10\n",
    "    tmp = (n%10)*10 + tmp%10\n",
    "    return tmp\n",
    "\n",
    "\n",
    "\n",
    "n = int(input())\n",
    "cnt = 0\n",
    "answer = n\n",
    "while(True):\n",
    "    answer = calculation(answer)\n",
    "    cnt += 1\n",
    "    if(answer == n):\n",
    "        break\n",
    "        \n",
    "print(cnt)\n"
   ]
  },
  {
   "cell_type": "code",
   "execution_count": 26,
   "id": "065caf87",
   "metadata": {},
   "outputs": [
    {
     "name": "stdout",
     "output_type": "stream",
     "text": [
      "32 42 70 35 90\n",
      "210\n"
     ]
    }
   ],
   "source": [
    "nums = list(map(int, input().split()))\n",
    "n = min(nums)\n",
    "\n",
    "while(True):\n",
    "    cnt = 0\n",
    "    for i in range(len(nums)):\n",
    "        if(n % nums[i] == 0):\n",
    "            cnt += 1\n",
    "    \n",
    "    if(cnt > 2):\n",
    "        break\n",
    "    \n",
    "    n += 1\n",
    "    \n",
    "print(n)"
   ]
  },
  {
   "cell_type": "code",
   "execution_count": 42,
   "id": "5c4148f9",
   "metadata": {},
   "outputs": [
    {
     "name": "stdout",
     "output_type": "stream",
     "text": [
      "aabbbc\n",
      "B\n"
     ]
    }
   ],
   "source": [
    "word = input()\n",
    "word = word.upper()\n",
    "a = {'A':0, 'B':0, 'C':0, 'D':0, 'E':0, 'F':0, 'G':0, \n",
    "     'H':0, 'I':0, 'J':0, 'K':0, 'L':0, 'M':0, 'N':0, \n",
    "     'O':0, 'P':0, 'Q':0, 'R':0, 'S':0, 'T':0, 'U':0, \n",
    "     'V':0, 'W':0, 'X':0, 'Y':0, 'Z':0}\n",
    "\n",
    "\n",
    "for i in word:\n",
    "    a[i] = a[i]+1\n",
    "    \n",
    "answer = [k for k,v in a.items() if max(a.values()) == v]\n",
    "if(len(answer) > 1):\n",
    "    print('?')\n",
    "else:\n",
    "    print(answer[0])"
   ]
  },
  {
   "cell_type": "code",
   "execution_count": 61,
   "id": "276d6655",
   "metadata": {},
   "outputs": [
    {
     "name": "stdout",
     "output_type": "stream",
     "text": [
      "mississipi\n",
      "?\n"
     ]
    }
   ],
   "source": [
    "word = input().upper()\n",
    "word_list = list(set(word))\n",
    "cnt = []\n",
    "\n",
    "for i in word_list:\n",
    "    count = word.count(i)\n",
    "    cnt.append(count)\n",
    "    \n",
    "if(cnt.count(max(cnt)) >= 2):\n",
    "    print('?')\n",
    "else:\n",
    "    print(word_list[(cnt.index(max(cnt)))])"
   ]
  },
  {
   "cell_type": "code",
   "execution_count": 71,
   "id": "f22c209a",
   "metadata": {},
   "outputs": [
    {
     "name": "stdout",
     "output_type": "stream",
     "text": [
      "['c', 'd']\n"
     ]
    }
   ],
   "source": [
    "a = {'a': 0, 'b': 1, 'c': 5, 'd': 5} # 직접 생성\n",
    "# di = dict(zip('abcd',[0,0,0,0])) # zip 함수를 사용해 dict 생성: zip(key list, value list)\n",
    "\n",
    "\n",
    "\n",
    "# print(max(a,key=a.get))\n",
    "tmp = [k for k,v in a.items() if max(a.values()) == v]\n",
    "print(tmp)"
   ]
  },
  {
   "cell_type": "code",
   "execution_count": 74,
   "id": "527bc088",
   "metadata": {},
   "outputs": [
    {
     "name": "stdout",
     "output_type": "stream",
     "text": [
      "[('a', '1'), ('a', '2'), ('a', '3'), ('b', '1'), ('b', '2'), ('b', '3'), ('c', '1'), ('c', '2'), ('c', '3')]\n"
     ]
    }
   ],
   "source": [
    "l = [(x, y) for x in ['a', 'b', 'c'] for y in ['1', '2', '3']]\n",
    "\n",
    "print(l)"
   ]
  },
  {
   "cell_type": "code",
   "execution_count": 79,
   "id": "c113c869",
   "metadata": {},
   "outputs": [
    {
     "name": "stdout",
     "output_type": "stream",
     "text": [
      "14\n",
      "2/4\n"
     ]
    }
   ],
   "source": [
    "x = int(input())\n",
    "line = 1\n",
    "\n",
    "while(x > line):\n",
    "    x -= line\n",
    "    line += 1\n",
    "    \n",
    "if(line%2 == 0):\n",
    "    a = x\n",
    "    b = line - x + 1\n",
    "    \n",
    "else:\n",
    "    a = line - x + 1\n",
    "    b = x\n",
    "    \n",
    "print(a, \"/\", b, sep='')"
   ]
  },
  {
   "cell_type": "code",
   "execution_count": 82,
   "id": "f86f75c7",
   "metadata": {},
   "outputs": [
    {
     "name": "stdout",
     "output_type": "stream",
     "text": [
      "abc\n",
      "a/b/c\n",
      "a#b#c\n"
     ]
    }
   ],
   "source": [
    "print(\"a\", \"b\", \"c\", sep='')\n",
    "print(\"a\", \"b\", \"c\", sep='/')\n",
    "print(\"a\", \"b\", \"c\", sep='#')"
   ]
  },
  {
   "cell_type": "code",
   "execution_count": 85,
   "id": "908da68f",
   "metadata": {},
   "outputs": [
    {
     "name": "stdout",
     "output_type": "stream",
     "text": [
      "hello!!!!! world\n"
     ]
    }
   ],
   "source": [
    "print(\"hello\", end='!!!!! ')\n",
    "print(\"world\")"
   ]
  },
  {
   "cell_type": "code",
   "execution_count": 89,
   "id": "99adc687",
   "metadata": {},
   "outputs": [
    {
     "name": "stdout",
     "output_type": "stream",
     "text": [
      "빵을 5개 주세요.\n"
     ]
    }
   ],
   "source": [
    "print(\"%s을 %d개 주세요.\"%(\"빵\", 5))"
   ]
  },
  {
   "cell_type": "code",
   "execution_count": 93,
   "id": "819d0e36",
   "metadata": {},
   "outputs": [
    {
     "name": "stdout",
     "output_type": "stream",
     "text": [
      "줄\n",
      "바\n",
      "꿈 \n",
      " \"큰 따옴표\" \n",
      " \\역슬래쉬 \n",
      " 백스페이스\b \n"
     ]
    }
   ],
   "source": [
    "print(\"줄\\n바\\n꿈 \")\n",
    "print(\" \\\"큰 따옴표\\\" \")\n",
    "print(\" \\\\역슬래쉬 \")\n",
    "print(\" 백스페이스\\b \")"
   ]
  },
  {
   "cell_type": "code",
   "execution_count": 102,
   "id": "cd3f0e67",
   "metadata": {},
   "outputs": [
    {
     "name": "stdout",
     "output_type": "stream",
     "text": [
      "3 3\n",
      "...\n",
      "...\n",
      "...\n",
      "max: 3\n"
     ]
    }
   ],
   "source": [
    "n,m = map(int, input().split())\n",
    "board = []\n",
    "\n",
    "for i in range(n):\n",
    "    board.append(input())\n",
    "\n",
    "a, b = 0,0     #a:행, b:열\n",
    "\n",
    "for i in range(n):\n",
    "    if(\"X\" not in board[i]):\n",
    "        a += 1\n",
    "\n",
    "for j in range(m):\n",
    "    if(\"X\" not in [board[i][j] for i in range(n)]):\n",
    "        b += 1\n",
    "\n",
    "print(max(a,b))"
   ]
  },
  {
   "cell_type": "code",
   "execution_count": 120,
   "id": "9072bf9e",
   "metadata": {},
   "outputs": [
    {
     "name": "stdout",
     "output_type": "stream",
     "text": [
      "121\n",
      "yes\n",
      "1\n",
      "yes\n",
      "2\n",
      "yes\n",
      "3\n",
      "yes\n",
      "0\n"
     ]
    }
   ],
   "source": [
    "while(True):\n",
    "    stack = []\n",
    "    n = input()\n",
    "    if(n == \"0\"):\n",
    "        break\n",
    "        \n",
    "    if(len(n) == 1):\n",
    "        print(\"yes\")\n",
    "    else:\n",
    "        for i in n:\n",
    "            stack.append(i)\n",
    "        \n",
    "        for j in range(len(stack)//2):\n",
    "            if(stack[j] != stack[len(stack)-j-1]):\n",
    "                print(\"no\")\n",
    "                break\n",
    "            else:\n",
    "                if(j == len(stack)//2 -1):\n",
    "                    print(\"yes\")\n",
    "                else:\n",
    "                    continue\n",
    "            "
   ]
  },
  {
   "cell_type": "code",
   "execution_count": 137,
   "id": "8ff4e8e3",
   "metadata": {},
   "outputs": [
    {
     "name": "stdout",
     "output_type": "stream",
     "text": [
      "5\n",
      "2 3 1 7 3\n",
      "4 1 9 6 8\n",
      "5 5 2 4 4\n",
      "6 5 2 6 7\n",
      "8 4 2 2 2\n",
      "students:  [[2, 3, 1, 7, 3], [4, 1, 9, 6, 8], [5, 5, 2, 4, 4], [6, 5, 2, 6, 7], [8, 4, 2, 2, 2]]\n",
      "2: [[0, 0, 0, 0, 0], [0, 0, 0, 1, 0], [0, 0, 0, 1, 1], [0, 1, 1, 0, 1], [0, 0, 1, 1, 0]]\n"
     ]
    }
   ],
   "source": [
    "n = int(input())\n",
    "students = []\n",
    "tmp = [0] * n\n",
    "\n",
    "for i in range(n):\n",
    "    students.append(list(map(int,input().split())))\n",
    "    tmp[i] = [0] * n\n",
    "    \n",
    "\n",
    "    \n",
    "for i in range(5):\n",
    "    for j in range(n):\n",
    "        for k in range(j+1,n):\n",
    "            if(students[j][i] == students[k][i]):\n",
    "                tmp[k][j] = 1\n",
    "                tmp[j][k] = 1\n",
    "\n",
    "            \n",
    "\n",
    "cnt = []\n",
    "for i in tmp:\n",
    "    cnt.append(i.count(1))\n",
    "    \n",
    "print(cnt.index(max(cnt)) + 1)\n",
    "\n",
    "\n",
    "\n"
   ]
  },
  {
   "cell_type": "code",
   "execution_count": 144,
   "id": "b4caba41",
   "metadata": {},
   "outputs": [
    {
     "name": "stdout",
     "output_type": "stream",
     "text": [
      "3\n"
     ]
    }
   ],
   "source": [
    "a = [[0, 0, 0, 0, 0], [0, 0, 0, 1, 0], [0, 0, 0, 1, 1], [0, 1, 1, 0, 1], [0, 0, 1, 1, 0]]\n",
    "\n",
    "cntt = []\n",
    "\n",
    "for i in a:\n",
    "    cntt.append(i.count(1))\n",
    "    \n",
    "    \n",
    "print(cntt.index(max(cntt)))"
   ]
  },
  {
   "cell_type": "code",
   "execution_count": 155,
   "id": "4df6ebcc",
   "metadata": {},
   "outputs": [
    {
     "name": "stdout",
     "output_type": "stream",
     "text": [
      "LOVE\n",
      "(1, 1, 1, 1)\n"
     ]
    }
   ],
   "source": [
    "L, O, V, E = 0, 0, 0, 0\n",
    "l = []\n",
    "\n",
    "def calculate(L,O,V,E):\n",
    "    score = ((L+O) * (L+V) * (L+E) * (O+V) * (O+E) * (V+E)) % 100\n",
    "    return score\n",
    "\n",
    "def calculate2(a):\n",
    "    L, O, V, E = 0, 0, 0, 0\n",
    "    if(\"L\" in a):\n",
    "        L += 1\n",
    "    if(\"O\" in a):\n",
    "        O += 1\n",
    "    if(\"V\" in a):\n",
    "        V += 1\n",
    "    if(\"E\" in a):\n",
    "        E += 1\n",
    "        \n",
    "    return L, O, V, E\n",
    "    \n",
    "\n",
    "\n",
    "\n",
    "word = input()\n",
    "print(calculate2(word))\n",
    "    \n",
    "\n",
    "# n = int(input())\n",
    "\n",
    "# for i in range(n):\n",
    "#     team = input()\n",
    "    \n",
    "    \n",
    "    \n",
    "    \n",
    "        \n",
    "\n",
    "# print(((L+O) * (L+V) * (L+E) * (O+V) * (O+E) * (V+E)) % 100)"
   ]
  },
  {
   "cell_type": "code",
   "execution_count": 7,
   "id": "0d5c87aa",
   "metadata": {},
   "outputs": [
    {
     "name": "stdout",
     "output_type": "stream",
     "text": [
      "3 8\n",
      "[0, 1, 2, 2, 3, 3, 3, 4, 4, 4, 4, 5, 5, 5, 5, 5, 6, 6, 6, 6, 6, 6, 7, 7, 7, 7, 7, 7, 7, 8, 8, 8, 8, 8, 8, 8, 8]\n",
      "19\n"
     ]
    }
   ],
   "source": [
    "a, b = map(int, input().split())\n",
    "numlist = [0]\n",
    "answer = 0\n",
    "\n",
    "for i in range(1, b+1):\n",
    "    for j in range(i):\n",
    "        numlist.append(i)\n",
    "        \n",
    "for i in range(a,b+1):\n",
    "    answer += numlist[i]\n",
    "        \n",
    "print(numlist)\n",
    "print(answer)"
   ]
  },
  {
   "cell_type": "code",
   "execution_count": 5,
   "id": "2b67f927",
   "metadata": {},
   "outputs": [
    {
     "name": "stdout",
     "output_type": "stream",
     "text": [
      "1\n",
      "NO\n"
     ]
    }
   ],
   "source": [
    "n = input()\n",
    "n_len = len(n)\n",
    "true = 0\n",
    "\n",
    "for i in range(n_len - 1):\n",
    "    left = right = 1\n",
    "    \n",
    "    for j in range(i + 1):\n",
    "        left *= int(n[j])\n",
    "    \n",
    "    for k in range(i+1, n_len):\n",
    "        right *= int(n[k])\n",
    "        \n",
    "    if(left == right):\n",
    "        print(\"YES\")\n",
    "        true = 1\n",
    "        break\n",
    "    \n",
    "if(true == 0):\n",
    "    print(\"NO\")"
   ]
  },
  {
   "cell_type": "code",
   "execution_count": 8,
   "id": "b0171375",
   "metadata": {},
   "outputs": [
    {
     "name": "stdout",
     "output_type": "stream",
     "text": [
      "14\n",
      "push 1\n",
      "push 2\n",
      "top\n"
     ]
    },
    {
     "ename": "NameError",
     "evalue": "name 'stack' is not defined",
     "output_type": "error",
     "traceback": [
      "\u001b[0;31m---------------------------------------------------------------------------\u001b[0m",
      "\u001b[0;31mNameError\u001b[0m                                 Traceback (most recent call last)",
      "Input \u001b[0;32mIn [8]\u001b[0m, in \u001b[0;36m<cell line: 7>\u001b[0;34m()\u001b[0m\n\u001b[1;32m     28\u001b[0m         \u001b[38;5;28mprint\u001b[39m(\u001b[38;5;241m0\u001b[39m)\n\u001b[1;32m     30\u001b[0m \u001b[38;5;28;01melif\u001b[39;00m order \u001b[38;5;241m==\u001b[39m \u001b[38;5;124m\"\u001b[39m\u001b[38;5;124mtop\u001b[39m\u001b[38;5;124m\"\u001b[39m:\n\u001b[0;32m---> 31\u001b[0m     \u001b[38;5;28;01mif\u001b[39;00m(\u001b[38;5;28mlen\u001b[39m(\u001b[43mstack\u001b[49m) \u001b[38;5;241m==\u001b[39m \u001b[38;5;241m0\u001b[39m):\n\u001b[1;32m     32\u001b[0m         \u001b[38;5;28mprint\u001b[39m(\u001b[38;5;241m-\u001b[39m\u001b[38;5;241m1\u001b[39m)\n\u001b[1;32m     33\u001b[0m     \u001b[38;5;28;01melse\u001b[39;00m:\n",
      "\u001b[0;31mNameError\u001b[0m: name 'stack' is not defined"
     ]
    }
   ],
   "source": [
    "import sys\n",
    "\n",
    "numstack = []\n",
    "\n",
    "length = int(input())\n",
    "\n",
    "for i in range(length):\n",
    "    stc = input().split()\n",
    "    order = stc[0]\n",
    "    \n",
    "    if order == \"push\":\n",
    "        answer = stc[1]\n",
    "        numstack.append(answer)\n",
    "        \n",
    "    elif order == \"pop\":\n",
    "        if(len(numstack) == 0):\n",
    "            print(-1)\n",
    "        else:\n",
    "            print(numstack.pop())\n",
    "        \n",
    "    elif order == \"size\":\n",
    "        print(len(numstack))\n",
    "        \n",
    "    elif order == \"empty\":\n",
    "        if(len(numstack) == 0):\n",
    "            print(1)\n",
    "        else:\n",
    "            print(0)\n",
    "        \n",
    "    elif order == \"top\":\n",
    "        if(len(numstack) == 0):\n",
    "            print(-1)\n",
    "        else:\n",
    "            print(numstack[-1])"
   ]
  },
  {
   "cell_type": "code",
   "execution_count": 9,
   "id": "548b16bb",
   "metadata": {},
   "outputs": [
    {
     "name": "stdout",
     "output_type": "stream",
     "text": [
      "321\n"
     ]
    }
   ],
   "source": [
    "a = 321\n",
    "\n",
    "b = str(a)\n",
    "for i in range(len(b)):\n",
    "    \n",
    "\n",
    "print(b)"
   ]
  },
  {
   "cell_type": "code",
   "execution_count": 35,
   "id": "5a8e18d7",
   "metadata": {},
   "outputs": [
    {
     "name": "stdout",
     "output_type": "stream",
     "text": [
      "314\n"
     ]
    }
   ],
   "source": [
    "a = int(input())\n",
    "b = str(a)\n",
    "sum = 0\n",
    "mul = 0\n",
    "\n",
    "for i in range(len(b)-1,-1,-1):\n",
    "    sum += (int(b[i]) * (2**mul))\n",
    "    mul += 1\n",
    "        \n",
    "\n",
    "print(oct(sum).split(\"o\")[1])"
   ]
  },
  {
   "cell_type": "code",
   "execution_count": 42,
   "id": "316a1c3f",
   "metadata": {},
   "outputs": [
    {
     "name": "stdout",
     "output_type": "stream",
     "text": [
      "314\n",
      "11001100\n"
     ]
    }
   ],
   "source": [
    "print(oct(int(input(),2))[2:])"
   ]
  },
  {
   "cell_type": "code",
   "execution_count": 51,
   "id": "303b95be",
   "metadata": {},
   "outputs": [
    {
     "name": "stdout",
     "output_type": "stream",
     "text": [
      "100\n",
      "77\n"
     ]
    }
   ],
   "source": [
    "n = int(input())\n",
    "\n",
    "while True:\n",
    "    flag = True\n",
    "    for i in str(n):\n",
    "        if i!='4' and i!='7':\n",
    "            flag = False\n",
    "            n -= 1\n",
    "    if flag:\n",
    "        print(n)\n",
    "        break"
   ]
  },
  {
   "cell_type": "code",
   "execution_count": 52,
   "id": "3e21942a",
   "metadata": {},
   "outputs": [
    {
     "data": {
      "text/plain": [
       "71.42857142857143"
      ]
     },
     "execution_count": 52,
     "metadata": {},
     "output_type": "execute_result"
    }
   ],
   "source": [
    "50/70*100"
   ]
  },
  {
   "cell_type": "code",
   "execution_count": 58,
   "id": "9010477e",
   "metadata": {},
   "outputs": [
    {
     "name": "stdout",
     "output_type": "stream",
     "text": [
      "1\n",
      "50\n",
      "100.0\n"
     ]
    }
   ],
   "source": [
    "n = int(input())\n",
    "score = list(map(int, input().split()))\n",
    "average = 0\n",
    "\n",
    "maxscore = max(score)\n",
    "for i in range(n):\n",
    "    score[i] = (score[i]/maxscore) * 100\n",
    "    average += score[i]\n",
    "    \n",
    "print(average/n)"
   ]
  },
  {
   "cell_type": "code",
   "execution_count": 1,
   "id": "0c5017d9",
   "metadata": {},
   "outputs": [
    {
     "name": "stdout",
     "output_type": "stream",
     "text": [
      "hi\n"
     ]
    }
   ],
   "source": [
    "print(\"hi\")"
   ]
  },
  {
   "cell_type": "code",
   "execution_count": 6,
   "id": "920934d9",
   "metadata": {},
   "outputs": [
    {
     "name": "stdout",
     "output_type": "stream",
     "text": [
      "5\n",
      "i,j =  0 0\n",
      "i,j =  1 0\n",
      "i,j =  2 0\n",
      "i,j =  3 3\n",
      "5 4\n"
     ]
    }
   ],
   "source": [
    "n = int(input())\n",
    "# a = []\n",
    "row = 0\n",
    "col = 0\n",
    "\n",
    "\n",
    "# for i in range(n):\n",
    "#     a.append(list(input()))\n",
    "\n",
    "# print(a)\n",
    "a = [['.', '.', '.', '.', 'X'], ['.', '.', 'X', 'X', '.'], ['.', '.', '.', '.', '.'], ['.', 'X', 'X', '.', '.'], ['X', '.', '.', '.', '.']]\n",
    "\n",
    "for i in range(n):\n",
    "    for j in range(n-1):\n",
    "        if a[i][j] == '.' and a[i][j+1] == '.':\n",
    "            row += 1\n",
    "            break\n",
    "            \n",
    "for i in range(n-1):\n",
    "    for j in range(n):\n",
    "        if a[i][j] == '.' and a[i+1][j] == '.':\n",
    "            print(\"i,j = \",i,j)\n",
    "            col += 1\n",
    "            break\n",
    "        \n",
    "print(row, col)"
   ]
  },
  {
   "cell_type": "code",
   "execution_count": null,
   "id": "74e0eabe",
   "metadata": {},
   "outputs": [],
   "source": [
    "....X\n",
    "..XX.\n",
    ".....\n",
    ".XX..\n",
    "X...."
   ]
  },
  {
   "cell_type": "code",
   "execution_count": 16,
   "id": "3ffff649",
   "metadata": {},
   "outputs": [
    {
     "name": "stdout",
     "output_type": "stream",
     "text": [
      "9\n",
      "2\n"
     ]
    }
   ],
   "source": [
    "n = int(input())\n",
    "\n",
    "if(n%5 == 0):\n",
    "    print(n//5)\n",
    "else:\n",
    "    count = 0\n",
    "    while(n > 0):\n",
    "        n -= 3\n",
    "        count += 1\n",
    "        \n",
    "        if(n%5 == 0):\n",
    "            count += n//5\n",
    "            print(count)\n",
    "            break\n",
    "        elif(n==1 or n==2):\n",
    "            print(-1)\n",
    "            break\n",
    "        elif(n == 0):\n",
    "            print(p)\n",
    "            break"
   ]
  },
  {
   "cell_type": "code",
   "execution_count": 25,
   "id": "151e09b0",
   "metadata": {},
   "outputs": [
    {
     "name": "stdout",
     "output_type": "stream",
     "text": [
      "5\n",
      "3 1 4 3 2\n",
      "[1, 2, 3, 3, 4]\n",
      "32\n"
     ]
    }
   ],
   "source": [
    "n = int(input())\n",
    "time = list(map(int, input().split()))\n",
    "\n",
    "time = sorted(time)\n",
    "\n",
    "sum_time = 0\n",
    "\n",
    "for i in range(n):\n",
    "    for j in range(i+1):\n",
    "        sum_time += time[j]\n",
    "#         print(\"time j : \",time[j])\n",
    "#         print(\"sumtime :\", sum_time)\n",
    "print(sum_time)\n",
    "    "
   ]
  },
  {
   "cell_type": "code",
   "execution_count": 37,
   "id": "55f86bf7",
   "metadata": {},
   "outputs": [
    {
     "name": "stdout",
     "output_type": "stream",
     "text": [
      "10 4790\n",
      "1\n",
      "5\n",
      "10\n",
      "50\n",
      "100\n",
      "500\n",
      "1000\n",
      "5000\n",
      "10000\n",
      "50000\n",
      "money:  790 i:  1000 count:  4\n",
      "money:  290 i:  500 count:  5\n",
      "money:  90 i:  100 count:  7\n",
      "money:  40 i:  50 count:  8\n",
      "money:  0 i:  10 count:  12\n",
      "12\n"
     ]
    }
   ],
   "source": [
    "n, money = map(int, input().split())\n",
    "coin = []\n",
    "for i in range(n):\n",
    "    tmp = int(input())\n",
    "    coin.append(tmp)\n",
    "\n",
    "coin = sorted(coin, reverse=True)\n",
    "# print(coin)\n",
    "\n",
    "count = 0\n",
    "\n",
    "for i in coin:\n",
    "    if(i <= money):\n",
    "        count += money//i\n",
    "        money = money%i\n",
    "#         print(\"money: \", money, \"i: \", i, \"count: \",count)\n",
    "        if(money <= 0):\n",
    "            break\n",
    "        \n",
    "        \n",
    "print(count)"
   ]
  },
  {
   "cell_type": "code",
   "execution_count": 46,
   "id": "032b933a",
   "metadata": {},
   "outputs": [
    {
     "name": "stdout",
     "output_type": "stream",
     "text": [
      "11\n",
      "1 4\n",
      "3 5\n",
      "0 6\n",
      "5 7\n",
      "3 8\n",
      "5 9\n",
      "6 10\n",
      "8 11\n",
      "8 12\n",
      "2 13\n",
      "12 14\n",
      "[[1, 4], [3, 5], [0, 6], [5, 7], [3, 8], [5, 9], [6, 10], [8, 11], [8, 12], [2, 13], [12, 14]]\n"
     ]
    }
   ],
   "source": [
    "n = int(input())\n",
    "room = []\n",
    "\n",
    "for i in range(n):\n",
    "    a, b = map(int, input().split())\n",
    "    room.append([a,b])\n",
    "    \n",
    "\n",
    "room.sort(key = lambda x: x[0])\n",
    "room.sort(key = lambda x: x[1])\n",
    "\n",
    "cnt = 1\n",
    "end = room[0][1]\n",
    "\n",
    "for i in range(1, n):\n",
    "    if(room[i][0] >= end):\n",
    "        cnt += 1\n",
    "        end = room[i][1]\n",
    "        \n",
    "print(cnt)"
   ]
  },
  {
   "cell_type": "code",
   "execution_count": 51,
   "id": "818e5b7f",
   "metadata": {},
   "outputs": [
    {
     "ename": "SyntaxError",
     "evalue": "invalid syntax (3610136354.py, line 13)",
     "output_type": "error",
     "traceback": [
      "\u001b[0;36m  Input \u001b[0;32mIn [51]\u001b[0;36m\u001b[0m\n\u001b[0;31m    print(for i in range(n): sum += a[i] * b[i])\u001b[0m\n\u001b[0m          ^\u001b[0m\n\u001b[0;31mSyntaxError\u001b[0m\u001b[0;31m:\u001b[0m invalid syntax\n"
     ]
    }
   ],
   "source": [
    "n = int(input())\n",
    "a = list(map(int, input().split()))\n",
    "b = list(map(int, input().split()))\n",
    "\n",
    "a.sort()\n",
    "b.sort(reverse=True)\n",
    "\n",
    "sum = 0\n",
    "\n",
    "for i in range(n):\n",
    "    sum += a[i] * b[i]\n",
    "    \n",
    "print(sum)\n",
    "    \n"
   ]
  },
  {
   "cell_type": "code",
   "execution_count": null,
   "id": "85e68c17",
   "metadata": {},
   "outputs": [],
   "source": [
    "n = int(input())\n",
    "\n",
    "a_list = list(map(int, input().split()))\n",
    "b_list = list(map(int, input().split()))\n",
    "\n",
    "s = 0\n",
    "for i in range(n):\n",
    "    s += min(a_list) * max(b_list)\n",
    "    a_list.pop(a_list.index(min(a_list)))\n",
    "    b_list.pop(b_list.index(max(b_list)))\n",
    "\n",
    "print(s)"
   ]
  },
  {
   "cell_type": "code",
   "execution_count": 61,
   "id": "84d75e5e",
   "metadata": {},
   "outputs": [
    {
     "name": "stdout",
     "output_type": "stream",
     "text": [
      "-40+20-30\n",
      "-40+20-30 ['', '40+20', '30']\n"
     ]
    },
    {
     "ename": "TypeError",
     "evalue": "'int' object is not callable",
     "output_type": "error",
     "traceback": [
      "\u001b[0;31m---------------------------------------------------------------------------\u001b[0m",
      "\u001b[0;31mTypeError\u001b[0m                                 Traceback (most recent call last)",
      "Input \u001b[0;32mIn [61]\u001b[0m, in \u001b[0;36m<cell line: 5>\u001b[0;34m()\u001b[0m\n\u001b[1;32m      3\u001b[0m \u001b[38;5;28mprint\u001b[39m(s, t)\n\u001b[1;32m      4\u001b[0m answer \u001b[38;5;241m=\u001b[39m \u001b[38;5;241m0\u001b[39m\n\u001b[0;32m----> 5\u001b[0m x \u001b[38;5;241m=\u001b[39m \u001b[38;5;28;43msum\u001b[39;49m\u001b[43m(\u001b[49m\u001b[38;5;28;43mmap\u001b[39;49m\u001b[43m(\u001b[49m\u001b[38;5;28;43mint\u001b[39;49m\u001b[43m,\u001b[49m\u001b[43m \u001b[49m\u001b[43m(\u001b[49m\u001b[43mt\u001b[49m\u001b[43m[\u001b[49m\u001b[38;5;241;43m0\u001b[39;49m\u001b[43m]\u001b[49m\u001b[38;5;241;43m.\u001b[39;49m\u001b[43msplit\u001b[49m\u001b[43m(\u001b[49m\u001b[38;5;124;43m\"\u001b[39;49m\u001b[38;5;124;43m+\u001b[39;49m\u001b[38;5;124;43m\"\u001b[39;49m\u001b[43m)\u001b[49m\u001b[43m)\u001b[49m\u001b[43m)\u001b[49m\u001b[43m)\u001b[49m\n\u001b[1;32m      6\u001b[0m \u001b[38;5;66;03m# if(s[0] == \"-\"):\u001b[39;00m\n\u001b[1;32m      7\u001b[0m \u001b[38;5;66;03m#     answer -= \u001b[39;00m\n\u001b[1;32m      8\u001b[0m \u001b[38;5;28mprint\u001b[39m(x)\n",
      "\u001b[0;31mTypeError\u001b[0m: 'int' object is not callable"
     ]
    }
   ],
   "source": [
    "s = input()\n",
    "t = s.split(\"-\")\n",
    "print(s, t)\n",
    "answer = 0\n",
    "x = sum(map(int, (t[0].split(\"+\"))))\n",
    "# if(s[0] == \"-\"):\n",
    "#     answer -= \n",
    "print(x)\n",
    "\n",
    "\n"
   ]
  },
  {
   "cell_type": "code",
   "execution_count": 70,
   "id": "2993e1ef",
   "metadata": {},
   "outputs": [
    {
     "name": "stdout",
     "output_type": "stream",
     "text": [
      "00009-00009\n",
      "['00009', '00009']\n",
      "0\n"
     ]
    }
   ],
   "source": [
    "n = input().split(\"-\")\n",
    "answer = 0\n",
    "\n",
    "for i in n[0].split(\"+\"):\n",
    "    answer += int(i)\n",
    "\n",
    "for i in n[1:]:\n",
    "    for j in i.split(\"+\"):\n",
    "        answer -= int(j)\n",
    "    \n",
    "print(answer)\n",
    "    \n",
    "\n"
   ]
  },
  {
   "cell_type": "code",
   "execution_count": 75,
   "id": "93f04f80",
   "metadata": {},
   "outputs": [
    {
     "name": "stdout",
     "output_type": "stream",
     "text": [
      "1\n",
      "500\n",
      "100\n",
      "50\n",
      "10\n",
      "5\n",
      "1\n",
      "15\n"
     ]
    }
   ],
   "source": [
    "n = 1000 - int(input())\n",
    "money = [500, 100, 50, 10, 5, 1]\n",
    "cnt = 0\n",
    "\n",
    "for i in money:\n",
    "    cnt += n//i\n",
    "    n %= i\n",
    "    \n",
    "print(cnt)\n",
    "    \n"
   ]
  },
  {
   "cell_type": "code",
   "execution_count": null,
   "id": "810e77ef",
   "metadata": {},
   "outputs": [],
   "source": [
    "n = int(input())\n",
    "rope = []\n",
    "\n",
    "\n",
    "for i in range(n):\n",
    "    rope.append(int(input()))\n",
    "    \n",
    "rope.sort(reverse=True)\n",
    "max_weight = rope[0]\n",
    "\n",
    "for i in range(n):\n",
    "    if(max_weight < rope[i]*(i+1)):\n",
    "        max_weight = rope[i]*(i+1)\n",
    "        \n",
    "print(max_weight)"
   ]
  },
  {
   "cell_type": "code",
   "execution_count": 13,
   "id": "de1d1594",
   "metadata": {},
   "outputs": [
    {
     "name": "stdout",
     "output_type": "stream",
     "text": [
      "100\n",
      "0 1 4 "
     ]
    }
   ],
   "source": [
    "n = int(input())\n",
    "\n",
    "\n",
    "if(n%10 != 0):\n",
    "    print(-1)\n",
    "else:\n",
    "    for i in [300, 60, 10]:\n",
    "        print(n//i, end=\" \")\n",
    "        n %= i\n",
    "    \n"
   ]
  },
  {
   "cell_type": "code",
   "execution_count": 17,
   "id": "a87fabad",
   "metadata": {},
   "outputs": [
    {
     "name": "stdout",
     "output_type": "stream",
     "text": [
      "400\n",
      "27\n"
     ]
    }
   ],
   "source": [
    "n = int(input())\n",
    "s = 1\n",
    "\n",
    "while( (s*(s+1))/2 <= n ):\n",
    "    s += 1\n",
    "    \n",
    "print(s-1)\n"
   ]
  },
  {
   "cell_type": "code",
   "execution_count": 15,
   "id": "d524a140",
   "metadata": {},
   "outputs": [
    {
     "name": "stdout",
     "output_type": "stream",
     "text": [
      "K1KA5CB7\n",
      "ABCKK13\n"
     ]
    }
   ],
   "source": [
    "word = input()\n",
    "alphabet = []\n",
    "numbers = ['0', '1', '2', '3', '4', '5', '6', '7', '8', '9']\n",
    "num = 0\n",
    "\n",
    "for i in word:\n",
    "    if(i.isalpha()):\n",
    "        alphabet.append(i)\n",
    "    else:\n",
    "        num += int(i)\n",
    "        \n",
    "alphabet.sort()\n",
    "alphabet.append(str(num))\n",
    "\n",
    "print(''.join(alphabet))"
   ]
  },
  {
   "cell_type": "code",
   "execution_count": null,
   "id": "c9afe78a",
   "metadata": {},
   "outputs": [],
   "source": [
    "1965801310"
   ]
  },
  {
   "cell_type": "code",
   "execution_count": 3,
   "id": "65770521",
   "metadata": {},
   "outputs": [
    {
     "name": "stdout",
     "output_type": "stream",
     "text": [
      "3 5\n",
      "1 2 3 4\n",
      "[4, 3, 2, 1]\n"
     ]
    }
   ],
   "source": [
    "n, m = map(int, input().split())\n",
    "tree = list(map(int, input().split()))\n",
    "start, end = 1, max(tree)\n",
    "\n",
    "while start <= end:\n",
    "    mid = (start + end) // 2\n",
    "    \n",
    "    cnt = 0\n",
    "    for i in tree:\n",
    "        if(i >= mid):\n",
    "            cnt += i - mid\n",
    "            \n",
    "    if(cnt >= m):\n",
    "        start = mid + 1\n",
    "    else:\n",
    "        end = mid - 1\n",
    "        \n",
    "print(end)"
   ]
  },
  {
   "cell_type": "code",
   "execution_count": null,
   "id": "394be6e6",
   "metadata": {},
   "outputs": [],
   "source": [
    "4 7\n",
    "20 17 15 10"
   ]
  },
  {
   "cell_type": "code",
   "execution_count": null,
   "id": "3ae2142a",
   "metadata": {},
   "outputs": [],
   "source": [
    "# import sys\n",
    "import heapq as hq\n",
    "\n",
    "n = int(input())\n",
    "heap = []\n",
    "\n",
    "for i in range(n):\n",
    "    x = int(input())\n",
    "    \n",
    "    if x:\n",
    "        hq.heappush(heap, x)\n",
    "        print(heap)\n",
    "    else:\n",
    "        if(len(heap) >= 1):\n",
    "            print(hq.heappop(heap)[1])\n",
    "        else:\n",
    "            print(0)"
   ]
  },
  {
   "cell_type": "code",
   "execution_count": 13,
   "id": "784a086c",
   "metadata": {},
   "outputs": [
    {
     "name": "stdout",
     "output_type": "stream",
     "text": [
      "6\n",
      "1000 999 1000 999 1000 999\n",
      "{999: 0, 1000: 1}\n",
      "1 0 1 0 1 0 "
     ]
    }
   ],
   "source": [
    "n = int(input())\n",
    "num = list(map(int, input().split()))\n",
    "\n",
    "arr2 = list(sorted(set(num)))\n",
    "dic = {arr2[i]:i for i in range(len(arr2))}\n",
    "\n",
    "print(dic)\n",
    "\n",
    "for i in num:\n",
    "    print(dic[i], end=' ')"
   ]
  },
  {
   "cell_type": "code",
   "execution_count": 24,
   "id": "96270d61",
   "metadata": {},
   "outputs": [
    {
     "name": "stdout",
     "output_type": "stream",
     "text": [
      "3 5\n",
      "000P0\n",
      "0I00X\n",
      "000XP\n",
      "1\n"
     ]
    }
   ],
   "source": [
    "from collections import deque\n",
    "\n",
    "n, m = map(int, input().split())\n",
    "campus = []\n",
    "start = ()\n",
    "\n",
    "for i in range(n):\n",
    "    row = list(input())\n",
    "    for j in range(m):\n",
    "        if(row[j] == 'I'):\n",
    "            start = (i, j)\n",
    "    campus.append(row)\n",
    "\n",
    "    \n",
    "direction = [(1,0), (0,1), (-1,0), (0, -1)]\n",
    "visited = [[False]*m for _ in range(n)]\n",
    "num_people = 0 #만날 수 있는 사람의 수\n",
    "\n",
    "queue = deque([start])\n",
    "\n",
    "visited[start[0]][start[1]] = True\n",
    "\n",
    "while(queue):\n",
    "    x, y = queue.popleft()\n",
    "\n",
    "    \n",
    "    for dx, dy in direction:\n",
    "        nx, ny = x+dx, y+dy\n",
    "        \n",
    "        if(0 <= nx < n) and (0 <= ny < m):\n",
    "            if(campus[nx][ny] != 'X') and not (visited[nx][ny]):\n",
    "                queue.append((nx, ny))\n",
    "                visited[nx][ny] = True\n",
    "                \n",
    "                if(campus[nx][ny] == 'P'):\n",
    "                    num_people += 1\n",
    "                    \n",
    "                    \n",
    "print(num_people if num_people > 0 else 'TT')"
   ]
  },
  {
   "cell_type": "code",
   "execution_count": null,
   "id": "ea30dcc4",
   "metadata": {},
   "outputs": [],
   "source": [
    "OOOPO\n",
    "OIOOX\n",
    "OOOXP"
   ]
  },
  {
   "cell_type": "code",
   "execution_count": 27,
   "id": "92ed0328",
   "metadata": {},
   "outputs": [
    {
     "name": "stdout",
     "output_type": "stream",
     "text": [
      "3 3\n",
      "I0X\n",
      "0XP\n",
      "XPP\n",
      "(0, 0)\n",
      "[[True, False, False], [False, False, False], [False, False, False]]\n"
     ]
    }
   ],
   "source": [
    "from collections import deque\n",
    "\n",
    "n, m = map(int, input().split())\n",
    "campus = []\n",
    "start = ()\n",
    "\n",
    "for i in range(n):\n",
    "    row = list(input())\n",
    "    \n",
    "    for j in range(m):\n",
    "        if(row[j] == 'I'):\n",
    "            start = (i, j)\n",
    "            \n",
    "    campus.append(row)\n",
    "    \n",
    "    \n",
    "direction = [(1,0), (0,1), (-1,0), (0,-1)]\n",
    "visited = [[False]*m for _ in range(n)]\n",
    "num = 0\n",
    "\n",
    "queue = deque([start])\n",
    "visited[start[0]][start[1]] = True\n",
    "\n",
    "while(queue):\n",
    "    print(queue)\n",
    "    x, y = queue.popleft()\n",
    "    \n",
    "    for dx, dy in direction:\n",
    "        nx, ny = x+dx, y+dy\n",
    "        \n",
    "        if(0 <= nx < n) and (0 <= ny < m):\n",
    "            if(campus[nx][ny] != 'X') and not (visited[nx][ny]):\n",
    "                queue.append((nx, ny))\n",
    "                visited[nx][ny] = True\n",
    "                \n",
    "                if(campus[nx][ny] == 'P'):\n",
    "                    num += 1\n",
    "                    \n",
    "print(num if num > 0 else 'TT')"
   ]
  },
  {
   "cell_type": "code",
   "execution_count": 29,
   "id": "20898ab6",
   "metadata": {},
   "outputs": [
    {
     "name": "stdout",
     "output_type": "stream",
     "text": [
      "3 7 7\n",
      "63\n"
     ]
    }
   ],
   "source": [
    "n, r, c = map(int, input().split())\n",
    "\n",
    "answer = 0\n",
    "\n",
    "while(n != 0):\n",
    "    n -= 1\n",
    "    \n",
    "    if(r < 2**n and c < 2**n):\n",
    "        answer += (2**n) * (2**n) * 0\n",
    "        \n",
    "    elif(r < 2**n and c >= 2**n):\n",
    "        answer += (2**n) * (2**n) * 1\n",
    "        c -= (2**n)\n",
    "    \n",
    "    elif(r >= 2**n and c < 2**n):\n",
    "        answer += (2**n) * (2**n) * 2\n",
    "        r -= (2**n)\n",
    "        \n",
    "    else:\n",
    "        answer += (2**n) * (2**n) * 3\n",
    "        r -= (2**n)\n",
    "        c -= (2**n)\n",
    "        \n",
    "print(answer)"
   ]
  },
  {
   "cell_type": "code",
   "execution_count": 30,
   "id": "d49ca73e",
   "metadata": {},
   "outputs": [
    {
     "name": "stdout",
     "output_type": "stream",
     "text": [
      "3 7 7\n",
      "63\n"
     ]
    }
   ],
   "source": [
    "n,r,c=map(int,input().split())\n",
    "print(int(f'{c:b}',4)+2*int(f'{r:b}',4))"
   ]
  },
  {
   "cell_type": "code",
   "execution_count": 39,
   "id": "d7f69b0b",
   "metadata": {},
   "outputs": [
    {
     "name": "stdout",
     "output_type": "stream",
     "text": [
      "5 17\n",
      "hi\n",
      "hello\n",
      "hi\n",
      "hello\n",
      "20 17\n",
      "5\n"
     ]
    }
   ],
   "source": [
    "n, k = map(int, input().split())\n",
    "n2 = n\n",
    "cnt = 0\n",
    "\n",
    "while((k-n) >= n2):\n",
    "    n *= 2\n",
    "    print(\"hi\")\n",
    "    cnt += 1\n",
    "    print(\"hello\")\n",
    "    \n",
    "cnt += abs(k-n)\n",
    "print(n, k)\n",
    "print(cnt)"
   ]
  },
  {
   "cell_type": "code",
   "execution_count": 40,
   "id": "f59e873c",
   "metadata": {},
   "outputs": [
    {
     "name": "stdout",
     "output_type": "stream",
     "text": [
      "5 17\n",
      "4\n"
     ]
    }
   ],
   "source": [
    "from collections import deque\n",
    "\n",
    "def bfs():\n",
    "    q = deque()\n",
    "    q.append(n)\n",
    "    \n",
    "    while(q):\n",
    "        x = q.popleft()\n",
    "        if(x == k):\n",
    "            print(dist[x])\n",
    "            break\n",
    "            \n",
    "        for nx in (x-1, x+1, x*2):\n",
    "            if(0 <= nx <= MAX and not dist[nx]):\n",
    "                dist[nx] = dist[x] + 1\n",
    "                q.append(nx)\n",
    "                \n",
    "                \n",
    "MAX = 100000\n",
    "dist = [0] * (MAX + 1)\n",
    "n, k = map(int, input().split())\n",
    "\n",
    "bfs()"
   ]
  },
  {
   "cell_type": "code",
   "execution_count": 52,
   "id": "70a07647",
   "metadata": {},
   "outputs": [
    {
     "name": "stdout",
     "output_type": "stream",
     "text": [
      "2 25\n",
      "1011101110111011101110111\n",
      "1110111011101110111011101\n",
      "38\n"
     ]
    }
   ],
   "source": [
    "from collections import deque\n",
    "\n",
    "N, M = map(int, input().split())\n",
    "graph = []\n",
    "\n",
    "for i in range(N):\n",
    "    graph.append(list(map(int, input())))\n",
    "    \n",
    "\n",
    "def bfs(x, y):\n",
    "    dx = [-1, 1, 0, 0]\n",
    "    dy = [0, 0, 1, -1]\n",
    "    \n",
    "    queue = deque()\n",
    "    queue.append((x, y))\n",
    "    \n",
    "    while queue:\n",
    "        x, y = queue.popleft()\n",
    "        \n",
    "        for i in range(4):\n",
    "            nx = x + dx[i]\n",
    "            ny = y + dy[i]\n",
    "            \n",
    "            if(nx < 0 or nx >= N or ny < 0 or ny >= M):\n",
    "                continue\n",
    "            \n",
    "            if(graph[nx][ny] == 0):\n",
    "                continue\n",
    "                \n",
    "            if(graph[nx][ny] == 1):\n",
    "                graph[nx][ny] = graph[x][y] + 1\n",
    "                queue.append((nx, ny))\n",
    "                \n",
    "    return graph[N-1][M-1]\n",
    "    \n",
    "print(bfs(0, 0))"
   ]
  },
  {
   "cell_type": "code",
   "execution_count": 55,
   "id": "1f1fdb58",
   "metadata": {},
   "outputs": [
    {
     "name": "stdout",
     "output_type": "stream",
     "text": [
      "7\n",
      "0110100\n",
      "0110101\n",
      "1110101\n",
      "0000111\n",
      "0100000\n",
      "0111110\n",
      "0111000\n",
      "3\n",
      "<generator object <genexpr> at 0x119d2b0b0>\n"
     ]
    }
   ],
   "source": [
    "from collections import deque\n",
    "graph = []\n",
    "\n",
    "dx = [0, 0, 1, -1]\n",
    "dy = [1, -1, 0, 0]\n",
    "\n",
    "def bfs(graph, a, b):\n",
    "    n = len(graph)\n",
    "    queue = deque()\n",
    "    queue.append((a, b))\n",
    "    graph[a][b] = 0\n",
    "    count = 1\n",
    "    \n",
    "    while queue:\n",
    "        x, y = queue.popleft()\n",
    "        \n",
    "        for i in range(4):\n",
    "            nx = x + dx[i]\n",
    "            ny = y + dy[i]\n",
    "            if(nx < 0 or nx >= n or ny < 0 or ny >= n):\n",
    "                continue\n",
    "                \n",
    "            if(graph[nx][ny] == 1):\n",
    "                graph[nx][ny] = 0\n",
    "                queue.append((nx, ny))\n",
    "                count += 1\n",
    "                \n",
    "    return count\n",
    "\n",
    "        \n",
    "        \n",
    "n = int(input())\n",
    "\n",
    "for _ in range(n):\n",
    "    graph.append(list(map(int, input())))\n",
    "    \n",
    "cnt = []\n",
    "for i in range(n):\n",
    "    for j in range(n):\n",
    "        if graph[i][j] == 1:\n",
    "            cnt.append(bfs(graph, i, j))\n",
    "            \n",
    "cnt.sort()\n",
    "print(len(cnt))\n",
    "for i in cnt:\n",
    "    print(i)\n",
    "    \n"
   ]
  },
  {
   "cell_type": "code",
   "execution_count": 58,
   "id": "b30e99f0",
   "metadata": {},
   "outputs": [
    {
     "name": "stdout",
     "output_type": "stream",
     "text": [
      "2\n",
      "13\n",
      "OOIOIOIOIIOII\n",
      "2\n"
     ]
    }
   ],
   "source": [
    "n = int(input())\n",
    "m = int(input())\n",
    "s = input()\n",
    "left, right = 0, 0\n",
    "ans = 0\n",
    "\n",
    "\n",
    "while(right < m):\n",
    "    if(s[right:right+3] == 'IOI'):\n",
    "        right += 2\n",
    "        if(right - left == 2*n):\n",
    "            ans += 1\n",
    "            left += 2\n",
    "    else:\n",
    "        left = right = right + 1\n",
    "        \n",
    "print(ans)"
   ]
  },
  {
   "cell_type": "code",
   "execution_count": 59,
   "id": "b3e88c98",
   "metadata": {},
   "outputs": [
    {
     "name": "stdout",
     "output_type": "stream",
     "text": [
      "3\n",
      "10 12 3 9\n",
      "33\n",
      "10 12 7 2\n",
      "-1\n",
      "13 11 5 6\n",
      "83\n"
     ]
    }
   ],
   "source": [
    "t = int(input())\n",
    "\n",
    "for i in range(t):\n",
    "    m, n, x, y = map(int, input().split())\n",
    "    flag = 1\n",
    "    \n",
    "    while(x <= m*n):\n",
    "        if((x-y)%n == 0):\n",
    "            print(x)\n",
    "            flag = 0\n",
    "            break\n",
    "        x += m\n",
    "        \n",
    "    if flag:\n",
    "        print(-1)\n",
    "\n",
    "    "
   ]
  },
  {
   "cell_type": "code",
   "execution_count": 61,
   "id": "e2e742dc",
   "metadata": {
    "scrolled": true
   },
   "outputs": [
    {
     "name": "stdout",
     "output_type": "stream",
     "text": [
      "18\n",
      "1\n",
      "[(1, 1)]\n",
      "-1\n",
      "[(1, -1), (1, 1)]\n",
      "0\n",
      "-1\n",
      "[(1, 1)]\n",
      "0\n",
      "1\n",
      "[]\n",
      "0\n",
      "0\n",
      "1\n",
      "[(1, 1)]\n",
      "1\n",
      "[(1, 1), (1, 1)]\n",
      "-1\n",
      "[(1, -1), (1, 1), (1, 1)]\n",
      "-1\n",
      "[(1, -1), (1, -1), (1, 1), (1, 1)]\n",
      "2\n",
      "[(1, -1), (1, -1), (1, 1), (1, 1), (2, 2)]\n",
      "-2\n",
      "[(1, -1), (1, -1), (1, 1), (1, 1), (2, 2), (2, -2)]\n",
      "0\n",
      "-1\n",
      "[(1, -1), (1, 1), (1, 1), (2, -2), (2, 2)]\n",
      "0\n",
      "-1\n",
      "[(1, 1), (1, 1), (2, 2), (2, -2)]\n",
      "0\n",
      "1\n",
      "[(1, 1), (2, -2), (2, 2)]\n",
      "0\n",
      "1\n",
      "[(2, -2), (2, 2)]\n",
      "0\n",
      "-2\n",
      "[(2, 2)]\n"
     ]
    },
    {
     "ename": "KeyboardInterrupt",
     "evalue": "Interrupted by user",
     "output_type": "error",
     "traceback": [
      "\u001b[0;31m---------------------------------------------------------------------------\u001b[0m",
      "\u001b[0;31mKeyboardInterrupt\u001b[0m                         Traceback (most recent call last)",
      "Input \u001b[0;32mIn [61]\u001b[0m, in \u001b[0;36m<cell line: 6>\u001b[0;34m()\u001b[0m\n\u001b[1;32m      4\u001b[0m heap \u001b[38;5;241m=\u001b[39m []\n\u001b[1;32m      6\u001b[0m \u001b[38;5;28;01mfor\u001b[39;00m _ \u001b[38;5;129;01min\u001b[39;00m \u001b[38;5;28mrange\u001b[39m(t):\n\u001b[0;32m----> 7\u001b[0m     num \u001b[38;5;241m=\u001b[39m \u001b[38;5;28mint\u001b[39m(\u001b[38;5;28;43minput\u001b[39;49m\u001b[43m(\u001b[49m\u001b[43m)\u001b[49m)\n\u001b[1;32m      8\u001b[0m     \u001b[38;5;28;01mif\u001b[39;00m(num \u001b[38;5;241m!=\u001b[39m \u001b[38;5;241m0\u001b[39m):\n\u001b[1;32m      9\u001b[0m         heapq\u001b[38;5;241m.\u001b[39mheappush(heap, (\u001b[38;5;28mabs\u001b[39m(num), num))\n",
      "File \u001b[0;32m~/anaconda3/lib/python3.9/site-packages/ipykernel/kernelbase.py:1177\u001b[0m, in \u001b[0;36mKernel.raw_input\u001b[0;34m(self, prompt)\u001b[0m\n\u001b[1;32m   1173\u001b[0m \u001b[38;5;28;01mif\u001b[39;00m \u001b[38;5;129;01mnot\u001b[39;00m \u001b[38;5;28mself\u001b[39m\u001b[38;5;241m.\u001b[39m_allow_stdin:\n\u001b[1;32m   1174\u001b[0m     \u001b[38;5;28;01mraise\u001b[39;00m StdinNotImplementedError(\n\u001b[1;32m   1175\u001b[0m         \u001b[38;5;124m\"\u001b[39m\u001b[38;5;124mraw_input was called, but this frontend does not support input requests.\u001b[39m\u001b[38;5;124m\"\u001b[39m\n\u001b[1;32m   1176\u001b[0m     )\n\u001b[0;32m-> 1177\u001b[0m \u001b[38;5;28;01mreturn\u001b[39;00m \u001b[38;5;28;43mself\u001b[39;49m\u001b[38;5;241;43m.\u001b[39;49m\u001b[43m_input_request\u001b[49m\u001b[43m(\u001b[49m\n\u001b[1;32m   1178\u001b[0m \u001b[43m    \u001b[49m\u001b[38;5;28;43mstr\u001b[39;49m\u001b[43m(\u001b[49m\u001b[43mprompt\u001b[49m\u001b[43m)\u001b[49m\u001b[43m,\u001b[49m\n\u001b[1;32m   1179\u001b[0m \u001b[43m    \u001b[49m\u001b[38;5;28;43mself\u001b[39;49m\u001b[38;5;241;43m.\u001b[39;49m\u001b[43m_parent_ident\u001b[49m\u001b[43m[\u001b[49m\u001b[38;5;124;43m\"\u001b[39;49m\u001b[38;5;124;43mshell\u001b[39;49m\u001b[38;5;124;43m\"\u001b[39;49m\u001b[43m]\u001b[49m\u001b[43m,\u001b[49m\n\u001b[1;32m   1180\u001b[0m \u001b[43m    \u001b[49m\u001b[38;5;28;43mself\u001b[39;49m\u001b[38;5;241;43m.\u001b[39;49m\u001b[43mget_parent\u001b[49m\u001b[43m(\u001b[49m\u001b[38;5;124;43m\"\u001b[39;49m\u001b[38;5;124;43mshell\u001b[39;49m\u001b[38;5;124;43m\"\u001b[39;49m\u001b[43m)\u001b[49m\u001b[43m,\u001b[49m\n\u001b[1;32m   1181\u001b[0m \u001b[43m    \u001b[49m\u001b[43mpassword\u001b[49m\u001b[38;5;241;43m=\u001b[39;49m\u001b[38;5;28;43;01mFalse\u001b[39;49;00m\u001b[43m,\u001b[49m\n\u001b[1;32m   1182\u001b[0m \u001b[43m\u001b[49m\u001b[43m)\u001b[49m\n",
      "File \u001b[0;32m~/anaconda3/lib/python3.9/site-packages/ipykernel/kernelbase.py:1219\u001b[0m, in \u001b[0;36mKernel._input_request\u001b[0;34m(self, prompt, ident, parent, password)\u001b[0m\n\u001b[1;32m   1216\u001b[0m             \u001b[38;5;28;01mbreak\u001b[39;00m\n\u001b[1;32m   1217\u001b[0m \u001b[38;5;28;01mexcept\u001b[39;00m \u001b[38;5;167;01mKeyboardInterrupt\u001b[39;00m:\n\u001b[1;32m   1218\u001b[0m     \u001b[38;5;66;03m# re-raise KeyboardInterrupt, to truncate traceback\u001b[39;00m\n\u001b[0;32m-> 1219\u001b[0m     \u001b[38;5;28;01mraise\u001b[39;00m \u001b[38;5;167;01mKeyboardInterrupt\u001b[39;00m(\u001b[38;5;124m\"\u001b[39m\u001b[38;5;124mInterrupted by user\u001b[39m\u001b[38;5;124m\"\u001b[39m) \u001b[38;5;28;01mfrom\u001b[39;00m \u001b[38;5;28mNone\u001b[39m\n\u001b[1;32m   1220\u001b[0m \u001b[38;5;28;01mexcept\u001b[39;00m \u001b[38;5;167;01mException\u001b[39;00m:\n\u001b[1;32m   1221\u001b[0m     \u001b[38;5;28mself\u001b[39m\u001b[38;5;241m.\u001b[39mlog\u001b[38;5;241m.\u001b[39mwarning(\u001b[38;5;124m\"\u001b[39m\u001b[38;5;124mInvalid Message:\u001b[39m\u001b[38;5;124m\"\u001b[39m, exc_info\u001b[38;5;241m=\u001b[39m\u001b[38;5;28;01mTrue\u001b[39;00m)\n",
      "\u001b[0;31mKeyboardInterrupt\u001b[0m: Interrupted by user"
     ]
    }
   ],
   "source": [
    "import heapq\n",
    "import sys\n",
    "\n",
    "t = int(input())\n",
    "heap = []\n",
    "\n",
    "for _ in range(t):\n",
    "    num = int(sys.stdin.readline())\n",
    "    if(num != 0):\n",
    "        heapq.heappush(heap, (abs(num), num))\n",
    "    else:\n",
    "        try:\n",
    "            print(heapq.heappop(heap)[1])\n",
    "        except:\n",
    "            print(0)"
   ]
  },
  {
   "cell_type": "code",
   "execution_count": 62,
   "id": "b6902de8",
   "metadata": {},
   "outputs": [
    {
     "name": "stdout",
     "output_type": "stream",
     "text": [
      "15 15\n",
      "2 1 1 1 1 1 1 1 1 1 1 1 1 1 1\n",
      "1 1 1 1 1 1 1 1 1 1 1 1 1 1 1\n",
      "1 1 1 1 1 1 1 1 1 1 1 1 1 1 1\n",
      "1 1 1 1 1 1 1 1 1 1 1 1 1 1 1\n",
      "1 1 1 1 1 1 1 1 1 1 1 1 1 1 1\n",
      "1 1 1 1 1 1 1 1 1 1 1 1 1 1 1\n",
      "1 1 1 1 1 1 1 1 1 1 1 1 1 1 1\n",
      "1 1 1 1 1 1 1 1 1 1 1 1 1 1 1\n",
      "1 1 1 1 1 1 1 1 1 1 1 1 1 1 1\n",
      "1 1 1 1 1 1 1 1 1 1 1 1 1 1 1\n",
      "1 1 1 1 1 1 1 1 1 1 1 1 1 1 1\n",
      "1 1 1 1 1 1 1 1 1 1 0 0 0 0 1\n",
      "1 1 1 1 1 1 1 1 1 1 0 1 1 1 1\n",
      "1 1 1 1 1 1 1 1 1 1 0 1 0 0 0\n",
      "1 1 1 1 1 1 1 1 1 1 0 1 1 1 1\n",
      "0 -1 -1 1 -1 -1 -1 -1 -1 -1 -1 -1 -1 -1 -1 \n",
      "-1 -1 -1 1 -1 -1 -1 -1 -1 -1 -1 -1 -1 -1 -1 \n",
      "-1 -1 -1 2 -1 -1 -1 -1 -1 -1 -1 -1 -1 -1 -1 \n",
      "-1 -1 -1 3 -1 -1 -1 -1 -1 -1 -1 -1 -1 -1 -1 \n",
      "-1 -1 -1 4 -1 -1 -1 -1 -1 -1 -1 -1 -1 -1 -1 \n",
      "-1 -1 -1 5 -1 -1 -1 -1 -1 -1 -1 -1 -1 -1 -1 \n",
      "-1 -1 -1 6 -1 -1 -1 -1 -1 -1 -1 -1 -1 -1 -1 \n",
      "-1 -1 -1 7 -1 -1 -1 -1 -1 -1 -1 -1 -1 -1 -1 \n",
      "-1 -1 -1 8 -1 -1 -1 -1 -1 -1 -1 -1 -1 -1 -1 \n",
      "-1 -1 -1 9 -1 -1 -1 -1 -1 -1 -1 -1 -1 -1 -1 \n",
      "-1 -1 -1 10 -1 -1 -1 -1 -1 -1 -1 -1 -1 -1 -1 \n",
      "-1 -1 -1 11 -1 -1 -1 -1 -1 -1 0 0 0 0 -1 \n",
      "-1 -1 -1 12 -1 -1 -1 -1 -1 -1 0 -1 -1 -1 -1 \n",
      "-1 -1 -1 13 -1 -1 -1 -1 -1 -1 0 -1 0 0 0 \n",
      "-1 -1 -1 14 -1 -1 -1 -1 -1 -1 0 -1 -1 -1 -1 \n"
     ]
    }
   ],
   "source": [
    "from collections import deque\n",
    "\n",
    "n, m = map(int, input().split())\n",
    "board = []\n",
    "queue = deque([])\n",
    "visit = [[False]*m for _ in range(n)]\n",
    "res = [[-1]*m for _ in range(n)]\n",
    "\n",
    "\n",
    "for i in range(n):\n",
    "    row = list(map(int, input().split()))\n",
    "    \n",
    "    for j in range(m):\n",
    "        if(row[j] == 2):\n",
    "            queue.append((i, j))\n",
    "            visit[i][j] = True\n",
    "            res[i][j] = 0\n",
    "            \n",
    "        if(row[j] == 0):\n",
    "            res[i][j] = 0\n",
    "    board.append(row)\n",
    "    \n",
    "\n",
    "direction = [(1,0), (-1,0), (0,1), (0,-1)]\n",
    "while queue:\n",
    "    x, y = queue.popleft()\n",
    "    \n",
    "    for dx, dy in direction:\n",
    "        nx, ny = x+dx, y+dy\n",
    "        \n",
    "        if(0<=nx<n and 0<=ny<m and not visit[nx][ny] and board[nx][ny] == 1):\n",
    "            queue.append((nx, ny))\n",
    "            visit[nx][ny] = True\n",
    "            res[nx][ny] = res[x][y] + 1\n",
    "            \n",
    "            \n",
    "for i in res:\n",
    "    for j in i:\n",
    "        print(j, end =\" \")\n",
    "    print()"
   ]
  },
  {
   "cell_type": "code",
   "execution_count": 69,
   "id": "28ff6f2d",
   "metadata": {},
   "outputs": [
    {
     "name": "stdout",
     "output_type": "stream",
     "text": [
      "3\n",
      "3\n",
      "ENTJ INTP ESFJ\n",
      "8\n",
      "4\n",
      "ESFP ESFP ESFP ESFP\n",
      "0\n",
      "5\n",
      "INFP INFP ESTP ESTJ ISTJ\n",
      "4\n"
     ]
    }
   ],
   "source": [
    "from itertools import combinations\n",
    "\n",
    "\n",
    "def cal(a, b):\n",
    "    dist = 0\n",
    "    for i, j in zip(a, b):\n",
    "        if(i != j):\n",
    "            dist += 1\n",
    "    return dist\n",
    "\n",
    "t = int(input())\n",
    "\n",
    "for _ in range(t):\n",
    "    n = int(input())\n",
    "    mbti = input().split()\n",
    "    \n",
    "    if(n > 32):\n",
    "        print(0)\n",
    "        \n",
    "    else:\n",
    "        res = 13\n",
    "        case = combinations(mbti, 3)\n",
    "        for a, b, c in case:\n",
    "            dist = 0\n",
    "            dist += cal(a, b)\n",
    "            dist += cal(b, c)\n",
    "            dist += cal(a, c)\n",
    "            \n",
    "            res = min(res, dist)\n",
    "        print(res)"
   ]
  },
  {
   "cell_type": "code",
   "execution_count": 73,
   "id": "6c38881b",
   "metadata": {},
   "outputs": [
    {
     "name": "stdout",
     "output_type": "stream",
     "text": [
      "500000\n",
      "8\n",
      "0 2 3 4 6 7 8 9\n",
      "11117\n"
     ]
    }
   ],
   "source": [
    "target = int(input())\n",
    "ans = abs(100 - target)\n",
    "m = int(input())\n",
    "\n",
    "if m:\n",
    "    broken = set(input().split())\n",
    "else:\n",
    "    broken = set()\n",
    "    \n",
    "for num in range(1000001):\n",
    "    for n in str(num):\n",
    "        if n in broken:\n",
    "            break\n",
    "    else:\n",
    "        ans = min(ans, len(str(num)) + abs(num - target))\n",
    "print(ans)"
   ]
  },
  {
   "cell_type": "code",
   "execution_count": 98,
   "id": "c69865ec",
   "metadata": {},
   "outputs": [
    {
     "name": "stdout",
     "output_type": "stream",
     "text": [
      "1\n",
      "D\n",
      "0\n",
      "[]\n",
      "error\n",
      "error\n"
     ]
    }
   ],
   "source": [
    "from collections import deque\n",
    "t = int(input())\n",
    "\n",
    "for _ in range(t):\n",
    "    command = input()\n",
    "    nums = []\n",
    "    n = int(input())\n",
    "    \n",
    "    tmp = input()\n",
    "    for i in tmp:\n",
    "        if(i.isdecimal()):\n",
    "            nums.append(int(i))\n",
    "    \n",
    "#     print(nums)\n",
    "    \n",
    "    for i in command:\n",
    "        if(i == \"R\"):\n",
    "            nums.reverse()\n",
    "#             print(nums)\n",
    "        elif(i == \"D\"):\n",
    "            if nums:\n",
    "                nums.pop(0)\n",
    "#                 print(nums)\n",
    "            else:\n",
    "                print('error')\n",
    "            \n",
    "    if nums:\n",
    "        print(nums)\n",
    "    else:\n",
    "        print('error')"
   ]
  },
  {
   "cell_type": "code",
   "execution_count": 103,
   "id": "d5928c82",
   "metadata": {},
   "outputs": [
    {
     "name": "stdout",
     "output_type": "stream",
     "text": [
      "1\n",
      "RRD\n",
      "6\n",
      "[1,1,2,3,5,8]\n",
      "[1,2,3,5,8]\n"
     ]
    }
   ],
   "source": [
    "from collections import deque\n",
    "\n",
    "t = int(input())\n",
    "\n",
    "for _ in range(t):\n",
    "    cmd = input()\n",
    "    n = int(input())\n",
    "    arr = input()[1:-1].split(',')\n",
    "    \n",
    "    queue = deque(arr)\n",
    "    flag = 0\n",
    "    \n",
    "    if(n == 0):\n",
    "        queue = []\n",
    "        \n",
    "    for i in cmd:\n",
    "        if(i == 'R'):\n",
    "            flag += 1\n",
    "        elif(i == 'D'):\n",
    "            if(len(queue) == 0):\n",
    "                print('error')\n",
    "                break\n",
    "            else:\n",
    "                if(flag % 2 == 0):\n",
    "                    queue.popleft()\n",
    "                else:\n",
    "                    queue.pop()\n",
    "                    \n",
    "\n",
    "    else:\n",
    "        if(flag % 2 == 0):\n",
    "            print(\"[\" + \",\".join(queue) + ']')\n",
    "        else:\n",
    "            queue.reverse()\n",
    "            print(\"[\" + \",\".join(queue) + ']')"
   ]
  },
  {
   "cell_type": "code",
   "execution_count": 108,
   "id": "c749bc87",
   "metadata": {},
   "outputs": [
    {
     "name": "stdout",
     "output_type": "stream",
     "text": [
      "6 4\n",
      "0 0 0 0 0 0\n",
      "0 0 0 0 0 0\n",
      "0 0 0 0 0 0\n",
      "0 0 0 0 0 1\n",
      "8\n"
     ]
    }
   ],
   "source": [
    "from collections import deque\n",
    "\n",
    "m, n = map(int, input().split())\n",
    "arr = []\n",
    "\n",
    "for _ in range(n):\n",
    "    arr.append(list(map(int, input().split())))\n",
    "    \n",
    "queue = deque([])\n",
    "dx = [-1, 1, 0, 0]\n",
    "dy = [0, 0, -1, 1]\n",
    "res = 0\n",
    "\n",
    "for i in range(n):\n",
    "    for j in range(m):\n",
    "        if(arr[i][j] == 1):\n",
    "            queue.append([i, j])\n",
    "            \n",
    "            \n",
    "def bfs():\n",
    "    while queue:\n",
    "        x, y = queue.popleft()\n",
    "        \n",
    "        for i in range(4):\n",
    "            nx, ny = x + dx[i], y + dy[i]\n",
    "            \n",
    "            if(0 <= nx < n and 0 <= ny < m and arr[nx][ny] == 0):\n",
    "                arr[nx][ny] = arr[x][y] + 1\n",
    "                queue.append([nx, ny])\n",
    "                \n",
    "bfs()\n",
    "\n",
    "for i in arr:\n",
    "    for j in i:\n",
    "        if(j == 0):\n",
    "            print(-1)\n",
    "            exit(0)\n",
    "            \n",
    "    res = max(res, max(i))\n",
    "print(res - 1)"
   ]
  },
  {
   "cell_type": "code",
   "execution_count": 114,
   "id": "1ffe517d",
   "metadata": {},
   "outputs": [
    {
     "name": "stdout",
     "output_type": "stream",
     "text": [
      "5\n",
      "RRRBB\n",
      "GGBBB\n",
      "BBBRR\n",
      "BBRRR\n",
      "RRRRR\n",
      "4 3\n"
     ]
    }
   ],
   "source": [
    "from collections import deque\n",
    "\n",
    "n = int(input())\n",
    "painting = [list(input()) for _ in range(n)]\n",
    "queue = deque([])\n",
    "\n",
    "dx, dy = [-1, 1, 0, 0], [0, 0, -1, 1]\n",
    "ans1, ans2 = 0, 0\n",
    "\n",
    "\n",
    "def bfs(x, y):\n",
    "    queue.append([x, y])\n",
    "    visited[x][y] = 1\n",
    "    while queue:\n",
    "        x, y = queue.popleft()\n",
    "        for i in range(4):\n",
    "            nx = x + dx[i]\n",
    "            ny = y + dy[i]\n",
    "            if(0 <= nx < n and 0 <= ny < n and painting[nx][ny] == painting[x][y] and not visited[nx][ny]):\n",
    "                visited[nx][ny] = 1\n",
    "                queue.append([nx, ny])\n",
    "\n",
    "\n",
    "visited = [[0]*n for _ in range(n)]\n",
    "for i in range(n):\n",
    "    for j in range(n):\n",
    "        if(not visited[i][j]):\n",
    "            bfs(i, j)\n",
    "            ans1 += 1\n",
    "            \n",
    "            \n",
    "for i in range(n):\n",
    "    for j in range(n):\n",
    "        if(painting[i][j] == 'G'):\n",
    "            painting[i][j] = 'R'\n",
    "            \n",
    "            \n",
    "visited = [[0]*n for _ in range(n)]\n",
    "for i in range(n):\n",
    "    for j in range(n):\n",
    "        if(not visited[i][j]):\n",
    "            bfs(i, j)\n",
    "            ans2 += 1\n",
    "            \n",
    "            \n",
    "print(ans1, ans2)"
   ]
  },
  {
   "cell_type": "code",
   "execution_count": 116,
   "id": "96670feb",
   "metadata": {},
   "outputs": [
    {
     "name": "stdout",
     "output_type": "stream",
     "text": [
      "1\n",
      "1\n",
      "i 16\n",
      "i 16\n"
     ]
    }
   ],
   "source": [
    "t = int(input())\n",
    "\n",
    "for _ in range(t):\n",
    "    k = int(input())\n",
    "    for _ in range(k):\n",
    "        cmd, n = input().split()\n",
    "        \n",
    "    print(cmd, n)"
   ]
  },
  {
   "cell_type": "code",
   "execution_count": 118,
   "id": "0767a5a1",
   "metadata": {},
   "outputs": [
    {
     "name": "stdout",
     "output_type": "stream",
     "text": [
      "2\n",
      "7\n",
      "I 16\n",
      "16 16\n",
      "I -5643\n",
      "16 -5643\n",
      "D -1\n",
      "16 16\n",
      "D 1\n",
      "EMPTY\n",
      "D 1\n",
      "EMPTY\n",
      "I 123\n",
      "123 123\n",
      "D -1\n",
      "EMPTY\n",
      "9\n",
      "I -45\n",
      "-45 -45\n",
      "I 653\n",
      "653 -45\n",
      "D 1\n",
      "-45 -45\n",
      "I -642\n",
      "-45 -642\n",
      "I 45\n",
      "45 -642\n",
      "I 97\n",
      "97 -642\n",
      "D 1\n",
      "45 -642\n",
      "D -1\n",
      "45 -45\n",
      "I 333\n",
      "333 -45\n"
     ]
    }
   ],
   "source": [
    "import heapq\n",
    "\n",
    "t = int(input())\n",
    "\n",
    "for i in range(t):\n",
    "    k = int(input())\n",
    "    q1, q2 = [], []\n",
    "    visited = [False] * k\n",
    "    \n",
    "    for j in range(k):\n",
    "        cmd, num = input().split()\n",
    "        \n",
    "        if(cmd == 'I'):\n",
    "            heapq.heappush(q1, (int(num), j))\n",
    "            heapq.heappush(q2, (-int(num), j))\n",
    "            visited[j] = True\n",
    "            \n",
    "            \n",
    "        else:\n",
    "            if(num == '1'):\n",
    "                while(q2 and not visited[q2[0][1]]):\n",
    "                    heapq.heappop(q2)\n",
    "                if q2:\n",
    "                    visited[q2[0][1]] = False\n",
    "                    heapq.heappop(q2)\n",
    "                    \n",
    "            else:\n",
    "                while(q1 and not visited[q1[0][1]]):\n",
    "                    heapq.heappop(q1)\n",
    "                if q1:\n",
    "                    visited[q1[0][1]] = False\n",
    "                    heapq.heappop(q1)\n",
    "                    \n",
    "                    \n",
    "    while(q1 and not visited[q1[0][1]]):\n",
    "        heapq.heappop(q1)\n",
    "    while(q2 and not visited[q2[0][1]]):\n",
    "        heapq.heappop(q2)\n",
    "\n",
    "\n",
    "    if(not q1 or not q2):\n",
    "        print(\"EMPTY\")\n",
    "    else:\n",
    "        a = -q2[0][0]\n",
    "        b = q1[0][0]\n",
    "        print(int(a), int(b))"
   ]
  },
  {
   "cell_type": "code",
   "execution_count": null,
   "id": "bd3c270a",
   "metadata": {},
   "outputs": [],
   "source": [
    "from collections import deque\n",
    "t = int(input())\n",
    "\n",
    "for _ in range(t):\n",
    "    m, n = map(int, input().split())\n",
    "    visited = [False for _ in range(10001)]\n",
    "    \n",
    "    queue = deque()\n",
    "    queue.append([m,''])\n",
    "    visited[m] = True\n",
    "    \n",
    "    while queue:\n",
    "        num, cmd = queue.popleft()\n",
    "        \n",
    "        if(num == n):\n",
    "            print(cmd)\n",
    "            break\n",
    "            \n",
    "        d = num * 2 % 10000\n",
    "        if(not visited[d]):\n",
    "            visited[d] = True\n",
    "            queue.append([d, cmd+'D'])\n",
    "            \n",
    "        s = (num - 1) % 10000\n",
    "        if(not visited[s]):\n",
    "            visited[s] = True\n",
    "            queue.append([s, cmd+'S'])\n",
    "            \n",
    "        l = num//1000 + (num%1000)*10\n",
    "        if(not visited[l]):\n",
    "            visited[l] = True\n",
    "            queue.append([l, cmd+'L'])\n",
    "            \n",
    "        r = num//10 + (num%10)\n",
    "    "
   ]
  },
  {
   "cell_type": "code",
   "execution_count": 3,
   "id": "19c8082c",
   "metadata": {},
   "outputs": [
    {
     "name": "stdout",
     "output_type": "stream",
     "text": [
      "5 5\n",
      "1 2 3 4 5\n",
      "5 4 3 2 1\n",
      "2 3 4 5 6\n",
      "6 5 4 3 2\n",
      "1 2 1 2 1\n"
     ]
    },
    {
     "ename": "IndexError",
     "evalue": "list index out of range",
     "output_type": "error",
     "traceback": [
      "\u001b[0;31m---------------------------------------------------------------------------\u001b[0m",
      "\u001b[0;31mIndexError\u001b[0m                                Traceback (most recent call last)",
      "Input \u001b[0;32mIn [3]\u001b[0m, in \u001b[0;36m<cell line: 36>\u001b[0;34m()\u001b[0m\n\u001b[1;32m     37\u001b[0m     \u001b[38;5;28;01mfor\u001b[39;00m j \u001b[38;5;129;01min\u001b[39;00m \u001b[38;5;28mrange\u001b[39m(m):\n\u001b[1;32m     38\u001b[0m         visit[i][j] \u001b[38;5;241m=\u001b[39m \u001b[38;5;241m1\u001b[39m\n\u001b[0;32m---> 39\u001b[0m         \u001b[43mdfs\u001b[49m\u001b[43m(\u001b[49m\u001b[43mi\u001b[49m\u001b[43m,\u001b[49m\u001b[43m \u001b[49m\u001b[43mj\u001b[49m\u001b[43m,\u001b[49m\u001b[43m \u001b[49m\u001b[38;5;241;43m0\u001b[39;49m\u001b[43m,\u001b[49m\u001b[43m \u001b[49m\u001b[43mpaper\u001b[49m\u001b[43m[\u001b[49m\u001b[43mi\u001b[49m\u001b[43m]\u001b[49m\u001b[43m[\u001b[49m\u001b[43mj\u001b[49m\u001b[43m]\u001b[49m\u001b[43m)\u001b[49m\n\u001b[1;32m     40\u001b[0m         visit[i][j] \u001b[38;5;241m=\u001b[39m \u001b[38;5;241m0\u001b[39m\n\u001b[1;32m     42\u001b[0m \u001b[38;5;28mprint\u001b[39m(ans)\n",
      "Input \u001b[0;32mIn [3]\u001b[0m, in \u001b[0;36mdfs\u001b[0;34m(x, y, idx, total)\u001b[0m\n\u001b[1;32m     19\u001b[0m     visit[nx][ny] \u001b[38;5;241m=\u001b[39m \u001b[38;5;241m0\u001b[39m\n\u001b[1;32m     20\u001b[0m visit[nx][ny] \u001b[38;5;241m=\u001b[39m \u001b[38;5;241m1\u001b[39m\n\u001b[0;32m---> 21\u001b[0m dfs(nx, ny, idx\u001b[38;5;241m+\u001b[39m\u001b[38;5;241m1\u001b[39m, total\u001b[38;5;241m+\u001b[39m\u001b[43mpaper\u001b[49m\u001b[43m[\u001b[49m\u001b[43mnx\u001b[49m\u001b[43m]\u001b[49m[ny])\n\u001b[1;32m     22\u001b[0m visit[nx][ny] \u001b[38;5;241m=\u001b[39m \u001b[38;5;241m0\u001b[39m\n",
      "\u001b[0;31mIndexError\u001b[0m: list index out of range"
     ]
    }
   ],
   "source": [
    "import sys\n",
    "\n",
    "def dfs(x, y, idx, total):\n",
    "    global ans\n",
    "    if(ans >= total + max_val * (3-idx)):\n",
    "        return\n",
    "    if(idx == 3):\n",
    "        ans = max(ans, total)\n",
    "        return\n",
    "    else:\n",
    "        for i in range(4):\n",
    "            nx = x + dx[i]\n",
    "            ny = y + dy[i]\n",
    "            \n",
    "            if(0 <= nx < n and 0 <= ny < m and visit[nx][ny] == 0):\n",
    "                if(idx == 1):\n",
    "                    visit[nx][ny] = 1\n",
    "                    dfs(x, y, idx+1, total+paper[nx][ny])\n",
    "                    visit[nx][ny] = 0\n",
    "                visit[nx][ny] = 1\n",
    "                dfs(nx, ny, idx+1, total+paper[nx][ny])\n",
    "                visit[nx][ny] = 0\n",
    "\n",
    "n, m = map(int, input().split())\n",
    "\n",
    "for _ in range(n):\n",
    "    paper = [list(map(int, input().split()))]\n",
    "visit = [[0]*m for _ in range(n)]\n",
    "\n",
    "dx, dy = [-1, 1, 0, 0], [0, 0, -1, 1]\n",
    "ans = 0\n",
    "max_val = max(map(max, paper))\n",
    "\n",
    "    \n",
    "    \n",
    "for i in range(n):\n",
    "    for j in range(m):\n",
    "        visit[i][j] = 1\n",
    "        dfs(i, j, 0, paper[i][j])\n",
    "        visit[i][j] = 0\n",
    "            \n",
    "print(ans)\n",
    "    "
   ]
  },
  {
   "cell_type": "code",
   "execution_count": 4,
   "id": "eee451b2",
   "metadata": {},
   "outputs": [
    {
     "name": "stdout",
     "output_type": "stream",
     "text": [
      "5 5\n",
      "1 2 3 4 5\n",
      "5 4 3 2 1\n",
      "2 3 4 5 6\n",
      "6 5 4 3 2\n",
      "1 2 1 2 1\n",
      "19\n"
     ]
    }
   ],
   "source": [
    "import sys; \n",
    "input = sys.stdin.readline\n",
    "\n",
    "def dfs(r, c, idx, total):\n",
    "    global ans\n",
    "    if ans >= total + max_val * (3 - idx):\n",
    "        return\n",
    "    if idx == 3:\n",
    "        ans = max(ans, total)\n",
    "        return\n",
    "    else:\n",
    "        for i in range(4):\n",
    "            nr = r + dr[i]\n",
    "            nc = c + dc[i]\n",
    "            if 0 <= nr < N and 0 <= nc < M and visit[nr][nc] == 0:\n",
    "                if idx == 1:\n",
    "                    visit[nr][nc] = 1\n",
    "                    dfs(r, c, idx + 1, total + arr[nr][nc])\n",
    "                    visit[nr][nc] = 0\n",
    "                visit[nr][nc] = 1\n",
    "                dfs(nr, nc, idx + 1, total + arr[nr][nc])\n",
    "                visit[nr][nc] = 0\n",
    "\n",
    "\n",
    "N, M = map(int, input().split())\n",
    "arr = [list(map(int, input().split())) for _ in range(N)]\n",
    "visit = [([0] * M) for _ in range(N)]\n",
    "dr = [-1, 0, 1, 0]\n",
    "dc = [0, 1, 0, -1]\n",
    "ans = 0\n",
    "max_val = max(map(max, arr))\n",
    "\n",
    "for r in range(N):\n",
    "    for c in range(M):\n",
    "        visit[r][c] = 1\n",
    "        dfs(r, c, 0, arr[r][c])\n",
    "        visit[r][c] = 0\n",
    "\n",
    "print(ans)"
   ]
  },
  {
   "cell_type": "code",
   "execution_count": 32,
   "id": "6b2232a5",
   "metadata": {},
   "outputs": [
    {
     "name": "stdout",
     "output_type": "stream",
     "text": [
      "4 4\n",
      "1231 1232 1233 1234\n",
      "1231 1231 1231 1231\n",
      "1231 1231 1231 1232\n",
      "1231 1231 1231 1233\n",
      "1231 1231 1231 1234\n",
      "1231 1231 1232 1232\n",
      "1231 1231 1232 1233\n",
      "1231 1231 1232 1234\n",
      "1231 1231 1233 1233\n",
      "1231 1231 1233 1234\n",
      "1231 1231 1234 1234\n",
      "1231 1232 1232 1232\n",
      "1231 1232 1232 1233\n",
      "1231 1232 1232 1234\n",
      "1231 1232 1233 1233\n",
      "1231 1232 1233 1234\n",
      "1231 1232 1234 1234\n",
      "1231 1233 1233 1233\n",
      "1231 1233 1233 1234\n",
      "1231 1233 1234 1234\n",
      "1231 1234 1234 1234\n",
      "1232 1232 1232 1232\n",
      "1232 1232 1232 1233\n",
      "1232 1232 1232 1234\n",
      "1232 1232 1233 1233\n",
      "1232 1232 1233 1234\n",
      "1232 1232 1234 1234\n",
      "1232 1233 1233 1233\n",
      "1232 1233 1233 1234\n",
      "1232 1233 1234 1234\n",
      "1232 1234 1234 1234\n",
      "1233 1233 1233 1233\n",
      "1233 1233 1233 1234\n",
      "1233 1233 1234 1234\n",
      "1233 1234 1234 1234\n",
      "1234 1234 1234 1234\n"
     ]
    }
   ],
   "source": [
    "n, m = map(int, input().split())\n",
    "s = []\n",
    "num = list(map(int, input().split()))\n",
    "num.sort()\n",
    "\n",
    "def dfs(start):\n",
    "    if(len(s) == m):\n",
    "#         print(' '.join(map(str, s)))\n",
    "        print(*s)\n",
    "        return\n",
    "    \n",
    "    for i in range(start, n):\n",
    "#         if(num[i] not in s):\n",
    "        s.append(num[i])\n",
    "        dfs(i)\n",
    "        s.pop()\n",
    "            \n",
    "            \n",
    "dfs(0)"
   ]
  },
  {
   "cell_type": "code",
   "execution_count": 53,
   "id": "60b247ca",
   "metadata": {},
   "outputs": [
    {
     "name": "stdout",
     "output_type": "stream",
     "text": [
      "6\n",
      "10 20 10 30 20 50\n",
      "[1, 2, 1, 3, 2, 4]\n",
      "4\n"
     ]
    }
   ],
   "source": [
    "n = int(input())\n",
    "num = list(map(int, input().split()))\n",
    "\n",
    "visited = [1] * n\n",
    "\n",
    "for i in range(1, n):\n",
    "    for j in range(i):\n",
    "        if(num[i] > num[j]):\n",
    "            visited[i] = max(visited[i], visited[j]+1)\n",
    "\n",
    "\n",
    "# print(visited)\n",
    "print(max(visited))"
   ]
  },
  {
   "cell_type": "code",
   "execution_count": 60,
   "id": "7ed0a7f3",
   "metadata": {},
   "outputs": [
    {
     "name": "stdout",
     "output_type": "stream",
     "text": [
      "5\n",
      "1 1\n",
      "1 1\n",
      "2 2\n",
      "2 2\n",
      "[[1, 1], [1, 1], [2, 2], [2, 2]]\n"
     ]
    }
   ],
   "source": [
    "from collections import deque\n",
    "\n",
    "n = int(input())\n",
    "graph = [[] for _ in range(n+1)]\n",
    "\n",
    "for _ in range(n-1):\n",
    "    a, b = map(int, input().split())\n",
    "    graph[a].append(b)\n",
    "    graph[b].append(a)\n",
    "    \n",
    "    \n",
    "queue = deque()\n",
    "queue.append(1)\n",
    "\n",
    "ans = [0]*(n+1)\n",
    "\n",
    "def bfs():\n",
    "    while queue:\n",
    "        now = queue.popleft()\n",
    "        for i in graph[now]:\n",
    "            if(ans[i] == 0):\n",
    "                ans[i] = now\n",
    "                queue.append(i)\n",
    "                \n",
    "bfs()\n",
    "res = ans[2:]\n",
    "\n",
    "for i in res:\n",
    "\n",
    "    print(i)"
   ]
  },
  {
   "cell_type": "code",
   "execution_count": 64,
   "id": "a7de8c61",
   "metadata": {},
   "outputs": [
    {
     "name": "stdout",
     "output_type": "stream",
     "text": [
      "2 162\n",
      "2 1\n",
      "4 2\n",
      "21 2\n",
      "8 3\n",
      "41 3\n",
      "42 3\n",
      "16 4\n",
      "81 4\n",
      "82 4\n",
      "84 4\n",
      "32 5\n",
      "161 5\n",
      "162 5\n",
      "5\n"
     ]
    }
   ],
   "source": [
    "from collections import deque\n",
    "\n",
    "\n",
    "def bfs(a, b):\n",
    "    queue = deque([(a, 1)])\n",
    "    \n",
    "    while queue:\n",
    "        a, cnt = queue.popleft()\n",
    "        if(a == b):\n",
    "            print(cnt)\n",
    "            return\n",
    "        \n",
    "        if(a*2 <= b):\n",
    "            queue.append((a*2, cnt+1))\n",
    "        if(a*10 + 1 <= b):\n",
    "            queue.append((a*10+1, cnt+1))\n",
    "    print(-1)\n",
    "\n",
    "\n",
    "\n",
    "a, b = map(int, input().split())\n",
    "bfs(a, b)"
   ]
  },
  {
   "cell_type": "code",
   "execution_count": 72,
   "id": "651e635e",
   "metadata": {},
   "outputs": [
    {
     "name": "stdout",
     "output_type": "stream",
     "text": [
      "3 4 99\n",
      "0 0 0 0\n",
      "0 0 0 0\n",
      "0 0 0 1\n",
      "2 0\n"
     ]
    }
   ],
   "source": [
    "import sys\n",
    "\n",
    "n, m, b = map(int, input().split())\n",
    "field = []\n",
    "answer = sys.maxsize\n",
    "idx = 0\n",
    "\n",
    "for i in range(n):\n",
    "    field.append(list(map(int, input().split())))\n",
    "    \n",
    "\n",
    "for floor in range(257):\n",
    "    plus_block, minus_block = 0, 0\n",
    "    \n",
    "    for i in range(n):\n",
    "        for j in range(m):\n",
    "            \n",
    "            if(field[i][j] > floor):\n",
    "                plus_block += field[i][j] - floor\n",
    "            else:\n",
    "                minus_block += floor - field[i][j]\n",
    "                \n",
    "    if(plus_block + b >= minus_block):\n",
    "        if(plus_block * 2 + minus_block <= answer):\n",
    "            answer = (plus_block*2) + minus_block\n",
    "            idx = floor\n",
    "            \n",
    "        \n",
    "print(answer, idx)\n",
    "        "
   ]
  },
  {
   "cell_type": "code",
   "execution_count": 70,
   "id": "aaffa7cd",
   "metadata": {},
   "outputs": [
    {
     "name": "stdout",
     "output_type": "stream",
     "text": [
      "3 4 99\n",
      "0 0 0 0\n",
      "0 0 0 0\n",
      "0 0 0 1\n",
      "2 0\n"
     ]
    }
   ],
   "source": [
    "import sys\n",
    "\n",
    "N, M, B = map(int, input().split())\n",
    "field = [list(map(int, input().split())) for _ in range(N)]\n",
    "answer = sys.maxsize\n",
    "idx = 0\n",
    "\n",
    "for floor in range(257):\n",
    "    exceed_block, lack_block = 0, 0\n",
    "\n",
    "    for i in range(N):\n",
    "        for j in range(M):\n",
    "\n",
    "            if field[i][j] > floor :\n",
    "                exceed_block += field[i][j] - floor\n",
    "            else : \n",
    "                lack_block += floor - field[i][j]\n",
    "\n",
    "    if exceed_block + B >= lack_block :\n",
    "        if (exceed_block * 2) + lack_block <= answer:\n",
    "            answer = (exceed_block * 2) + lack_block\n",
    "            idx = floor\n",
    "\n",
    "\n",
    "print(answer, idx)"
   ]
  },
  {
   "cell_type": "code",
   "execution_count": null,
   "id": "7196fc89",
   "metadata": {},
   "outputs": [],
   "source": []
  },
  {
   "cell_type": "code",
   "execution_count": null,
   "id": "77b1f5f1",
   "metadata": {},
   "outputs": [],
   "source": []
  },
  {
   "cell_type": "code",
   "execution_count": null,
   "id": "1c4b264c",
   "metadata": {},
   "outputs": [],
   "source": []
  },
  {
   "cell_type": "code",
   "execution_count": null,
   "id": "28465696",
   "metadata": {},
   "outputs": [],
   "source": []
  },
  {
   "cell_type": "code",
   "execution_count": null,
   "id": "40d60934",
   "metadata": {},
   "outputs": [],
   "source": []
  },
  {
   "cell_type": "code",
   "execution_count": null,
   "id": "c338cb54",
   "metadata": {},
   "outputs": [],
   "source": []
  },
  {
   "cell_type": "code",
   "execution_count": null,
   "id": "fbdc926f",
   "metadata": {},
   "outputs": [],
   "source": []
  },
  {
   "cell_type": "code",
   "execution_count": null,
   "id": "c29b8ca7",
   "metadata": {},
   "outputs": [],
   "source": []
  },
  {
   "cell_type": "code",
   "execution_count": null,
   "id": "9b97ef33",
   "metadata": {},
   "outputs": [],
   "source": []
  },
  {
   "cell_type": "code",
   "execution_count": null,
   "id": "fafc6cdd",
   "metadata": {},
   "outputs": [],
   "source": []
  },
  {
   "cell_type": "code",
   "execution_count": null,
   "id": "b033a2c3",
   "metadata": {},
   "outputs": [],
   "source": []
  },
  {
   "cell_type": "code",
   "execution_count": null,
   "id": "dfac8b7d",
   "metadata": {},
   "outputs": [],
   "source": []
  },
  {
   "cell_type": "code",
   "execution_count": null,
   "id": "a6fa1789",
   "metadata": {},
   "outputs": [],
   "source": []
  },
  {
   "cell_type": "code",
   "execution_count": null,
   "id": "3acb578a",
   "metadata": {},
   "outputs": [],
   "source": []
  }
 ],
 "metadata": {
  "kernelspec": {
   "display_name": "Python 3 (ipykernel)",
   "language": "python",
   "name": "python3"
  },
  "language_info": {
   "codemirror_mode": {
    "name": "ipython",
    "version": 3
   },
   "file_extension": ".py",
   "mimetype": "text/x-python",
   "name": "python",
   "nbconvert_exporter": "python",
   "pygments_lexer": "ipython3",
   "version": "3.9.13"
  }
 },
 "nbformat": 4,
 "nbformat_minor": 5
}
